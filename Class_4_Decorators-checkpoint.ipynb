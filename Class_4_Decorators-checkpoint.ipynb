{
 "cells": [
  {
   "cell_type": "markdown",
   "id": "1155e5be",
   "metadata": {},
   "source": [
    "# 4- A function may be passed as an argument to another function"
   ]
  },
  {
   "cell_type": "code",
   "execution_count": 5,
   "id": "3b8626da",
   "metadata": {},
   "outputs": [],
   "source": [
    "def third(n1,n2,f):\n",
    "    print(n1,type(n1))\n",
    "    print(n2,type(n2))\n",
    "    print(f,type(f))"
   ]
  },
  {
   "cell_type": "code",
   "execution_count": 2,
   "id": "411366a7",
   "metadata": {},
   "outputs": [],
   "source": [
    "def add(a,b):\n",
    "    return a+b"
   ]
  },
  {
   "cell_type": "code",
   "execution_count": 4,
   "id": "7f7e0afc",
   "metadata": {},
   "outputs": [],
   "source": [
    "# third() should take two numbers and a function as an argument \n",
    "# and it should return the square of the addition of the numbers"
   ]
  },
  {
   "cell_type": "code",
   "execution_count": 6,
   "id": "490c842f",
   "metadata": {},
   "outputs": [
    {
     "name": "stdout",
     "output_type": "stream",
     "text": [
      "5 <class 'int'>\n",
      "6 <class 'int'>\n",
      "<function add at 0x0000015E37A027A0> <class 'function'>\n"
     ]
    }
   ],
   "source": [
    "third(5,6,add)"
   ]
  },
  {
   "cell_type": "code",
   "execution_count": 7,
   "id": "6912b6f2",
   "metadata": {},
   "outputs": [
    {
     "name": "stdout",
     "output_type": "stream",
     "text": [
      "<function add at 0x0000015E37A027A0> <class 'function'>\n"
     ]
    }
   ],
   "source": [
    "print(add,type(add))"
   ]
  },
  {
   "cell_type": "code",
   "execution_count": 8,
   "id": "f7b9bf56",
   "metadata": {},
   "outputs": [],
   "source": [
    "# f=add"
   ]
  },
  {
   "cell_type": "code",
   "execution_count": 13,
   "id": "570c5aac",
   "metadata": {},
   "outputs": [],
   "source": [
    "def third(a,b,c):\n",
    "    x=c(a,b) # add(n1,n2)\n",
    "    return x**2"
   ]
  },
  {
   "cell_type": "code",
   "execution_count": 15,
   "id": "91b6f820",
   "metadata": {},
   "outputs": [
    {
     "data": {
      "text/plain": [
       "64"
      ]
     },
     "execution_count": 15,
     "metadata": {},
     "output_type": "execute_result"
    }
   ],
   "source": [
    "third(4,4,add)"
   ]
  },
  {
   "cell_type": "code",
   "execution_count": 17,
   "id": "7dffb9d8",
   "metadata": {},
   "outputs": [],
   "source": [
    "def third(a,b,c):\n",
    "    print(a,type(a))\n",
    "    print(b,type(b))\n",
    "    print(c,type(c))"
   ]
  },
  {
   "cell_type": "code",
   "execution_count": 18,
   "id": "d7245f48",
   "metadata": {},
   "outputs": [
    {
     "name": "stdout",
     "output_type": "stream",
     "text": [
      "4 <class 'int'>\n",
      "5 <class 'int'>\n",
      "4 <class 'int'>\n"
     ]
    }
   ],
   "source": [
    "third(4,5,add(2,2))"
   ]
  },
  {
   "cell_type": "markdown",
   "id": "eb105a00",
   "metadata": {},
   "source": [
    "# 5- A function may return a function"
   ]
  },
  {
   "cell_type": "code",
   "execution_count": 34,
   "id": "8e0661dc",
   "metadata": {},
   "outputs": [],
   "source": [
    "def outer():\n",
    "    def inner():\n",
    "        print('I am the inner function')\n",
    "    return inner"
   ]
  },
  {
   "cell_type": "code",
   "execution_count": 35,
   "id": "697c6994",
   "metadata": {},
   "outputs": [
    {
     "name": "stdout",
     "output_type": "stream",
     "text": [
      "<function outer.<locals>.inner at 0x0000015E38718CC0> <class 'function'>\n"
     ]
    }
   ],
   "source": [
    "x=outer()\n",
    "print(x,type(x))"
   ]
  },
  {
   "cell_type": "code",
   "execution_count": 37,
   "id": "ae08f87a",
   "metadata": {},
   "outputs": [
    {
     "name": "stdout",
     "output_type": "stream",
     "text": [
      "I am the inner function\n",
      "None\n"
     ]
    }
   ],
   "source": [
    "a=x()\n",
    "print(a)"
   ]
  },
  {
   "cell_type": "code",
   "execution_count": 32,
   "id": "4efe85fa",
   "metadata": {},
   "outputs": [],
   "source": [
    "# x=inner"
   ]
  },
  {
   "cell_type": "code",
   "execution_count": 38,
   "id": "e3710672",
   "metadata": {},
   "outputs": [],
   "source": [
    "def outer():\n",
    "    def inner():\n",
    "        return 'I am the inner function'\n",
    "    return inner"
   ]
  },
  {
   "cell_type": "code",
   "execution_count": 39,
   "id": "0784dae5",
   "metadata": {},
   "outputs": [
    {
     "name": "stdout",
     "output_type": "stream",
     "text": [
      "<function outer.<locals>.inner at 0x0000015E37A02200>\n"
     ]
    }
   ],
   "source": [
    "x=outer()\n",
    "print(x)"
   ]
  },
  {
   "cell_type": "code",
   "execution_count": 40,
   "id": "964a5b25",
   "metadata": {},
   "outputs": [
    {
     "name": "stdout",
     "output_type": "stream",
     "text": [
      "I am the inner function\n"
     ]
    }
   ],
   "source": [
    "y=x()\n",
    "print(y)"
   ]
  },
  {
   "cell_type": "code",
   "execution_count": 43,
   "id": "e6d47f96",
   "metadata": {},
   "outputs": [
    {
     "data": {
      "text/plain": [
       "'I am the inner function'"
      ]
     },
     "execution_count": 43,
     "metadata": {},
     "output_type": "execute_result"
    }
   ],
   "source": [
    "outer()()"
   ]
  },
  {
   "cell_type": "markdown",
   "id": "7b4fda0b",
   "metadata": {},
   "source": [
    "# Sparse Matrix and Sparse Vector"
   ]
  },
  {
   "cell_type": "code",
   "execution_count": 52,
   "id": "20cda0c5",
   "metadata": {},
   "outputs": [
    {
     "data": {
      "text/plain": [
       "{0: 5, 6: 12, 14: 20, 23: 15}"
      ]
     },
     "execution_count": 52,
     "metadata": {},
     "output_type": "execute_result"
    }
   ],
   "source": [
    "vector=[5,0,0,0,0,0,12,0,0,0,0,0,0,0,20,0,0,0,0,0,0,0,0,15]\n",
    "\n",
    "# Create a dictionary out of the above vector that contains the non-zero eleemnts only\n",
    "\n",
    "# Output-{0:5,6:12,14:20,23:15}\n",
    "\n",
    "def vector_to_dict(vector):\n",
    "    d={}\n",
    "\n",
    "    for i in range(len(vector)):\n",
    "        if vector[i]!=0:\n",
    "            d.update({i:vector[i]})\n",
    "    return d\n",
    "\n",
    "vector_to_dict(vector)"
   ]
  },
  {
   "cell_type": "code",
   "execution_count": 53,
   "id": "631927ed",
   "metadata": {},
   "outputs": [
    {
     "data": {
      "text/plain": [
       "{4: 5, 9: 2, 14: 7, 19: 6}"
      ]
     },
     "execution_count": 53,
     "metadata": {},
     "output_type": "execute_result"
    }
   ],
   "source": [
    "lst=[0,0,0,0,5,0,0,0,0,2,0,0,0,0,7,0,0,0,0,6]\n",
    "vector_to_dict(lst)"
   ]
  },
  {
   "cell_type": "code",
   "execution_count": 66,
   "id": "f2096b50",
   "metadata": {},
   "outputs": [],
   "source": [
    "d={4: 5, 9: 2, 14: 7, 19: 6}\n",
    "\n",
    "# Convert the above dictionary into a vector\n",
    "\n",
    "# Output- [0,0,0,0,5,0,0,0,0,2,0,0,0,0,7,0,0,0,0,6]\n",
    "\n",
    "def dict_to_vector(d):\n",
    "    lst=[]\n",
    "\n",
    "    for i in range(max(d.keys())+1):\n",
    "        if i in d.keys():\n",
    "            lst.append((d[i]))\n",
    "        else:\n",
    "            lst.append(0)\n",
    "    return lst"
   ]
  },
  {
   "cell_type": "code",
   "execution_count": 68,
   "id": "635eb50a",
   "metadata": {},
   "outputs": [
    {
     "data": {
      "text/plain": [
       "[0, 0, 5, 0, 0, 0, 0, 7, 0, 15]"
      ]
     },
     "execution_count": 68,
     "metadata": {},
     "output_type": "execute_result"
    }
   ],
   "source": [
    "x={2:5,7:7,9:15}\n",
    "dict_to_vector(x)"
   ]
  },
  {
   "cell_type": "code",
   "execution_count": 82,
   "id": "2ce632b9",
   "metadata": {},
   "outputs": [
    {
     "data": {
      "text/plain": [
       "[0, 0, 0, 0, 0, 15, 0, 20, 0, 0, 0, 0, 0]"
      ]
     },
     "execution_count": 82,
     "metadata": {},
     "output_type": "execute_result"
    }
   ],
   "source": [
    "x={5:15,7:20,12:0}\n",
    "dict_to_vector(x)"
   ]
  },
  {
   "cell_type": "code",
   "execution_count": 84,
   "id": "03b28fe0",
   "metadata": {},
   "outputs": [
    {
     "data": {
      "text/plain": [
       "{5: 15, 7: 20, 12: 0}"
      ]
     },
     "execution_count": 84,
     "metadata": {},
     "output_type": "execute_result"
    }
   ],
   "source": [
    "x"
   ]
  },
  {
   "cell_type": "code",
   "execution_count": 89,
   "id": "0f3b9ace",
   "metadata": {},
   "outputs": [],
   "source": [
    "def converter(x):\n",
    "    return [x[i] if i in x.keys() else 0 for i in range(max(x.keys())+1)]"
   ]
  },
  {
   "cell_type": "code",
   "execution_count": 90,
   "id": "fcf99592",
   "metadata": {},
   "outputs": [
    {
     "data": {
      "text/plain": [
       "[0, 0, 5, 0, 0, 0, 0, 9]"
      ]
     },
     "execution_count": 90,
     "metadata": {},
     "output_type": "execute_result"
    }
   ],
   "source": [
    "converter({2:5,7:9})"
   ]
  },
  {
   "cell_type": "markdown",
   "id": "0b706e50",
   "metadata": {},
   "source": [
    "# Function Decorators"
   ]
  },
  {
   "cell_type": "code",
   "execution_count": 91,
   "id": "357d2044",
   "metadata": {},
   "outputs": [],
   "source": [
    "def division(x,y):\n",
    "    return x/y"
   ]
  },
  {
   "cell_type": "code",
   "execution_count": 94,
   "id": "d57c5619",
   "metadata": {},
   "outputs": [
    {
     "name": "stdout",
     "output_type": "stream",
     "text": [
      "0.50000\n"
     ]
    }
   ],
   "source": [
    "x=division(2,4)\n",
    "print('%.5f'%x)"
   ]
  },
  {
   "cell_type": "markdown",
   "id": "a85c576c",
   "metadata": {},
   "source": [
    "- By using the concept of function decorators we can modify a function without modifying its definition.\n",
    "- By using function decorators we can add some functionalities to an existing function without changing its definition."
   ]
  },
  {
   "cell_type": "markdown",
   "id": "15d52909",
   "metadata": {},
   "source": [
    "- A function decorator is a function itself that takes a function as an input and returns a function after adding some features to the existing function."
   ]
  },
  {
   "cell_type": "markdown",
   "id": "c7ce2836",
   "metadata": {},
   "source": [
    "# How to create a function decorator?"
   ]
  },
  {
   "cell_type": "code",
   "execution_count": null,
   "id": "45c1a736",
   "metadata": {},
   "outputs": [],
   "source": [
    "def decorator(f):\n",
    "    def inner():\n",
    "        code\n",
    "        code # To add some functionality\n",
    "    return inner"
   ]
  },
  {
   "cell_type": "code",
   "execution_count": 95,
   "id": "9da5530d",
   "metadata": {},
   "outputs": [],
   "source": [
    "# Generally the inner function that we use inside a decorator function we call it as wrapper"
   ]
  },
  {
   "cell_type": "code",
   "execution_count": null,
   "id": "0ee9bc40",
   "metadata": {},
   "outputs": [],
   "source": [
    "def decorator(f):\n",
    "    def wrapper():\n",
    "        code\n",
    "        code\n",
    "    return wrapper"
   ]
  },
  {
   "cell_type": "code",
   "execution_count": 102,
   "id": "8af7ebff",
   "metadata": {},
   "outputs": [],
   "source": [
    "def greet():\n",
    "    return 'Good Morning'"
   ]
  },
  {
   "cell_type": "code",
   "execution_count": 103,
   "id": "e63d9176",
   "metadata": {},
   "outputs": [
    {
     "data": {
      "text/plain": [
       "'Good Morning'"
      ]
     },
     "execution_count": 103,
     "metadata": {},
     "output_type": "execute_result"
    }
   ],
   "source": [
    "greet()"
   ]
  },
  {
   "cell_type": "code",
   "execution_count": 104,
   "id": "893d27fa",
   "metadata": {},
   "outputs": [],
   "source": [
    "# Output- Hello all! Good Morning!"
   ]
  },
  {
   "cell_type": "code",
   "execution_count": 99,
   "id": "12ea2bed",
   "metadata": {},
   "outputs": [],
   "source": [
    "# I am Ambika\n",
    "# I am Piyush"
   ]
  },
  {
   "cell_type": "code",
   "execution_count": 114,
   "id": "561a1d2c",
   "metadata": {},
   "outputs": [],
   "source": [
    "def decorator(f):  # f=greet\n",
    "    def wrapper():\n",
    "        x=f()\n",
    "        return 'Hello all! '+x\n",
    "    return wrapper"
   ]
  },
  {
   "cell_type": "code",
   "execution_count": 115,
   "id": "02d39180",
   "metadata": {},
   "outputs": [
    {
     "name": "stdout",
     "output_type": "stream",
     "text": [
      "<function decorator.<locals>.wrapper at 0x0000015E3892BBA0>\n"
     ]
    }
   ],
   "source": [
    "x=decorator(greet)\n",
    "print(x)"
   ]
  },
  {
   "cell_type": "code",
   "execution_count": 116,
   "id": "d6514434",
   "metadata": {},
   "outputs": [
    {
     "data": {
      "text/plain": [
       "'Hello all! Good Morning'"
      ]
     },
     "execution_count": 116,
     "metadata": {},
     "output_type": "execute_result"
    }
   ],
   "source": [
    "x()"
   ]
  },
  {
   "cell_type": "code",
   "execution_count": 117,
   "id": "7c9d0f62",
   "metadata": {},
   "outputs": [
    {
     "data": {
      "text/plain": [
       "'Good Morning'"
      ]
     },
     "execution_count": 117,
     "metadata": {},
     "output_type": "execute_result"
    }
   ],
   "source": [
    "greet()"
   ]
  },
  {
   "cell_type": "code",
   "execution_count": 119,
   "id": "ab903bc8",
   "metadata": {},
   "outputs": [
    {
     "data": {
      "text/plain": [
       "'Hello all! Good Morning'"
      ]
     },
     "execution_count": 119,
     "metadata": {},
     "output_type": "execute_result"
    }
   ],
   "source": [
    "decorator(greet)()"
   ]
  },
  {
   "cell_type": "code",
   "execution_count": 135,
   "id": "7666a54d",
   "metadata": {},
   "outputs": [],
   "source": [
    "def outer(x):\n",
    "    def inner():\n",
    "        This inner function will return a value.\n",
    "        After adding some features to the value of the function x\n",
    "    return inner"
   ]
  },
  {
   "cell_type": "code",
   "execution_count": 134,
   "id": "374f1863",
   "metadata": {},
   "outputs": [
    {
     "name": "stdout",
     "output_type": "stream",
     "text": [
      "<function outer.<locals>.inner at 0x0000015E38E58F40>\n"
     ]
    }
   ],
   "source": [
    "def dummy():\n",
    "    print('I am a dummy function')\n",
    "    \n",
    "x=outer(dummy)\n",
    "print(x)"
   ]
  },
  {
   "cell_type": "code",
   "execution_count": 136,
   "id": "07041f66",
   "metadata": {},
   "outputs": [
    {
     "name": "stdout",
     "output_type": "stream",
     "text": [
      "<function dummy at 0x0000015E38E596C0>\n"
     ]
    }
   ],
   "source": [
    "print(x())"
   ]
  },
  {
   "cell_type": "code",
   "execution_count": 137,
   "id": "de78c1cf",
   "metadata": {},
   "outputs": [
    {
     "name": "stdout",
     "output_type": "stream",
     "text": [
      "I am a dummy function\n"
     ]
    }
   ],
   "source": [
    "x()()"
   ]
  },
  {
   "cell_type": "code",
   "execution_count": 139,
   "id": "e1f1335d",
   "metadata": {},
   "outputs": [],
   "source": [
    "def greet():\n",
    "    return 'Good Morning!'"
   ]
  },
  {
   "cell_type": "code",
   "execution_count": 140,
   "id": "b3e1fa29",
   "metadata": {},
   "outputs": [
    {
     "data": {
      "text/plain": [
       "'Good Morning!'"
      ]
     },
     "execution_count": 140,
     "metadata": {},
     "output_type": "execute_result"
    }
   ],
   "source": [
    "greet()"
   ]
  },
  {
   "cell_type": "code",
   "execution_count": 141,
   "id": "c046477f",
   "metadata": {},
   "outputs": [],
   "source": [
    "# We want the output- Good Morninig! \n",
    "#                     Have a nice day!"
   ]
  },
  {
   "cell_type": "code",
   "execution_count": 155,
   "id": "73cc42ba",
   "metadata": {},
   "outputs": [],
   "source": [
    "def decorator(x):\n",
    "    def wrapper():\n",
    "        res=x()\n",
    "        res+='\\nHave a nice day!'\n",
    "        return res\n",
    "    return wrapper"
   ]
  },
  {
   "cell_type": "code",
   "execution_count": 157,
   "id": "0377dbbf",
   "metadata": {},
   "outputs": [
    {
     "name": "stdout",
     "output_type": "stream",
     "text": [
      "Good Morning!\n",
      "Have a nice day!\n"
     ]
    }
   ],
   "source": [
    "x=decorator(greet)\n",
    "print(x())"
   ]
  },
  {
   "cell_type": "code",
   "execution_count": 144,
   "id": "e2d86d58",
   "metadata": {},
   "outputs": [
    {
     "name": "stdout",
     "output_type": "stream",
     "text": [
      "Good Morning!\n",
      "Have a nice Day!\n"
     ]
    }
   ],
   "source": [
    "print(greet()+'\\nHave a nice Day!')"
   ]
  },
  {
   "cell_type": "markdown",
   "id": "2c41d671",
   "metadata": {},
   "source": [
    "# Decorators with arguments"
   ]
  },
  {
   "cell_type": "code",
   "execution_count": 165,
   "id": "fcd82475",
   "metadata": {},
   "outputs": [],
   "source": [
    "# def div(x,y):\n",
    "#     return x/y"
   ]
  },
  {
   "cell_type": "code",
   "execution_count": 164,
   "id": "338311f9",
   "metadata": {},
   "outputs": [],
   "source": [
    "# div(4,0)"
   ]
  },
  {
   "cell_type": "code",
   "execution_count": null,
   "id": "8e2558a7",
   "metadata": {},
   "outputs": [],
   "source": []
  }
 ],
 "metadata": {
  "kernelspec": {
   "display_name": "Python 3 (ipykernel)",
   "language": "python",
   "name": "python3"
  },
  "language_info": {
   "codemirror_mode": {
    "name": "ipython",
    "version": 3
   },
   "file_extension": ".py",
   "mimetype": "text/x-python",
   "name": "python",
   "nbconvert_exporter": "python",
   "pygments_lexer": "ipython3",
   "version": "3.11.3"
  }
 },
 "nbformat": 4,
 "nbformat_minor": 5
}
