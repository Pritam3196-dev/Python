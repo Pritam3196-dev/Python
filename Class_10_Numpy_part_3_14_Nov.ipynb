{
 "cells": [
  {
   "cell_type": "code",
   "execution_count": 1,
   "id": "cc1ee158",
   "metadata": {},
   "outputs": [],
   "source": [
    "import numpy as np"
   ]
  },
  {
   "cell_type": "markdown",
   "id": "5fa83998",
   "metadata": {},
   "source": [
    "# np.where()"
   ]
  },
  {
   "cell_type": "markdown",
   "id": "333bba72",
   "metadata": {},
   "source": [
    "### Case_4\n",
    "- Capping"
   ]
  },
  {
   "cell_type": "code",
   "execution_count": 5,
   "id": "97a46a3b",
   "metadata": {},
   "outputs": [
    {
     "data": {
      "text/plain": [
       "array([[56, 73, 50, 95],\n",
       "       [81, 66, 16, 11],\n",
       "       [89, 19, 36, 20]])"
      ]
     },
     "execution_count": 5,
     "metadata": {},
     "output_type": "execute_result"
    }
   ],
   "source": [
    "np.random.seed(65)\n",
    "arr=np.random.randint(10,100,12).reshape(3,4)\n",
    "arr"
   ]
  },
  {
   "cell_type": "code",
   "execution_count": 6,
   "id": "af6d44f6",
   "metadata": {},
   "outputs": [],
   "source": [
    "# Cap the values between 30 and 70\n",
    "# Any value that is greater than 70 should be 70.\n",
    "# Any value that is less than 30 should be 30.\n",
    "# Rest of the values should remain the same."
   ]
  },
  {
   "cell_type": "code",
   "execution_count": 8,
   "id": "1618e395",
   "metadata": {},
   "outputs": [
    {
     "data": {
      "text/plain": [
       "array([[56, 70, 50, 70],\n",
       "       [70, 66, 16, 11],\n",
       "       [70, 19, 36, 20]])"
      ]
     },
     "execution_count": 8,
     "metadata": {},
     "output_type": "execute_result"
    }
   ],
   "source": [
    "arr2=np.where(arr>70,70,arr)\n",
    "arr2"
   ]
  },
  {
   "cell_type": "code",
   "execution_count": 10,
   "id": "2a7d749e",
   "metadata": {},
   "outputs": [
    {
     "data": {
      "text/plain": [
       "array([[56, 70, 50, 70],\n",
       "       [70, 66, 30, 30],\n",
       "       [70, 30, 36, 30]])"
      ]
     },
     "execution_count": 10,
     "metadata": {},
     "output_type": "execute_result"
    }
   ],
   "source": [
    "res_arr=np.where(arr2<30,30,arr2)\n",
    "res_arr"
   ]
  },
  {
   "cell_type": "code",
   "execution_count": 12,
   "id": "4a27191a",
   "metadata": {},
   "outputs": [
    {
     "data": {
      "text/plain": [
       "array([[56, 70, 50, 70],\n",
       "       [70, 66, 30, 30],\n",
       "       [70, 30, 36, 30]])"
      ]
     },
     "execution_count": 12,
     "metadata": {},
     "output_type": "execute_result"
    }
   ],
   "source": [
    "np.where(arr<30,30,np.where(arr>70,70,arr))"
   ]
  },
  {
   "cell_type": "code",
   "execution_count": 11,
   "id": "a3e9121d",
   "metadata": {},
   "outputs": [],
   "source": [
    "# [1,2,3,4,5,6,7,8,9,10]\n",
    "# [3,3,3,4,5,6,7,8,8,8]"
   ]
  },
  {
   "cell_type": "markdown",
   "id": "2ea4f849",
   "metadata": {},
   "source": [
    "# np.clip()\n",
    "- It caps the values of an array between two values and returns a new array"
   ]
  },
  {
   "cell_type": "code",
   "execution_count": 14,
   "id": "9e24a478",
   "metadata": {},
   "outputs": [],
   "source": [
    "# np.clip(arr,lower_limit,upper_limit)"
   ]
  },
  {
   "cell_type": "code",
   "execution_count": 13,
   "id": "5b1a297b",
   "metadata": {},
   "outputs": [
    {
     "data": {
      "text/plain": [
       "array([[56, 73, 50, 95],\n",
       "       [81, 66, 16, 11],\n",
       "       [89, 19, 36, 20]])"
      ]
     },
     "execution_count": 13,
     "metadata": {},
     "output_type": "execute_result"
    }
   ],
   "source": [
    "arr"
   ]
  },
  {
   "cell_type": "code",
   "execution_count": 16,
   "id": "122b1095",
   "metadata": {},
   "outputs": [
    {
     "data": {
      "text/plain": [
       "array([[56, 70, 50, 70],\n",
       "       [70, 66, 30, 30],\n",
       "       [70, 30, 36, 30]])"
      ]
     },
     "execution_count": 16,
     "metadata": {},
     "output_type": "execute_result"
    }
   ],
   "source": [
    "np.clip(arr,30,70)"
   ]
  },
  {
   "cell_type": "markdown",
   "id": "74721a28",
   "metadata": {},
   "source": [
    "# np.select()\n",
    "- It is used when we want to change the values in an array on the basis of multiple condistions."
   ]
  },
  {
   "cell_type": "code",
   "execution_count": 20,
   "id": "926b43ce",
   "metadata": {},
   "outputs": [],
   "source": [
    "# np.select(condition_list,choice_list,default_value)"
   ]
  },
  {
   "cell_type": "code",
   "execution_count": 18,
   "id": "395d6536",
   "metadata": {},
   "outputs": [
    {
     "data": {
      "text/plain": [
       "array(['married', 'unmarried', 'single', 'divorced', 'widowed', 'married',\n",
       "       'single', 'unmarried', 'divorced', 'divorced'], dtype='<U9')"
      ]
     },
     "execution_count": 18,
     "metadata": {},
     "output_type": "execute_result"
    }
   ],
   "source": [
    "arr=np.array(['married','unmarried','single','divorced','widowed','married','single','unmarried','divorced','divorced'])\n",
    "arr"
   ]
  },
  {
   "cell_type": "code",
   "execution_count": 19,
   "id": "79fb5aae",
   "metadata": {},
   "outputs": [],
   "source": [
    "# married, divorced, widowed- married\n",
    "# unmarried, single- single"
   ]
  },
  {
   "cell_type": "code",
   "execution_count": 21,
   "id": "96413d6d",
   "metadata": {},
   "outputs": [],
   "source": [
    "cond=[arr=='divorced',arr=='widowed',arr=='unmarried',arr=='single']\n",
    "choice=['married','married','single','single']\n",
    "default='married'"
   ]
  },
  {
   "cell_type": "code",
   "execution_count": 22,
   "id": "9ee982d4",
   "metadata": {},
   "outputs": [
    {
     "data": {
      "text/plain": [
       "array(['married', 'single', 'single', 'married', 'married', 'married',\n",
       "       'single', 'single', 'married', 'married'], dtype='<U7')"
      ]
     },
     "execution_count": 22,
     "metadata": {},
     "output_type": "execute_result"
    }
   ],
   "source": [
    "np.select(cond,choice,default=default)"
   ]
  },
  {
   "cell_type": "code",
   "execution_count": 23,
   "id": "4113924b",
   "metadata": {},
   "outputs": [
    {
     "data": {
      "text/plain": [
       "array(['married', 'single', 'single', 'married', 'married', 'married',\n",
       "       'single', 'single', 'married', 'married'], dtype='<U9')"
      ]
     },
     "execution_count": 23,
     "metadata": {},
     "output_type": "execute_result"
    }
   ],
   "source": [
    "np.where(arr=='divorced','married',np.where(arr=='widowed','married',np.where(arr=='single','single',\n",
    "                                                                              np.where(arr=='unmarried','single',arr))))"
   ]
  },
  {
   "cell_type": "markdown",
   "id": "61256fcb",
   "metadata": {},
   "source": [
    "# Missing values in Numpy"
   ]
  },
  {
   "cell_type": "code",
   "execution_count": 24,
   "id": "fcf7ef4c",
   "metadata": {},
   "outputs": [],
   "source": [
    "# In Nnumpy the missing values are represented by np.nan\n",
    "# The datatype of np.nan is float"
   ]
  },
  {
   "cell_type": "code",
   "execution_count": 27,
   "id": "c491f3af",
   "metadata": {},
   "outputs": [
    {
     "data": {
      "text/plain": [
       "array([nan, nan])"
      ]
     },
     "execution_count": 27,
     "metadata": {},
     "output_type": "execute_result"
    }
   ],
   "source": [
    "arr=np.array([np.nan,np.nan])\n",
    "arr"
   ]
  },
  {
   "cell_type": "code",
   "execution_count": 28,
   "id": "41765354",
   "metadata": {},
   "outputs": [
    {
     "data": {
      "text/plain": [
       "dtype('float64')"
      ]
     },
     "execution_count": 28,
     "metadata": {},
     "output_type": "execute_result"
    }
   ],
   "source": [
    "arr.dtype"
   ]
  },
  {
   "cell_type": "code",
   "execution_count": 38,
   "id": "155b1e75",
   "metadata": {},
   "outputs": [
    {
     "data": {
      "text/plain": [
       "array([ 5.,  4., nan])"
      ]
     },
     "execution_count": 38,
     "metadata": {},
     "output_type": "execute_result"
    }
   ],
   "source": [
    "arr=np.array([5,4,np.nan])\n",
    "arr"
   ]
  },
  {
   "cell_type": "code",
   "execution_count": 39,
   "id": "96d87ce2",
   "metadata": {},
   "outputs": [
    {
     "data": {
      "text/plain": [
       "dtype('float64')"
      ]
     },
     "execution_count": 39,
     "metadata": {},
     "output_type": "execute_result"
    }
   ],
   "source": [
    "arr.dtype"
   ]
  },
  {
   "cell_type": "markdown",
   "id": "4409a10a",
   "metadata": {},
   "source": [
    "# Operations on  missing values"
   ]
  },
  {
   "cell_type": "markdown",
   "id": "13482691",
   "metadata": {},
   "source": [
    "# np.isnan()"
   ]
  },
  {
   "cell_type": "markdown",
   "id": "f370a358",
   "metadata": {},
   "source": [
    "- It checks for the np.nan values and returns a boolean array."
   ]
  },
  {
   "cell_type": "code",
   "execution_count": 42,
   "id": "f4e95995",
   "metadata": {},
   "outputs": [
    {
     "data": {
      "text/plain": [
       "array([[10., nan, 20.],\n",
       "       [nan, nan, 30.],\n",
       "       [40., 50., nan]])"
      ]
     },
     "execution_count": 42,
     "metadata": {},
     "output_type": "execute_result"
    }
   ],
   "source": [
    "arr=np.array([10,np.nan,20,np.nan,np.nan,30,40,50,np.nan]).reshape(3,3)\n",
    "arr"
   ]
  },
  {
   "cell_type": "code",
   "execution_count": 43,
   "id": "359530ed",
   "metadata": {},
   "outputs": [
    {
     "data": {
      "text/plain": [
       "array([[False,  True, False],\n",
       "       [ True,  True, False],\n",
       "       [False, False,  True]])"
      ]
     },
     "execution_count": 43,
     "metadata": {},
     "output_type": "execute_result"
    }
   ],
   "source": [
    "np.isnan(arr)"
   ]
  },
  {
   "cell_type": "code",
   "execution_count": 72,
   "id": "6ff1be60",
   "metadata": {},
   "outputs": [
    {
     "data": {
      "text/plain": [
       "4"
      ]
     },
     "execution_count": 72,
     "metadata": {},
     "output_type": "execute_result"
    }
   ],
   "source": [
    "# Count of missing values\n",
    "\n",
    "np.isnan(arr).sum()"
   ]
  },
  {
   "cell_type": "code",
   "execution_count": 74,
   "id": "26f5d917",
   "metadata": {},
   "outputs": [
    {
     "data": {
      "text/plain": [
       "2"
      ]
     },
     "execution_count": 74,
     "metadata": {},
     "output_type": "execute_result"
    }
   ],
   "source": [
    "np.array([True,False,True,False]).sum()"
   ]
  },
  {
   "cell_type": "code",
   "execution_count": 52,
   "id": "d5b6f308",
   "metadata": {},
   "outputs": [
    {
     "data": {
      "text/plain": [
       "5"
      ]
     },
     "execution_count": 52,
     "metadata": {},
     "output_type": "execute_result"
    }
   ],
   "source": [
    "# Count the non-nan values\n",
    "\n",
    "x=np.isnan(arr)==False\n",
    "x.sum()"
   ]
  },
  {
   "cell_type": "code",
   "execution_count": 55,
   "id": "e6d05e2a",
   "metadata": {},
   "outputs": [
    {
     "data": {
      "text/plain": [
       "array([[False,  True, False],\n",
       "       [ True,  True, False],\n",
       "       [False, False,  True]])"
      ]
     },
     "execution_count": 55,
     "metadata": {},
     "output_type": "execute_result"
    }
   ],
   "source": [
    "np.isnan(arr)"
   ]
  },
  {
   "cell_type": "code",
   "execution_count": 57,
   "id": "24be50fb",
   "metadata": {},
   "outputs": [
    {
     "data": {
      "text/plain": [
       "5"
      ]
     },
     "execution_count": 57,
     "metadata": {},
     "output_type": "execute_result"
    }
   ],
   "source": [
    "(~np.isnan(arr)).sum()"
   ]
  },
  {
   "cell_type": "code",
   "execution_count": 58,
   "id": "82883418",
   "metadata": {},
   "outputs": [
    {
     "data": {
      "text/plain": [
       "array([[10., nan, 20.],\n",
       "       [nan, nan, 30.],\n",
       "       [40., 50., nan]])"
      ]
     },
     "execution_count": 58,
     "metadata": {},
     "output_type": "execute_result"
    }
   ],
   "source": [
    "# Fetch the indexes of the missing values\n",
    "\n",
    "arr"
   ]
  },
  {
   "cell_type": "code",
   "execution_count": 78,
   "id": "75a83763",
   "metadata": {},
   "outputs": [
    {
     "data": {
      "text/plain": [
       "(array([0, 1, 1, 2], dtype=int64), array([1, 0, 1, 2], dtype=int64))"
      ]
     },
     "execution_count": 78,
     "metadata": {},
     "output_type": "execute_result"
    }
   ],
   "source": [
    "np.where(np.isnan(arr))"
   ]
  },
  {
   "cell_type": "code",
   "execution_count": 80,
   "id": "2c3f3658",
   "metadata": {},
   "outputs": [
    {
     "data": {
      "text/plain": [
       "array([nan, nan, nan, nan])"
      ]
     },
     "execution_count": 80,
     "metadata": {},
     "output_type": "execute_result"
    }
   ],
   "source": [
    "arr[np.where(np.isnan(arr))]"
   ]
  },
  {
   "cell_type": "code",
   "execution_count": 63,
   "id": "edfd956f",
   "metadata": {},
   "outputs": [
    {
     "data": {
      "text/plain": [
       "array([[False,  True, False],\n",
       "       [ True,  True, False],\n",
       "       [False, False,  True]])"
      ]
     },
     "execution_count": 63,
     "metadata": {},
     "output_type": "execute_result"
    }
   ],
   "source": [
    "# Fetch the missing values\n",
    "\n",
    "np.isnan(arr)"
   ]
  },
  {
   "cell_type": "code",
   "execution_count": 64,
   "id": "731ee90a",
   "metadata": {},
   "outputs": [
    {
     "data": {
      "text/plain": [
       "array([nan, nan, nan, nan])"
      ]
     },
     "execution_count": 64,
     "metadata": {},
     "output_type": "execute_result"
    }
   ],
   "source": [
    "arr[np.isnan(arr)]"
   ]
  },
  {
   "cell_type": "code",
   "execution_count": 69,
   "id": "cdf28b4c",
   "metadata": {},
   "outputs": [
    {
     "data": {
      "text/plain": [
       "array([[ True, False,  True],\n",
       "       [False, False,  True],\n",
       "       [ True,  True, False]])"
      ]
     },
     "execution_count": 69,
     "metadata": {},
     "output_type": "execute_result"
    }
   ],
   "source": [
    "# Fetch the non misisng values\n",
    "\n",
    "~np.isnan(arr)"
   ]
  },
  {
   "cell_type": "code",
   "execution_count": 70,
   "id": "fa159ccb",
   "metadata": {},
   "outputs": [
    {
     "data": {
      "text/plain": [
       "array([10., 20., 30., 40., 50.])"
      ]
     },
     "execution_count": 70,
     "metadata": {},
     "output_type": "execute_result"
    }
   ],
   "source": [
    "arr[~np.isnan(arr)]"
   ]
  },
  {
   "cell_type": "code",
   "execution_count": 81,
   "id": "b76d8442",
   "metadata": {},
   "outputs": [
    {
     "data": {
      "text/plain": [
       "array([[10., nan, 20.],\n",
       "       [nan, nan, 30.],\n",
       "       [40., 50., nan]])"
      ]
     },
     "execution_count": 81,
     "metadata": {},
     "output_type": "execute_result"
    }
   ],
   "source": [
    "# Replacing the missing values\n",
    "\n",
    "arr"
   ]
  },
  {
   "cell_type": "code",
   "execution_count": 84,
   "id": "aaaf7f80",
   "metadata": {},
   "outputs": [],
   "source": [
    "# Replace all the null values by 0\n",
    "\n",
    "arr[np.isnan(arr)]=0"
   ]
  },
  {
   "cell_type": "code",
   "execution_count": 85,
   "id": "f7200478",
   "metadata": {},
   "outputs": [
    {
     "data": {
      "text/plain": [
       "array([[10.,  0., 20.],\n",
       "       [ 0.,  0., 30.],\n",
       "       [40., 50.,  0.]])"
      ]
     },
     "execution_count": 85,
     "metadata": {},
     "output_type": "execute_result"
    }
   ],
   "source": [
    "arr"
   ]
  },
  {
   "cell_type": "markdown",
   "id": "b0c9dd69",
   "metadata": {},
   "source": [
    "# Array Broadcasting"
   ]
  },
  {
   "cell_type": "markdown",
   "id": "b4d70f5d",
   "metadata": {},
   "source": [
    "- When we have arrays of different shape then Numpy matches the shape of the arrays by adding dummy rows or columns to make the element by element operation possible. This is known as array broadcasting."
   ]
  },
  {
   "cell_type": "code",
   "execution_count": 86,
   "id": "f9e46612",
   "metadata": {},
   "outputs": [
    {
     "data": {
      "text/plain": [
       "array([[1, 2, 3],\n",
       "       [4, 5, 6]])"
      ]
     },
     "execution_count": 86,
     "metadata": {},
     "output_type": "execute_result"
    }
   ],
   "source": [
    "x=np.array([[1,2,3],[4,5,6]])\n",
    "x"
   ]
  },
  {
   "cell_type": "code",
   "execution_count": 87,
   "id": "50c54600",
   "metadata": {},
   "outputs": [
    {
     "data": {
      "text/plain": [
       "array([2, 4, 6])"
      ]
     },
     "execution_count": 87,
     "metadata": {},
     "output_type": "execute_result"
    }
   ],
   "source": [
    "y=np.array([2,4,6])\n",
    "y"
   ]
  },
  {
   "cell_type": "code",
   "execution_count": 88,
   "id": "3d5eaf3f",
   "metadata": {},
   "outputs": [
    {
     "data": {
      "text/plain": [
       "array([[ 3,  6,  9],\n",
       "       [ 6,  9, 12]])"
      ]
     },
     "execution_count": 88,
     "metadata": {},
     "output_type": "execute_result"
    }
   ],
   "source": [
    "x+y"
   ]
  },
  {
   "cell_type": "code",
   "execution_count": 89,
   "id": "842e1893",
   "metadata": {},
   "outputs": [
    {
     "data": {
      "text/plain": [
       "array([[1, 2, 3],\n",
       "       [4, 5, 6]])"
      ]
     },
     "execution_count": 89,
     "metadata": {},
     "output_type": "execute_result"
    }
   ],
   "source": [
    "x=np.array([[1,2,3],[4,5,6]])\n",
    "x"
   ]
  },
  {
   "cell_type": "code",
   "execution_count": 91,
   "id": "0aebc984",
   "metadata": {},
   "outputs": [
    {
     "data": {
      "text/plain": [
       "array([[1, 2]])"
      ]
     },
     "execution_count": 91,
     "metadata": {},
     "output_type": "execute_result"
    }
   ],
   "source": [
    "y=np.array([[1,2]])\n",
    "y"
   ]
  },
  {
   "cell_type": "code",
   "execution_count": 93,
   "id": "2d13b9ac",
   "metadata": {},
   "outputs": [
    {
     "name": "stdout",
     "output_type": "stream",
     "text": [
      "(2, 3)\n",
      "(1, 2)\n"
     ]
    }
   ],
   "source": [
    "print(x.shape)\n",
    "print(y.shape)"
   ]
  },
  {
   "cell_type": "code",
   "execution_count": 94,
   "id": "ab6f8220",
   "metadata": {},
   "outputs": [
    {
     "ename": "ValueError",
     "evalue": "operands could not be broadcast together with shapes (2,3) (1,2) ",
     "output_type": "error",
     "traceback": [
      "\u001b[1;31m---------------------------------------------------------------------------\u001b[0m",
      "\u001b[1;31mValueError\u001b[0m                                Traceback (most recent call last)",
      "Cell \u001b[1;32mIn[94], line 1\u001b[0m\n\u001b[1;32m----> 1\u001b[0m x\u001b[38;5;241m*\u001b[39my\n",
      "\u001b[1;31mValueError\u001b[0m: operands could not be broadcast together with shapes (2,3) (1,2) "
     ]
    }
   ],
   "source": [
    "x*y"
   ]
  },
  {
   "cell_type": "code",
   "execution_count": 96,
   "id": "db525ad6",
   "metadata": {},
   "outputs": [
    {
     "data": {
      "text/plain": [
       "array([[1, 2, 3],\n",
       "       [4, 5, 6],\n",
       "       [7, 8, 9]])"
      ]
     },
     "execution_count": 96,
     "metadata": {},
     "output_type": "execute_result"
    }
   ],
   "source": [
    "x=np.array([[1,2,3],[4,5,6],[7,8,9]])\n",
    "x"
   ]
  },
  {
   "cell_type": "code",
   "execution_count": 97,
   "id": "414e7324",
   "metadata": {},
   "outputs": [
    {
     "data": {
      "text/plain": [
       "array([[1],\n",
       "       [2],\n",
       "       [3]])"
      ]
     },
     "execution_count": 97,
     "metadata": {},
     "output_type": "execute_result"
    }
   ],
   "source": [
    "y=np.array([[1],[2],[3]])\n",
    "y"
   ]
  },
  {
   "cell_type": "code",
   "execution_count": 98,
   "id": "8fdaf616",
   "metadata": {},
   "outputs": [
    {
     "name": "stdout",
     "output_type": "stream",
     "text": [
      "(3, 3)\n",
      "(3, 1)\n"
     ]
    }
   ],
   "source": [
    "print(x.shape)\n",
    "print(y.shape)"
   ]
  },
  {
   "cell_type": "code",
   "execution_count": 99,
   "id": "b40578d0",
   "metadata": {},
   "outputs": [
    {
     "data": {
      "text/plain": [
       "array([[ 1,  2,  3],\n",
       "       [ 8, 10, 12],\n",
       "       [21, 24, 27]])"
      ]
     },
     "execution_count": 99,
     "metadata": {},
     "output_type": "execute_result"
    }
   ],
   "source": [
    "x*y"
   ]
  },
  {
   "cell_type": "code",
   "execution_count": 100,
   "id": "f1e7b92c",
   "metadata": {},
   "outputs": [
    {
     "data": {
      "text/plain": [
       "array([[1, 2, 3],\n",
       "       [4, 5, 6],\n",
       "       [7, 8, 9]])"
      ]
     },
     "execution_count": 100,
     "metadata": {},
     "output_type": "execute_result"
    }
   ],
   "source": [
    "x"
   ]
  },
  {
   "cell_type": "code",
   "execution_count": 101,
   "id": "90a572f2",
   "metadata": {},
   "outputs": [
    {
     "data": {
      "text/plain": [
       "array([[1, 2],\n",
       "       [2, 2],\n",
       "       [3, 4]])"
      ]
     },
     "execution_count": 101,
     "metadata": {},
     "output_type": "execute_result"
    }
   ],
   "source": [
    "y=np.array([[1,2],[2,2],[3,4]])\n",
    "y"
   ]
  },
  {
   "cell_type": "code",
   "execution_count": 102,
   "id": "9588044a",
   "metadata": {},
   "outputs": [
    {
     "name": "stdout",
     "output_type": "stream",
     "text": [
      "(3, 3)\n",
      "(3, 2)\n"
     ]
    }
   ],
   "source": [
    "print(x.shape)\n",
    "print(y.shape)"
   ]
  },
  {
   "cell_type": "code",
   "execution_count": 103,
   "id": "a8bda01f",
   "metadata": {},
   "outputs": [
    {
     "ename": "ValueError",
     "evalue": "operands could not be broadcast together with shapes (3,3) (3,2) ",
     "output_type": "error",
     "traceback": [
      "\u001b[1;31m---------------------------------------------------------------------------\u001b[0m",
      "\u001b[1;31mValueError\u001b[0m                                Traceback (most recent call last)",
      "Cell \u001b[1;32mIn[103], line 1\u001b[0m\n\u001b[1;32m----> 1\u001b[0m x\u001b[38;5;241m*\u001b[39my\n",
      "\u001b[1;31mValueError\u001b[0m: operands could not be broadcast together with shapes (3,3) (3,2) "
     ]
    }
   ],
   "source": [
    "x*y"
   ]
  },
  {
   "cell_type": "code",
   "execution_count": 104,
   "id": "616111e3",
   "metadata": {},
   "outputs": [
    {
     "data": {
      "text/plain": [
       "array([[1, 2, 3],\n",
       "       [4, 5, 6],\n",
       "       [7, 8, 9]])"
      ]
     },
     "execution_count": 104,
     "metadata": {},
     "output_type": "execute_result"
    }
   ],
   "source": [
    "x"
   ]
  },
  {
   "cell_type": "code",
   "execution_count": 105,
   "id": "d508cd7a",
   "metadata": {},
   "outputs": [
    {
     "data": {
      "text/plain": [
       "array([[ 6,  7,  8],\n",
       "       [ 9, 10, 11],\n",
       "       [12, 13, 14]])"
      ]
     },
     "execution_count": 105,
     "metadata": {},
     "output_type": "execute_result"
    }
   ],
   "source": [
    "x+5"
   ]
  },
  {
   "cell_type": "code",
   "execution_count": 108,
   "id": "c7833b7d",
   "metadata": {},
   "outputs": [
    {
     "data": {
      "text/plain": [
       "[[1, 2, 3], [4, 5, 6], [7, 8, 9]]"
      ]
     },
     "execution_count": 108,
     "metadata": {},
     "output_type": "execute_result"
    }
   ],
   "source": [
    "lst=[[1,2,3],[4,5,6],[7,8,9]]\n",
    "lst"
   ]
  },
  {
   "cell_type": "code",
   "execution_count": 110,
   "id": "3c9a8c8b",
   "metadata": {},
   "outputs": [],
   "source": [
    "for i in range(len(lst)):\n",
    "    for j in range(len(lst[i])):\n",
    "        lst[i][j]+=5"
   ]
  },
  {
   "cell_type": "code",
   "execution_count": 111,
   "id": "bb60fc0c",
   "metadata": {},
   "outputs": [
    {
     "name": "stdout",
     "output_type": "stream",
     "text": [
      "[[6, 7, 8], [9, 10, 11], [12, 13, 14]]\n"
     ]
    }
   ],
   "source": [
    "print(lst)"
   ]
  },
  {
   "cell_type": "markdown",
   "id": "3a5de985",
   "metadata": {},
   "source": [
    "# Random Module"
   ]
  },
  {
   "cell_type": "markdown",
   "id": "0c61f0b2",
   "metadata": {},
   "source": [
    "- In Numpy we have a random module that is used to simulate the arrays of random numbers."
   ]
  },
  {
   "cell_type": "markdown",
   "id": "ea05874c",
   "metadata": {},
   "source": [
    "### np.random.random()"
   ]
  },
  {
   "cell_type": "code",
   "execution_count": 117,
   "id": "98de333d",
   "metadata": {},
   "outputs": [],
   "source": [
    "# - It generates the specified number of random values.\n",
    "# - A random value is in between 0 and 1\n",
    "# - It returns a 1-D array"
   ]
  },
  {
   "cell_type": "code",
   "execution_count": 114,
   "id": "a92b6eaf",
   "metadata": {},
   "outputs": [
    {
     "data": {
      "text/plain": [
       "array([0.03205585])"
      ]
     },
     "execution_count": 114,
     "metadata": {},
     "output_type": "execute_result"
    }
   ],
   "source": [
    "# create an array of 1 random value\n",
    "\n",
    "np.random.random(1)"
   ]
  },
  {
   "cell_type": "code",
   "execution_count": 115,
   "id": "67578ce5",
   "metadata": {},
   "outputs": [],
   "source": [
    "# create an array of 10 random value"
   ]
  },
  {
   "cell_type": "code",
   "execution_count": 116,
   "id": "57d0b18b",
   "metadata": {},
   "outputs": [
    {
     "data": {
      "text/plain": [
       "array([0.64425752, 0.86392611, 0.29558031, 0.156297  , 0.17534547,\n",
       "       0.37992098, 0.60462603, 0.61301083, 0.65115879, 0.43032418])"
      ]
     },
     "execution_count": 116,
     "metadata": {},
     "output_type": "execute_result"
    }
   ],
   "source": [
    "np.random.random(10)"
   ]
  },
  {
   "cell_type": "code",
   "execution_count": 118,
   "id": "876afcf5",
   "metadata": {},
   "outputs": [
    {
     "data": {
      "text/plain": [
       "array([[0.6839961 , 0.71290513, 0.91663181],\n",
       "       [0.91196018, 0.52598783, 0.47959201],\n",
       "       [0.67212679, 0.23624044, 0.5445704 ]])"
      ]
     },
     "execution_count": 118,
     "metadata": {},
     "output_type": "execute_result"
    }
   ],
   "source": [
    "# Create a 3*3 array of random values\n",
    "\n",
    "np.random.random(9).reshape(3,3)"
   ]
  },
  {
   "cell_type": "markdown",
   "id": "5be1aba3",
   "metadata": {},
   "source": [
    "### np.random.rand()"
   ]
  },
  {
   "cell_type": "code",
   "execution_count": 119,
   "id": "85833b16",
   "metadata": {},
   "outputs": [],
   "source": [
    "# np.random.rand(rows,cols)"
   ]
  },
  {
   "cell_type": "code",
   "execution_count": 120,
   "id": "8d23dd86",
   "metadata": {},
   "outputs": [
    {
     "data": {
      "text/plain": [
       "array([[0.00844416, 0.1731045 , 0.86523325],\n",
       "       [0.17723251, 0.95513748, 0.57373397],\n",
       "       [0.70899482, 0.64761826, 0.93089471]])"
      ]
     },
     "execution_count": 120,
     "metadata": {},
     "output_type": "execute_result"
    }
   ],
   "source": [
    "# Create a 3*3 array of random values\n",
    "\n",
    "np.random.rand(3,3)"
   ]
  },
  {
   "cell_type": "code",
   "execution_count": 136,
   "id": "ecbe0f04",
   "metadata": {},
   "outputs": [
    {
     "data": {
      "text/plain": [
       "array([[[0.10438984, 0.22311706, 0.59392238, 0.16552756],\n",
       "        [0.62592375, 0.71808404, 0.63664188, 0.49846771],\n",
       "        [0.86070082, 0.90543067, 0.03875584, 0.84625786]],\n",
       "\n",
       "       [[0.72168346, 0.50803784, 0.26609657, 0.11182993],\n",
       "        [0.12602587, 0.10680375, 0.92118979, 0.14956125],\n",
       "        [0.63203845, 0.36859401, 0.14511732, 0.15791759]],\n",
       "\n",
       "       [[0.71347086, 0.87744137, 0.68033812, 0.3411585 ],\n",
       "        [0.93056877, 0.33961048, 0.10599457, 0.35476647],\n",
       "        [0.30700413, 0.90127224, 0.21816518, 0.36932806]]])"
      ]
     },
     "execution_count": 136,
     "metadata": {},
     "output_type": "execute_result"
    }
   ],
   "source": [
    "# Create a 3*3*4 array of random values\n",
    "\n",
    "np.random.rand(3,3,4)"
   ]
  },
  {
   "cell_type": "markdown",
   "id": "2f679bcb",
   "metadata": {},
   "source": [
    "### np.random.randint()"
   ]
  },
  {
   "cell_type": "markdown",
   "id": "8ddd0adc",
   "metadata": {},
   "source": [
    "- It returns an array of the random int values between a range."
   ]
  },
  {
   "cell_type": "code",
   "execution_count": 122,
   "id": "c05dbdbe",
   "metadata": {},
   "outputs": [],
   "source": [
    "# np.random.randint(start,stop,number of values)\n",
    "# Stop value is excluded"
   ]
  },
  {
   "cell_type": "code",
   "execution_count": 123,
   "id": "55bde7d3",
   "metadata": {},
   "outputs": [],
   "source": [
    "# Create a 3*3 array of random int values between 10 and 100"
   ]
  },
  {
   "cell_type": "code",
   "execution_count": 132,
   "id": "f3514666",
   "metadata": {},
   "outputs": [
    {
     "data": {
      "text/plain": [
       "array([[43, 73, 39],\n",
       "       [85, 81, 92],\n",
       "       [49, 96, 83]])"
      ]
     },
     "execution_count": 132,
     "metadata": {},
     "output_type": "execute_result"
    }
   ],
   "source": [
    "np.random.randint(10,100,9).reshape(3,3)"
   ]
  },
  {
   "cell_type": "markdown",
   "id": "94121812",
   "metadata": {},
   "source": [
    "### np.random.seed()"
   ]
  },
  {
   "cell_type": "code",
   "execution_count": 128,
   "id": "d2e1d60c",
   "metadata": {},
   "outputs": [],
   "source": [
    "# - It is used to fix the random state"
   ]
  },
  {
   "cell_type": "code",
   "execution_count": 165,
   "id": "b415461a",
   "metadata": {},
   "outputs": [
    {
     "data": {
      "text/plain": [
       "array([82, 22, 15, 10, 38, 37, 81, 85, 95])"
      ]
     },
     "execution_count": 165,
     "metadata": {},
     "output_type": "execute_result"
    }
   ],
   "source": [
    "np.random.seed(15)\n",
    "np.random.randint(10,100,9)"
   ]
  },
  {
   "cell_type": "code",
   "execution_count": null,
   "id": "315ff147",
   "metadata": {},
   "outputs": [],
   "source": [
    "array([82, 22, 15, 10, 38, 37, 81, 85, 95])"
   ]
  },
  {
   "cell_type": "code",
   "execution_count": 166,
   "id": "3edfe917",
   "metadata": {},
   "outputs": [],
   "source": [
    "from numpy.random import randint,seed"
   ]
  },
  {
   "cell_type": "code",
   "execution_count": 167,
   "id": "e1a845b5",
   "metadata": {},
   "outputs": [
    {
     "data": {
      "text/plain": [
       "array([82, 22, 15, 10, 38, 37, 81, 85, 95])"
      ]
     },
     "execution_count": 167,
     "metadata": {},
     "output_type": "execute_result"
    }
   ],
   "source": [
    "seed(15)\n",
    "randint(10,100,9)"
   ]
  },
  {
   "cell_type": "code",
   "execution_count": 168,
   "id": "29cf3609",
   "metadata": {},
   "outputs": [
    {
     "data": {
      "text/plain": [
       "array([64, 82, 88, 87, 64, 38, 38, 60, 65])"
      ]
     },
     "execution_count": 168,
     "metadata": {},
     "output_type": "execute_result"
    }
   ],
   "source": [
    "seed(2000)\n",
    "randint(10,100,9)"
   ]
  },
  {
   "cell_type": "code",
   "execution_count": 172,
   "id": "8924fed1",
   "metadata": {},
   "outputs": [
    {
     "data": {
      "text/plain": [
       "array([85, 96, 91, 89, 38, 68, 46, 69, 56])"
      ]
     },
     "execution_count": 172,
     "metadata": {},
     "output_type": "execute_result"
    }
   ],
   "source": [
    "randint(10,100,9)"
   ]
  },
  {
   "cell_type": "code",
   "execution_count": 173,
   "id": "543c875f",
   "metadata": {},
   "outputs": [],
   "source": [
    "seed(2000)"
   ]
  },
  {
   "cell_type": "code",
   "execution_count": 174,
   "id": "31b229b7",
   "metadata": {},
   "outputs": [
    {
     "data": {
      "text/plain": [
       "array([64, 82, 88, 87, 64, 38, 38, 60, 65])"
      ]
     },
     "execution_count": 174,
     "metadata": {},
     "output_type": "execute_result"
    }
   ],
   "source": [
    "randint(10,100,9)"
   ]
  },
  {
   "cell_type": "code",
   "execution_count": 175,
   "id": "6b3c2feb",
   "metadata": {},
   "outputs": [],
   "source": [
    "# random state is from 0 to 2**32-1"
   ]
  },
  {
   "cell_type": "code",
   "execution_count": 178,
   "id": "4c83ed3d",
   "metadata": {},
   "outputs": [
    {
     "ename": "ValueError",
     "evalue": "Seed must be between 0 and 2**32 - 1",
     "output_type": "error",
     "traceback": [
      "\u001b[1;31m---------------------------------------------------------------------------\u001b[0m",
      "\u001b[1;31mValueError\u001b[0m                                Traceback (most recent call last)",
      "Cell \u001b[1;32mIn[178], line 1\u001b[0m\n\u001b[1;32m----> 1\u001b[0m seed(\u001b[38;5;241m2\u001b[39m\u001b[38;5;241m*\u001b[39m\u001b[38;5;241m*\u001b[39m\u001b[38;5;241m32\u001b[39m)\n",
      "File \u001b[1;32mmtrand.pyx:4789\u001b[0m, in \u001b[0;36mnumpy.random.mtrand.seed\u001b[1;34m()\u001b[0m\n",
      "File \u001b[1;32mmtrand.pyx:250\u001b[0m, in \u001b[0;36mnumpy.random.mtrand.RandomState.seed\u001b[1;34m()\u001b[0m\n",
      "File \u001b[1;32m_mt19937.pyx:166\u001b[0m, in \u001b[0;36mnumpy.random._mt19937.MT19937._legacy_seeding\u001b[1;34m()\u001b[0m\n",
      "File \u001b[1;32m_mt19937.pyx:180\u001b[0m, in \u001b[0;36mnumpy.random._mt19937.MT19937._legacy_seeding\u001b[1;34m()\u001b[0m\n",
      "\u001b[1;31mValueError\u001b[0m: Seed must be between 0 and 2**32 - 1"
     ]
    }
   ],
   "source": [
    "seed(2**32)"
   ]
  },
  {
   "cell_type": "code",
   "execution_count": 177,
   "id": "bc12488f",
   "metadata": {},
   "outputs": [
    {
     "data": {
      "text/plain": [
       "4294967295"
      ]
     },
     "execution_count": 177,
     "metadata": {},
     "output_type": "execute_result"
    }
   ],
   "source": [
    "2**32-1"
   ]
  },
  {
   "cell_type": "code",
   "execution_count": 179,
   "id": "98539b15",
   "metadata": {},
   "outputs": [],
   "source": [
    "# Libraries (Numpy, Pandas-3, Matplotlib-1, Seaborn-1)\n",
    "# Iterators and Generators-1\n",
    "# File Handling-1"
   ]
  },
  {
   "cell_type": "code",
   "execution_count": 180,
   "id": "c95eda7a",
   "metadata": {},
   "outputs": [],
   "source": [
    "# Statistics -> Machine Learning Algorithms \n",
    "# Supervised\n",
    "# Unsupervised- Deep Learning - NLP, Image Classification"
   ]
  },
  {
   "cell_type": "code",
   "execution_count": null,
   "id": "99705887",
   "metadata": {},
   "outputs": [],
   "source": []
  }
 ],
 "metadata": {
  "kernelspec": {
   "display_name": "Python 3 (ipykernel)",
   "language": "python",
   "name": "python3"
  },
  "language_info": {
   "codemirror_mode": {
    "name": "ipython",
    "version": 3
   },
   "file_extension": ".py",
   "mimetype": "text/x-python",
   "name": "python",
   "nbconvert_exporter": "python",
   "pygments_lexer": "ipython3",
   "version": "3.11.4"
  }
 },
 "nbformat": 4,
 "nbformat_minor": 5
}
