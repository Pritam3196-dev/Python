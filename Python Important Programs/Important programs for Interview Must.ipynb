{
 "cells": [
  {
   "cell_type": "markdown",
   "id": "7f982179",
   "metadata": {},
   "source": [
    "#### 1.Check Palindrome String"
   ]
  },
  {
   "cell_type": "code",
   "execution_count": 5,
   "id": "73e3a571",
   "metadata": {},
   "outputs": [
    {
     "name": "stdout",
     "output_type": "stream",
     "text": [
      "Enter the string :radar\n",
      "radar Palindrome String\n"
     ]
    }
   ],
   "source": [
    "def palindrome_string(string):\n",
    "    \n",
    "    if string.lower()[::1] == string.lower()[::-1]:\n",
    "        \n",
    "        print(string , 'Palindrome String')\n",
    "        \n",
    "    else:\n",
    "        \n",
    "        print(string , 'Not Palindrome String')\n",
    "        \n",
    "    \n",
    "string = input('Enter the string :')\n",
    "palindrome_string(string)"
   ]
  },
  {
   "cell_type": "markdown",
   "id": "d2841bb2",
   "metadata": {},
   "source": [
    "#### 2.Factorial"
   ]
  },
  {
   "cell_type": "code",
   "execution_count": 16,
   "id": "ce39abc2",
   "metadata": {},
   "outputs": [
    {
     "name": "stdout",
     "output_type": "stream",
     "text": [
      "Enter the number :4\n",
      "24\n"
     ]
    }
   ],
   "source": [
    "def factorial(n):\n",
    "    \n",
    "    value = 0\n",
    "    #print(n , end = ' ')\n",
    "    \n",
    "    for i in range(n-1 , 0 , -1 ):\n",
    "        \n",
    "        if i == (n-1):\n",
    "            \n",
    "            value = value + (n * i)\n",
    "            \n",
    "        else:\n",
    "            \n",
    "            value = value * i\n",
    "            \n",
    "            #print(i , value)\n",
    "            \n",
    "            \n",
    "    print(value)\n",
    "        \n",
    "        \n",
    "\n",
    "n = int(input('Enter the number :'))\n",
    "        \n",
    "factorial(n)"
   ]
  },
  {
   "cell_type": "markdown",
   "id": "58c6792e",
   "metadata": {},
   "source": [
    "#### or"
   ]
  },
  {
   "cell_type": "code",
   "execution_count": 19,
   "id": "16f76e35",
   "metadata": {},
   "outputs": [
    {
     "name": "stdout",
     "output_type": "stream",
     "text": [
      "Enter the number :3\n"
     ]
    },
    {
     "data": {
      "text/plain": [
       "6"
      ]
     },
     "execution_count": 19,
     "metadata": {},
     "output_type": "execute_result"
    }
   ],
   "source": [
    "def factorial(n):\n",
    "    \n",
    "    if n == 1:\n",
    "        \n",
    "        return n\n",
    "    \n",
    "    else:\n",
    "        \n",
    "        return n * factorial(n - 1)\n",
    "    \n",
    "    \n",
    "n = int(input('Enter the number :'))\n",
    "factorial(n)"
   ]
  },
  {
   "cell_type": "markdown",
   "id": "65d76d7a",
   "metadata": {},
   "source": [
    "#### 3.Fibonacci"
   ]
  },
  {
   "cell_type": "code",
   "execution_count": 22,
   "id": "0ac8df84",
   "metadata": {},
   "outputs": [
    {
     "name": "stdout",
     "output_type": "stream",
     "text": [
      "Enter the number for how many fibonaaci numbers you want to generate :5\n",
      "0 1 1 2 3 5 8 "
     ]
    }
   ],
   "source": [
    "def fibonacci(n):\n",
    "    \n",
    "    a = 0\n",
    "    b = 1\n",
    "    \n",
    "    print(a , b , end = ' ')\n",
    "    \n",
    "    for i in range(0 , 5):\n",
    "        \n",
    "        c = a + b\n",
    "        \n",
    "        print(c , end = ' ')\n",
    "        \n",
    "        a = b\n",
    "        b = c\n",
    "        \n",
    "n = int(input('Enter the number for how many fibonaaci numbers you want to generate :'))\n",
    "fibonacci(n)"
   ]
  },
  {
   "cell_type": "markdown",
   "id": "3c16167c",
   "metadata": {},
   "source": [
    "#### 4. Leap Year"
   ]
  },
  {
   "cell_type": "code",
   "execution_count": 28,
   "id": "9c28fc4d",
   "metadata": {},
   "outputs": [
    {
     "name": "stdout",
     "output_type": "stream",
     "text": [
      "Enter the year :1996\n",
      "1996 This is leap year\n"
     ]
    }
   ],
   "source": [
    "def leap_year(year):\n",
    "    \n",
    "    if year % 100 == 0 :\n",
    "        \n",
    "        if year % 400 == 0 :\n",
    "            \n",
    "            print(year , 'This is leap year')\n",
    "            \n",
    "        else:\n",
    "            \n",
    "            print(year , 'This is not leap year')\n",
    "            \n",
    "    elif year % 100 !=0 :\n",
    "        \n",
    "        if year % 4 == 0:\n",
    "            \n",
    "            print(year , 'This is leap year')\n",
    "            \n",
    "        else:\n",
    "            \n",
    "            print(year , 'This is not leap year')\n",
    "            \n",
    "            \n",
    "year = int(input('Enter the year :'))\n",
    "leap_year(year)"
   ]
  },
  {
   "cell_type": "markdown",
   "id": "db2ede29",
   "metadata": {},
   "source": [
    "### 5.Prime Numbers"
   ]
  },
  {
   "cell_type": "code",
   "execution_count": 58,
   "id": "4947b639",
   "metadata": {},
   "outputs": [
    {
     "name": "stdout",
     "output_type": "stream",
     "text": [
      "Enter the number :5\n",
      "5  is prime number\n"
     ]
    }
   ],
   "source": [
    "def check_prime(number):\n",
    "    \n",
    "    if number == 1:\n",
    "        \n",
    "        print(number , ' is not prime number as well as not consecutive number')\n",
    "        number = int(input('Enter the correct number which is greater than 1 :'))\n",
    "        \n",
    "        \n",
    "    for i in range(2 , number):\n",
    "            \n",
    "            if number % i == 0 :\n",
    "                print(number , 'is not prime number')\n",
    "                break\n",
    "                \n",
    "    else:\n",
    "        print(number , ' is prime number')\n",
    "        \n",
    "    \n",
    "number = int(input('Enter the number :'))\n",
    "check_prime(number)"
   ]
  },
  {
   "cell_type": "markdown",
   "id": "c28e977f",
   "metadata": {},
   "source": [
    "### 6.Count of words in string"
   ]
  },
  {
   "cell_type": "code",
   "execution_count": 62,
   "id": "995be3b1",
   "metadata": {},
   "outputs": [
    {
     "name": "stdout",
     "output_type": "stream",
     "text": [
      "Enter the string :Radha\n",
      "count of characters in Radha are : 5\n"
     ]
    }
   ],
   "source": [
    "def count_of_characters_string(string):\n",
    "    \n",
    "    count = 0\n",
    "    \n",
    "    for i in range(0 , len(string)):\n",
    "        \n",
    "        count = count + 1\n",
    "        \n",
    "    print('count of characters in' , string , 'are :' , count)\n",
    "        \n",
    "string = input('Enter the string :')\n",
    "count_of_characters_string(string)"
   ]
  },
  {
   "cell_type": "markdown",
   "id": "10776d12",
   "metadata": {},
   "source": [
    "#### 7.Count of words in string"
   ]
  },
  {
   "cell_type": "code",
   "execution_count": 64,
   "id": "325ee82f",
   "metadata": {},
   "outputs": [
    {
     "name": "stdout",
     "output_type": "stream",
     "text": [
      "Enter the string :shri swami samarth\n",
      "The words in string are : 3\n"
     ]
    }
   ],
   "source": [
    "def count_words(string):\n",
    "    \n",
    "    count = 0\n",
    "    \n",
    "    for i in string.split(' '):\n",
    "        \n",
    "        count = count + 1\n",
    "        \n",
    "    print('The words in string are :' , count)\n",
    "    \n",
    "string = input('Enter the string :')\n",
    "count_words(string)"
   ]
  },
  {
   "cell_type": "markdown",
   "id": "e1e03637",
   "metadata": {},
   "source": [
    "### 8. How list into dictionary"
   ]
  },
  {
   "cell_type": "code",
   "execution_count": 70,
   "id": "44ceafd2",
   "metadata": {},
   "outputs": [
    {
     "name": "stdout",
     "output_type": "stream",
     "text": [
      "Enter the list :['pritam' ,'sarde']\n",
      "Enter the string :['Data' , 'Scientist']\n",
      "Dictionary is : {'pritam': 'Data', 'sarde': 'Scientist'}\n"
     ]
    }
   ],
   "source": [
    "import ast\n",
    "\n",
    "def list_to_dict(l1 ,l2):\n",
    "    \n",
    "    d = dict(zip(l1 , l2))\n",
    "    print('Dictionary is :' , d)\n",
    "\n",
    "\n",
    "l1 = ast.literal_eval(input('Enter the list :'))\n",
    "l2 = ast.literal_eval(input('Enter the string :'))\n",
    "list_to_dict(l1 , l2)"
   ]
  },
  {
   "cell_type": "markdown",
   "id": "78a5c7e4",
   "metadata": {},
   "source": [
    "#### or "
   ]
  },
  {
   "cell_type": "code",
   "execution_count": 71,
   "id": "c9420e35",
   "metadata": {},
   "outputs": [
    {
     "name": "stdout",
     "output_type": "stream",
     "text": [
      "Enter the values with space for first list :pritam sarde\n",
      "Enter the values with space for second list :Data Scientist\n",
      "Dictionary is : {'pritam': 'Data', 'sarde': 'Scientist'}\n"
     ]
    }
   ],
   "source": [
    "def list_to_dict(l1 , l2):\n",
    "    \n",
    "    d = dict(zip(l1 , l2))\n",
    "    print('Dictionary is :' , d)\n",
    "    \n",
    "\n",
    "user_input = input('Enter the values with space for first list :')\n",
    "l1 = list(map(str , user_input.split(' ')))\n",
    "user_input1 = input('Enter the values with space for second list :')\n",
    "l2 = list(map(str , user_input1.split(' ')))\n",
    "list_to_dict(l1 , l2)"
   ]
  },
  {
   "cell_type": "markdown",
   "id": "43175b0b",
   "metadata": {},
   "source": [
    "### 9. How reverse string as a word"
   ]
  },
  {
   "cell_type": "code",
   "execution_count": 77,
   "id": "ccf58b41",
   "metadata": {},
   "outputs": [
    {
     "name": "stdout",
     "output_type": "stream",
     "text": [
      "Enter the string :Radha Krishna\n",
      "original string is ---->: Radha Krishna <---- and reverse dtring is ----> :   Krishna Radha\n"
     ]
    }
   ],
   "source": [
    "def reverse_string_to_word(string):\n",
    "    \n",
    "    string1 = ' '\n",
    "    \n",
    "    for i in string.split(' ')[::-1]:\n",
    "        \n",
    "        string1 = string1 + ' ' +  i\n",
    "        \n",
    "    print('original string is ---->:' , string , '<---- and reverse dtring is ----> :' , string1)\n",
    "    \n",
    "\n",
    "string = input('Enter the string :',)\n",
    "reverse_string_to_word(string)"
   ]
  },
  {
   "cell_type": "markdown",
   "id": "a98d98f3",
   "metadata": {},
   "source": [
    "### 10.Reverse the string without slicing"
   ]
  },
  {
   "cell_type": "code",
   "execution_count": 92,
   "id": "f9ec8cb3",
   "metadata": {},
   "outputs": [
    {
     "name": "stdout",
     "output_type": "stream",
     "text": [
      "Enter the string is :Radha Rani\n",
      "Original string is ------> ['Radha', 'Rani'] <--------- and reverse string is without slicing ------>   Rani Radha\n"
     ]
    }
   ],
   "source": [
    "def reverse_string_word_without_slicing(string):\n",
    "    \n",
    "    string.split()\n",
    "    \n",
    "    i = len(string) - 1\n",
    "    \n",
    "    string1 = ' '\n",
    "    \n",
    "    while i >= 0:\n",
    "        \n",
    "        string1 = string1 + ' ' +  string[i]\n",
    "        \n",
    "        i = i - 1\n",
    "        \n",
    "        \n",
    "    print('Reverse string is without slicing ------>' , string1)\n",
    "    \n",
    "    \n",
    "string = input('Enter the string is :' , )   \n",
    "reverse_string_without_slicing(string)"
   ]
  },
  {
   "cell_type": "code",
   "execution_count": 93,
   "id": "13592f55",
   "metadata": {},
   "outputs": [
    {
     "name": "stdout",
     "output_type": "stream",
     "text": [
      "Enter the string :Radha Rani\n",
      "  Rani Radha\n"
     ]
    }
   ],
   "source": [
    "def reverse_string(string):\n",
    "    \n",
    "    string1 = ' '\n",
    "    \n",
    "    string = string.split(' ')\n",
    "    \n",
    "    i = len(string) - 1\n",
    "    \n",
    "    \n",
    "    while i >= 0:\n",
    "        \n",
    "        string1 = string1 + ' ' + string[i]\n",
    "        \n",
    "        i = i - 1\n",
    "        \n",
    "        \n",
    "    print(string1)\n",
    "    \n",
    "string = input('Enter the string :')\n",
    "reverse_string(string)    "
   ]
  },
  {
   "cell_type": "markdown",
   "id": "13f7e5cf",
   "metadata": {},
   "source": [
    "#### 11.Reverse Internal containt of string"
   ]
  },
  {
   "cell_type": "code",
   "execution_count": 96,
   "id": "c36dc88b",
   "metadata": {},
   "outputs": [
    {
     "name": "stdout",
     "output_type": "stream",
     "text": [
      "Enter the string :Radha Rani\n",
      "   ahdaR  inaR\n"
     ]
    }
   ],
   "source": [
    "def internal_reverse(string):\n",
    "    \n",
    "    string1 = ' '\n",
    "    \n",
    "    for i in string.split():\n",
    "        \n",
    "        \n",
    "        word = ' '\n",
    "        \n",
    "        \n",
    "        for j in i[::-1] :\n",
    "            \n",
    "            \n",
    "            word = word + j\n",
    "            \n",
    "        string1 = string1 + ' ' + word\n",
    "        \n",
    "    print(string1)\n",
    "    \n",
    "    \n",
    "string = input('Enter the string :')\n",
    "internal_reverse(string)\n",
    "            "
   ]
  },
  {
   "cell_type": "markdown",
   "id": "c7d6e126",
   "metadata": {},
   "source": [
    "### 12. Check Anagrams"
   ]
  },
  {
   "cell_type": "code",
   "execution_count": 110,
   "id": "67fe6141",
   "metadata": {},
   "outputs": [
    {
     "name": "stdout",
     "output_type": "stream",
     "text": [
      "Enter the string1 :krishna\n",
      "Enter the string2 :nashikr\n",
      "Both krishna and nashikr are anagrams\n"
     ]
    }
   ],
   "source": [
    "def check_anagrams(string1 , string2):\n",
    "    \n",
    "    if sorted(string1) == sorted(string2):\n",
    "        \n",
    "        print('Both' , string1 , 'and' , string2 , 'are anagrams')\n",
    "        \n",
    "    else:\n",
    "        \n",
    "        print('Both', string1 , 'and' , string2 , 'are not anagrams')\n",
    "        \n",
    "        \n",
    "string1 = input('Enter the string1 :').lower()\n",
    "string2 = input('Enter the string2 :').lower()\n",
    "check_anagrams(string1 , string2)"
   ]
  },
  {
   "cell_type": "markdown",
   "id": "fb4c0175",
   "metadata": {},
   "source": [
    "#### 13.reverse string internally (characterwise) (without slicing)"
   ]
  },
  {
   "cell_type": "code",
   "execution_count": 113,
   "id": "f0c5fa05",
   "metadata": {},
   "outputs": [
    {
     "name": "stdout",
     "output_type": "stream",
     "text": [
      "Enter the string :krishna\n",
      " anhsirk\n"
     ]
    }
   ],
   "source": [
    "def reverse_string_characters(string):\n",
    "    \n",
    "    string1 = ' '\n",
    "    \n",
    "    for i in range(len(string) - 1 ,  -1 , -1):\n",
    "        \n",
    "        \n",
    "        string1 = string1 + string[i]\n",
    "        \n",
    "    print(string1)\n",
    "   \n",
    "string1 = input('Enter the string :')\n",
    "reverse_string_characters(string1)"
   ]
  },
  {
   "cell_type": "markdown",
   "id": "bd2177f5",
   "metadata": {},
   "source": [
    "#### or"
   ]
  },
  {
   "cell_type": "markdown",
   "id": "dcf9ff31",
   "metadata": {},
   "source": [
    "#### Reverse string with slicing"
   ]
  },
  {
   "cell_type": "code",
   "execution_count": 114,
   "id": "a89141e6",
   "metadata": {},
   "outputs": [
    {
     "name": "stdout",
     "output_type": "stream",
     "text": [
      "Enter the string :Radha krishna\n",
      "original string is -----> Radha krishna <----- and reverse string is ---> anhsirk ahdaR\n"
     ]
    }
   ],
   "source": [
    "def reverse_string(string):\n",
    "    \n",
    "    string1 = string[::-1]\n",
    "    print('original string is ----->', string , '<----- and reverse string is --->', string1)\n",
    "    \n",
    "    \n",
    "    \n",
    "string  = input('Enter the string :' ,)\n",
    "reverse_string(string)"
   ]
  },
  {
   "cell_type": "markdown",
   "id": "8aff067e",
   "metadata": {},
   "source": [
    "#### 13.Count vowels and consonants in a string."
   ]
  },
  {
   "cell_type": "code",
   "execution_count": 120,
   "id": "538b9ef4",
   "metadata": {},
   "outputs": [
    {
     "name": "stdout",
     "output_type": "stream",
     "text": [
      "Enter the string :Radha krishna\n",
      "Vowels are : 4\n",
      "Consonents are : 8\n"
     ]
    }
   ],
   "source": [
    "def count_vowels_consonents(string):\n",
    "    \n",
    "    count_vowels = 0\n",
    "    count_consonents = 0\n",
    "    \n",
    "    for i in string:\n",
    "        \n",
    "        if i in ('a','e','i','o','u','A','E','I','o','U'):\n",
    "            \n",
    "            count_vowels = count_vowels + 1\n",
    "            \n",
    "        elif i.isalpha() == True:\n",
    "            \n",
    "            count_consonents = count_consonents + 1\n",
    "            \n",
    "    print('Vowels are :' , count_vowels)\n",
    "    print('Consonents are :' , count_consonents)\n",
    "    \n",
    "string = input('Enter the string :')\n",
    "count_vowels_consonents(string)"
   ]
  },
  {
   "cell_type": "markdown",
   "id": "3bd6bd08",
   "metadata": {},
   "source": [
    "#### or "
   ]
  },
  {
   "cell_type": "code",
   "execution_count": 124,
   "id": "0a416944",
   "metadata": {},
   "outputs": [
    {
     "name": "stdout",
     "output_type": "stream",
     "text": [
      "Enter the string :Radhee krishna\n",
      "count of vowels are : 5\n",
      "count of consonents are : 8\n"
     ]
    }
   ],
   "source": [
    "def check_vowels_consonents(string):\n",
    "    \n",
    "    count_vowels = 0\n",
    "    count_consonents = 0\n",
    "    \n",
    "    for i in string:\n",
    "        \n",
    "        if i in ('a' ,'e','i','o','u'):\n",
    "            \n",
    "            count_vowels = count_vowels + 1\n",
    "            \n",
    "        elif i.isalpha() == True:\n",
    "            \n",
    "            count_consonents = count_consonents + 1\n",
    "            \n",
    "    print('count of vowels are :' , count_vowels)\n",
    "    print('count of consonents are :' , count_consonents)\n",
    "    \n",
    "    \n",
    "string = input('Enter the string :').lower()\n",
    "check_vowels_consonents(string)"
   ]
  },
  {
   "cell_type": "markdown",
   "id": "e154435f",
   "metadata": {},
   "source": [
    "### 14.Find duplicate characters in a string"
   ]
  },
  {
   "cell_type": "code",
   "execution_count": 132,
   "id": "6f87c6ad",
   "metadata": {},
   "outputs": [
    {
     "name": "stdout",
     "output_type": "stream",
     "text": [
      "Enter the string:Radha\n",
      "r is not duplicate\n",
      "a is not duplicate\n",
      "d is not duplicate\n",
      "h is not duplicate\n",
      "a is duplicate\n"
     ]
    }
   ],
   "source": [
    "def duplicate_characters(string):\n",
    "    \n",
    "    l = []\n",
    "    \n",
    "    for i in string:\n",
    "        \n",
    "        if i.isalpha():\n",
    "            \n",
    "            if i not in l :\n",
    "                \n",
    "                print(i , 'is not duplicate')\n",
    "                l.append(i)\n",
    "            \n",
    "            else:\n",
    "                \n",
    "                print(i , 'is duplicate')\n",
    "string = input('Enter the string:').lower()\n",
    "duplicate_characters(string)"
   ]
  },
  {
   "cell_type": "markdown",
   "id": "17993ad1",
   "metadata": {},
   "source": [
    "### 15.Remove all non-alphabetic characters from a string."
   ]
  },
  {
   "cell_type": "code",
   "execution_count": 136,
   "id": "b682d105",
   "metadata": {},
   "outputs": [
    {
     "name": "stdout",
     "output_type": "stream",
     "text": [
      "Enter the string :Radh@12345@3$%^&**a!@#$%^&*(\n",
      "Original string is ---> Radh@12345@3$%^&**a!@#$%^&*( <--- and after removing non alphabates are <----  Radha\n"
     ]
    }
   ],
   "source": [
    "def remove_non_alphabetic_characters(string):\n",
    "    \n",
    "    string1 = ' '\n",
    "    \n",
    "    for i in string:\n",
    "        \n",
    "        if i.isalpha() :\n",
    "            \n",
    "            string1 = string1 + i\n",
    "            \n",
    "    print('Original string is --->' , string , '<--- and after removing non alphabates are <----', string1)\n",
    "    \n",
    "string = input('Enter the string :')\n",
    "remove_non_alphabetic_characters(string)"
   ]
  },
  {
   "cell_type": "markdown",
   "id": "3f771de8",
   "metadata": {},
   "source": [
    "#### 16.Capitalize the first letter of each word in a sentence (title case)."
   ]
  },
  {
   "cell_type": "code",
   "execution_count": 142,
   "id": "9b442ba4",
   "metadata": {},
   "outputs": [
    {
     "name": "stdout",
     "output_type": "stream",
     "text": [
      "Enter the string :radha krishna\n",
      "Radha Krishna\n"
     ]
    }
   ],
   "source": [
    "def Title(string):\n",
    "    \n",
    "    string1 = string.title()\n",
    "    print(string1)\n",
    "    \n",
    "string = input('Enter the string :')\n",
    "Title(string)"
   ]
  },
  {
   "cell_type": "markdown",
   "id": "ddb26d5a",
   "metadata": {},
   "source": [
    "#### 17.Check if a number is a palindrome (numeric palindrome)."
   ]
  },
  {
   "cell_type": "code",
   "execution_count": 150,
   "id": "5e5c0f3e",
   "metadata": {},
   "outputs": [
    {
     "name": "stdout",
     "output_type": "stream",
     "text": [
      "Enter the number :121\n",
      "121 Is palindrome\n"
     ]
    }
   ],
   "source": [
    "def check_number_palindrome(number):\n",
    "    \n",
    "    if number[::] == number[::-1]:\n",
    "        \n",
    "        number = int(number)\n",
    "        \n",
    "        print(number , 'Is palindrome')\n",
    "        \n",
    "    else:\n",
    "        \n",
    "        number = int(number)\n",
    "        print(number , 'Is not palindrome')\n",
    "        \n",
    "\n",
    "number= input('Enter the number :')\n",
    "check_number_palindrome(number)"
   ]
  },
  {
   "cell_type": "markdown",
   "id": "55caca8e",
   "metadata": {},
   "source": [
    "#### 18.Swap two numbers without using a third variable."
   ]
  },
  {
   "cell_type": "code",
   "execution_count": 161,
   "id": "36eb1a52",
   "metadata": {},
   "outputs": [
    {
     "name": "stdout",
     "output_type": "stream",
     "text": [
      "Enter the number 1 (a) : 10\n",
      "Enter the number 2 (b) : 20\n",
      "****************************************************************************************************\n",
      "Before swapping is : \n",
      "The first number is (a) : 10\n",
      "The second number is (b) : 20\n",
      "********************************************************************************\n",
      "After swapping is : \n",
      "The first number is (a) : 20\n",
      "The second number is (b) : 10\n"
     ]
    }
   ],
   "source": [
    "def swap_numbers(a , b):\n",
    "    \n",
    "    print('*****' * 20)\n",
    "    \n",
    "    print('Before swapping is : ')\n",
    "    print('The first number is (a) :' , a)\n",
    "    print('The second number is (b) :' , b)\n",
    "    \n",
    "    a , b = b , a\n",
    "    \n",
    "    print('****' * 20)\n",
    "    \n",
    "    \n",
    "    print('After swapping is : ')\n",
    "    print('The first number is (a) :' , a)\n",
    "    print('The second number is (b) :' , b)\n",
    "    \n",
    "    \n",
    "a = int(input('Enter the number 1 (a) : '))\n",
    "b = int(input('Enter the number 2 (b) : '))\n",
    "swap_numbers(a , b)"
   ]
  },
  {
   "cell_type": "markdown",
   "id": "5e6ca778",
   "metadata": {},
   "source": [
    "#### 19.Print all prime numbers in a range."
   ]
  },
  {
   "cell_type": "code",
   "execution_count": 163,
   "id": "f5c24dce",
   "metadata": {},
   "outputs": [
    {
     "name": "stdout",
     "output_type": "stream",
     "text": [
      "Enter the number :100\n",
      "1 is not prime as well as consecutive number\n",
      "2 is prime number\n",
      "3 is prime number\n",
      "4 is not prime number\n",
      "5 is prime number\n",
      "6 is not prime number\n",
      "7 is prime number\n",
      "8 is not prime number\n",
      "9 is not prime number\n",
      "10 is not prime number\n",
      "11 is prime number\n",
      "12 is not prime number\n",
      "13 is prime number\n",
      "14 is not prime number\n",
      "15 is not prime number\n",
      "16 is not prime number\n",
      "17 is prime number\n",
      "18 is not prime number\n",
      "19 is prime number\n",
      "20 is not prime number\n",
      "21 is not prime number\n",
      "22 is not prime number\n",
      "23 is prime number\n",
      "24 is not prime number\n",
      "25 is not prime number\n",
      "26 is not prime number\n",
      "27 is not prime number\n",
      "28 is not prime number\n",
      "29 is prime number\n",
      "30 is not prime number\n",
      "31 is prime number\n",
      "32 is not prime number\n",
      "33 is not prime number\n",
      "34 is not prime number\n",
      "35 is not prime number\n",
      "36 is not prime number\n",
      "37 is prime number\n",
      "38 is not prime number\n",
      "39 is not prime number\n",
      "40 is not prime number\n",
      "41 is prime number\n",
      "42 is not prime number\n",
      "43 is prime number\n",
      "44 is not prime number\n",
      "45 is not prime number\n",
      "46 is not prime number\n",
      "47 is prime number\n",
      "48 is not prime number\n",
      "49 is not prime number\n",
      "50 is not prime number\n",
      "51 is not prime number\n",
      "52 is not prime number\n",
      "53 is prime number\n",
      "54 is not prime number\n",
      "55 is not prime number\n",
      "56 is not prime number\n",
      "57 is not prime number\n",
      "58 is not prime number\n",
      "59 is prime number\n",
      "60 is not prime number\n",
      "61 is prime number\n",
      "62 is not prime number\n",
      "63 is not prime number\n",
      "64 is not prime number\n",
      "65 is not prime number\n",
      "66 is not prime number\n",
      "67 is prime number\n",
      "68 is not prime number\n",
      "69 is not prime number\n",
      "70 is not prime number\n",
      "71 is prime number\n",
      "72 is not prime number\n",
      "73 is prime number\n",
      "74 is not prime number\n",
      "75 is not prime number\n",
      "76 is not prime number\n",
      "77 is not prime number\n",
      "78 is not prime number\n",
      "79 is prime number\n",
      "80 is not prime number\n",
      "81 is not prime number\n",
      "82 is not prime number\n",
      "83 is prime number\n",
      "84 is not prime number\n",
      "85 is not prime number\n",
      "86 is not prime number\n",
      "87 is not prime number\n",
      "88 is not prime number\n",
      "89 is prime number\n",
      "90 is not prime number\n",
      "91 is not prime number\n",
      "92 is not prime number\n",
      "93 is not prime number\n",
      "94 is not prime number\n",
      "95 is not prime number\n",
      "96 is not prime number\n",
      "97 is prime number\n",
      "98 is not prime number\n",
      "99 is not prime number\n"
     ]
    }
   ],
   "source": [
    "def check_prime_numbers_in_range(n):\n",
    "    \n",
    "    for i in range(1 , n):\n",
    "        \n",
    "        if i == 1:\n",
    "            \n",
    "            print(i , 'is not prime as well as consecutive number')\n",
    "            \n",
    "        else :\n",
    "            \n",
    "            for j in range(2 , i):\n",
    "                \n",
    "                if i % j == 0 :\n",
    "                    \n",
    "                    print(i , 'is not prime number')\n",
    "                    break\n",
    "                \n",
    "            else:\n",
    "                \n",
    "                print(i , 'is prime number')\n",
    "            \n",
    "n = int(input('Enter the number :'))\n",
    "check_prime_numbers_in_range(n)\n",
    "        \n",
    "        \n",
    "        \n",
    "        "
   ]
  },
  {
   "cell_type": "markdown",
   "id": "5e7af6bb",
   "metadata": {},
   "source": [
    "### count prime numbers in range"
   ]
  },
  {
   "cell_type": "markdown",
   "id": "15065868",
   "metadata": {},
   "source": [
    "### 20. Check palindrome without slcing"
   ]
  },
  {
   "cell_type": "code",
   "execution_count": 177,
   "id": "8e8b516f",
   "metadata": {},
   "outputs": [
    {
     "name": "stdout",
     "output_type": "stream",
     "text": [
      "Enter the string :radar\n",
      "radar and radar both are palindrome\n"
     ]
    }
   ],
   "source": [
    "\n",
    "def palindrome(string):\n",
    "    \n",
    "    string1 = ''\n",
    "    \n",
    "    for i in range(len(string) -1 , -1 , -1):\n",
    "        \n",
    "        string1 = string1 + string[i]\n",
    "        \n",
    "        \n",
    "        \n",
    "    if string == string1 :\n",
    "        \n",
    "        print(string , 'and' , string1 , 'both are palindrome')\n",
    "        \n",
    "    else:\n",
    "\n",
    "        print(string , 'and' , string1 , 'both are not palindrome')\n",
    "        \n",
    "        \n",
    "string = input('Enter the string :').lower()\n",
    "palindrome(string)"
   ]
  },
  {
   "cell_type": "markdown",
   "id": "7eccd29a",
   "metadata": {},
   "source": [
    "#### 21.Count the prime numbers in range"
   ]
  },
  {
   "cell_type": "code",
   "execution_count": 179,
   "id": "274b0524",
   "metadata": {},
   "outputs": [
    {
     "name": "stdout",
     "output_type": "stream",
     "text": [
      "Enter the number :100\n",
      "count of prime numbers are : 25\n"
     ]
    }
   ],
   "source": [
    "def count_prime_numbers_in_range(n):\n",
    "    \n",
    "    count_not_prime = 0\n",
    "    count_prime = 0\n",
    "    \n",
    "    for i in range(1 , n):\n",
    "        \n",
    "        if i == 1:\n",
    "            \n",
    "            continue\n",
    "            \n",
    "        else:\n",
    "            \n",
    "            for j in range(2 , i):\n",
    "                \n",
    "                if i % j == 0 :\n",
    "                    \n",
    "                    count_not_prime = count_not_prime + 1\n",
    "                    break\n",
    "                    \n",
    "            else:\n",
    "                \n",
    "                count_prime = count_prime + 1\n",
    "                \n",
    "    print('count of prime numbers are :' , count_prime)\n",
    "\n",
    "n = int(input('Enter the number :'))\n",
    "count_prime_numbers_in_range(n)"
   ]
  },
  {
   "cell_type": "markdown",
   "id": "7254d2e8",
   "metadata": {},
   "source": [
    "### 22.Check if a number is Armstrong"
   ]
  },
  {
   "cell_type": "code",
   "execution_count": 183,
   "id": "5807e6a1",
   "metadata": {},
   "outputs": [
    {
     "name": "stdout",
     "output_type": "stream",
     "text": [
      "Enter the number:153\n",
      "153 is armstrong number\n"
     ]
    }
   ],
   "source": [
    "def Armstrong(n):\n",
    "    \n",
    "    temp = n         # initialization\n",
    "    sum_ = 0\n",
    "    power = len(str(n))\n",
    "    \n",
    "    while temp > 0 :   # condition\n",
    "        \n",
    "        remainder = temp % 10 \n",
    "        sum_ = sum_ + remainder ** power\n",
    "        temp = temp // 10                              # decrement\n",
    "        \n",
    "    if sum_ == n :\n",
    "        \n",
    "        print(n , 'is armstrong number')\n",
    "    \n",
    "    else:\n",
    "        \n",
    "        print(n , 'is not arsmtrong number')\n",
    "        \n",
    "n = int(input('Enter the number:'))\n",
    "Armstrong(n)"
   ]
  },
  {
   "cell_type": "markdown",
   "id": "21a05a8d",
   "metadata": {},
   "source": [
    "### 23.Sum of digits in a number."
   ]
  },
  {
   "cell_type": "code",
   "execution_count": 185,
   "id": "74fd2688",
   "metadata": {},
   "outputs": [
    {
     "name": "stdout",
     "output_type": "stream",
     "text": [
      "Enter the number :152\n",
      "sum is : 8\n"
     ]
    }
   ],
   "source": [
    "def sum_digits(number):\n",
    "    \n",
    "    sum_ = 0\n",
    "    \n",
    "    while number > 0 :\n",
    "        \n",
    "        \n",
    "        remainder = number % 10 \n",
    "        sum_ = sum_ + remainder\n",
    "        number = number // 10\n",
    "        \n",
    "        \n",
    "    print('sum is :' , sum_)\n",
    "    \n",
    "    \n",
    "number = int(input('Enter the number :'))\n",
    "sum_digits(number)    "
   ]
  },
  {
   "cell_type": "markdown",
   "id": "bfaf597e",
   "metadata": {},
   "source": [
    "#### 24.Find GCD and LCM of two numbers."
   ]
  },
  {
   "cell_type": "code",
   "execution_count": 188,
   "id": "3c3ecf08",
   "metadata": {},
   "outputs": [
    {
     "name": "stdout",
     "output_type": "stream",
     "text": [
      "Enter the first number :12\n",
      "Enter the second number :18\n",
      "GCD of  12 and 18 are : 6\n",
      "lcm of  12 and 18 are : 36\n"
     ]
    }
   ],
   "source": [
    "import math\n",
    "\n",
    "def find_gcd(number1 , number):\n",
    "    \n",
    "    gcd =  math.gcd(number1 , number2)\n",
    "    \n",
    "    return gcd\n",
    "\n",
    "def find_lcm(number1 , number2):\n",
    "    \n",
    "    gcd = find_gcd(number1 , number2)\n",
    "    \n",
    "    lcm = (number1 * number2) // gcd\n",
    "    \n",
    "    print('GCD of ' , number1 , 'and' , number2 , 'are :' , gcd)\n",
    "    print('lcm of ' , number1 , 'and' , number2 , 'are :' , lcm)\n",
    "    \n",
    "\n",
    "\n",
    "    \n",
    "number1 = int(input('Enter the first number :'))\n",
    "number2 = int(input('Enter the second number :'))\n",
    "find_lcm(number1 , number2)"
   ]
  },
  {
   "cell_type": "code",
   "execution_count": null,
   "id": "c1f53071",
   "metadata": {},
   "outputs": [],
   "source": []
  }
 ],
 "metadata": {
  "kernelspec": {
   "display_name": "Python 3 (ipykernel)",
   "language": "python",
   "name": "python3"
  },
  "language_info": {
   "codemirror_mode": {
    "name": "ipython",
    "version": 3
   },
   "file_extension": ".py",
   "mimetype": "text/x-python",
   "name": "python",
   "nbconvert_exporter": "python",
   "pygments_lexer": "ipython3",
   "version": "3.11.4"
  }
 },
 "nbformat": 4,
 "nbformat_minor": 5
}
