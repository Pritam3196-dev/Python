{
 "cells": [
  {
   "cell_type": "markdown",
   "id": "d58eb3ce",
   "metadata": {},
   "source": [
    "# Pandas"
   ]
  },
  {
   "cell_type": "code",
   "execution_count": 1,
   "id": "01d2c571",
   "metadata": {},
   "outputs": [],
   "source": [
    "# What is Pandas\n",
    "# What is a Series\n",
    "# Attributes on a Series\n",
    "# What is a Dataframe\n",
    "# Creating a dataframe\n",
    "# Attributes on a Dataframe\n",
    "# Importing a CSV and Excel file\n",
    "# Functions on a dataframe\n",
    "# Data Filteration (gropupby, merge, pivot table)\n",
    "# Data Transformation"
   ]
  },
  {
   "cell_type": "markdown",
   "id": "065194a0",
   "metadata": {},
   "source": [
    "# Pandas"
   ]
  },
  {
   "cell_type": "code",
   "execution_count": 2,
   "id": "36d711ea",
   "metadata": {},
   "outputs": [],
   "source": [
    "# - It stands for Panel Data.\n",
    "# - Pandas is a Python library that is used for data manipulation like Excel"
   ]
  },
  {
   "cell_type": "code",
   "execution_count": 4,
   "id": "a9a60f4c",
   "metadata": {},
   "outputs": [],
   "source": [
    "# In Pandas we works upon two types of objects\n",
    "# - 1- Series\n",
    "# - 2- Dataframe"
   ]
  },
  {
   "cell_type": "code",
   "execution_count": 7,
   "id": "b0ede234",
   "metadata": {},
   "outputs": [],
   "source": [
    "import pandas as pd"
   ]
  },
  {
   "cell_type": "markdown",
   "id": "102af45c",
   "metadata": {},
   "source": [
    "# Version"
   ]
  },
  {
   "cell_type": "code",
   "execution_count": 9,
   "id": "5978ad69",
   "metadata": {},
   "outputs": [
    {
     "data": {
      "text/plain": [
       "'1.5.3'"
      ]
     },
     "execution_count": 9,
     "metadata": {},
     "output_type": "execute_result"
    }
   ],
   "source": [
    "pd.__version__"
   ]
  },
  {
   "cell_type": "code",
   "execution_count": 11,
   "id": "497bb383",
   "metadata": {},
   "outputs": [],
   "source": [
    "import numpy as np"
   ]
  },
  {
   "cell_type": "markdown",
   "id": "7b086365",
   "metadata": {},
   "source": [
    "# Series"
   ]
  },
  {
   "cell_type": "code",
   "execution_count": 6,
   "id": "d9fd8c12",
   "metadata": {},
   "outputs": [],
   "source": [
    "# - It is like a 1-D array structure.\n",
    "# - A Series can be considered as a column from a table like Excel table\n",
    "# - A Series does not have any header.\n",
    "# - When we print a Series, it shows indexes and values"
   ]
  },
  {
   "cell_type": "markdown",
   "id": "293244bf",
   "metadata": {},
   "source": [
    "# How to create a Series"
   ]
  },
  {
   "cell_type": "code",
   "execution_count": 10,
   "id": "e88b4d06",
   "metadata": {},
   "outputs": [],
   "source": [
    "# pd.Series(array/list/tuple/dictionary...etc.)"
   ]
  },
  {
   "cell_type": "markdown",
   "id": "a99f5668",
   "metadata": {},
   "source": [
    "# Creating a Series from a list"
   ]
  },
  {
   "cell_type": "code",
   "execution_count": 13,
   "id": "25de6ba9",
   "metadata": {},
   "outputs": [
    {
     "data": {
      "text/plain": [
       "0    10\n",
       "1    20\n",
       "2    30\n",
       "3    40\n",
       "4    50\n",
       "dtype: int64"
      ]
     },
     "execution_count": 13,
     "metadata": {},
     "output_type": "execute_result"
    }
   ],
   "source": [
    "lst=[10,20,30,40,50]\n",
    "\n",
    "num_s=pd.Series(lst)\n",
    "num_s"
   ]
  },
  {
   "cell_type": "code",
   "execution_count": 14,
   "id": "b4596ef2",
   "metadata": {},
   "outputs": [
    {
     "name": "stdout",
     "output_type": "stream",
     "text": [
      "<class 'pandas.core.series.Series'>\n"
     ]
    }
   ],
   "source": [
    "print(type(num_s))"
   ]
  },
  {
   "cell_type": "code",
   "execution_count": 16,
   "id": "53931723",
   "metadata": {},
   "outputs": [
    {
     "name": "stdout",
     "output_type": "stream",
     "text": [
      "0      Tanmay\n",
      "1      Sanjay\n",
      "2      Ambika\n",
      "3         Ebi\n",
      "4    Prajakta\n",
      "dtype: object <class 'pandas.core.series.Series'>\n"
     ]
    }
   ],
   "source": [
    "lst=['Tanmay','Sanjay','Ambika','Ebi','Prajakta']\n",
    "\n",
    "names=pd.Series(lst)\n",
    "print(names,type(names))"
   ]
  },
  {
   "cell_type": "markdown",
   "id": "97355d80",
   "metadata": {},
   "source": [
    "# Creating a Series using Dictionary"
   ]
  },
  {
   "cell_type": "code",
   "execution_count": 17,
   "id": "efc06d9d",
   "metadata": {},
   "outputs": [],
   "source": [
    "# - When we pass a dictionary to pd.Series() then \n",
    "# - The keys of the dictionary become the indexes and the values of the dictionary become the values in the Series"
   ]
  },
  {
   "cell_type": "code",
   "execution_count": 19,
   "id": "89eabad4",
   "metadata": {},
   "outputs": [
    {
     "data": {
      "text/plain": [
       "{'Name': 'Shreya', 'Age': 22, 'City': 'Pune', 'Company': 'Infosys'}"
      ]
     },
     "execution_count": 19,
     "metadata": {},
     "output_type": "execute_result"
    }
   ],
   "source": [
    "d={'Name':'Shreya','Age':22,'City':'Pune',\"Company\":'Infosys'}\n",
    "d"
   ]
  },
  {
   "cell_type": "code",
   "execution_count": 21,
   "id": "a42000f7",
   "metadata": {},
   "outputs": [
    {
     "data": {
      "text/plain": [
       "Name        Shreya\n",
       "Age             22\n",
       "City          Pune\n",
       "Company    Infosys\n",
       "dtype: object"
      ]
     },
     "execution_count": 21,
     "metadata": {},
     "output_type": "execute_result"
    }
   ],
   "source": [
    "emp=pd.Series(d)\n",
    "emp"
   ]
  },
  {
   "cell_type": "code",
   "execution_count": 22,
   "id": "b3a061d6",
   "metadata": {},
   "outputs": [
    {
     "name": "stdout",
     "output_type": "stream",
     "text": [
      "<class 'pandas.core.series.Series'>\n"
     ]
    }
   ],
   "source": [
    "print(type(emp))"
   ]
  },
  {
   "cell_type": "markdown",
   "id": "c8470eee",
   "metadata": {},
   "source": [
    "# Attributes on  a Series"
   ]
  },
  {
   "cell_type": "code",
   "execution_count": 23,
   "id": "f48b00d4",
   "metadata": {},
   "outputs": [],
   "source": [
    "# index\n",
    "# values\n",
    "# size\n",
    "# shape\n",
    "# ndim\n",
    "# dtype\n",
    "# name"
   ]
  },
  {
   "cell_type": "markdown",
   "id": "13002763",
   "metadata": {},
   "source": [
    "### index"
   ]
  },
  {
   "cell_type": "code",
   "execution_count": 24,
   "id": "75259ae3",
   "metadata": {},
   "outputs": [],
   "source": [
    "# - In Series we have two types of indexes.\n",
    "# - The first are the implicit indexes (Python defined)\n",
    "# - The second are the explicit indexes (User defined) also known as labels\n",
    "\n",
    "# - In case of implicit indexes, the index attribute returns RangeIndex object that contains the start and stop.\n",
    "# - In case of explicit indexes, the index attribute returns the Index object that contsins a list of indxees"
   ]
  },
  {
   "cell_type": "code",
   "execution_count": 25,
   "id": "fedaebeb",
   "metadata": {},
   "outputs": [
    {
     "data": {
      "text/plain": [
       "0    10\n",
       "1    20\n",
       "2    30\n",
       "3    40\n",
       "4    50\n",
       "dtype: int64"
      ]
     },
     "execution_count": 25,
     "metadata": {},
     "output_type": "execute_result"
    }
   ],
   "source": [
    "num_s"
   ]
  },
  {
   "cell_type": "code",
   "execution_count": 26,
   "id": "048a4c1b",
   "metadata": {},
   "outputs": [
    {
     "data": {
      "text/plain": [
       "RangeIndex(start=0, stop=5, step=1)"
      ]
     },
     "execution_count": 26,
     "metadata": {},
     "output_type": "execute_result"
    }
   ],
   "source": [
    "num_s.index"
   ]
  },
  {
   "cell_type": "code",
   "execution_count": 27,
   "id": "1e26d37b",
   "metadata": {},
   "outputs": [
    {
     "data": {
      "text/plain": [
       "Name        Shreya\n",
       "Age             22\n",
       "City          Pune\n",
       "Company    Infosys\n",
       "dtype: object"
      ]
     },
     "execution_count": 27,
     "metadata": {},
     "output_type": "execute_result"
    }
   ],
   "source": [
    "emp"
   ]
  },
  {
   "cell_type": "code",
   "execution_count": 28,
   "id": "281adbe8",
   "metadata": {},
   "outputs": [
    {
     "data": {
      "text/plain": [
       "Index(['Name', 'Age', 'City', 'Company'], dtype='object')"
      ]
     },
     "execution_count": 28,
     "metadata": {},
     "output_type": "execute_result"
    }
   ],
   "source": [
    "emp.index"
   ]
  },
  {
   "cell_type": "markdown",
   "id": "088b7c8b",
   "metadata": {},
   "source": [
    "### values"
   ]
  },
  {
   "cell_type": "code",
   "execution_count": 29,
   "id": "cf967c49",
   "metadata": {},
   "outputs": [],
   "source": [
    "# - It returns an array that contsins the values of the Series."
   ]
  },
  {
   "cell_type": "code",
   "execution_count": 30,
   "id": "47b00e26",
   "metadata": {},
   "outputs": [
    {
     "data": {
      "text/plain": [
       "0    10\n",
       "1    20\n",
       "2    30\n",
       "3    40\n",
       "4    50\n",
       "dtype: int64"
      ]
     },
     "execution_count": 30,
     "metadata": {},
     "output_type": "execute_result"
    }
   ],
   "source": [
    "num_s"
   ]
  },
  {
   "cell_type": "code",
   "execution_count": 31,
   "id": "b85678f9",
   "metadata": {},
   "outputs": [
    {
     "data": {
      "text/plain": [
       "array([10, 20, 30, 40, 50], dtype=int64)"
      ]
     },
     "execution_count": 31,
     "metadata": {},
     "output_type": "execute_result"
    }
   ],
   "source": [
    "num_s.values"
   ]
  },
  {
   "cell_type": "code",
   "execution_count": 32,
   "id": "18e9fc99",
   "metadata": {},
   "outputs": [
    {
     "data": {
      "text/plain": [
       "Name        Shreya\n",
       "Age             22\n",
       "City          Pune\n",
       "Company    Infosys\n",
       "dtype: object"
      ]
     },
     "execution_count": 32,
     "metadata": {},
     "output_type": "execute_result"
    }
   ],
   "source": [
    "emp"
   ]
  },
  {
   "cell_type": "code",
   "execution_count": 33,
   "id": "a1786de8",
   "metadata": {},
   "outputs": [
    {
     "data": {
      "text/plain": [
       "array(['Shreya', 22, 'Pune', 'Infosys'], dtype=object)"
      ]
     },
     "execution_count": 33,
     "metadata": {},
     "output_type": "execute_result"
    }
   ],
   "source": [
    "emp.values"
   ]
  },
  {
   "cell_type": "markdown",
   "id": "83f51dbe",
   "metadata": {},
   "source": [
    "### dtype"
   ]
  },
  {
   "cell_type": "code",
   "execution_count": 34,
   "id": "e0658714",
   "metadata": {},
   "outputs": [],
   "source": [
    "# - It retrurns the data type of the elements that the Series contains."
   ]
  },
  {
   "cell_type": "code",
   "execution_count": 35,
   "id": "4edf8fdc",
   "metadata": {},
   "outputs": [
    {
     "data": {
      "text/plain": [
       "0    10\n",
       "1    20\n",
       "2    30\n",
       "3    40\n",
       "4    50\n",
       "dtype: int64"
      ]
     },
     "execution_count": 35,
     "metadata": {},
     "output_type": "execute_result"
    }
   ],
   "source": [
    "num_s"
   ]
  },
  {
   "cell_type": "code",
   "execution_count": 36,
   "id": "53fa453d",
   "metadata": {},
   "outputs": [
    {
     "data": {
      "text/plain": [
       "dtype('int64')"
      ]
     },
     "execution_count": 36,
     "metadata": {},
     "output_type": "execute_result"
    }
   ],
   "source": [
    "num_s.dtype"
   ]
  },
  {
   "cell_type": "code",
   "execution_count": 37,
   "id": "c96d8113",
   "metadata": {},
   "outputs": [
    {
     "data": {
      "text/plain": [
       "0    1.0\n",
       "1    2.0\n",
       "2    3.5\n",
       "3    4.0\n",
       "4    5.0\n",
       "dtype: float64"
      ]
     },
     "execution_count": 37,
     "metadata": {},
     "output_type": "execute_result"
    }
   ],
   "source": [
    "num_s=pd.Series([1,2,3.5,4,5])\n",
    "num_s"
   ]
  },
  {
   "cell_type": "code",
   "execution_count": 38,
   "id": "11373b9e",
   "metadata": {},
   "outputs": [
    {
     "data": {
      "text/plain": [
       "dtype('float64')"
      ]
     },
     "execution_count": 38,
     "metadata": {},
     "output_type": "execute_result"
    }
   ],
   "source": [
    "num_s.dtype"
   ]
  },
  {
   "cell_type": "code",
   "execution_count": 39,
   "id": "2505d7f4",
   "metadata": {},
   "outputs": [
    {
     "data": {
      "text/plain": [
       "0    1.0+0.0j\n",
       "1    2.0+0.0j\n",
       "2    3.5+5.0j\n",
       "3    4.0+0.0j\n",
       "4    5.0+0.0j\n",
       "dtype: complex128"
      ]
     },
     "execution_count": 39,
     "metadata": {},
     "output_type": "execute_result"
    }
   ],
   "source": [
    "num_s=pd.Series([1,2,3.5+5j,4,5])\n",
    "num_s"
   ]
  },
  {
   "cell_type": "code",
   "execution_count": 40,
   "id": "31bb701d",
   "metadata": {},
   "outputs": [
    {
     "data": {
      "text/plain": [
       "dtype('complex128')"
      ]
     },
     "execution_count": 40,
     "metadata": {},
     "output_type": "execute_result"
    }
   ],
   "source": [
    "num_s.dtype"
   ]
  },
  {
   "cell_type": "code",
   "execution_count": 41,
   "id": "a38834e7",
   "metadata": {},
   "outputs": [
    {
     "data": {
      "text/plain": [
       "0      1\n",
       "1      2\n",
       "2    3.5\n",
       "3      4\n",
       "4      5\n",
       "dtype: object"
      ]
     },
     "execution_count": 41,
     "metadata": {},
     "output_type": "execute_result"
    }
   ],
   "source": [
    "num_s=pd.Series([1,2,3.5,'4',5])\n",
    "num_s"
   ]
  },
  {
   "cell_type": "code",
   "execution_count": 42,
   "id": "f24ac19f",
   "metadata": {},
   "outputs": [
    {
     "data": {
      "text/plain": [
       "dtype('O')"
      ]
     },
     "execution_count": 42,
     "metadata": {},
     "output_type": "execute_result"
    }
   ],
   "source": [
    "num_s.dtype"
   ]
  },
  {
   "cell_type": "code",
   "execution_count": 45,
   "id": "ab9d5cd5",
   "metadata": {},
   "outputs": [
    {
     "data": {
      "text/plain": [
       "0       1\n",
       "1       2\n",
       "2    True\n",
       "3     3.5\n",
       "4       4\n",
       "5       5\n",
       "dtype: object"
      ]
     },
     "execution_count": 45,
     "metadata": {},
     "output_type": "execute_result"
    }
   ],
   "source": [
    "num_s=pd.Series([1,2,True,3.5,4,5])\n",
    "num_s"
   ]
  },
  {
   "cell_type": "code",
   "execution_count": 46,
   "id": "c22d9e80",
   "metadata": {},
   "outputs": [
    {
     "data": {
      "text/plain": [
       "dtype('O')"
      ]
     },
     "execution_count": 46,
     "metadata": {},
     "output_type": "execute_result"
    }
   ],
   "source": [
    "num_s.dtype"
   ]
  },
  {
   "cell_type": "code",
   "execution_count": 47,
   "id": "8df3c81d",
   "metadata": {},
   "outputs": [
    {
     "data": {
      "text/plain": [
       "0    1.0\n",
       "1    2.0\n",
       "2    3.5\n",
       "3    4.0\n",
       "4    NaN\n",
       "5    5.0\n",
       "dtype: float64"
      ]
     },
     "execution_count": 47,
     "metadata": {},
     "output_type": "execute_result"
    }
   ],
   "source": [
    "num_s=pd.Series([1,2,3.5,4,None,5])\n",
    "num_s"
   ]
  },
  {
   "cell_type": "code",
   "execution_count": 48,
   "id": "c0a95c7d",
   "metadata": {},
   "outputs": [
    {
     "data": {
      "text/plain": [
       "dtype('float64')"
      ]
     },
     "execution_count": 48,
     "metadata": {},
     "output_type": "execute_result"
    }
   ],
   "source": [
    "num_s.dtype"
   ]
  },
  {
   "cell_type": "code",
   "execution_count": 43,
   "id": "95aebde8",
   "metadata": {},
   "outputs": [],
   "source": [
    "# Numeric- int, float, complex\n",
    "# Non-Numeric- Object"
   ]
  },
  {
   "cell_type": "markdown",
   "id": "ccf8c6e3",
   "metadata": {},
   "source": [
    "### size"
   ]
  },
  {
   "cell_type": "code",
   "execution_count": 49,
   "id": "6cd8bb35",
   "metadata": {},
   "outputs": [],
   "source": [
    "# - It returns the number of elements a Series contains"
   ]
  },
  {
   "cell_type": "code",
   "execution_count": 50,
   "id": "cab2f0c0",
   "metadata": {},
   "outputs": [
    {
     "data": {
      "text/plain": [
       "0    1.0\n",
       "1    2.0\n",
       "2    3.5\n",
       "3    4.0\n",
       "4    NaN\n",
       "5    5.0\n",
       "dtype: float64"
      ]
     },
     "execution_count": 50,
     "metadata": {},
     "output_type": "execute_result"
    }
   ],
   "source": [
    "num_s"
   ]
  },
  {
   "cell_type": "code",
   "execution_count": 51,
   "id": "d79f9974",
   "metadata": {},
   "outputs": [
    {
     "data": {
      "text/plain": [
       "6"
      ]
     },
     "execution_count": 51,
     "metadata": {},
     "output_type": "execute_result"
    }
   ],
   "source": [
    "num_s.size"
   ]
  },
  {
   "cell_type": "code",
   "execution_count": 52,
   "id": "8bebba42",
   "metadata": {},
   "outputs": [
    {
     "data": {
      "text/plain": [
       "6"
      ]
     },
     "execution_count": 52,
     "metadata": {},
     "output_type": "execute_result"
    }
   ],
   "source": [
    "len(num_s)"
   ]
  },
  {
   "cell_type": "markdown",
   "id": "56af8f0c",
   "metadata": {},
   "source": [
    "### ndim"
   ]
  },
  {
   "cell_type": "code",
   "execution_count": 54,
   "id": "89cdfffb",
   "metadata": {},
   "outputs": [],
   "source": [
    "# - It returns the dimension of a Series"
   ]
  },
  {
   "cell_type": "code",
   "execution_count": 55,
   "id": "3bdf4969",
   "metadata": {},
   "outputs": [
    {
     "data": {
      "text/plain": [
       "1"
      ]
     },
     "execution_count": 55,
     "metadata": {},
     "output_type": "execute_result"
    }
   ],
   "source": [
    "num_s.ndim"
   ]
  },
  {
   "cell_type": "markdown",
   "id": "680cfa7b",
   "metadata": {},
   "source": [
    "### shape"
   ]
  },
  {
   "cell_type": "code",
   "execution_count": 56,
   "id": "40739cf8",
   "metadata": {},
   "outputs": [],
   "source": [
    "# - It returns a tuple of single element.\n",
    "# - That element represents the number of items in the Series"
   ]
  },
  {
   "cell_type": "code",
   "execution_count": 57,
   "id": "d06a84ec",
   "metadata": {},
   "outputs": [
    {
     "data": {
      "text/plain": [
       "0    1.0\n",
       "1    2.0\n",
       "2    3.5\n",
       "3    4.0\n",
       "4    NaN\n",
       "5    5.0\n",
       "dtype: float64"
      ]
     },
     "execution_count": 57,
     "metadata": {},
     "output_type": "execute_result"
    }
   ],
   "source": [
    "num_s"
   ]
  },
  {
   "cell_type": "code",
   "execution_count": 58,
   "id": "8efa6295",
   "metadata": {},
   "outputs": [
    {
     "data": {
      "text/plain": [
       "(6,)"
      ]
     },
     "execution_count": 58,
     "metadata": {},
     "output_type": "execute_result"
    }
   ],
   "source": [
    "num_s.shape"
   ]
  },
  {
   "cell_type": "code",
   "execution_count": 59,
   "id": "63e843d3",
   "metadata": {},
   "outputs": [
    {
     "data": {
      "text/plain": [
       "Name        Shreya\n",
       "Age             22\n",
       "City          Pune\n",
       "Company    Infosys\n",
       "dtype: object"
      ]
     },
     "execution_count": 59,
     "metadata": {},
     "output_type": "execute_result"
    }
   ],
   "source": [
    "emp"
   ]
  },
  {
   "cell_type": "code",
   "execution_count": 60,
   "id": "4963c51b",
   "metadata": {},
   "outputs": [
    {
     "data": {
      "text/plain": [
       "(4,)"
      ]
     },
     "execution_count": 60,
     "metadata": {},
     "output_type": "execute_result"
    }
   ],
   "source": [
    "emp.shape"
   ]
  },
  {
   "cell_type": "code",
   "execution_count": 66,
   "id": "e61263a6",
   "metadata": {},
   "outputs": [
    {
     "name": "stdout",
     "output_type": "stream",
     "text": [
      "<class 'tuple'>\n"
     ]
    }
   ],
   "source": [
    "a=(5,)\n",
    "print(type(a))"
   ]
  },
  {
   "cell_type": "code",
   "execution_count": 75,
   "id": "43e2063c",
   "metadata": {},
   "outputs": [
    {
     "name": "stdout",
     "output_type": "stream",
     "text": [
      "(2,) <class 'tuple'>\n"
     ]
    }
   ],
   "source": [
    "a=2,\n",
    "print(a,type(a))"
   ]
  },
  {
   "cell_type": "markdown",
   "id": "614e4d22",
   "metadata": {},
   "source": [
    "## name"
   ]
  },
  {
   "cell_type": "code",
   "execution_count": 76,
   "id": "6e556232",
   "metadata": {},
   "outputs": [],
   "source": [
    "# A Series can be named using the name attribute"
   ]
  },
  {
   "cell_type": "code",
   "execution_count": 77,
   "id": "c1bddade",
   "metadata": {},
   "outputs": [
    {
     "data": {
      "text/plain": [
       "0    1.0\n",
       "1    2.0\n",
       "2    3.5\n",
       "3    4.0\n",
       "4    NaN\n",
       "5    5.0\n",
       "dtype: float64"
      ]
     },
     "execution_count": 77,
     "metadata": {},
     "output_type": "execute_result"
    }
   ],
   "source": [
    "num_s"
   ]
  },
  {
   "cell_type": "code",
   "execution_count": 78,
   "id": "73f8a21a",
   "metadata": {},
   "outputs": [],
   "source": [
    "num_s.name='My Series'"
   ]
  },
  {
   "cell_type": "code",
   "execution_count": 79,
   "id": "c0987434",
   "metadata": {},
   "outputs": [
    {
     "data": {
      "text/plain": [
       "0    1.0\n",
       "1    2.0\n",
       "2    3.5\n",
       "3    4.0\n",
       "4    NaN\n",
       "5    5.0\n",
       "Name: My Series, dtype: float64"
      ]
     },
     "execution_count": 79,
     "metadata": {},
     "output_type": "execute_result"
    }
   ],
   "source": [
    "num_s"
   ]
  },
  {
   "cell_type": "code",
   "execution_count": 80,
   "id": "bad401fa",
   "metadata": {},
   "outputs": [
    {
     "data": {
      "text/plain": [
       "Name        Shreya\n",
       "Age             22\n",
       "City          Pune\n",
       "Company    Infosys\n",
       "dtype: object"
      ]
     },
     "execution_count": 80,
     "metadata": {},
     "output_type": "execute_result"
    }
   ],
   "source": [
    "emp"
   ]
  },
  {
   "cell_type": "code",
   "execution_count": 81,
   "id": "86bf44fd",
   "metadata": {},
   "outputs": [],
   "source": [
    "emp.name='Emp_Details'"
   ]
  },
  {
   "cell_type": "code",
   "execution_count": 82,
   "id": "b7a48a48",
   "metadata": {},
   "outputs": [
    {
     "data": {
      "text/plain": [
       "Name        Shreya\n",
       "Age             22\n",
       "City          Pune\n",
       "Company    Infosys\n",
       "Name: Emp_Details, dtype: object"
      ]
     },
     "execution_count": 82,
     "metadata": {},
     "output_type": "execute_result"
    }
   ],
   "source": [
    "emp"
   ]
  },
  {
   "cell_type": "code",
   "execution_count": 83,
   "id": "fdd6c2c9",
   "metadata": {},
   "outputs": [
    {
     "data": {
      "text/plain": [
       "'Emp_Details'"
      ]
     },
     "execution_count": 83,
     "metadata": {},
     "output_type": "execute_result"
    }
   ],
   "source": [
    "emp.name"
   ]
  },
  {
   "cell_type": "code",
   "execution_count": 84,
   "id": "1566c985",
   "metadata": {},
   "outputs": [
    {
     "data": {
      "text/plain": [
       "'My Series'"
      ]
     },
     "execution_count": 84,
     "metadata": {},
     "output_type": "execute_result"
    }
   ],
   "source": [
    "num_s.name"
   ]
  },
  {
   "cell_type": "markdown",
   "id": "ee451051",
   "metadata": {},
   "source": [
    "# Indexing and Slicing of a Series"
   ]
  },
  {
   "cell_type": "code",
   "execution_count": 90,
   "id": "83734414",
   "metadata": {},
   "outputs": [],
   "source": [
    "# To fetch an element on the basis of indexes we use \n",
    "# iloc and loc methods\n",
    "\n",
    "# iloc stands for index locations.\n",
    "# iloc is used with the implicit indexes.\n",
    "\n",
    "# loc is used with the explicit indexes (labels)"
   ]
  },
  {
   "cell_type": "code",
   "execution_count": 91,
   "id": "66ee37ae",
   "metadata": {},
   "outputs": [
    {
     "data": {
      "text/plain": [
       "0    1.0\n",
       "1    2.0\n",
       "2    3.5\n",
       "3    4.0\n",
       "4    NaN\n",
       "5    5.0\n",
       "Name: My Series, dtype: float64"
      ]
     },
     "execution_count": 91,
     "metadata": {},
     "output_type": "execute_result"
    }
   ],
   "source": [
    "num_s"
   ]
  },
  {
   "cell_type": "code",
   "execution_count": 99,
   "id": "db2093c4",
   "metadata": {},
   "outputs": [
    {
     "name": "stdout",
     "output_type": "stream",
     "text": [
      "1.0\n",
      "1.0\n",
      "1.0\n"
     ]
    }
   ],
   "source": [
    "# Fetch the first element\n",
    "\n",
    "print(num_s.iloc[0])\n",
    "print(num_s.iloc[-6])\n",
    "print(num_s.iloc[-len(num_s)])"
   ]
  },
  {
   "cell_type": "code",
   "execution_count": 98,
   "id": "61a27bc7",
   "metadata": {},
   "outputs": [
    {
     "data": {
      "text/plain": [
       "6"
      ]
     },
     "execution_count": 98,
     "metadata": {},
     "output_type": "execute_result"
    }
   ],
   "source": [
    "len(num_s)"
   ]
  },
  {
   "cell_type": "code",
   "execution_count": 102,
   "id": "01bb3c06",
   "metadata": {},
   "outputs": [
    {
     "name": "stdout",
     "output_type": "stream",
     "text": [
      "5.0\n",
      "5.0\n",
      "5.0\n"
     ]
    }
   ],
   "source": [
    "# Fetch the last element\n",
    "\n",
    "print(num_s.iloc[-1])\n",
    "print(num_s.iloc[5])\n",
    "print(num_s.iloc[len(num_s)-1])"
   ]
  },
  {
   "cell_type": "code",
   "execution_count": 103,
   "id": "2ed30332",
   "metadata": {},
   "outputs": [
    {
     "data": {
      "text/plain": [
       "Name        Shreya\n",
       "Age             22\n",
       "City          Pune\n",
       "Company    Infosys\n",
       "Name: Emp_Details, dtype: object"
      ]
     },
     "execution_count": 103,
     "metadata": {},
     "output_type": "execute_result"
    }
   ],
   "source": [
    "emp"
   ]
  },
  {
   "cell_type": "code",
   "execution_count": 111,
   "id": "1749f43d",
   "metadata": {},
   "outputs": [
    {
     "name": "stdout",
     "output_type": "stream",
     "text": [
      "Shreya\n",
      "Shreya\n",
      "Shreya\n"
     ]
    }
   ],
   "source": [
    "# Fetch the first element\n",
    "\n",
    "print(emp.iloc[0])\n",
    "print(emp.loc['Name'])\n",
    "print(emp.iloc[-4])"
   ]
  },
  {
   "cell_type": "markdown",
   "id": "68e3b545",
   "metadata": {},
   "source": [
    "# Slicing"
   ]
  },
  {
   "cell_type": "code",
   "execution_count": 112,
   "id": "c9cedd09",
   "metadata": {},
   "outputs": [
    {
     "data": {
      "text/plain": [
       "0    1.0\n",
       "1    2.0\n",
       "2    3.5\n",
       "3    4.0\n",
       "4    NaN\n",
       "5    5.0\n",
       "Name: My Series, dtype: float64"
      ]
     },
     "execution_count": 112,
     "metadata": {},
     "output_type": "execute_result"
    }
   ],
   "source": [
    "num_s"
   ]
  },
  {
   "cell_type": "code",
   "execution_count": 113,
   "id": "9815a144",
   "metadata": {},
   "outputs": [
    {
     "data": {
      "text/plain": [
       "0    1.0\n",
       "1    2.0\n",
       "2    3.5\n",
       "Name: My Series, dtype: float64"
      ]
     },
     "execution_count": 113,
     "metadata": {},
     "output_type": "execute_result"
    }
   ],
   "source": [
    "num_s.iloc[0:3]"
   ]
  },
  {
   "cell_type": "code",
   "execution_count": 114,
   "id": "0360cc00",
   "metadata": {},
   "outputs": [
    {
     "data": {
      "text/plain": [
       "5    5.0\n",
       "4    NaN\n",
       "3    4.0\n",
       "2    3.5\n",
       "1    2.0\n",
       "0    1.0\n",
       "Name: My Series, dtype: float64"
      ]
     },
     "execution_count": 114,
     "metadata": {},
     "output_type": "execute_result"
    }
   ],
   "source": [
    "num_s.iloc[::-1]"
   ]
  },
  {
   "cell_type": "code",
   "execution_count": 115,
   "id": "85918757",
   "metadata": {},
   "outputs": [
    {
     "data": {
      "text/plain": [
       "Name        Shreya\n",
       "Age             22\n",
       "City          Pune\n",
       "Company    Infosys\n",
       "Name: Emp_Details, dtype: object"
      ]
     },
     "execution_count": 115,
     "metadata": {},
     "output_type": "execute_result"
    }
   ],
   "source": [
    "emp"
   ]
  },
  {
   "cell_type": "code",
   "execution_count": 117,
   "id": "c12a921c",
   "metadata": {},
   "outputs": [
    {
     "data": {
      "text/plain": [
       "Name    Shreya\n",
       "Age         22\n",
       "City      Pune\n",
       "Name: Emp_Details, dtype: object"
      ]
     },
     "execution_count": 117,
     "metadata": {},
     "output_type": "execute_result"
    }
   ],
   "source": [
    "emp.iloc[0:3]"
   ]
  },
  {
   "cell_type": "code",
   "execution_count": 118,
   "id": "dcf74d34",
   "metadata": {},
   "outputs": [
    {
     "data": {
      "text/plain": [
       "Name    Shreya\n",
       "Age         22\n",
       "City      Pune\n",
       "Name: Emp_Details, dtype: object"
      ]
     },
     "execution_count": 118,
     "metadata": {},
     "output_type": "execute_result"
    }
   ],
   "source": [
    "emp.loc['Name':'City']"
   ]
  },
  {
   "cell_type": "code",
   "execution_count": 119,
   "id": "72678a15",
   "metadata": {},
   "outputs": [
    {
     "data": {
      "text/plain": [
       "Company    Infosys\n",
       "City          Pune\n",
       "Age             22\n",
       "Name        Shreya\n",
       "Name: Emp_Details, dtype: object"
      ]
     },
     "execution_count": 119,
     "metadata": {},
     "output_type": "execute_result"
    }
   ],
   "source": [
    "emp.iloc[::-1]"
   ]
  },
  {
   "cell_type": "code",
   "execution_count": 121,
   "id": "e71ac51c",
   "metadata": {},
   "outputs": [
    {
     "data": {
      "text/plain": [
       "Company    Infosys\n",
       "City          Pune\n",
       "Age             22\n",
       "Name        Shreya\n",
       "Name: Emp_Details, dtype: object"
      ]
     },
     "execution_count": 121,
     "metadata": {},
     "output_type": "execute_result"
    }
   ],
   "source": [
    "emp.loc['Company':'Name':-1]"
   ]
  },
  {
   "cell_type": "code",
   "execution_count": 122,
   "id": "392436c5",
   "metadata": {},
   "outputs": [
    {
     "data": {
      "text/plain": [
       "Company    Infosys\n",
       "City          Pune\n",
       "Age             22\n",
       "Name        Shreya\n",
       "Name: Emp_Details, dtype: object"
      ]
     },
     "execution_count": 122,
     "metadata": {},
     "output_type": "execute_result"
    }
   ],
   "source": [
    "emp.loc[::-1]"
   ]
  },
  {
   "cell_type": "code",
   "execution_count": 125,
   "id": "be3303b8",
   "metadata": {},
   "outputs": [
    {
     "data": {
      "text/plain": [
       "a     100\n",
       "b     200\n",
       "c     300\n",
       "d     400\n",
       "e     500\n",
       "f     600\n",
       "g     700\n",
       "h     800\n",
       "i     900\n",
       "j    1000\n",
       "dtype: int64"
      ]
     },
     "execution_count": 125,
     "metadata": {},
     "output_type": "execute_result"
    }
   ],
   "source": [
    "nums=pd.Series([i for i in range(100,1001,100)],index=list('abcdefghij'))\n",
    "nums"
   ]
  },
  {
   "cell_type": "code",
   "execution_count": 127,
   "id": "845a4261",
   "metadata": {},
   "outputs": [
    {
     "data": {
      "text/plain": [
       "0     100\n",
       "1     200\n",
       "2     300\n",
       "3     400\n",
       "4     500\n",
       "5     600\n",
       "6     700\n",
       "7     800\n",
       "8     900\n",
       "9    1000\n",
       "dtype: int64"
      ]
     },
     "execution_count": 127,
     "metadata": {},
     "output_type": "execute_result"
    }
   ],
   "source": [
    "nums=pd.Series([i for i in range(100,1001,100)])\n",
    "nums"
   ]
  },
  {
   "cell_type": "code",
   "execution_count": 129,
   "id": "d326fc16",
   "metadata": {},
   "outputs": [],
   "source": [
    "nums.index=list('abcdefghij')"
   ]
  },
  {
   "cell_type": "code",
   "execution_count": 130,
   "id": "cd9acba7",
   "metadata": {},
   "outputs": [
    {
     "data": {
      "text/plain": [
       "a     100\n",
       "b     200\n",
       "c     300\n",
       "d     400\n",
       "e     500\n",
       "f     600\n",
       "g     700\n",
       "h     800\n",
       "i     900\n",
       "j    1000\n",
       "dtype: int64"
      ]
     },
     "execution_count": 130,
     "metadata": {},
     "output_type": "execute_result"
    }
   ],
   "source": [
    "nums"
   ]
  },
  {
   "cell_type": "code",
   "execution_count": 133,
   "id": "85286611",
   "metadata": {},
   "outputs": [
    {
     "data": {
      "text/plain": [
       "['Tanmay', 'Sanjay', 'Ambika', 'Ebi', 'Prajakta', 'Vishal', 'Yatin', 'Natraj']"
      ]
     },
     "execution_count": 133,
     "metadata": {},
     "output_type": "execute_result"
    }
   ],
   "source": [
    "names=['Tanmay', 'Sanjay', 'Ambika', 'Ebi', 'Prajakta','Vishal','Yatin','Natraj']\n",
    "names"
   ]
  },
  {
   "cell_type": "code",
   "execution_count": 135,
   "id": "6bc797a0",
   "metadata": {},
   "outputs": [
    {
     "data": {
      "text/plain": [
       "0      Tanmay\n",
       "1      Sanjay\n",
       "2      Ambika\n",
       "3         Ebi\n",
       "4    Prajakta\n",
       "5      Vishal\n",
       "6       Yatin\n",
       "7      Natraj\n",
       "dtype: object"
      ]
     },
     "execution_count": 135,
     "metadata": {},
     "output_type": "execute_result"
    }
   ],
   "source": [
    "emp=pd.Series(names)\n",
    "emp"
   ]
  },
  {
   "cell_type": "code",
   "execution_count": 143,
   "id": "f3c120b4",
   "metadata": {},
   "outputs": [],
   "source": [
    "emp.index=['emp_'+str(i) for i in range(1,len(emp)+1)]"
   ]
  },
  {
   "cell_type": "code",
   "execution_count": 144,
   "id": "cbaf55c6",
   "metadata": {},
   "outputs": [
    {
     "data": {
      "text/plain": [
       "emp_1      Tanmay\n",
       "emp_2      Sanjay\n",
       "emp_3      Ambika\n",
       "emp_4         Ebi\n",
       "emp_5    Prajakta\n",
       "emp_6      Vishal\n",
       "emp_7       Yatin\n",
       "emp_8      Natraj\n",
       "dtype: object"
      ]
     },
     "execution_count": 144,
     "metadata": {},
     "output_type": "execute_result"
    }
   ],
   "source": [
    "emp"
   ]
  },
  {
   "cell_type": "code",
   "execution_count": 146,
   "id": "3bbfa82c",
   "metadata": {},
   "outputs": [
    {
     "data": {
      "text/plain": [
       "emp_1      Tanmay\n",
       "emp_3      Ambika\n",
       "emp_5    Prajakta\n",
       "dtype: object"
      ]
     },
     "execution_count": 146,
     "metadata": {},
     "output_type": "execute_result"
    }
   ],
   "source": [
    "emp.loc['emp_1':'emp_5':2]"
   ]
  },
  {
   "cell_type": "code",
   "execution_count": 153,
   "id": "92971fb9",
   "metadata": {},
   "outputs": [
    {
     "data": {
      "text/plain": [
       "{'emp_1': {'Name': 'Sanjay', 'Age': 22},\n",
       " 'emp_2': {'Name': 'Natraj', 'Age': 25}}"
      ]
     },
     "execution_count": 153,
     "metadata": {},
     "output_type": "execute_result"
    }
   ],
   "source": [
    "d={'emp_1':{'Name':'Sanjay','Age':22},\n",
    "'emp_2':{'Name':'Natraj','Age':25}}\n",
    "d"
   ]
  },
  {
   "cell_type": "code",
   "execution_count": 154,
   "id": "a4c938aa",
   "metadata": {},
   "outputs": [
    {
     "data": {
      "text/plain": [
       "emp_1    {'Name': 'Sanjay', 'Age': 22}\n",
       "emp_2    {'Name': 'Natraj', 'Age': 25}\n",
       "dtype: object"
      ]
     },
     "execution_count": 154,
     "metadata": {},
     "output_type": "execute_result"
    }
   ],
   "source": [
    "s=pd.Series(d)\n",
    "s"
   ]
  },
  {
   "cell_type": "code",
   "execution_count": 157,
   "id": "7f4016b2",
   "metadata": {},
   "outputs": [
    {
     "data": {
      "text/plain": [
       "25"
      ]
     },
     "execution_count": 157,
     "metadata": {},
     "output_type": "execute_result"
    }
   ],
   "source": [
    "s.loc['emp_2']['Age']"
   ]
  },
  {
   "cell_type": "code",
   "execution_count": 159,
   "id": "9d7681bd",
   "metadata": {},
   "outputs": [
    {
     "data": {
      "text/html": [
       "<div>\n",
       "<style scoped>\n",
       "    .dataframe tbody tr th:only-of-type {\n",
       "        vertical-align: middle;\n",
       "    }\n",
       "\n",
       "    .dataframe tbody tr th {\n",
       "        vertical-align: top;\n",
       "    }\n",
       "\n",
       "    .dataframe thead th {\n",
       "        text-align: right;\n",
       "    }\n",
       "</style>\n",
       "<table border=\"1\" class=\"dataframe\">\n",
       "  <thead>\n",
       "    <tr style=\"text-align: right;\">\n",
       "      <th></th>\n",
       "      <th>Name</th>\n",
       "      <th>Age</th>\n",
       "    </tr>\n",
       "  </thead>\n",
       "  <tbody>\n",
       "    <tr>\n",
       "      <th>emp_1</th>\n",
       "      <td>Sanjay</td>\n",
       "      <td>22</td>\n",
       "    </tr>\n",
       "    <tr>\n",
       "      <th>emp_2</th>\n",
       "      <td>Natraj</td>\n",
       "      <td>25</td>\n",
       "    </tr>\n",
       "  </tbody>\n",
       "</table>\n",
       "</div>"
      ],
      "text/plain": [
       "         Name Age\n",
       "emp_1  Sanjay  22\n",
       "emp_2  Natraj  25"
      ]
     },
     "execution_count": 159,
     "metadata": {},
     "output_type": "execute_result"
    }
   ],
   "source": [
    "pd.DataFrame(d).T"
   ]
  },
  {
   "cell_type": "markdown",
   "id": "23ca1702",
   "metadata": {},
   "source": [
    "# Dataframe"
   ]
  },
  {
   "cell_type": "code",
   "execution_count": 148,
   "id": "41e3d340",
   "metadata": {},
   "outputs": [],
   "source": [
    "# - A dataframe is a 2-D structure.\n",
    "# - It can be considered as a table from Excel.\n",
    "# - It is the combination of rows and columns.\n",
    "# - A dataframe has headers for all the columns."
   ]
  },
  {
   "cell_type": "markdown",
   "id": "8d8be67e",
   "metadata": {},
   "source": [
    "# Creating a dataframe"
   ]
  },
  {
   "cell_type": "code",
   "execution_count": 160,
   "id": "5b8eac2a",
   "metadata": {},
   "outputs": [],
   "source": [
    "# pd.DataFrame(List/Dictionary/Series...etc.)"
   ]
  },
  {
   "cell_type": "markdown",
   "id": "f1e3f022",
   "metadata": {},
   "source": [
    "# Using Lists"
   ]
  },
  {
   "cell_type": "code",
   "execution_count": 171,
   "id": "f28c89c1",
   "metadata": {},
   "outputs": [],
   "source": [
    "names=['Tanmay', 'Sanjay', 'Ambika', 'Ebi', 'Prajakta','Vishal','Yatin','Natraj']\n",
    "age=[25,24,28,22,26,31,25,36]\n",
    "city=['Pune','Bangalore','Chennai','Dehradun','Mumbai','Pune','Chandigarh','Delhi']"
   ]
  },
  {
   "cell_type": "code",
   "execution_count": 174,
   "id": "4c2dfde1",
   "metadata": {},
   "outputs": [
    {
     "data": {
      "text/html": [
       "<div>\n",
       "<style scoped>\n",
       "    .dataframe tbody tr th:only-of-type {\n",
       "        vertical-align: middle;\n",
       "    }\n",
       "\n",
       "    .dataframe tbody tr th {\n",
       "        vertical-align: top;\n",
       "    }\n",
       "\n",
       "    .dataframe thead th {\n",
       "        text-align: right;\n",
       "    }\n",
       "</style>\n",
       "<table border=\"1\" class=\"dataframe\">\n",
       "  <thead>\n",
       "    <tr style=\"text-align: right;\">\n",
       "      <th></th>\n",
       "      <th>0</th>\n",
       "      <th>1</th>\n",
       "      <th>2</th>\n",
       "      <th>3</th>\n",
       "      <th>4</th>\n",
       "      <th>5</th>\n",
       "      <th>6</th>\n",
       "      <th>7</th>\n",
       "    </tr>\n",
       "  </thead>\n",
       "  <tbody>\n",
       "    <tr>\n",
       "      <th>0</th>\n",
       "      <td>Tanmay</td>\n",
       "      <td>Sanjay</td>\n",
       "      <td>Ambika</td>\n",
       "      <td>Ebi</td>\n",
       "      <td>Prajakta</td>\n",
       "      <td>Vishal</td>\n",
       "      <td>Yatin</td>\n",
       "      <td>Natraj</td>\n",
       "    </tr>\n",
       "    <tr>\n",
       "      <th>1</th>\n",
       "      <td>25</td>\n",
       "      <td>24</td>\n",
       "      <td>28</td>\n",
       "      <td>22</td>\n",
       "      <td>26</td>\n",
       "      <td>31</td>\n",
       "      <td>25</td>\n",
       "      <td>36</td>\n",
       "    </tr>\n",
       "    <tr>\n",
       "      <th>2</th>\n",
       "      <td>Pune</td>\n",
       "      <td>Bangalore</td>\n",
       "      <td>Chennai</td>\n",
       "      <td>Dehradun</td>\n",
       "      <td>Mumbai</td>\n",
       "      <td>Pune</td>\n",
       "      <td>Chandigarh</td>\n",
       "      <td>Delhi</td>\n",
       "    </tr>\n",
       "  </tbody>\n",
       "</table>\n",
       "</div>"
      ],
      "text/plain": [
       "        0          1        2         3         4       5           6       7\n",
       "0  Tanmay     Sanjay   Ambika       Ebi  Prajakta  Vishal       Yatin  Natraj\n",
       "1      25         24       28        22        26      31          25      36\n",
       "2    Pune  Bangalore  Chennai  Dehradun    Mumbai    Pune  Chandigarh   Delhi"
      ]
     },
     "execution_count": 174,
     "metadata": {},
     "output_type": "execute_result"
    }
   ],
   "source": [
    "pd.DataFrame([names,age,city])"
   ]
  },
  {
   "cell_type": "code",
   "execution_count": 177,
   "id": "e838a4fa",
   "metadata": {},
   "outputs": [
    {
     "data": {
      "text/html": [
       "<div>\n",
       "<style scoped>\n",
       "    .dataframe tbody tr th:only-of-type {\n",
       "        vertical-align: middle;\n",
       "    }\n",
       "\n",
       "    .dataframe tbody tr th {\n",
       "        vertical-align: top;\n",
       "    }\n",
       "\n",
       "    .dataframe thead th {\n",
       "        text-align: right;\n",
       "    }\n",
       "</style>\n",
       "<table border=\"1\" class=\"dataframe\">\n",
       "  <thead>\n",
       "    <tr style=\"text-align: right;\">\n",
       "      <th></th>\n",
       "      <th>0</th>\n",
       "      <th>1</th>\n",
       "      <th>2</th>\n",
       "    </tr>\n",
       "  </thead>\n",
       "  <tbody>\n",
       "    <tr>\n",
       "      <th>0</th>\n",
       "      <td>Tanmay</td>\n",
       "      <td>25</td>\n",
       "      <td>Pune</td>\n",
       "    </tr>\n",
       "    <tr>\n",
       "      <th>1</th>\n",
       "      <td>Sanjay</td>\n",
       "      <td>24</td>\n",
       "      <td>Bangalore</td>\n",
       "    </tr>\n",
       "    <tr>\n",
       "      <th>2</th>\n",
       "      <td>Ambika</td>\n",
       "      <td>28</td>\n",
       "      <td>Chennai</td>\n",
       "    </tr>\n",
       "    <tr>\n",
       "      <th>3</th>\n",
       "      <td>Ebi</td>\n",
       "      <td>22</td>\n",
       "      <td>Dehradun</td>\n",
       "    </tr>\n",
       "    <tr>\n",
       "      <th>4</th>\n",
       "      <td>Prajakta</td>\n",
       "      <td>26</td>\n",
       "      <td>Mumbai</td>\n",
       "    </tr>\n",
       "    <tr>\n",
       "      <th>5</th>\n",
       "      <td>Vishal</td>\n",
       "      <td>31</td>\n",
       "      <td>Pune</td>\n",
       "    </tr>\n",
       "    <tr>\n",
       "      <th>6</th>\n",
       "      <td>Yatin</td>\n",
       "      <td>25</td>\n",
       "      <td>Chandigarh</td>\n",
       "    </tr>\n",
       "    <tr>\n",
       "      <th>7</th>\n",
       "      <td>Natraj</td>\n",
       "      <td>36</td>\n",
       "      <td>Delhi</td>\n",
       "    </tr>\n",
       "  </tbody>\n",
       "</table>\n",
       "</div>"
      ],
      "text/plain": [
       "          0   1           2\n",
       "0    Tanmay  25        Pune\n",
       "1    Sanjay  24   Bangalore\n",
       "2    Ambika  28     Chennai\n",
       "3       Ebi  22    Dehradun\n",
       "4  Prajakta  26      Mumbai\n",
       "5    Vishal  31        Pune\n",
       "6     Yatin  25  Chandigarh\n",
       "7    Natraj  36       Delhi"
      ]
     },
     "execution_count": 177,
     "metadata": {},
     "output_type": "execute_result"
    }
   ],
   "source": [
    "df=pd.DataFrame([names,age,city]).T\n",
    "df"
   ]
  },
  {
   "cell_type": "code",
   "execution_count": 178,
   "id": "b58faa5c",
   "metadata": {},
   "outputs": [],
   "source": [
    "df.columns=['Name','Age','City']"
   ]
  },
  {
   "cell_type": "code",
   "execution_count": 179,
   "id": "e9f611b2",
   "metadata": {},
   "outputs": [
    {
     "data": {
      "text/html": [
       "<div>\n",
       "<style scoped>\n",
       "    .dataframe tbody tr th:only-of-type {\n",
       "        vertical-align: middle;\n",
       "    }\n",
       "\n",
       "    .dataframe tbody tr th {\n",
       "        vertical-align: top;\n",
       "    }\n",
       "\n",
       "    .dataframe thead th {\n",
       "        text-align: right;\n",
       "    }\n",
       "</style>\n",
       "<table border=\"1\" class=\"dataframe\">\n",
       "  <thead>\n",
       "    <tr style=\"text-align: right;\">\n",
       "      <th></th>\n",
       "      <th>Name</th>\n",
       "      <th>Age</th>\n",
       "      <th>City</th>\n",
       "    </tr>\n",
       "  </thead>\n",
       "  <tbody>\n",
       "    <tr>\n",
       "      <th>0</th>\n",
       "      <td>Tanmay</td>\n",
       "      <td>25</td>\n",
       "      <td>Pune</td>\n",
       "    </tr>\n",
       "    <tr>\n",
       "      <th>1</th>\n",
       "      <td>Sanjay</td>\n",
       "      <td>24</td>\n",
       "      <td>Bangalore</td>\n",
       "    </tr>\n",
       "    <tr>\n",
       "      <th>2</th>\n",
       "      <td>Ambika</td>\n",
       "      <td>28</td>\n",
       "      <td>Chennai</td>\n",
       "    </tr>\n",
       "    <tr>\n",
       "      <th>3</th>\n",
       "      <td>Ebi</td>\n",
       "      <td>22</td>\n",
       "      <td>Dehradun</td>\n",
       "    </tr>\n",
       "    <tr>\n",
       "      <th>4</th>\n",
       "      <td>Prajakta</td>\n",
       "      <td>26</td>\n",
       "      <td>Mumbai</td>\n",
       "    </tr>\n",
       "    <tr>\n",
       "      <th>5</th>\n",
       "      <td>Vishal</td>\n",
       "      <td>31</td>\n",
       "      <td>Pune</td>\n",
       "    </tr>\n",
       "    <tr>\n",
       "      <th>6</th>\n",
       "      <td>Yatin</td>\n",
       "      <td>25</td>\n",
       "      <td>Chandigarh</td>\n",
       "    </tr>\n",
       "    <tr>\n",
       "      <th>7</th>\n",
       "      <td>Natraj</td>\n",
       "      <td>36</td>\n",
       "      <td>Delhi</td>\n",
       "    </tr>\n",
       "  </tbody>\n",
       "</table>\n",
       "</div>"
      ],
      "text/plain": [
       "       Name Age        City\n",
       "0    Tanmay  25        Pune\n",
       "1    Sanjay  24   Bangalore\n",
       "2    Ambika  28     Chennai\n",
       "3       Ebi  22    Dehradun\n",
       "4  Prajakta  26      Mumbai\n",
       "5    Vishal  31        Pune\n",
       "6     Yatin  25  Chandigarh\n",
       "7    Natraj  36       Delhi"
      ]
     },
     "execution_count": 179,
     "metadata": {},
     "output_type": "execute_result"
    }
   ],
   "source": [
    "df"
   ]
  },
  {
   "cell_type": "markdown",
   "id": "57b05aba",
   "metadata": {},
   "source": [
    "# Using 2-D list"
   ]
  },
  {
   "cell_type": "code",
   "execution_count": 180,
   "id": "e5b8b5be",
   "metadata": {},
   "outputs": [
    {
     "data": {
      "text/plain": [
       "[['Tanmay', 25, 'Pune'],\n",
       " ['Sanjay', 24, 'Bangalore'],\n",
       " ['Ambika', 28, 'Chennai']]"
      ]
     },
     "execution_count": 180,
     "metadata": {},
     "output_type": "execute_result"
    }
   ],
   "source": [
    "[['Tanmay',25,'Pune'],['Sanjay',24,'Bangalore'],['Ambika',28,'Chennai']]"
   ]
  },
  {
   "cell_type": "code",
   "execution_count": 186,
   "id": "dbc132ca",
   "metadata": {},
   "outputs": [
    {
     "data": {
      "text/html": [
       "<div>\n",
       "<style scoped>\n",
       "    .dataframe tbody tr th:only-of-type {\n",
       "        vertical-align: middle;\n",
       "    }\n",
       "\n",
       "    .dataframe tbody tr th {\n",
       "        vertical-align: top;\n",
       "    }\n",
       "\n",
       "    .dataframe thead th {\n",
       "        text-align: right;\n",
       "    }\n",
       "</style>\n",
       "<table border=\"1\" class=\"dataframe\">\n",
       "  <thead>\n",
       "    <tr style=\"text-align: right;\">\n",
       "      <th></th>\n",
       "      <th>Name</th>\n",
       "      <th>Age</th>\n",
       "      <th>City</th>\n",
       "    </tr>\n",
       "  </thead>\n",
       "  <tbody>\n",
       "    <tr>\n",
       "      <th>0</th>\n",
       "      <td>Tanmay</td>\n",
       "      <td>25</td>\n",
       "      <td>Pune</td>\n",
       "    </tr>\n",
       "    <tr>\n",
       "      <th>1</th>\n",
       "      <td>Sanjay</td>\n",
       "      <td>24</td>\n",
       "      <td>Bangalore</td>\n",
       "    </tr>\n",
       "    <tr>\n",
       "      <th>2</th>\n",
       "      <td>Ambika</td>\n",
       "      <td>28</td>\n",
       "      <td>Chennai</td>\n",
       "    </tr>\n",
       "  </tbody>\n",
       "</table>\n",
       "</div>"
      ],
      "text/plain": [
       "     Name  Age       City\n",
       "0  Tanmay   25       Pune\n",
       "1  Sanjay   24  Bangalore\n",
       "2  Ambika   28    Chennai"
      ]
     },
     "execution_count": 186,
     "metadata": {},
     "output_type": "execute_result"
    }
   ],
   "source": [
    "pd.DataFrame([['Tanmay',25,'Pune'],['Sanjay',24,'Bangalore'],['Ambika',28,'Chennai']],columns=['Name','Age','City'])"
   ]
  },
  {
   "cell_type": "markdown",
   "id": "9070bdbd",
   "metadata": {},
   "source": [
    "# Using Series"
   ]
  },
  {
   "cell_type": "code",
   "execution_count": 188,
   "id": "2598d3c6",
   "metadata": {},
   "outputs": [],
   "source": [
    "nsr=pd.Series(names)\n",
    "asr=pd.Series(age)\n",
    "csr=pd.Series(city)"
   ]
  },
  {
   "cell_type": "code",
   "execution_count": 189,
   "id": "f6430567",
   "metadata": {},
   "outputs": [
    {
     "data": {
      "text/plain": [
       "0      Tanmay\n",
       "1      Sanjay\n",
       "2      Ambika\n",
       "3         Ebi\n",
       "4    Prajakta\n",
       "5      Vishal\n",
       "6       Yatin\n",
       "7      Natraj\n",
       "dtype: object"
      ]
     },
     "execution_count": 189,
     "metadata": {},
     "output_type": "execute_result"
    }
   ],
   "source": [
    "nsr"
   ]
  },
  {
   "cell_type": "code",
   "execution_count": 190,
   "id": "fa9f2478",
   "metadata": {},
   "outputs": [
    {
     "data": {
      "text/plain": [
       "0    25\n",
       "1    24\n",
       "2    28\n",
       "3    22\n",
       "4    26\n",
       "5    31\n",
       "6    25\n",
       "7    36\n",
       "dtype: int64"
      ]
     },
     "execution_count": 190,
     "metadata": {},
     "output_type": "execute_result"
    }
   ],
   "source": [
    "asr"
   ]
  },
  {
   "cell_type": "code",
   "execution_count": 191,
   "id": "cff831cf",
   "metadata": {},
   "outputs": [
    {
     "data": {
      "text/plain": [
       "0          Pune\n",
       "1     Bangalore\n",
       "2       Chennai\n",
       "3      Dehradun\n",
       "4        Mumbai\n",
       "5          Pune\n",
       "6    Chandigarh\n",
       "7         Delhi\n",
       "dtype: object"
      ]
     },
     "execution_count": 191,
     "metadata": {},
     "output_type": "execute_result"
    }
   ],
   "source": [
    "csr"
   ]
  },
  {
   "cell_type": "code",
   "execution_count": 195,
   "id": "cd47f771",
   "metadata": {},
   "outputs": [
    {
     "data": {
      "text/html": [
       "<div>\n",
       "<style scoped>\n",
       "    .dataframe tbody tr th:only-of-type {\n",
       "        vertical-align: middle;\n",
       "    }\n",
       "\n",
       "    .dataframe tbody tr th {\n",
       "        vertical-align: top;\n",
       "    }\n",
       "\n",
       "    .dataframe thead th {\n",
       "        text-align: right;\n",
       "    }\n",
       "</style>\n",
       "<table border=\"1\" class=\"dataframe\">\n",
       "  <thead>\n",
       "    <tr style=\"text-align: right;\">\n",
       "      <th></th>\n",
       "      <th>0</th>\n",
       "      <th>1</th>\n",
       "      <th>2</th>\n",
       "    </tr>\n",
       "  </thead>\n",
       "  <tbody>\n",
       "    <tr>\n",
       "      <th>0</th>\n",
       "      <td>Tanmay</td>\n",
       "      <td>25</td>\n",
       "      <td>Pune</td>\n",
       "    </tr>\n",
       "    <tr>\n",
       "      <th>1</th>\n",
       "      <td>Sanjay</td>\n",
       "      <td>24</td>\n",
       "      <td>Bangalore</td>\n",
       "    </tr>\n",
       "    <tr>\n",
       "      <th>2</th>\n",
       "      <td>Ambika</td>\n",
       "      <td>28</td>\n",
       "      <td>Chennai</td>\n",
       "    </tr>\n",
       "    <tr>\n",
       "      <th>3</th>\n",
       "      <td>Ebi</td>\n",
       "      <td>22</td>\n",
       "      <td>Dehradun</td>\n",
       "    </tr>\n",
       "    <tr>\n",
       "      <th>4</th>\n",
       "      <td>Prajakta</td>\n",
       "      <td>26</td>\n",
       "      <td>Mumbai</td>\n",
       "    </tr>\n",
       "    <tr>\n",
       "      <th>5</th>\n",
       "      <td>Vishal</td>\n",
       "      <td>31</td>\n",
       "      <td>Pune</td>\n",
       "    </tr>\n",
       "    <tr>\n",
       "      <th>6</th>\n",
       "      <td>Yatin</td>\n",
       "      <td>25</td>\n",
       "      <td>Chandigarh</td>\n",
       "    </tr>\n",
       "    <tr>\n",
       "      <th>7</th>\n",
       "      <td>Natraj</td>\n",
       "      <td>36</td>\n",
       "      <td>Delhi</td>\n",
       "    </tr>\n",
       "  </tbody>\n",
       "</table>\n",
       "</div>"
      ],
      "text/plain": [
       "          0   1           2\n",
       "0    Tanmay  25        Pune\n",
       "1    Sanjay  24   Bangalore\n",
       "2    Ambika  28     Chennai\n",
       "3       Ebi  22    Dehradun\n",
       "4  Prajakta  26      Mumbai\n",
       "5    Vishal  31        Pune\n",
       "6     Yatin  25  Chandigarh\n",
       "7    Natraj  36       Delhi"
      ]
     },
     "execution_count": 195,
     "metadata": {},
     "output_type": "execute_result"
    }
   ],
   "source": [
    "df=pd.DataFrame([nsr,asr,csr]).T\n",
    "df"
   ]
  },
  {
   "cell_type": "code",
   "execution_count": 196,
   "id": "a49c6e78",
   "metadata": {},
   "outputs": [],
   "source": [
    "df.columns=['Name','Age','City']"
   ]
  },
  {
   "cell_type": "code",
   "execution_count": 197,
   "id": "70eba80a",
   "metadata": {},
   "outputs": [
    {
     "data": {
      "text/html": [
       "<div>\n",
       "<style scoped>\n",
       "    .dataframe tbody tr th:only-of-type {\n",
       "        vertical-align: middle;\n",
       "    }\n",
       "\n",
       "    .dataframe tbody tr th {\n",
       "        vertical-align: top;\n",
       "    }\n",
       "\n",
       "    .dataframe thead th {\n",
       "        text-align: right;\n",
       "    }\n",
       "</style>\n",
       "<table border=\"1\" class=\"dataframe\">\n",
       "  <thead>\n",
       "    <tr style=\"text-align: right;\">\n",
       "      <th></th>\n",
       "      <th>Name</th>\n",
       "      <th>Age</th>\n",
       "      <th>City</th>\n",
       "    </tr>\n",
       "  </thead>\n",
       "  <tbody>\n",
       "    <tr>\n",
       "      <th>0</th>\n",
       "      <td>Tanmay</td>\n",
       "      <td>25</td>\n",
       "      <td>Pune</td>\n",
       "    </tr>\n",
       "    <tr>\n",
       "      <th>1</th>\n",
       "      <td>Sanjay</td>\n",
       "      <td>24</td>\n",
       "      <td>Bangalore</td>\n",
       "    </tr>\n",
       "    <tr>\n",
       "      <th>2</th>\n",
       "      <td>Ambika</td>\n",
       "      <td>28</td>\n",
       "      <td>Chennai</td>\n",
       "    </tr>\n",
       "    <tr>\n",
       "      <th>3</th>\n",
       "      <td>Ebi</td>\n",
       "      <td>22</td>\n",
       "      <td>Dehradun</td>\n",
       "    </tr>\n",
       "    <tr>\n",
       "      <th>4</th>\n",
       "      <td>Prajakta</td>\n",
       "      <td>26</td>\n",
       "      <td>Mumbai</td>\n",
       "    </tr>\n",
       "    <tr>\n",
       "      <th>5</th>\n",
       "      <td>Vishal</td>\n",
       "      <td>31</td>\n",
       "      <td>Pune</td>\n",
       "    </tr>\n",
       "    <tr>\n",
       "      <th>6</th>\n",
       "      <td>Yatin</td>\n",
       "      <td>25</td>\n",
       "      <td>Chandigarh</td>\n",
       "    </tr>\n",
       "    <tr>\n",
       "      <th>7</th>\n",
       "      <td>Natraj</td>\n",
       "      <td>36</td>\n",
       "      <td>Delhi</td>\n",
       "    </tr>\n",
       "  </tbody>\n",
       "</table>\n",
       "</div>"
      ],
      "text/plain": [
       "       Name Age        City\n",
       "0    Tanmay  25        Pune\n",
       "1    Sanjay  24   Bangalore\n",
       "2    Ambika  28     Chennai\n",
       "3       Ebi  22    Dehradun\n",
       "4  Prajakta  26      Mumbai\n",
       "5    Vishal  31        Pune\n",
       "6     Yatin  25  Chandigarh\n",
       "7    Natraj  36       Delhi"
      ]
     },
     "execution_count": 197,
     "metadata": {},
     "output_type": "execute_result"
    }
   ],
   "source": [
    "df"
   ]
  },
  {
   "cell_type": "code",
   "execution_count": 199,
   "id": "abd16b38",
   "metadata": {},
   "outputs": [],
   "source": [
    "nsr.name='Name'\n",
    "asr.name='Age'\n",
    "csr.name='City'"
   ]
  },
  {
   "cell_type": "code",
   "execution_count": 203,
   "id": "347ec4fb",
   "metadata": {},
   "outputs": [
    {
     "data": {
      "text/html": [
       "<div>\n",
       "<style scoped>\n",
       "    .dataframe tbody tr th:only-of-type {\n",
       "        vertical-align: middle;\n",
       "    }\n",
       "\n",
       "    .dataframe tbody tr th {\n",
       "        vertical-align: top;\n",
       "    }\n",
       "\n",
       "    .dataframe thead th {\n",
       "        text-align: right;\n",
       "    }\n",
       "</style>\n",
       "<table border=\"1\" class=\"dataframe\">\n",
       "  <thead>\n",
       "    <tr style=\"text-align: right;\">\n",
       "      <th></th>\n",
       "      <th>Name</th>\n",
       "      <th>Age</th>\n",
       "      <th>City</th>\n",
       "    </tr>\n",
       "  </thead>\n",
       "  <tbody>\n",
       "    <tr>\n",
       "      <th>0</th>\n",
       "      <td>Tanmay</td>\n",
       "      <td>25</td>\n",
       "      <td>Pune</td>\n",
       "    </tr>\n",
       "    <tr>\n",
       "      <th>1</th>\n",
       "      <td>Sanjay</td>\n",
       "      <td>24</td>\n",
       "      <td>Bangalore</td>\n",
       "    </tr>\n",
       "    <tr>\n",
       "      <th>2</th>\n",
       "      <td>Ambika</td>\n",
       "      <td>28</td>\n",
       "      <td>Chennai</td>\n",
       "    </tr>\n",
       "    <tr>\n",
       "      <th>3</th>\n",
       "      <td>Ebi</td>\n",
       "      <td>22</td>\n",
       "      <td>Dehradun</td>\n",
       "    </tr>\n",
       "    <tr>\n",
       "      <th>4</th>\n",
       "      <td>Prajakta</td>\n",
       "      <td>26</td>\n",
       "      <td>Mumbai</td>\n",
       "    </tr>\n",
       "    <tr>\n",
       "      <th>5</th>\n",
       "      <td>Vishal</td>\n",
       "      <td>31</td>\n",
       "      <td>Pune</td>\n",
       "    </tr>\n",
       "    <tr>\n",
       "      <th>6</th>\n",
       "      <td>Yatin</td>\n",
       "      <td>25</td>\n",
       "      <td>Chandigarh</td>\n",
       "    </tr>\n",
       "    <tr>\n",
       "      <th>7</th>\n",
       "      <td>Natraj</td>\n",
       "      <td>36</td>\n",
       "      <td>Delhi</td>\n",
       "    </tr>\n",
       "  </tbody>\n",
       "</table>\n",
       "</div>"
      ],
      "text/plain": [
       "       Name Age        City\n",
       "0    Tanmay  25        Pune\n",
       "1    Sanjay  24   Bangalore\n",
       "2    Ambika  28     Chennai\n",
       "3       Ebi  22    Dehradun\n",
       "4  Prajakta  26      Mumbai\n",
       "5    Vishal  31        Pune\n",
       "6     Yatin  25  Chandigarh\n",
       "7    Natraj  36       Delhi"
      ]
     },
     "execution_count": 203,
     "metadata": {},
     "output_type": "execute_result"
    }
   ],
   "source": [
    "df=pd.DataFrame([nsr,asr,csr]).T\n",
    "df"
   ]
  },
  {
   "cell_type": "markdown",
   "id": "86febfec",
   "metadata": {},
   "source": [
    "# Using dictionary"
   ]
  },
  {
   "cell_type": "code",
   "execution_count": 204,
   "id": "9e45fe29",
   "metadata": {},
   "outputs": [],
   "source": [
    "# - The keys from the dictionary becomes the column names"
   ]
  },
  {
   "cell_type": "code",
   "execution_count": 210,
   "id": "62822ca4",
   "metadata": {},
   "outputs": [
    {
     "data": {
      "text/plain": [
       "{'Emp_Name': ['Tanmay',\n",
       "  'Sanjay',\n",
       "  'Ambika',\n",
       "  'Ebi',\n",
       "  'Prajakta',\n",
       "  'Vishal',\n",
       "  'Yatin',\n",
       "  'Natraj'],\n",
       " 'Emp_Age': [25, 24, 28, 22, 26, 31, 25, 36],\n",
       " 'Emp_City': ['Pune',\n",
       "  'Bangalore',\n",
       "  'Chennai',\n",
       "  'Dehradun',\n",
       "  'Mumbai',\n",
       "  'Pune',\n",
       "  'Chandigarh',\n",
       "  'Delhi']}"
      ]
     },
     "execution_count": 210,
     "metadata": {},
     "output_type": "execute_result"
    }
   ],
   "source": [
    "d={'Emp_Name':names,'Emp_Age':age,'Emp_City':city}\n",
    "d"
   ]
  },
  {
   "cell_type": "code",
   "execution_count": 211,
   "id": "032a6579",
   "metadata": {},
   "outputs": [
    {
     "data": {
      "text/html": [
       "<div>\n",
       "<style scoped>\n",
       "    .dataframe tbody tr th:only-of-type {\n",
       "        vertical-align: middle;\n",
       "    }\n",
       "\n",
       "    .dataframe tbody tr th {\n",
       "        vertical-align: top;\n",
       "    }\n",
       "\n",
       "    .dataframe thead th {\n",
       "        text-align: right;\n",
       "    }\n",
       "</style>\n",
       "<table border=\"1\" class=\"dataframe\">\n",
       "  <thead>\n",
       "    <tr style=\"text-align: right;\">\n",
       "      <th></th>\n",
       "      <th>Emp_Name</th>\n",
       "      <th>Emp_Age</th>\n",
       "      <th>Emp_City</th>\n",
       "    </tr>\n",
       "  </thead>\n",
       "  <tbody>\n",
       "    <tr>\n",
       "      <th>0</th>\n",
       "      <td>Tanmay</td>\n",
       "      <td>25</td>\n",
       "      <td>Pune</td>\n",
       "    </tr>\n",
       "    <tr>\n",
       "      <th>1</th>\n",
       "      <td>Sanjay</td>\n",
       "      <td>24</td>\n",
       "      <td>Bangalore</td>\n",
       "    </tr>\n",
       "    <tr>\n",
       "      <th>2</th>\n",
       "      <td>Ambika</td>\n",
       "      <td>28</td>\n",
       "      <td>Chennai</td>\n",
       "    </tr>\n",
       "    <tr>\n",
       "      <th>3</th>\n",
       "      <td>Ebi</td>\n",
       "      <td>22</td>\n",
       "      <td>Dehradun</td>\n",
       "    </tr>\n",
       "    <tr>\n",
       "      <th>4</th>\n",
       "      <td>Prajakta</td>\n",
       "      <td>26</td>\n",
       "      <td>Mumbai</td>\n",
       "    </tr>\n",
       "    <tr>\n",
       "      <th>5</th>\n",
       "      <td>Vishal</td>\n",
       "      <td>31</td>\n",
       "      <td>Pune</td>\n",
       "    </tr>\n",
       "    <tr>\n",
       "      <th>6</th>\n",
       "      <td>Yatin</td>\n",
       "      <td>25</td>\n",
       "      <td>Chandigarh</td>\n",
       "    </tr>\n",
       "    <tr>\n",
       "      <th>7</th>\n",
       "      <td>Natraj</td>\n",
       "      <td>36</td>\n",
       "      <td>Delhi</td>\n",
       "    </tr>\n",
       "  </tbody>\n",
       "</table>\n",
       "</div>"
      ],
      "text/plain": [
       "   Emp_Name  Emp_Age    Emp_City\n",
       "0    Tanmay       25        Pune\n",
       "1    Sanjay       24   Bangalore\n",
       "2    Ambika       28     Chennai\n",
       "3       Ebi       22    Dehradun\n",
       "4  Prajakta       26      Mumbai\n",
       "5    Vishal       31        Pune\n",
       "6     Yatin       25  Chandigarh\n",
       "7    Natraj       36       Delhi"
      ]
     },
     "execution_count": 211,
     "metadata": {},
     "output_type": "execute_result"
    }
   ],
   "source": [
    "pd.DataFrame(d)"
   ]
  },
  {
   "cell_type": "markdown",
   "id": "4eeeec07",
   "metadata": {},
   "source": [
    "# Using Nested Dictionary"
   ]
  },
  {
   "cell_type": "code",
   "execution_count": 215,
   "id": "15378efb",
   "metadata": {},
   "outputs": [
    {
     "name": "stdout",
     "output_type": "stream",
     "text": [
      "{'emp_1': {'Name': 'Yatin', 'Age': 25, 'City': 'Pune'}, 'emp_2': {'Name': 'Piyush', 'Age': 28, 'City': 'Delhi'}, 'emp_3': {'Name': 'Akshay', 'Age': 27, 'City': 'Dehradun'}}\n"
     ]
    }
   ],
   "source": [
    "emp={\n",
    "    'emp_1':{'Name':'Yatin',\n",
    "             'Age':25,\n",
    "             'City':'Pune'},\n",
    "    \n",
    "    'emp_2':{'Name':'Piyush',\n",
    "             'Age':28,\n",
    "             'City':'Delhi'},\n",
    "    \n",
    "    'emp_3':{'Name':'Akshay',\n",
    "             'Age':27,\n",
    "             'City':'Dehradun'}\n",
    "    \n",
    "    }\n",
    "print(emp)"
   ]
  },
  {
   "cell_type": "code",
   "execution_count": 216,
   "id": "7746a533",
   "metadata": {},
   "outputs": [
    {
     "data": {
      "text/plain": [
       "{'emp_1': {'Name': 'Yatin', 'Age': 25, 'City': 'Pune'},\n",
       " 'emp_2': {'Name': 'Piyush', 'Age': 28, 'City': 'Delhi'},\n",
       " 'emp_3': {'Name': 'Akshay', 'Age': 27, 'City': 'Dehradun'}}"
      ]
     },
     "execution_count": 216,
     "metadata": {},
     "output_type": "execute_result"
    }
   ],
   "source": [
    "emp"
   ]
  },
  {
   "cell_type": "code",
   "execution_count": 219,
   "id": "a19a176b",
   "metadata": {},
   "outputs": [
    {
     "data": {
      "text/html": [
       "<div>\n",
       "<style scoped>\n",
       "    .dataframe tbody tr th:only-of-type {\n",
       "        vertical-align: middle;\n",
       "    }\n",
       "\n",
       "    .dataframe tbody tr th {\n",
       "        vertical-align: top;\n",
       "    }\n",
       "\n",
       "    .dataframe thead th {\n",
       "        text-align: right;\n",
       "    }\n",
       "</style>\n",
       "<table border=\"1\" class=\"dataframe\">\n",
       "  <thead>\n",
       "    <tr style=\"text-align: right;\">\n",
       "      <th></th>\n",
       "      <th>Name</th>\n",
       "      <th>Age</th>\n",
       "      <th>City</th>\n",
       "    </tr>\n",
       "  </thead>\n",
       "  <tbody>\n",
       "    <tr>\n",
       "      <th>emp_1</th>\n",
       "      <td>Yatin</td>\n",
       "      <td>25</td>\n",
       "      <td>Pune</td>\n",
       "    </tr>\n",
       "    <tr>\n",
       "      <th>emp_2</th>\n",
       "      <td>Piyush</td>\n",
       "      <td>28</td>\n",
       "      <td>Delhi</td>\n",
       "    </tr>\n",
       "    <tr>\n",
       "      <th>emp_3</th>\n",
       "      <td>Akshay</td>\n",
       "      <td>27</td>\n",
       "      <td>Dehradun</td>\n",
       "    </tr>\n",
       "  </tbody>\n",
       "</table>\n",
       "</div>"
      ],
      "text/plain": [
       "         Name Age      City\n",
       "emp_1   Yatin  25      Pune\n",
       "emp_2  Piyush  28     Delhi\n",
       "emp_3  Akshay  27  Dehradun"
      ]
     },
     "execution_count": 219,
     "metadata": {},
     "output_type": "execute_result"
    }
   ],
   "source": [
    "df=pd.DataFrame(emp).T\n",
    "df"
   ]
  },
  {
   "cell_type": "markdown",
   "id": "e34d8ef5",
   "metadata": {},
   "source": [
    "# Indexing and Slicng"
   ]
  },
  {
   "cell_type": "markdown",
   "id": "2a94ffda",
   "metadata": {},
   "source": [
    "# Indexing"
   ]
  },
  {
   "cell_type": "code",
   "execution_count": 220,
   "id": "e02ded76",
   "metadata": {},
   "outputs": [],
   "source": [
    "# We have row indexes and column indexes"
   ]
  },
  {
   "cell_type": "code",
   "execution_count": 221,
   "id": "57075a6f",
   "metadata": {},
   "outputs": [],
   "source": [
    "# df.iloc[row_index]\n",
    "# df.iloc[row_index,col_index]\n",
    "\n",
    "# df.loc[row_index]\n",
    "# df.loc[row_index,col_index]"
   ]
  },
  {
   "cell_type": "code",
   "execution_count": 222,
   "id": "24d77410",
   "metadata": {},
   "outputs": [
    {
     "data": {
      "text/html": [
       "<div>\n",
       "<style scoped>\n",
       "    .dataframe tbody tr th:only-of-type {\n",
       "        vertical-align: middle;\n",
       "    }\n",
       "\n",
       "    .dataframe tbody tr th {\n",
       "        vertical-align: top;\n",
       "    }\n",
       "\n",
       "    .dataframe thead th {\n",
       "        text-align: right;\n",
       "    }\n",
       "</style>\n",
       "<table border=\"1\" class=\"dataframe\">\n",
       "  <thead>\n",
       "    <tr style=\"text-align: right;\">\n",
       "      <th></th>\n",
       "      <th>Name</th>\n",
       "      <th>Age</th>\n",
       "      <th>City</th>\n",
       "    </tr>\n",
       "  </thead>\n",
       "  <tbody>\n",
       "    <tr>\n",
       "      <th>emp_1</th>\n",
       "      <td>Yatin</td>\n",
       "      <td>25</td>\n",
       "      <td>Pune</td>\n",
       "    </tr>\n",
       "    <tr>\n",
       "      <th>emp_2</th>\n",
       "      <td>Piyush</td>\n",
       "      <td>28</td>\n",
       "      <td>Delhi</td>\n",
       "    </tr>\n",
       "    <tr>\n",
       "      <th>emp_3</th>\n",
       "      <td>Akshay</td>\n",
       "      <td>27</td>\n",
       "      <td>Dehradun</td>\n",
       "    </tr>\n",
       "  </tbody>\n",
       "</table>\n",
       "</div>"
      ],
      "text/plain": [
       "         Name Age      City\n",
       "emp_1   Yatin  25      Pune\n",
       "emp_2  Piyush  28     Delhi\n",
       "emp_3  Akshay  27  Dehradun"
      ]
     },
     "execution_count": 222,
     "metadata": {},
     "output_type": "execute_result"
    }
   ],
   "source": [
    "df"
   ]
  },
  {
   "cell_type": "code",
   "execution_count": 223,
   "id": "abaae450",
   "metadata": {},
   "outputs": [
    {
     "data": {
      "text/html": [
       "<div>\n",
       "<style scoped>\n",
       "    .dataframe tbody tr th:only-of-type {\n",
       "        vertical-align: middle;\n",
       "    }\n",
       "\n",
       "    .dataframe tbody tr th {\n",
       "        vertical-align: top;\n",
       "    }\n",
       "\n",
       "    .dataframe thead th {\n",
       "        text-align: right;\n",
       "    }\n",
       "</style>\n",
       "<table border=\"1\" class=\"dataframe\">\n",
       "  <thead>\n",
       "    <tr style=\"text-align: right;\">\n",
       "      <th></th>\n",
       "      <th>Name</th>\n",
       "      <th>Age</th>\n",
       "      <th>City</th>\n",
       "    </tr>\n",
       "  </thead>\n",
       "  <tbody>\n",
       "    <tr>\n",
       "      <th>0</th>\n",
       "      <td>Tanmay</td>\n",
       "      <td>25</td>\n",
       "      <td>Pune</td>\n",
       "    </tr>\n",
       "    <tr>\n",
       "      <th>1</th>\n",
       "      <td>Sanjay</td>\n",
       "      <td>24</td>\n",
       "      <td>Bangalore</td>\n",
       "    </tr>\n",
       "    <tr>\n",
       "      <th>2</th>\n",
       "      <td>Ambika</td>\n",
       "      <td>28</td>\n",
       "      <td>Chennai</td>\n",
       "    </tr>\n",
       "    <tr>\n",
       "      <th>3</th>\n",
       "      <td>Ebi</td>\n",
       "      <td>22</td>\n",
       "      <td>Dehradun</td>\n",
       "    </tr>\n",
       "    <tr>\n",
       "      <th>4</th>\n",
       "      <td>Prajakta</td>\n",
       "      <td>26</td>\n",
       "      <td>Mumbai</td>\n",
       "    </tr>\n",
       "    <tr>\n",
       "      <th>5</th>\n",
       "      <td>Vishal</td>\n",
       "      <td>31</td>\n",
       "      <td>Pune</td>\n",
       "    </tr>\n",
       "    <tr>\n",
       "      <th>6</th>\n",
       "      <td>Yatin</td>\n",
       "      <td>25</td>\n",
       "      <td>Chandigarh</td>\n",
       "    </tr>\n",
       "    <tr>\n",
       "      <th>7</th>\n",
       "      <td>Natraj</td>\n",
       "      <td>36</td>\n",
       "      <td>Delhi</td>\n",
       "    </tr>\n",
       "  </tbody>\n",
       "</table>\n",
       "</div>"
      ],
      "text/plain": [
       "       Name Age        City\n",
       "0    Tanmay  25        Pune\n",
       "1    Sanjay  24   Bangalore\n",
       "2    Ambika  28     Chennai\n",
       "3       Ebi  22    Dehradun\n",
       "4  Prajakta  26      Mumbai\n",
       "5    Vishal  31        Pune\n",
       "6     Yatin  25  Chandigarh\n",
       "7    Natraj  36       Delhi"
      ]
     },
     "execution_count": 223,
     "metadata": {},
     "output_type": "execute_result"
    }
   ],
   "source": [
    "df_1=pd.DataFrame([nsr,asr,csr]).T\n",
    "df_1"
   ]
  },
  {
   "cell_type": "code",
   "execution_count": 225,
   "id": "c6b08713",
   "metadata": {},
   "outputs": [
    {
     "data": {
      "text/html": [
       "<div>\n",
       "<style scoped>\n",
       "    .dataframe tbody tr th:only-of-type {\n",
       "        vertical-align: middle;\n",
       "    }\n",
       "\n",
       "    .dataframe tbody tr th {\n",
       "        vertical-align: top;\n",
       "    }\n",
       "\n",
       "    .dataframe thead th {\n",
       "        text-align: right;\n",
       "    }\n",
       "</style>\n",
       "<table border=\"1\" class=\"dataframe\">\n",
       "  <thead>\n",
       "    <tr style=\"text-align: right;\">\n",
       "      <th></th>\n",
       "      <th>Name</th>\n",
       "      <th>Age</th>\n",
       "      <th>City</th>\n",
       "    </tr>\n",
       "  </thead>\n",
       "  <tbody>\n",
       "    <tr>\n",
       "      <th>0</th>\n",
       "      <td>Tanmay</td>\n",
       "      <td>25</td>\n",
       "      <td>Pune</td>\n",
       "    </tr>\n",
       "  </tbody>\n",
       "</table>\n",
       "</div>"
      ],
      "text/plain": [
       "     Name Age  City\n",
       "0  Tanmay  25  Pune"
      ]
     },
     "execution_count": 225,
     "metadata": {},
     "output_type": "execute_result"
    }
   ],
   "source": [
    "# Fetch the first row\n",
    "\n",
    "df_1.iloc[[0]]"
   ]
  },
  {
   "cell_type": "code",
   "execution_count": 233,
   "id": "eff74243",
   "metadata": {},
   "outputs": [
    {
     "data": {
      "text/html": [
       "<div>\n",
       "<style scoped>\n",
       "    .dataframe tbody tr th:only-of-type {\n",
       "        vertical-align: middle;\n",
       "    }\n",
       "\n",
       "    .dataframe tbody tr th {\n",
       "        vertical-align: top;\n",
       "    }\n",
       "\n",
       "    .dataframe thead th {\n",
       "        text-align: right;\n",
       "    }\n",
       "</style>\n",
       "<table border=\"1\" class=\"dataframe\">\n",
       "  <thead>\n",
       "    <tr style=\"text-align: right;\">\n",
       "      <th></th>\n",
       "      <th>Name</th>\n",
       "      <th>Age</th>\n",
       "      <th>City</th>\n",
       "    </tr>\n",
       "  </thead>\n",
       "  <tbody>\n",
       "    <tr>\n",
       "      <th>0</th>\n",
       "      <td>Tanmay</td>\n",
       "      <td>25</td>\n",
       "      <td>Pune</td>\n",
       "    </tr>\n",
       "  </tbody>\n",
       "</table>\n",
       "</div>"
      ],
      "text/plain": [
       "     Name Age  City\n",
       "0  Tanmay  25  Pune"
      ]
     },
     "execution_count": 233,
     "metadata": {},
     "output_type": "execute_result"
    }
   ],
   "source": [
    "df_1.iloc[[-8]]"
   ]
  },
  {
   "cell_type": "code",
   "execution_count": 234,
   "id": "058ef706",
   "metadata": {},
   "outputs": [
    {
     "data": {
      "text/html": [
       "<div>\n",
       "<style scoped>\n",
       "    .dataframe tbody tr th:only-of-type {\n",
       "        vertical-align: middle;\n",
       "    }\n",
       "\n",
       "    .dataframe tbody tr th {\n",
       "        vertical-align: top;\n",
       "    }\n",
       "\n",
       "    .dataframe thead th {\n",
       "        text-align: right;\n",
       "    }\n",
       "</style>\n",
       "<table border=\"1\" class=\"dataframe\">\n",
       "  <thead>\n",
       "    <tr style=\"text-align: right;\">\n",
       "      <th></th>\n",
       "      <th>Name</th>\n",
       "      <th>Age</th>\n",
       "      <th>City</th>\n",
       "    </tr>\n",
       "  </thead>\n",
       "  <tbody>\n",
       "    <tr>\n",
       "      <th>0</th>\n",
       "      <td>Tanmay</td>\n",
       "      <td>25</td>\n",
       "      <td>Pune</td>\n",
       "    </tr>\n",
       "    <tr>\n",
       "      <th>1</th>\n",
       "      <td>Sanjay</td>\n",
       "      <td>24</td>\n",
       "      <td>Bangalore</td>\n",
       "    </tr>\n",
       "    <tr>\n",
       "      <th>2</th>\n",
       "      <td>Ambika</td>\n",
       "      <td>28</td>\n",
       "      <td>Chennai</td>\n",
       "    </tr>\n",
       "    <tr>\n",
       "      <th>3</th>\n",
       "      <td>Ebi</td>\n",
       "      <td>22</td>\n",
       "      <td>Dehradun</td>\n",
       "    </tr>\n",
       "    <tr>\n",
       "      <th>4</th>\n",
       "      <td>Prajakta</td>\n",
       "      <td>26</td>\n",
       "      <td>Mumbai</td>\n",
       "    </tr>\n",
       "    <tr>\n",
       "      <th>5</th>\n",
       "      <td>Vishal</td>\n",
       "      <td>31</td>\n",
       "      <td>Pune</td>\n",
       "    </tr>\n",
       "    <tr>\n",
       "      <th>6</th>\n",
       "      <td>Yatin</td>\n",
       "      <td>25</td>\n",
       "      <td>Chandigarh</td>\n",
       "    </tr>\n",
       "    <tr>\n",
       "      <th>7</th>\n",
       "      <td>Natraj</td>\n",
       "      <td>36</td>\n",
       "      <td>Delhi</td>\n",
       "    </tr>\n",
       "  </tbody>\n",
       "</table>\n",
       "</div>"
      ],
      "text/plain": [
       "       Name Age        City\n",
       "0    Tanmay  25        Pune\n",
       "1    Sanjay  24   Bangalore\n",
       "2    Ambika  28     Chennai\n",
       "3       Ebi  22    Dehradun\n",
       "4  Prajakta  26      Mumbai\n",
       "5    Vishal  31        Pune\n",
       "6     Yatin  25  Chandigarh\n",
       "7    Natraj  36       Delhi"
      ]
     },
     "execution_count": 234,
     "metadata": {},
     "output_type": "execute_result"
    }
   ],
   "source": [
    "df_1"
   ]
  },
  {
   "cell_type": "code",
   "execution_count": 236,
   "id": "9feb0466",
   "metadata": {},
   "outputs": [
    {
     "data": {
      "text/plain": [
       "'Ambika'"
      ]
     },
     "execution_count": 236,
     "metadata": {},
     "output_type": "execute_result"
    }
   ],
   "source": [
    "# Fetch the name from the third row\n",
    "\n",
    "df_1.iloc[2,0]"
   ]
  },
  {
   "cell_type": "code",
   "execution_count": 238,
   "id": "0a222399",
   "metadata": {},
   "outputs": [
    {
     "data": {
      "text/plain": [
       "'Mumbai'"
      ]
     },
     "execution_count": 238,
     "metadata": {},
     "output_type": "execute_result"
    }
   ],
   "source": [
    "# Fetch the city from the fifth row\n",
    "\n",
    "df_1.iloc[4,-1]"
   ]
  },
  {
   "cell_type": "code",
   "execution_count": 239,
   "id": "eb302cf0",
   "metadata": {},
   "outputs": [
    {
     "data": {
      "text/plain": [
       "'Mumbai'"
      ]
     },
     "execution_count": 239,
     "metadata": {},
     "output_type": "execute_result"
    }
   ],
   "source": [
    "df_1.iloc[4,2]"
   ]
  },
  {
   "cell_type": "code",
   "execution_count": 241,
   "id": "264f620f",
   "metadata": {},
   "outputs": [
    {
     "data": {
      "text/plain": [
       "'Ambika'"
      ]
     },
     "execution_count": 241,
     "metadata": {},
     "output_type": "execute_result"
    }
   ],
   "source": [
    "# Fetch the name from the third row\n",
    "\n",
    "df_1.loc[2,'Name']"
   ]
  },
  {
   "cell_type": "code",
   "execution_count": 242,
   "id": "e7d6e50f",
   "metadata": {},
   "outputs": [
    {
     "data": {
      "text/plain": [
       "'Mumbai'"
      ]
     },
     "execution_count": 242,
     "metadata": {},
     "output_type": "execute_result"
    }
   ],
   "source": [
    "# Fetch the city from the fifth row\n",
    "\n",
    "df_1.loc[4,'City']"
   ]
  },
  {
   "cell_type": "code",
   "execution_count": 243,
   "id": "f23a99e4",
   "metadata": {},
   "outputs": [],
   "source": [
    "# In the 6th row change the city to Madurai"
   ]
  },
  {
   "cell_type": "code",
   "execution_count": 244,
   "id": "7ba95d8d",
   "metadata": {},
   "outputs": [
    {
     "data": {
      "text/html": [
       "<div>\n",
       "<style scoped>\n",
       "    .dataframe tbody tr th:only-of-type {\n",
       "        vertical-align: middle;\n",
       "    }\n",
       "\n",
       "    .dataframe tbody tr th {\n",
       "        vertical-align: top;\n",
       "    }\n",
       "\n",
       "    .dataframe thead th {\n",
       "        text-align: right;\n",
       "    }\n",
       "</style>\n",
       "<table border=\"1\" class=\"dataframe\">\n",
       "  <thead>\n",
       "    <tr style=\"text-align: right;\">\n",
       "      <th></th>\n",
       "      <th>Name</th>\n",
       "      <th>Age</th>\n",
       "      <th>City</th>\n",
       "    </tr>\n",
       "  </thead>\n",
       "  <tbody>\n",
       "    <tr>\n",
       "      <th>0</th>\n",
       "      <td>Tanmay</td>\n",
       "      <td>25</td>\n",
       "      <td>Pune</td>\n",
       "    </tr>\n",
       "    <tr>\n",
       "      <th>1</th>\n",
       "      <td>Sanjay</td>\n",
       "      <td>24</td>\n",
       "      <td>Bangalore</td>\n",
       "    </tr>\n",
       "    <tr>\n",
       "      <th>2</th>\n",
       "      <td>Ambika</td>\n",
       "      <td>28</td>\n",
       "      <td>Chennai</td>\n",
       "    </tr>\n",
       "    <tr>\n",
       "      <th>3</th>\n",
       "      <td>Ebi</td>\n",
       "      <td>22</td>\n",
       "      <td>Dehradun</td>\n",
       "    </tr>\n",
       "    <tr>\n",
       "      <th>4</th>\n",
       "      <td>Prajakta</td>\n",
       "      <td>26</td>\n",
       "      <td>Mumbai</td>\n",
       "    </tr>\n",
       "    <tr>\n",
       "      <th>5</th>\n",
       "      <td>Vishal</td>\n",
       "      <td>31</td>\n",
       "      <td>Pune</td>\n",
       "    </tr>\n",
       "    <tr>\n",
       "      <th>6</th>\n",
       "      <td>Yatin</td>\n",
       "      <td>25</td>\n",
       "      <td>Chandigarh</td>\n",
       "    </tr>\n",
       "    <tr>\n",
       "      <th>7</th>\n",
       "      <td>Natraj</td>\n",
       "      <td>36</td>\n",
       "      <td>Delhi</td>\n",
       "    </tr>\n",
       "  </tbody>\n",
       "</table>\n",
       "</div>"
      ],
      "text/plain": [
       "       Name Age        City\n",
       "0    Tanmay  25        Pune\n",
       "1    Sanjay  24   Bangalore\n",
       "2    Ambika  28     Chennai\n",
       "3       Ebi  22    Dehradun\n",
       "4  Prajakta  26      Mumbai\n",
       "5    Vishal  31        Pune\n",
       "6     Yatin  25  Chandigarh\n",
       "7    Natraj  36       Delhi"
      ]
     },
     "execution_count": 244,
     "metadata": {},
     "output_type": "execute_result"
    }
   ],
   "source": [
    "df_1"
   ]
  },
  {
   "cell_type": "code",
   "execution_count": 247,
   "id": "53491afa",
   "metadata": {},
   "outputs": [],
   "source": [
    "df_1.loc[5,'City']='Madurai'"
   ]
  },
  {
   "cell_type": "code",
   "execution_count": 248,
   "id": "a5fe78d3",
   "metadata": {},
   "outputs": [
    {
     "data": {
      "text/html": [
       "<div>\n",
       "<style scoped>\n",
       "    .dataframe tbody tr th:only-of-type {\n",
       "        vertical-align: middle;\n",
       "    }\n",
       "\n",
       "    .dataframe tbody tr th {\n",
       "        vertical-align: top;\n",
       "    }\n",
       "\n",
       "    .dataframe thead th {\n",
       "        text-align: right;\n",
       "    }\n",
       "</style>\n",
       "<table border=\"1\" class=\"dataframe\">\n",
       "  <thead>\n",
       "    <tr style=\"text-align: right;\">\n",
       "      <th></th>\n",
       "      <th>Name</th>\n",
       "      <th>Age</th>\n",
       "      <th>City</th>\n",
       "    </tr>\n",
       "  </thead>\n",
       "  <tbody>\n",
       "    <tr>\n",
       "      <th>0</th>\n",
       "      <td>Tanmay</td>\n",
       "      <td>25</td>\n",
       "      <td>Pune</td>\n",
       "    </tr>\n",
       "    <tr>\n",
       "      <th>1</th>\n",
       "      <td>Sanjay</td>\n",
       "      <td>24</td>\n",
       "      <td>Bangalore</td>\n",
       "    </tr>\n",
       "    <tr>\n",
       "      <th>2</th>\n",
       "      <td>Ambika</td>\n",
       "      <td>28</td>\n",
       "      <td>Chennai</td>\n",
       "    </tr>\n",
       "    <tr>\n",
       "      <th>3</th>\n",
       "      <td>Ebi</td>\n",
       "      <td>22</td>\n",
       "      <td>Dehradun</td>\n",
       "    </tr>\n",
       "    <tr>\n",
       "      <th>4</th>\n",
       "      <td>Prajakta</td>\n",
       "      <td>26</td>\n",
       "      <td>Mumbai</td>\n",
       "    </tr>\n",
       "    <tr>\n",
       "      <th>5</th>\n",
       "      <td>Vishal</td>\n",
       "      <td>31</td>\n",
       "      <td>Madurai</td>\n",
       "    </tr>\n",
       "    <tr>\n",
       "      <th>6</th>\n",
       "      <td>Yatin</td>\n",
       "      <td>25</td>\n",
       "      <td>Chandigarh</td>\n",
       "    </tr>\n",
       "    <tr>\n",
       "      <th>7</th>\n",
       "      <td>Natraj</td>\n",
       "      <td>36</td>\n",
       "      <td>Delhi</td>\n",
       "    </tr>\n",
       "  </tbody>\n",
       "</table>\n",
       "</div>"
      ],
      "text/plain": [
       "       Name Age        City\n",
       "0    Tanmay  25        Pune\n",
       "1    Sanjay  24   Bangalore\n",
       "2    Ambika  28     Chennai\n",
       "3       Ebi  22    Dehradun\n",
       "4  Prajakta  26      Mumbai\n",
       "5    Vishal  31     Madurai\n",
       "6     Yatin  25  Chandigarh\n",
       "7    Natraj  36       Delhi"
      ]
     },
     "execution_count": 248,
     "metadata": {},
     "output_type": "execute_result"
    }
   ],
   "source": [
    "df_1"
   ]
  },
  {
   "cell_type": "code",
   "execution_count": 249,
   "id": "9633a085",
   "metadata": {},
   "outputs": [],
   "source": [
    "# In the 4th row change the name to Nimisha"
   ]
  },
  {
   "cell_type": "code",
   "execution_count": 252,
   "id": "6811b802",
   "metadata": {},
   "outputs": [],
   "source": [
    "df_1.loc[3,'Name']='Nimisha'"
   ]
  },
  {
   "cell_type": "code",
   "execution_count": 253,
   "id": "68d504c5",
   "metadata": {},
   "outputs": [
    {
     "data": {
      "text/html": [
       "<div>\n",
       "<style scoped>\n",
       "    .dataframe tbody tr th:only-of-type {\n",
       "        vertical-align: middle;\n",
       "    }\n",
       "\n",
       "    .dataframe tbody tr th {\n",
       "        vertical-align: top;\n",
       "    }\n",
       "\n",
       "    .dataframe thead th {\n",
       "        text-align: right;\n",
       "    }\n",
       "</style>\n",
       "<table border=\"1\" class=\"dataframe\">\n",
       "  <thead>\n",
       "    <tr style=\"text-align: right;\">\n",
       "      <th></th>\n",
       "      <th>Name</th>\n",
       "      <th>Age</th>\n",
       "      <th>City</th>\n",
       "    </tr>\n",
       "  </thead>\n",
       "  <tbody>\n",
       "    <tr>\n",
       "      <th>0</th>\n",
       "      <td>Tanmay</td>\n",
       "      <td>25</td>\n",
       "      <td>Pune</td>\n",
       "    </tr>\n",
       "    <tr>\n",
       "      <th>1</th>\n",
       "      <td>Sanjay</td>\n",
       "      <td>24</td>\n",
       "      <td>Bangalore</td>\n",
       "    </tr>\n",
       "    <tr>\n",
       "      <th>2</th>\n",
       "      <td>Ambika</td>\n",
       "      <td>28</td>\n",
       "      <td>Chennai</td>\n",
       "    </tr>\n",
       "    <tr>\n",
       "      <th>3</th>\n",
       "      <td>Nimisha</td>\n",
       "      <td>22</td>\n",
       "      <td>Dehradun</td>\n",
       "    </tr>\n",
       "    <tr>\n",
       "      <th>4</th>\n",
       "      <td>Prajakta</td>\n",
       "      <td>26</td>\n",
       "      <td>Mumbai</td>\n",
       "    </tr>\n",
       "    <tr>\n",
       "      <th>5</th>\n",
       "      <td>Vishal</td>\n",
       "      <td>31</td>\n",
       "      <td>Madurai</td>\n",
       "    </tr>\n",
       "    <tr>\n",
       "      <th>6</th>\n",
       "      <td>Yatin</td>\n",
       "      <td>25</td>\n",
       "      <td>Chandigarh</td>\n",
       "    </tr>\n",
       "    <tr>\n",
       "      <th>7</th>\n",
       "      <td>Natraj</td>\n",
       "      <td>36</td>\n",
       "      <td>Delhi</td>\n",
       "    </tr>\n",
       "  </tbody>\n",
       "</table>\n",
       "</div>"
      ],
      "text/plain": [
       "       Name Age        City\n",
       "0    Tanmay  25        Pune\n",
       "1    Sanjay  24   Bangalore\n",
       "2    Ambika  28     Chennai\n",
       "3   Nimisha  22    Dehradun\n",
       "4  Prajakta  26      Mumbai\n",
       "5    Vishal  31     Madurai\n",
       "6     Yatin  25  Chandigarh\n",
       "7    Natraj  36       Delhi"
      ]
     },
     "execution_count": 253,
     "metadata": {},
     "output_type": "execute_result"
    }
   ],
   "source": [
    "df_1"
   ]
  },
  {
   "cell_type": "code",
   "execution_count": 254,
   "id": "9dc5356b",
   "metadata": {},
   "outputs": [
    {
     "data": {
      "text/html": [
       "<div>\n",
       "<style scoped>\n",
       "    .dataframe tbody tr th:only-of-type {\n",
       "        vertical-align: middle;\n",
       "    }\n",
       "\n",
       "    .dataframe tbody tr th {\n",
       "        vertical-align: top;\n",
       "    }\n",
       "\n",
       "    .dataframe thead th {\n",
       "        text-align: right;\n",
       "    }\n",
       "</style>\n",
       "<table border=\"1\" class=\"dataframe\">\n",
       "  <thead>\n",
       "    <tr style=\"text-align: right;\">\n",
       "      <th></th>\n",
       "      <th>Name</th>\n",
       "      <th>Age</th>\n",
       "      <th>City</th>\n",
       "    </tr>\n",
       "  </thead>\n",
       "  <tbody>\n",
       "    <tr>\n",
       "      <th>emp_1</th>\n",
       "      <td>Yatin</td>\n",
       "      <td>25</td>\n",
       "      <td>Pune</td>\n",
       "    </tr>\n",
       "    <tr>\n",
       "      <th>emp_2</th>\n",
       "      <td>Piyush</td>\n",
       "      <td>28</td>\n",
       "      <td>Delhi</td>\n",
       "    </tr>\n",
       "    <tr>\n",
       "      <th>emp_3</th>\n",
       "      <td>Akshay</td>\n",
       "      <td>27</td>\n",
       "      <td>Dehradun</td>\n",
       "    </tr>\n",
       "  </tbody>\n",
       "</table>\n",
       "</div>"
      ],
      "text/plain": [
       "         Name Age      City\n",
       "emp_1   Yatin  25      Pune\n",
       "emp_2  Piyush  28     Delhi\n",
       "emp_3  Akshay  27  Dehradun"
      ]
     },
     "execution_count": 254,
     "metadata": {},
     "output_type": "execute_result"
    }
   ],
   "source": [
    "df"
   ]
  },
  {
   "cell_type": "code",
   "execution_count": 255,
   "id": "1f85052c",
   "metadata": {},
   "outputs": [],
   "source": [
    "# Fetch the details of emp_3"
   ]
  },
  {
   "cell_type": "code",
   "execution_count": 257,
   "id": "23f834f6",
   "metadata": {},
   "outputs": [
    {
     "data": {
      "text/html": [
       "<div>\n",
       "<style scoped>\n",
       "    .dataframe tbody tr th:only-of-type {\n",
       "        vertical-align: middle;\n",
       "    }\n",
       "\n",
       "    .dataframe tbody tr th {\n",
       "        vertical-align: top;\n",
       "    }\n",
       "\n",
       "    .dataframe thead th {\n",
       "        text-align: right;\n",
       "    }\n",
       "</style>\n",
       "<table border=\"1\" class=\"dataframe\">\n",
       "  <thead>\n",
       "    <tr style=\"text-align: right;\">\n",
       "      <th></th>\n",
       "      <th>Name</th>\n",
       "      <th>Age</th>\n",
       "      <th>City</th>\n",
       "    </tr>\n",
       "  </thead>\n",
       "  <tbody>\n",
       "    <tr>\n",
       "      <th>emp_3</th>\n",
       "      <td>Akshay</td>\n",
       "      <td>27</td>\n",
       "      <td>Dehradun</td>\n",
       "    </tr>\n",
       "  </tbody>\n",
       "</table>\n",
       "</div>"
      ],
      "text/plain": [
       "         Name Age      City\n",
       "emp_3  Akshay  27  Dehradun"
      ]
     },
     "execution_count": 257,
     "metadata": {},
     "output_type": "execute_result"
    }
   ],
   "source": [
    "df.loc[['emp_3']]"
   ]
  },
  {
   "cell_type": "code",
   "execution_count": 258,
   "id": "144e60c3",
   "metadata": {},
   "outputs": [],
   "source": [
    "# Change the name of emp_2 to Vishal"
   ]
  },
  {
   "cell_type": "code",
   "execution_count": 261,
   "id": "c7acc4d5",
   "metadata": {},
   "outputs": [],
   "source": [
    "df.loc['emp_2','Name']='Vishal'"
   ]
  },
  {
   "cell_type": "code",
   "execution_count": 262,
   "id": "10918878",
   "metadata": {},
   "outputs": [
    {
     "data": {
      "text/html": [
       "<div>\n",
       "<style scoped>\n",
       "    .dataframe tbody tr th:only-of-type {\n",
       "        vertical-align: middle;\n",
       "    }\n",
       "\n",
       "    .dataframe tbody tr th {\n",
       "        vertical-align: top;\n",
       "    }\n",
       "\n",
       "    .dataframe thead th {\n",
       "        text-align: right;\n",
       "    }\n",
       "</style>\n",
       "<table border=\"1\" class=\"dataframe\">\n",
       "  <thead>\n",
       "    <tr style=\"text-align: right;\">\n",
       "      <th></th>\n",
       "      <th>Name</th>\n",
       "      <th>Age</th>\n",
       "      <th>City</th>\n",
       "    </tr>\n",
       "  </thead>\n",
       "  <tbody>\n",
       "    <tr>\n",
       "      <th>emp_1</th>\n",
       "      <td>Yatin</td>\n",
       "      <td>25</td>\n",
       "      <td>Pune</td>\n",
       "    </tr>\n",
       "    <tr>\n",
       "      <th>emp_2</th>\n",
       "      <td>Vishal</td>\n",
       "      <td>28</td>\n",
       "      <td>Delhi</td>\n",
       "    </tr>\n",
       "    <tr>\n",
       "      <th>emp_3</th>\n",
       "      <td>Akshay</td>\n",
       "      <td>27</td>\n",
       "      <td>Dehradun</td>\n",
       "    </tr>\n",
       "  </tbody>\n",
       "</table>\n",
       "</div>"
      ],
      "text/plain": [
       "         Name Age      City\n",
       "emp_1   Yatin  25      Pune\n",
       "emp_2  Vishal  28     Delhi\n",
       "emp_3  Akshay  27  Dehradun"
      ]
     },
     "execution_count": 262,
     "metadata": {},
     "output_type": "execute_result"
    }
   ],
   "source": [
    "df"
   ]
  },
  {
   "cell_type": "code",
   "execution_count": 263,
   "id": "d1416239",
   "metadata": {},
   "outputs": [],
   "source": [
    "# Change the Age of emp_1 to 32"
   ]
  },
  {
   "cell_type": "code",
   "execution_count": 266,
   "id": "afac7c49",
   "metadata": {},
   "outputs": [],
   "source": [
    "df.loc['emp_1','Age']=32"
   ]
  },
  {
   "cell_type": "code",
   "execution_count": 267,
   "id": "40dde3df",
   "metadata": {},
   "outputs": [
    {
     "data": {
      "text/html": [
       "<div>\n",
       "<style scoped>\n",
       "    .dataframe tbody tr th:only-of-type {\n",
       "        vertical-align: middle;\n",
       "    }\n",
       "\n",
       "    .dataframe tbody tr th {\n",
       "        vertical-align: top;\n",
       "    }\n",
       "\n",
       "    .dataframe thead th {\n",
       "        text-align: right;\n",
       "    }\n",
       "</style>\n",
       "<table border=\"1\" class=\"dataframe\">\n",
       "  <thead>\n",
       "    <tr style=\"text-align: right;\">\n",
       "      <th></th>\n",
       "      <th>Name</th>\n",
       "      <th>Age</th>\n",
       "      <th>City</th>\n",
       "    </tr>\n",
       "  </thead>\n",
       "  <tbody>\n",
       "    <tr>\n",
       "      <th>emp_1</th>\n",
       "      <td>Yatin</td>\n",
       "      <td>32</td>\n",
       "      <td>Pune</td>\n",
       "    </tr>\n",
       "    <tr>\n",
       "      <th>emp_2</th>\n",
       "      <td>Vishal</td>\n",
       "      <td>28</td>\n",
       "      <td>Delhi</td>\n",
       "    </tr>\n",
       "    <tr>\n",
       "      <th>emp_3</th>\n",
       "      <td>Akshay</td>\n",
       "      <td>27</td>\n",
       "      <td>Dehradun</td>\n",
       "    </tr>\n",
       "  </tbody>\n",
       "</table>\n",
       "</div>"
      ],
      "text/plain": [
       "         Name Age      City\n",
       "emp_1   Yatin  32      Pune\n",
       "emp_2  Vishal  28     Delhi\n",
       "emp_3  Akshay  27  Dehradun"
      ]
     },
     "execution_count": 267,
     "metadata": {},
     "output_type": "execute_result"
    }
   ],
   "source": [
    "df"
   ]
  },
  {
   "cell_type": "code",
   "execution_count": 270,
   "id": "3763f397",
   "metadata": {},
   "outputs": [
    {
     "data": {
      "text/html": [
       "<div>\n",
       "<style scoped>\n",
       "    .dataframe tbody tr th:only-of-type {\n",
       "        vertical-align: middle;\n",
       "    }\n",
       "\n",
       "    .dataframe tbody tr th {\n",
       "        vertical-align: top;\n",
       "    }\n",
       "\n",
       "    .dataframe thead th {\n",
       "        text-align: right;\n",
       "    }\n",
       "</style>\n",
       "<table border=\"1\" class=\"dataframe\">\n",
       "  <thead>\n",
       "    <tr style=\"text-align: right;\">\n",
       "      <th></th>\n",
       "      <th>Age</th>\n",
       "    </tr>\n",
       "  </thead>\n",
       "  <tbody>\n",
       "    <tr>\n",
       "      <th>0</th>\n",
       "      <td>1</td>\n",
       "    </tr>\n",
       "    <tr>\n",
       "      <th>1</th>\n",
       "      <td>2</td>\n",
       "    </tr>\n",
       "    <tr>\n",
       "      <th>2</th>\n",
       "      <td>3</td>\n",
       "    </tr>\n",
       "    <tr>\n",
       "      <th>3</th>\n",
       "      <td>4</td>\n",
       "    </tr>\n",
       "  </tbody>\n",
       "</table>\n",
       "</div>"
      ],
      "text/plain": [
       "   Age\n",
       "0    1\n",
       "1    2\n",
       "2    3\n",
       "3    4"
      ]
     },
     "execution_count": 270,
     "metadata": {},
     "output_type": "execute_result"
    }
   ],
   "source": [
    "pd.DataFrame({'Age':[10,20,30,40],'Age':[1,2,3,4]})"
   ]
  },
  {
   "cell_type": "code",
   "execution_count": null,
   "id": "89b97211",
   "metadata": {},
   "outputs": [],
   "source": []
  }
 ],
 "metadata": {
  "kernelspec": {
   "display_name": "Python 3 (ipykernel)",
   "language": "python",
   "name": "python3"
  },
  "language_info": {
   "codemirror_mode": {
    "name": "ipython",
    "version": 3
   },
   "file_extension": ".py",
   "mimetype": "text/x-python",
   "name": "python",
   "nbconvert_exporter": "python",
   "pygments_lexer": "ipython3",
   "version": "3.11.3"
  }
 },
 "nbformat": 4,
 "nbformat_minor": 5
}
