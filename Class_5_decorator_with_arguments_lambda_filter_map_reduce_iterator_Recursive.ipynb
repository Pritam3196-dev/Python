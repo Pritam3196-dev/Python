{
 "cells": [
  {
   "cell_type": "markdown",
   "id": "7e6650c7",
   "metadata": {},
   "source": [
    "# Decorators with arguments"
   ]
  },
  {
   "cell_type": "code",
   "execution_count": 1,
   "id": "e63bb831",
   "metadata": {},
   "outputs": [],
   "source": [
    "def my_name(name):\n",
    "    return name"
   ]
  },
  {
   "cell_type": "code",
   "execution_count": 2,
   "id": "3a6789d5",
   "metadata": {},
   "outputs": [
    {
     "data": {
      "text/plain": [
       "'Abhishek'"
      ]
     },
     "execution_count": 2,
     "metadata": {},
     "output_type": "execute_result"
    }
   ],
   "source": [
    "my_name('Abhishek')"
   ]
  },
  {
   "cell_type": "code",
   "execution_count": 3,
   "id": "021fc000",
   "metadata": {},
   "outputs": [],
   "source": [
    "# Output- I am Abhishek"
   ]
  },
  {
   "cell_type": "code",
   "execution_count": 4,
   "id": "635fdf78",
   "metadata": {},
   "outputs": [
    {
     "data": {
      "text/plain": [
       "'I am Abhishek'"
      ]
     },
     "execution_count": 4,
     "metadata": {},
     "output_type": "execute_result"
    }
   ],
   "source": [
    "'I am '+my_name('Abhishek')"
   ]
  },
  {
   "cell_type": "code",
   "execution_count": null,
   "id": "dcfd435d",
   "metadata": {},
   "outputs": [],
   "source": [
    "def decorator(f):\n",
    "    def wrapper(parameter):\n",
    "        code\n",
    "        code\n",
    "    return wrapper"
   ]
  },
  {
   "cell_type": "code",
   "execution_count": 6,
   "id": "ddcfc030",
   "metadata": {},
   "outputs": [],
   "source": [
    "def name_decorator(f): # f=my_name\n",
    "    def wrapper(name):\n",
    "        s=f(name)\n",
    "        return 'I am '+s\n",
    "    return wrapper"
   ]
  },
  {
   "cell_type": "code",
   "execution_count": 7,
   "id": "3fa33fdf",
   "metadata": {},
   "outputs": [
    {
     "name": "stdout",
     "output_type": "stream",
     "text": [
      "<function name_decorator.<locals>.wrapper at 0x0000028767393D80>\n"
     ]
    }
   ],
   "source": [
    "x=name_decorator(my_name)\n",
    "print(x)"
   ]
  },
  {
   "cell_type": "code",
   "execution_count": 8,
   "id": "0297be30",
   "metadata": {},
   "outputs": [
    {
     "data": {
      "text/plain": [
       "'I am Abishek'"
      ]
     },
     "execution_count": 8,
     "metadata": {},
     "output_type": "execute_result"
    }
   ],
   "source": [
    "x('Abishek')"
   ]
  },
  {
   "cell_type": "code",
   "execution_count": 9,
   "id": "578c070f",
   "metadata": {},
   "outputs": [
    {
     "data": {
      "text/plain": [
       "'I am Akshay'"
      ]
     },
     "execution_count": 9,
     "metadata": {},
     "output_type": "execute_result"
    }
   ],
   "source": [
    "x('Akshay')"
   ]
  },
  {
   "cell_type": "code",
   "execution_count": 10,
   "id": "a3363e4a",
   "metadata": {},
   "outputs": [
    {
     "data": {
      "text/plain": [
       "'Akshay'"
      ]
     },
     "execution_count": 10,
     "metadata": {},
     "output_type": "execute_result"
    }
   ],
   "source": [
    "my_name('Akshay')"
   ]
  },
  {
   "cell_type": "code",
   "execution_count": 11,
   "id": "54d89d9b",
   "metadata": {},
   "outputs": [],
   "source": [
    "def division(x,y):\n",
    "    return x/y"
   ]
  },
  {
   "cell_type": "code",
   "execution_count": 12,
   "id": "82053fa8",
   "metadata": {},
   "outputs": [
    {
     "data": {
      "text/plain": [
       "0.5"
      ]
     },
     "execution_count": 12,
     "metadata": {},
     "output_type": "execute_result"
    }
   ],
   "source": [
    "division(2,4)"
   ]
  },
  {
   "cell_type": "code",
   "execution_count": 13,
   "id": "af2f031f",
   "metadata": {},
   "outputs": [],
   "source": [
    "def div_decorator(f):\n",
    "    def wrapper(x,y):\n",
    "        if x>y and y!=0:\n",
    "            return f(x,y)\n",
    "        elif y>x and x!=0:\n",
    "            return f(y,x)\n",
    "        else:\n",
    "            return 'not possible'\n",
    "    return wrapper"
   ]
  },
  {
   "cell_type": "code",
   "execution_count": 14,
   "id": "e9c2767a",
   "metadata": {},
   "outputs": [
    {
     "data": {
      "text/plain": [
       "2.5"
      ]
     },
     "execution_count": 14,
     "metadata": {},
     "output_type": "execute_result"
    }
   ],
   "source": [
    "x=div_decorator(division)\n",
    "x(5,2)"
   ]
  },
  {
   "cell_type": "code",
   "execution_count": 15,
   "id": "936e0945",
   "metadata": {},
   "outputs": [
    {
     "data": {
      "text/plain": [
       "1.25"
      ]
     },
     "execution_count": 15,
     "metadata": {},
     "output_type": "execute_result"
    }
   ],
   "source": [
    "x(5,4)"
   ]
  },
  {
   "cell_type": "code",
   "execution_count": 16,
   "id": "7aebd19b",
   "metadata": {},
   "outputs": [],
   "source": [
    "# OOP's\n",
    "# Class methods and static methods"
   ]
  },
  {
   "cell_type": "markdown",
   "id": "35af7d47",
   "metadata": {},
   "source": [
    "# lambda function"
   ]
  },
  {
   "cell_type": "code",
   "execution_count": 17,
   "id": "0641d282",
   "metadata": {},
   "outputs": [],
   "source": [
    "# - It is known as anonymous function.\n",
    "# - It is a simple way of writing a function.\n",
    "# - Using lambda we can write the function definition in a single line"
   ]
  },
  {
   "cell_type": "code",
   "execution_count": 18,
   "id": "4cfea35f",
   "metadata": {},
   "outputs": [],
   "source": [
    "def add(x,y):\n",
    "    return x+y"
   ]
  },
  {
   "cell_type": "markdown",
   "id": "a64331d4",
   "metadata": {},
   "source": [
    "# Syntax-"
   ]
  },
  {
   "cell_type": "code",
   "execution_count": 19,
   "id": "86ba1cea",
   "metadata": {},
   "outputs": [],
   "source": [
    "# lambda arguments:operation"
   ]
  },
  {
   "cell_type": "markdown",
   "id": "f5454f3a",
   "metadata": {},
   "source": [
    "# Calling a lambda()"
   ]
  },
  {
   "cell_type": "code",
   "execution_count": 20,
   "id": "9fdaee67",
   "metadata": {},
   "outputs": [],
   "source": [
    "# (lambda arguments:operation) # definition (arguments) #call"
   ]
  },
  {
   "cell_type": "code",
   "execution_count": 21,
   "id": "4cf272d8",
   "metadata": {},
   "outputs": [
    {
     "name": "stdout",
     "output_type": "stream",
     "text": [
      "18\n"
     ]
    }
   ],
   "source": [
    "# Create an anonymous function that adds two numbers\n",
    "\n",
    "s=(lambda a,b:a+b) (2,16)\n",
    "print(s)"
   ]
  },
  {
   "cell_type": "code",
   "execution_count": 22,
   "id": "4a0cc925",
   "metadata": {},
   "outputs": [
    {
     "name": "stdout",
     "output_type": "stream",
     "text": [
      "<function <lambda> at 0x00000287673EADE0>\n"
     ]
    }
   ],
   "source": [
    "x=lambda x,y:x+y\n",
    "print(x)"
   ]
  },
  {
   "cell_type": "code",
   "execution_count": 23,
   "id": "6f1f7bb5",
   "metadata": {},
   "outputs": [
    {
     "data": {
      "text/plain": [
       "30"
      ]
     },
     "execution_count": 23,
     "metadata": {},
     "output_type": "execute_result"
    }
   ],
   "source": [
    "x(10,20)"
   ]
  },
  {
   "cell_type": "code",
   "execution_count": 24,
   "id": "960f1c79",
   "metadata": {},
   "outputs": [],
   "source": [
    "add=lambda x,y:x+y  # Function Aliasing\n",
    "mult=lambda x,y:x*y\n",
    "div=lambda x,y:x/y"
   ]
  },
  {
   "cell_type": "code",
   "execution_count": 25,
   "id": "0422800a",
   "metadata": {},
   "outputs": [
    {
     "data": {
      "text/plain": [
       "9"
      ]
     },
     "execution_count": 25,
     "metadata": {},
     "output_type": "execute_result"
    }
   ],
   "source": [
    "add(5,4) #function call"
   ]
  },
  {
   "cell_type": "code",
   "execution_count": 26,
   "id": "60222aad",
   "metadata": {},
   "outputs": [
    {
     "data": {
      "text/plain": [
       "20"
      ]
     },
     "execution_count": 26,
     "metadata": {},
     "output_type": "execute_result"
    }
   ],
   "source": [
    "mult(5,4) # function call"
   ]
  },
  {
   "cell_type": "code",
   "execution_count": 27,
   "id": "59969b2f",
   "metadata": {},
   "outputs": [
    {
     "data": {
      "text/plain": [
       "1.25"
      ]
     },
     "execution_count": 27,
     "metadata": {},
     "output_type": "execute_result"
    }
   ],
   "source": [
    "div(5,4) # function call"
   ]
  },
  {
   "cell_type": "code",
   "execution_count": 28,
   "id": "f98b3d2c",
   "metadata": {},
   "outputs": [
    {
     "data": {
      "text/plain": [
       "30"
      ]
     },
     "execution_count": 28,
     "metadata": {},
     "output_type": "execute_result"
    }
   ],
   "source": [
    "mult=lambda x,y:x*y\n",
    "mult(10,3)"
   ]
  },
  {
   "cell_type": "code",
   "execution_count": 40,
   "id": "f59cd399",
   "metadata": {},
   "outputs": [
    {
     "data": {
      "text/plain": [
       "'Ashish Som'"
      ]
     },
     "execution_count": 40,
     "metadata": {},
     "output_type": "execute_result"
    }
   ],
   "source": [
    "(lambda f,l:f+' '+l) ('Ashish','Som')"
   ]
  },
  {
   "cell_type": "markdown",
   "id": "61ce133e",
   "metadata": {},
   "source": [
    "# Conditions in a lambda function"
   ]
  },
  {
   "cell_type": "code",
   "execution_count": 29,
   "id": "4940d34f",
   "metadata": {},
   "outputs": [],
   "source": [
    "# - It is always paased in the form the ternary operator"
   ]
  },
  {
   "cell_type": "code",
   "execution_count": 30,
   "id": "b3978ec4",
   "metadata": {},
   "outputs": [
    {
     "data": {
      "text/plain": [
       "20"
      ]
     },
     "execution_count": 30,
     "metadata": {},
     "output_type": "execute_result"
    }
   ],
   "source": [
    "# Create a lambda funtion that returns the maximum of two numbers\n",
    "\n",
    "(lambda x,y:x if x>y else y) (20,5)"
   ]
  },
  {
   "cell_type": "code",
   "execution_count": null,
   "id": "d2478386",
   "metadata": {},
   "outputs": [],
   "source": [
    "a=5\n",
    "b=12\n",
    "a if a>b else b"
   ]
  },
  {
   "cell_type": "code",
   "execution_count": null,
   "id": "ed91d811",
   "metadata": {},
   "outputs": [],
   "source": [
    "# Create a lambda funtion that returns the maximum of three numbers\n",
    "a=5\n",
    "b=30\n",
    "c=111\n",
    "\n",
    "(lambda a,b,c:a if a>b and a>c else b if b>a and b>c else c) (a,b,c)"
   ]
  },
  {
   "cell_type": "markdown",
   "id": "bd4d0a0d",
   "metadata": {},
   "source": [
    "# We can pass different kind of arguments"
   ]
  },
  {
   "cell_type": "code",
   "execution_count": null,
   "id": "14bb87a9",
   "metadata": {},
   "outputs": [],
   "source": [
    "(lambda *x:x) (1,5,6,7)"
   ]
  },
  {
   "cell_type": "code",
   "execution_count": null,
   "id": "3a9dad17",
   "metadata": {},
   "outputs": [],
   "source": [
    "(lambda **x:x) (name='Vishal',age=25)"
   ]
  },
  {
   "cell_type": "code",
   "execution_count": null,
   "id": "b4aeb9f2",
   "metadata": {},
   "outputs": [],
   "source": [
    "def dummy(**x):\n",
    "    return x\n",
    "\n",
    "dummy(name='Abhishek',age=26)"
   ]
  },
  {
   "cell_type": "code",
   "execution_count": 38,
   "id": "f6953c05",
   "metadata": {},
   "outputs": [
    {
     "data": {
      "text/plain": [
       "'aidnI'"
      ]
     },
     "execution_count": 38,
     "metadata": {},
     "output_type": "execute_result"
    }
   ],
   "source": [
    "(lambda x:x[::-1]) ('India')"
   ]
  },
  {
   "cell_type": "code",
   "execution_count": 47,
   "id": "36339d86",
   "metadata": {},
   "outputs": [],
   "source": [
    "def lambda_decorator(f):\n",
    "    def wrapper(x,y):\n",
    "        if x>y:\n",
    "            return f(x,y)\n",
    "        else:\n",
    "            return f(y,x)\n",
    "    return wrapper"
   ]
  },
  {
   "cell_type": "code",
   "execution_count": 50,
   "id": "d496f61d",
   "metadata": {},
   "outputs": [
    {
     "data": {
      "text/plain": [
       "2.5"
      ]
     },
     "execution_count": 50,
     "metadata": {},
     "output_type": "execute_result"
    }
   ],
   "source": [
    "div=lambda x,y:x/y\n",
    "\n",
    "x=lambda_decorator(div)\n",
    "x(2,5)"
   ]
  },
  {
   "cell_type": "markdown",
   "id": "16f1f3a7",
   "metadata": {},
   "source": [
    "# filter, map, reduce"
   ]
  },
  {
   "cell_type": "code",
   "execution_count": 52,
   "id": "85ea27dd",
   "metadata": {},
   "outputs": [],
   "source": [
    "filter(function,iterable)"
   ]
  },
  {
   "cell_type": "code",
   "execution_count": 53,
   "id": "41b6a2d2",
   "metadata": {},
   "outputs": [],
   "source": [
    "lst=[1,2,3,4,5,6,7,8,9,10]"
   ]
  },
  {
   "cell_type": "code",
   "execution_count": 61,
   "id": "9691f83b",
   "metadata": {},
   "outputs": [],
   "source": [
    "def is_even(x):\n",
    "    if x%2!=0:\n",
    "        return True\n",
    "    else:\n",
    "        return False"
   ]
  },
  {
   "cell_type": "code",
   "execution_count": 62,
   "id": "dc5bc94f",
   "metadata": {},
   "outputs": [
    {
     "data": {
      "text/plain": [
       "True"
      ]
     },
     "execution_count": 62,
     "metadata": {},
     "output_type": "execute_result"
    }
   ],
   "source": [
    "is_even(3)"
   ]
  },
  {
   "cell_type": "code",
   "execution_count": 63,
   "id": "bb3ddb0d",
   "metadata": {},
   "outputs": [
    {
     "data": {
      "text/plain": [
       "[1, 3, 5, 7, 9]"
      ]
     },
     "execution_count": 63,
     "metadata": {},
     "output_type": "execute_result"
    }
   ],
   "source": [
    "list(filter(is_even,lst))"
   ]
  },
  {
   "cell_type": "code",
   "execution_count": 65,
   "id": "4a00ecbf",
   "metadata": {},
   "outputs": [
    {
     "data": {
      "text/plain": [
       "[2, 4, 6, 8, 10]"
      ]
     },
     "execution_count": 65,
     "metadata": {},
     "output_type": "execute_result"
    }
   ],
   "source": [
    "list(filter(lambda x:x%2==0,lst))"
   ]
  },
  {
   "cell_type": "code",
   "execution_count": 74,
   "id": "e5739c53",
   "metadata": {},
   "outputs": [],
   "source": [
    "names=['Priti','Ebi','Ambika','Chandrashekhar','Akhilesh']\n",
    "\n",
    "def name_filter(name):\n",
    "    if len(name)>2:\n",
    "        return True"
   ]
  },
  {
   "cell_type": "code",
   "execution_count": 75,
   "id": "efb45b3d",
   "metadata": {},
   "outputs": [
    {
     "data": {
      "text/plain": [
       "['Priti', 'Ebi', 'Ambika', 'Chandrashekhar', 'Akhilesh']"
      ]
     },
     "execution_count": 75,
     "metadata": {},
     "output_type": "execute_result"
    }
   ],
   "source": [
    "list(filter(name_filter,names))"
   ]
  },
  {
   "cell_type": "code",
   "execution_count": 77,
   "id": "18421626",
   "metadata": {},
   "outputs": [
    {
     "data": {
      "text/plain": [
       "['Priti', 'Ebi', 'Ambika', 'Chandrashekhar', 'Akhilesh']"
      ]
     },
     "execution_count": 77,
     "metadata": {},
     "output_type": "execute_result"
    }
   ],
   "source": [
    "list(filter(lambda x:len(x)>2,names))"
   ]
  },
  {
   "cell_type": "code",
   "execution_count": 90,
   "id": "73a400c8",
   "metadata": {},
   "outputs": [
    {
     "name": "stdout",
     "output_type": "stream",
     "text": [
      "Chandrashekhar\n",
      "Akhilesh\n"
     ]
    }
   ],
   "source": [
    "a=lambda x:len(x)>6\n",
    "\n",
    "for i in range(len(names)):\n",
    "    if a(names[i]):\n",
    "        print(names[i])"
   ]
  },
  {
   "cell_type": "code",
   "execution_count": 93,
   "id": "8b5c55fb",
   "metadata": {},
   "outputs": [
    {
     "data": {
      "text/plain": [
       "[2, 4, 6, 8, 10]"
      ]
     },
     "execution_count": 93,
     "metadata": {},
     "output_type": "execute_result"
    }
   ],
   "source": [
    "list(filter(lambda x:x%2==0,[i for i in range(1,11)]))"
   ]
  },
  {
   "cell_type": "code",
   "execution_count": 94,
   "id": "d9531717",
   "metadata": {},
   "outputs": [
    {
     "data": {
      "text/plain": [
       "[1, 2, 3, 4, 5, 6, 7, 8, 9, 10]"
      ]
     },
     "execution_count": 94,
     "metadata": {},
     "output_type": "execute_result"
    }
   ],
   "source": [
    "[i for i in range(1,11)]"
   ]
  },
  {
   "cell_type": "code",
   "execution_count": 95,
   "id": "75c48fda",
   "metadata": {},
   "outputs": [],
   "source": [
    "# map(function,iterable)"
   ]
  },
  {
   "cell_type": "code",
   "execution_count": 100,
   "id": "731aa0de",
   "metadata": {},
   "outputs": [
    {
     "data": {
      "text/plain": [
       "[1, 4, 9, 16, 25, 36, 49, 64, 81, 100]"
      ]
     },
     "execution_count": 100,
     "metadata": {},
     "output_type": "execute_result"
    }
   ],
   "source": [
    "list(map(lambda x:x**2,[i for i in range(1,11)]))"
   ]
  },
  {
   "cell_type": "code",
   "execution_count": 101,
   "id": "76dfaa89",
   "metadata": {},
   "outputs": [
    {
     "data": {
      "text/plain": [
       "['Priti', 'Ebi', 'Ambika', 'Chandrashekhar', 'Akhilesh']"
      ]
     },
     "execution_count": 101,
     "metadata": {},
     "output_type": "execute_result"
    }
   ],
   "source": [
    "names"
   ]
  },
  {
   "cell_type": "code",
   "execution_count": 104,
   "id": "56bc7758",
   "metadata": {},
   "outputs": [
    {
     "name": "stdout",
     "output_type": "stream",
     "text": [
      "PRITI <class 'str'>\n",
      "EBI <class 'str'>\n",
      "AMBIKA <class 'str'>\n",
      "CHANDRASHEKHAR <class 'str'>\n",
      "AKHILESH <class 'str'>\n"
     ]
    }
   ],
   "source": [
    "for i in names:\n",
    "    print(i.upper(),type(i))"
   ]
  },
  {
   "cell_type": "code",
   "execution_count": 108,
   "id": "4cb0ddc8",
   "metadata": {},
   "outputs": [
    {
     "data": {
      "text/plain": [
       "'INDIA'"
      ]
     },
     "execution_count": 108,
     "metadata": {},
     "output_type": "execute_result"
    }
   ],
   "source": [
    "(lambda x:x.upper()) ('india')"
   ]
  },
  {
   "cell_type": "code",
   "execution_count": 115,
   "id": "e77b7288",
   "metadata": {},
   "outputs": [
    {
     "name": "stdout",
     "output_type": "stream",
     "text": [
      "PRITI\n",
      "EBI\n",
      "AMBIKA\n",
      "CHANDRASHEKHAR\n",
      "AKHILESH\n"
     ]
    }
   ],
   "source": [
    "for i in map(lambda x:x.upper(),names):\n",
    "    print(i)"
   ]
  },
  {
   "cell_type": "markdown",
   "id": "e8ccad0e",
   "metadata": {},
   "source": [
    "# Iterator objects"
   ]
  },
  {
   "cell_type": "code",
   "execution_count": 119,
   "id": "33f9b8a2",
   "metadata": {},
   "outputs": [],
   "source": [
    "# - map, filter, zip and enumerate"
   ]
  },
  {
   "cell_type": "code",
   "execution_count": 120,
   "id": "6b18289f",
   "metadata": {},
   "outputs": [],
   "source": [
    "# from functools import reduce as rd"
   ]
  },
  {
   "cell_type": "code",
   "execution_count": 121,
   "id": "4f4b1bdf",
   "metadata": {},
   "outputs": [],
   "source": [
    "# print(dir(rd))"
   ]
  },
  {
   "cell_type": "markdown",
   "id": "88f72cd8",
   "metadata": {},
   "source": [
    "# How to fetch the elements from the iterator objects"
   ]
  },
  {
   "cell_type": "code",
   "execution_count": 123,
   "id": "c1c057a4",
   "metadata": {},
   "outputs": [],
   "source": [
    "# - Typecast them into list, tuple, set or frozenset\n",
    "# - Apply for loop on them"
   ]
  },
  {
   "cell_type": "code",
   "execution_count": 132,
   "id": "3906ad27",
   "metadata": {},
   "outputs": [
    {
     "name": "stdout",
     "output_type": "stream",
     "text": [
      "a\n",
      "U\n",
      "A\n",
      "A\n",
      "i\n",
      "E\n"
     ]
    }
   ],
   "source": [
    "for i in filter(lambda x:x in 'aeiouAEIOU','hdgasvdUAgAvigE'):\n",
    "    print(i)"
   ]
  },
  {
   "cell_type": "markdown",
   "id": "55a08b9a",
   "metadata": {},
   "source": [
    "# Recusrive function"
   ]
  },
  {
   "cell_type": "code",
   "execution_count": null,
   "id": "12053947",
   "metadata": {},
   "outputs": [],
   "source": [
    "# - The function that calls itself is a recursive function.\n",
    "# - It executes the code inifinite times if we don't stop it."
   ]
  },
  {
   "cell_type": "code",
   "execution_count": 41,
   "id": "c11e7d30",
   "metadata": {},
   "outputs": [],
   "source": [
    "def rec():\n",
    "    print('Hello')\n",
    "    return rec()"
   ]
  },
  {
   "cell_type": "code",
   "execution_count": 32,
   "id": "923b4239",
   "metadata": {},
   "outputs": [],
   "source": [
    "# rec()"
   ]
  },
  {
   "cell_type": "code",
   "execution_count": 136,
   "id": "e6538ae1",
   "metadata": {},
   "outputs": [],
   "source": [
    "# Regex\n",
    "# Libraries\n",
    "# Iterators and Generators\n",
    "# File Handling (Binary File) (OS- Module)\n",
    "# Parllel Processing, Multi-threading"
   ]
  },
  {
   "cell_type": "code",
   "execution_count": 133,
   "id": "ebb5fcf7",
   "metadata": {},
   "outputs": [],
   "source": []
  },
  {
   "cell_type": "code",
   "execution_count": null,
   "id": "c101cf27",
   "metadata": {},
   "outputs": [],
   "source": []
  }
 ],
 "metadata": {
  "kernelspec": {
   "display_name": "Python 3 (ipykernel)",
   "language": "python",
   "name": "python3"
  },
  "language_info": {
   "codemirror_mode": {
    "name": "ipython",
    "version": 3
   },
   "file_extension": ".py",
   "mimetype": "text/x-python",
   "name": "python",
   "nbconvert_exporter": "python",
   "pygments_lexer": "ipython3",
   "version": "3.11.4"
  }
 },
 "nbformat": 4,
 "nbformat_minor": 5
}
