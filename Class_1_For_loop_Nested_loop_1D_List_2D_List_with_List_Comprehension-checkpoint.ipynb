{
 "cells": [
  {
   "cell_type": "code",
   "execution_count": 1,
   "id": "677d00af",
   "metadata": {},
   "outputs": [],
   "source": [
    "# Numpy\n",
    "# Pandas \n",
    "# Matplotlib\n",
    "# Seaborn"
   ]
  },
  {
   "cell_type": "code",
   "execution_count": 3,
   "id": "f6fa4456",
   "metadata": {},
   "outputs": [],
   "source": [
    "# Iterators and Generators\n",
    "# Function and Decorators\n",
    "# Loop\n",
    "# Regex\n",
    "# OS Module\n",
    "# Binary files\n",
    "# File Handling\n",
    "# Multi threading"
   ]
  },
  {
   "cell_type": "code",
   "execution_count": 4,
   "id": "13bb74a2",
   "metadata": {},
   "outputs": [],
   "source": [
    "# Loop\n",
    "# Functions\n",
    "# Iterators and Generators\n",
    "# Regex\n",
    "# Numpy\n",
    "# Pandas"
   ]
  },
  {
   "cell_type": "markdown",
   "id": "b38ebe34",
   "metadata": {},
   "source": [
    "# Loop"
   ]
  },
  {
   "cell_type": "code",
   "execution_count": 5,
   "id": "1ebe1e67",
   "metadata": {},
   "outputs": [],
   "source": [
    "# - A loop is used when we want to execute a piece of code repeatedly"
   ]
  },
  {
   "cell_type": "code",
   "execution_count": 7,
   "id": "1f61853e",
   "metadata": {},
   "outputs": [],
   "source": [
    "# print 1 on the screen 1000 times"
   ]
  },
  {
   "cell_type": "code",
   "execution_count": 11,
   "id": "60c1a4d4",
   "metadata": {},
   "outputs": [
    {
     "name": "stdout",
     "output_type": "stream",
     "text": [
      "1\n",
      "1\n",
      "1\n",
      "1\n"
     ]
    }
   ],
   "source": [
    "print(1)\n",
    "print(1)\n",
    "print(1)\n",
    "print(1)"
   ]
  },
  {
   "cell_type": "code",
   "execution_count": 12,
   "id": "b36f2c61",
   "metadata": {},
   "outputs": [],
   "source": [
    "# for loop\n",
    "# while loop"
   ]
  },
  {
   "cell_type": "markdown",
   "id": "f2841dbd",
   "metadata": {},
   "source": [
    "# for loop"
   ]
  },
  {
   "cell_type": "code",
   "execution_count": 13,
   "id": "9458e910",
   "metadata": {},
   "outputs": [],
   "source": [
    "# - It is used with iterables only.\n",
    "# - Iterables- String, List, Tuple, Dictionary, Set, Range, Frozenset, Bytes, Bytearray\n",
    "# - for loop traveres upon the iterable from the beginning to the end"
   ]
  },
  {
   "cell_type": "code",
   "execution_count": null,
   "id": "6b3dfdb0",
   "metadata": {},
   "outputs": [],
   "source": [
    "for value in iterable:\n",
    "    code\n",
    "    code"
   ]
  },
  {
   "cell_type": "code",
   "execution_count": 14,
   "id": "2a595ebd",
   "metadata": {},
   "outputs": [
    {
     "name": "stdout",
     "output_type": "stream",
     "text": [
      "H\n",
      "e\n",
      "l\n",
      "l\n",
      "o\n"
     ]
    }
   ],
   "source": [
    "for i in 'Hello':\n",
    "    print(i)"
   ]
  },
  {
   "cell_type": "code",
   "execution_count": 15,
   "id": "f850644f",
   "metadata": {},
   "outputs": [
    {
     "name": "stdout",
     "output_type": "stream",
     "text": [
      "10\n",
      "20\n",
      "30\n",
      "40\n",
      "50\n",
      "60\n"
     ]
    }
   ],
   "source": [
    "for i in [10,20,30,40,50,60]:\n",
    "    print(i)"
   ]
  },
  {
   "cell_type": "code",
   "execution_count": 19,
   "id": "bd1b57f1",
   "metadata": {},
   "outputs": [
    {
     "name": "stdout",
     "output_type": "stream",
     "text": [
      "0\n",
      "1\n",
      "2\n",
      "3\n",
      "4\n"
     ]
    }
   ],
   "source": [
    "for i in range(5):\n",
    "    print(i)"
   ]
  },
  {
   "cell_type": "code",
   "execution_count": 20,
   "id": "8c515cf3",
   "metadata": {},
   "outputs": [
    {
     "name": "stdout",
     "output_type": "stream",
     "text": [
      "H\n",
      "e\n",
      "l\n",
      "l\n",
      "o\n"
     ]
    }
   ],
   "source": [
    "for i in 'Hello':  # [0,1,2,3,4]\n",
    "    print(i)"
   ]
  },
  {
   "cell_type": "code",
   "execution_count": 23,
   "id": "97e63daf",
   "metadata": {},
   "outputs": [
    {
     "name": "stdout",
     "output_type": "stream",
     "text": [
      "H\n",
      "e\n",
      "l\n",
      "l\n",
      "o\n"
     ]
    }
   ],
   "source": [
    "my_str='Hello'\n",
    "print(my_str[0])\n",
    "print(my_str[1])\n",
    "print(my_str[2])\n",
    "print(my_str[3])\n",
    "print(my_str[4])"
   ]
  },
  {
   "cell_type": "code",
   "execution_count": 25,
   "id": "34d39028",
   "metadata": {},
   "outputs": [
    {
     "name": "stdout",
     "output_type": "stream",
     "text": [
      "0 H\n",
      "1 e\n",
      "2 l\n",
      "3 l\n",
      "4 o\n"
     ]
    }
   ],
   "source": [
    "for i in range(5):\n",
    "    print(i,my_str[i])"
   ]
  },
  {
   "cell_type": "code",
   "execution_count": 26,
   "id": "c7b838c8",
   "metadata": {},
   "outputs": [
    {
     "data": {
      "text/plain": [
       "5"
      ]
     },
     "execution_count": 26,
     "metadata": {},
     "output_type": "execute_result"
    }
   ],
   "source": [
    "len(my_str)"
   ]
  },
  {
   "cell_type": "code",
   "execution_count": 29,
   "id": "e49d3d6c",
   "metadata": {},
   "outputs": [
    {
     "name": "stdout",
     "output_type": "stream",
     "text": [
      "0 H\n",
      "1 e\n",
      "2 l\n",
      "3 l\n",
      "4 o\n"
     ]
    }
   ],
   "source": [
    "for i in range(len(my_str)):\n",
    "    print(i,my_str[i])"
   ]
  },
  {
   "cell_type": "markdown",
   "id": "947f564b",
   "metadata": {},
   "source": [
    "# Reverse any sequence type"
   ]
  },
  {
   "cell_type": "code",
   "execution_count": 32,
   "id": "bf90cd42",
   "metadata": {},
   "outputs": [
    {
     "name": "stdout",
     "output_type": "stream",
     "text": [
      "60\n",
      "50\n",
      "40\n",
      "30\n",
      "20\n",
      "10\n"
     ]
    }
   ],
   "source": [
    "lst=[10,20,30,40,50,60] # Reverse indexes- [5,4,3,2,1,0] -1\n",
    "\n",
    "print(lst[5])\n",
    "print(lst[4])\n",
    "print(lst[3])\n",
    "print(lst[2])\n",
    "print(lst[1])\n",
    "print(lst[0])"
   ]
  },
  {
   "cell_type": "code",
   "execution_count": 34,
   "id": "ea3c074c",
   "metadata": {},
   "outputs": [
    {
     "name": "stdout",
     "output_type": "stream",
     "text": [
      "5 60\n",
      "4 50\n",
      "3 40\n",
      "2 30\n",
      "1 20\n",
      "0 10\n"
     ]
    }
   ],
   "source": [
    "for i in range(5,-1,-1):\n",
    "    print(i,lst[i])"
   ]
  },
  {
   "cell_type": "code",
   "execution_count": 38,
   "id": "fe708559",
   "metadata": {},
   "outputs": [
    {
     "name": "stdout",
     "output_type": "stream",
     "text": [
      "5 60\n",
      "4 50\n",
      "3 40\n",
      "2 30\n",
      "1 20\n",
      "0 10\n"
     ]
    }
   ],
   "source": [
    "for i in range(len(lst)-1,-1,-1):\n",
    "    print(i,lst[i])"
   ]
  },
  {
   "cell_type": "code",
   "execution_count": 41,
   "id": "6cc1a4f8",
   "metadata": {},
   "outputs": [
    {
     "name": "stdout",
     "output_type": "stream",
     "text": [
      "60\n",
      "50\n",
      "40\n",
      "30\n",
      "20\n",
      "10\n"
     ]
    }
   ],
   "source": [
    "lst=[10,20,30,40,50,60] # Reverse indexes- [-1,-2,-3,-4,-5,-6] -7\n",
    "\n",
    "print(lst[-1])\n",
    "print(lst[-2])\n",
    "print(lst[-3])\n",
    "print(lst[-4])\n",
    "print(lst[-5])\n",
    "print(lst[-6])"
   ]
  },
  {
   "cell_type": "code",
   "execution_count": 43,
   "id": "b266ad1e",
   "metadata": {},
   "outputs": [
    {
     "name": "stdout",
     "output_type": "stream",
     "text": [
      "-1 60\n",
      "-2 50\n",
      "-3 40\n",
      "-4 30\n",
      "-5 20\n",
      "-6 10\n"
     ]
    }
   ],
   "source": [
    "for i in range(-1,-7,-1):\n",
    "    print(i,lst[i])"
   ]
  },
  {
   "cell_type": "code",
   "execution_count": 48,
   "id": "c1866dcb",
   "metadata": {},
   "outputs": [
    {
     "name": "stdout",
     "output_type": "stream",
     "text": [
      "-1 60\n",
      "-2 50\n",
      "-3 40\n",
      "-4 30\n",
      "-5 20\n",
      "-6 10\n"
     ]
    }
   ],
   "source": [
    "for i in range(-1,-(len(lst)+1),-1):\n",
    "    print(i,lst[i])"
   ]
  },
  {
   "cell_type": "code",
   "execution_count": 49,
   "id": "cce9e3fe",
   "metadata": {},
   "outputs": [
    {
     "name": "stdout",
     "output_type": "stream",
     "text": [
      "20 300\n",
      "19 60\n",
      "18 81\n",
      "17 80\n",
      "16 71\n",
      "15 30\n",
      "14 20\n",
      "13 92\n",
      "12 81\n",
      "11 71\n",
      "10 60\n",
      "9 30\n",
      "8 20\n",
      "7 70\n",
      "6 80\n",
      "5 60\n",
      "4 50\n",
      "3 40\n",
      "2 30\n",
      "1 20\n",
      "0 10\n"
     ]
    }
   ],
   "source": [
    "lst=[10,20,30,40,50,60,80,70,20,30,60,71,81,92,20,30,71,80,81,60,300]\n",
    "\n",
    "for i in range(len(lst)-1,-1,-1):\n",
    "    print(i,lst[i])"
   ]
  },
  {
   "cell_type": "code",
   "execution_count": 50,
   "id": "7bc3dc06",
   "metadata": {},
   "outputs": [
    {
     "name": "stdout",
     "output_type": "stream",
     "text": [
      "-1 300\n",
      "-2 60\n",
      "-3 81\n",
      "-4 80\n",
      "-5 71\n",
      "-6 30\n",
      "-7 20\n",
      "-8 92\n",
      "-9 81\n",
      "-10 71\n",
      "-11 60\n",
      "-12 30\n",
      "-13 20\n",
      "-14 70\n",
      "-15 80\n",
      "-16 60\n",
      "-17 50\n",
      "-18 40\n",
      "-19 30\n",
      "-20 20\n",
      "-21 10\n"
     ]
    }
   ],
   "source": [
    "for i in range(-1,-(len(lst)+1),-1):\n",
    "    print(i,lst[i])"
   ]
  },
  {
   "cell_type": "markdown",
   "id": "40abcf63",
   "metadata": {},
   "source": [
    "# Nested Loop"
   ]
  },
  {
   "cell_type": "code",
   "execution_count": 51,
   "id": "f942e374",
   "metadata": {},
   "outputs": [],
   "source": [
    "# When we have a loop withing another loop is known as nested loop"
   ]
  },
  {
   "cell_type": "code",
   "execution_count": null,
   "id": "45795abc",
   "metadata": {},
   "outputs": [],
   "source": [
    "for loop: # Outer loop\n",
    "    for loop: # Inner loop\n",
    "        code\n",
    "        code"
   ]
  },
  {
   "cell_type": "code",
   "execution_count": 52,
   "id": "ede60888",
   "metadata": {},
   "outputs": [],
   "source": [
    "# For each iteration of the outer loop the inner loop completes all its iterations"
   ]
  },
  {
   "cell_type": "code",
   "execution_count": 54,
   "id": "58850c50",
   "metadata": {},
   "outputs": [
    {
     "name": "stdout",
     "output_type": "stream",
     "text": [
      "i-0,j-0\n",
      "i-0,j-1\n",
      "i-0,j-2\n",
      "i-0,j-3\n",
      "\n",
      "i-1,j-0\n",
      "i-1,j-1\n",
      "i-1,j-2\n",
      "i-1,j-3\n",
      "\n",
      "i-2,j-0\n",
      "i-2,j-1\n",
      "i-2,j-2\n",
      "i-2,j-3\n",
      "\n"
     ]
    }
   ],
   "source": [
    "for i in range(3):\n",
    "    for j in range(4):\n",
    "        print(f'i-{i},j-{j}')\n",
    "    print()"
   ]
  },
  {
   "cell_type": "code",
   "execution_count": 55,
   "id": "491bbefc",
   "metadata": {},
   "outputs": [
    {
     "name": "stdout",
     "output_type": "stream",
     "text": [
      "1\n",
      "1\n",
      "1\n",
      "1\n",
      "1\n",
      "1\n",
      "1\n",
      "1\n",
      "1\n",
      "1\n",
      "1\n",
      "1\n"
     ]
    }
   ],
   "source": [
    "for i in range(3):\n",
    "    for j in range(4):\n",
    "        print(1)"
   ]
  },
  {
   "cell_type": "code",
   "execution_count": 57,
   "id": "083eb229",
   "metadata": {},
   "outputs": [],
   "source": [
    "# When to use nested loop\n",
    "# - It can be used to iterate over a table (row and columns)\n",
    "# - It can be used to iterate over 2-D data\n",
    "# - It can be  used when have iterables inside another iterables"
   ]
  },
  {
   "cell_type": "code",
   "execution_count": 58,
   "id": "cc8d00b8",
   "metadata": {},
   "outputs": [
    {
     "name": "stdout",
     "output_type": "stream",
     "text": [
      "Akhilesh\n",
      "Virat\n",
      "Sumit\n",
      "Vidisha\n",
      "Suresh\n"
     ]
    }
   ],
   "source": [
    "lst=['Akhilesh','Virat','Sumit','Vidisha','Suresh']\n",
    "\n",
    "for i in lst:\n",
    "    print(i)"
   ]
  },
  {
   "cell_type": "code",
   "execution_count": 59,
   "id": "8ff7d15d",
   "metadata": {},
   "outputs": [
    {
     "name": "stdout",
     "output_type": "stream",
     "text": [
      "A\n",
      "k\n",
      "h\n",
      "i\n",
      "l\n",
      "e\n",
      "s\n",
      "h\n"
     ]
    }
   ],
   "source": [
    "i='Akhilesh'\n",
    "for j in i:\n",
    "    print(j)"
   ]
  },
  {
   "cell_type": "code",
   "execution_count": 61,
   "id": "cbd6ccc1",
   "metadata": {},
   "outputs": [
    {
     "name": "stdout",
     "output_type": "stream",
     "text": [
      "A\n",
      "k\n",
      "h\n",
      "i\n",
      "l\n",
      "e\n",
      "s\n",
      "h\n",
      "\n",
      "V\n",
      "i\n",
      "r\n",
      "a\n",
      "t\n",
      "\n",
      "S\n",
      "u\n",
      "m\n",
      "i\n",
      "t\n",
      "\n",
      "V\n",
      "i\n",
      "d\n",
      "i\n",
      "s\n",
      "h\n",
      "a\n",
      "\n",
      "S\n",
      "u\n",
      "r\n",
      "e\n",
      "s\n",
      "h\n",
      "\n"
     ]
    }
   ],
   "source": [
    "lst=['Akhilesh','Virat','Sumit','Vidisha','Suresh']\n",
    "\n",
    "for i in lst:\n",
    "    for j in i:\n",
    "        print(j)\n",
    "    print()"
   ]
  },
  {
   "cell_type": "code",
   "execution_count": 62,
   "id": "595048b9",
   "metadata": {},
   "outputs": [],
   "source": [
    "import numpy as np"
   ]
  },
  {
   "cell_type": "code",
   "execution_count": 64,
   "id": "b901d56f",
   "metadata": {},
   "outputs": [
    {
     "data": {
      "text/plain": [
       "array([[10, 20, 30, 40],\n",
       "       [50, 60, 70, 80],\n",
       "       [90, 50, 40, 20]])"
      ]
     },
     "execution_count": 64,
     "metadata": {},
     "output_type": "execute_result"
    }
   ],
   "source": [
    "arr=np.array([10,20,30,40,50,60,70,80,90,50,40,20]).reshape(3,4)\n",
    "arr"
   ]
  },
  {
   "cell_type": "code",
   "execution_count": 66,
   "id": "ca85a2c9",
   "metadata": {},
   "outputs": [
    {
     "name": "stdout",
     "output_type": "stream",
     "text": [
      "[10 20 30 40]\n"
     ]
    }
   ],
   "source": [
    "for i in arr:\n",
    "    print(i)\n",
    "    break"
   ]
  },
  {
   "cell_type": "code",
   "execution_count": 67,
   "id": "d9d1255a",
   "metadata": {},
   "outputs": [
    {
     "data": {
      "text/plain": [
       "array([10, 20, 30, 40])"
      ]
     },
     "execution_count": 67,
     "metadata": {},
     "output_type": "execute_result"
    }
   ],
   "source": [
    "i"
   ]
  },
  {
   "cell_type": "code",
   "execution_count": 68,
   "id": "961ef209",
   "metadata": {},
   "outputs": [
    {
     "name": "stdout",
     "output_type": "stream",
     "text": [
      "10\n",
      "20\n",
      "30\n",
      "40\n"
     ]
    }
   ],
   "source": [
    "for j in i:\n",
    "    print(j)"
   ]
  },
  {
   "cell_type": "code",
   "execution_count": 70,
   "id": "4782185a",
   "metadata": {},
   "outputs": [
    {
     "name": "stdout",
     "output_type": "stream",
     "text": [
      "10\n",
      "20\n",
      "30\n",
      "40\n",
      "50\n",
      "60\n",
      "70\n",
      "80\n",
      "90\n",
      "50\n",
      "40\n",
      "20\n"
     ]
    }
   ],
   "source": [
    "for i in arr:\n",
    "    for j in i:\n",
    "        print(j)"
   ]
  },
  {
   "cell_type": "markdown",
   "id": "e3f5963d",
   "metadata": {},
   "source": [
    "# Create a 2-D list using loop"
   ]
  },
  {
   "cell_type": "code",
   "execution_count": 72,
   "id": "88c1d8b2",
   "metadata": {},
   "outputs": [],
   "source": [
    "# A list is a 1-D structure\n",
    "# When we repeat a 1-D structure we get a 2-D structure\n",
    "# When we repeat a list we get a 2-D list"
   ]
  },
  {
   "cell_type": "code",
   "execution_count": 73,
   "id": "d7b3174e",
   "metadata": {},
   "outputs": [
    {
     "data": {
      "text/plain": [
       "[[1, 2, 3, 4], [1, 2, 3, 4], [1, 2, 3, 4]]"
      ]
     },
     "execution_count": 73,
     "metadata": {},
     "output_type": "execute_result"
    }
   ],
   "source": [
    "[[1,2,3,4],[1,2,3,4],[1,2,3,4]]"
   ]
  },
  {
   "cell_type": "code",
   "execution_count": 74,
   "id": "4bc005bd",
   "metadata": {},
   "outputs": [],
   "source": [
    "# When we have a 2-D list\n",
    "# The  number of elements in a list represents the number of columns.\n",
    "# The number of inner lists represents the number of rows"
   ]
  },
  {
   "cell_type": "markdown",
   "id": "cb9d7b02",
   "metadata": {},
   "source": [
    "# Creating a 2-D list using loop"
   ]
  },
  {
   "cell_type": "code",
   "execution_count": 75,
   "id": "337a062d",
   "metadata": {},
   "outputs": [],
   "source": [
    "# Outer loop gives the rows\n",
    "# Inner loop gives us the columns"
   ]
  },
  {
   "cell_type": "code",
   "execution_count": 92,
   "id": "b340e6f3",
   "metadata": {},
   "outputs": [
    {
     "name": "stdout",
     "output_type": "stream",
     "text": [
      "[[0, 1, 2, 3], [0, 1, 2, 3], [0, 1, 2, 3]]\n"
     ]
    }
   ],
   "source": [
    "# Create a 3*4 list using loop\n",
    "Out=[]\n",
    "In=[]\n",
    "\n",
    "for i in range(3):\n",
    "    for j in range(4):\n",
    "        In.append(j)\n",
    "#     print(In)\n",
    "    Out.append(In)\n",
    "#     print(Out)\n",
    "    In=[]\n",
    "#     print(In)\n",
    "#     break\n",
    "print(Out)"
   ]
  },
  {
   "cell_type": "code",
   "execution_count": 84,
   "id": "400576f1",
   "metadata": {},
   "outputs": [
    {
     "data": {
      "text/plain": [
       "array([[0, 1, 2, 3],\n",
       "       [0, 1, 2, 3],\n",
       "       [0, 1, 2, 3]])"
      ]
     },
     "execution_count": 84,
     "metadata": {},
     "output_type": "execute_result"
    }
   ],
   "source": [
    "np.array(Out)"
   ]
  },
  {
   "cell_type": "code",
   "execution_count": 85,
   "id": "924664c8",
   "metadata": {},
   "outputs": [
    {
     "data": {
      "text/plain": [
       "(3, 4)"
      ]
     },
     "execution_count": 85,
     "metadata": {},
     "output_type": "execute_result"
    }
   ],
   "source": [
    "np.array(Out).shape"
   ]
  },
  {
   "cell_type": "markdown",
   "id": "a50d4e6f",
   "metadata": {},
   "source": [
    "# Creating a 2-D list using List Comprehension"
   ]
  },
  {
   "cell_type": "code",
   "execution_count": 93,
   "id": "5abf47ac",
   "metadata": {},
   "outputs": [],
   "source": [
    "# [value for positioner in Iterable]"
   ]
  },
  {
   "cell_type": "code",
   "execution_count": 97,
   "id": "6051e41a",
   "metadata": {},
   "outputs": [
    {
     "data": {
      "text/plain": [
       "[0, 1, 2, 3]"
      ]
     },
     "execution_count": 97,
     "metadata": {},
     "output_type": "execute_result"
    }
   ],
   "source": [
    "x=[i for i in range(4)]\n",
    "x"
   ]
  },
  {
   "cell_type": "code",
   "execution_count": 100,
   "id": "e327d995",
   "metadata": {},
   "outputs": [
    {
     "data": {
      "text/plain": [
       "[[0, 1, 2, 3], [0, 1, 2, 3], [0, 1, 2, 3]]"
      ]
     },
     "execution_count": 100,
     "metadata": {},
     "output_type": "execute_result"
    }
   ],
   "source": [
    "[x for i in range(3)]"
   ]
  },
  {
   "cell_type": "code",
   "execution_count": 105,
   "id": "0618982d",
   "metadata": {},
   "outputs": [
    {
     "data": {
      "text/plain": [
       "[['a', 'a', 'a', 'a'],\n",
       " ['a', 'a', 'a', 'a'],\n",
       " ['a', 'a', 'a', 'a'],\n",
       " ['a', 'a', 'a', 'a'],\n",
       " ['a', 'a', 'a', 'a']]"
      ]
     },
     "execution_count": 105,
     "metadata": {},
     "output_type": "execute_result"
    }
   ],
   "source": [
    "[['a' for i in range(4)] for j in range(5)]"
   ]
  },
  {
   "cell_type": "markdown",
   "id": "01859b8d",
   "metadata": {},
   "source": [
    "# Create a 3-D list using loop"
   ]
  },
  {
   "cell_type": "code",
   "execution_count": 106,
   "id": "6432ac72",
   "metadata": {},
   "outputs": [],
   "source": [
    "# When we repeat a 2-D structure, we get a 3-D structure\n",
    "# - When we repeat a 2-D list, we get a 3-D list"
   ]
  },
  {
   "cell_type": "code",
   "execution_count": 107,
   "id": "32fc23d2",
   "metadata": {},
   "outputs": [],
   "source": [
    "# [1,2,3] 1-D\n",
    "\n",
    "# [[1,2,3],[1,2,3]] 2-D\n",
    "\n",
    "# [[[1,2,3],[1,2,3]],[[1,2,3],[1,2,3]],[[1,2,3],[1,2,3]]] 3-D"
   ]
  },
  {
   "cell_type": "code",
   "execution_count": 123,
   "id": "cb8b4c17",
   "metadata": {},
   "outputs": [
    {
     "name": "stdout",
     "output_type": "stream",
     "text": [
      "[[[0, 1, 2, 3], [1, 2, 3, 4], [2, 3, 4, 5]], [[1, 2, 3, 4], [2, 3, 4, 5], [3, 4, 5, 6]]]\n"
     ]
    }
   ],
   "source": [
    "# Craete a 2*3*4 list\n",
    "\n",
    "one=[]\n",
    "two=[]\n",
    "three=[]\n",
    "\n",
    "for i in range(2):\n",
    "    for j in range(3):\n",
    "        for k in range(4):\n",
    "            one.append(i+j+k)\n",
    "#         print(one)\n",
    "        two.append(one)\n",
    "        one=[]\n",
    "#         print(two)\n",
    "#         break\n",
    "#     print(two)\n",
    "    three.append(two)\n",
    "    two=[]\n",
    "#     print(three)\n",
    "#     break\n",
    "print(three)"
   ]
  },
  {
   "cell_type": "code",
   "execution_count": 119,
   "id": "f981d652",
   "metadata": {},
   "outputs": [
    {
     "data": {
      "text/plain": [
       "[[[0, 1, 2, 3], [0, 1, 2, 3], [0, 1, 2, 3]],\n",
       " [[0, 1, 2, 3], [0, 1, 2, 3], [0, 1, 2, 3]]]"
      ]
     },
     "execution_count": 119,
     "metadata": {},
     "output_type": "execute_result"
    }
   ],
   "source": [
    "three"
   ]
  },
  {
   "cell_type": "code",
   "execution_count": 120,
   "id": "c6f41429",
   "metadata": {},
   "outputs": [
    {
     "data": {
      "text/plain": [
       "array([[[0, 1, 2, 3],\n",
       "        [0, 1, 2, 3],\n",
       "        [0, 1, 2, 3]],\n",
       "\n",
       "       [[0, 1, 2, 3],\n",
       "        [0, 1, 2, 3],\n",
       "        [0, 1, 2, 3]]])"
      ]
     },
     "execution_count": 120,
     "metadata": {},
     "output_type": "execute_result"
    }
   ],
   "source": [
    "np.array(three)"
   ]
  },
  {
   "cell_type": "code",
   "execution_count": 121,
   "id": "bce35174",
   "metadata": {},
   "outputs": [
    {
     "data": {
      "text/plain": [
       "(2, 3, 4)"
      ]
     },
     "execution_count": 121,
     "metadata": {},
     "output_type": "execute_result"
    }
   ],
   "source": [
    "np.array(three).shape"
   ]
  },
  {
   "cell_type": "markdown",
   "id": "3d5a7720",
   "metadata": {},
   "source": [
    "# Using comprehension"
   ]
  },
  {
   "cell_type": "code",
   "execution_count": 130,
   "id": "17078f54",
   "metadata": {},
   "outputs": [
    {
     "data": {
      "text/plain": [
       "[[[0, 1, 2, 3], [1, 2, 3, 4], [2, 3, 4, 5]],\n",
       " [[1, 2, 3, 4], [2, 3, 4, 5], [3, 4, 5, 6]]]"
      ]
     },
     "execution_count": 130,
     "metadata": {},
     "output_type": "execute_result"
    }
   ],
   "source": [
    "[[[i+j+k for i in range(4)] for j in range(3)] for k in range(2)]"
   ]
  },
  {
   "cell_type": "code",
   "execution_count": null,
   "id": "1a275783",
   "metadata": {},
   "outputs": [],
   "source": []
  }
 ],
 "metadata": {
  "kernelspec": {
   "display_name": "Python 3 (ipykernel)",
   "language": "python",
   "name": "python3"
  },
  "language_info": {
   "codemirror_mode": {
    "name": "ipython",
    "version": 3
   },
   "file_extension": ".py",
   "mimetype": "text/x-python",
   "name": "python",
   "nbconvert_exporter": "python",
   "pygments_lexer": "ipython3",
   "version": "3.11.3"
  }
 },
 "nbformat": 4,
 "nbformat_minor": 5
}
