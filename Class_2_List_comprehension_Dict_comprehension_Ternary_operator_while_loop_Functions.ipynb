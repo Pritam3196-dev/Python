{
 "cells": [
  {
   "cell_type": "code",
   "execution_count": 1,
   "id": "c99385a8",
   "metadata": {},
   "outputs": [
    {
     "data": {
      "text/plain": [
       "[[[1, 2], [4, 5]], [[1, 2], [4, 5]]]"
      ]
     },
     "execution_count": 1,
     "metadata": {},
     "output_type": "execute_result"
    }
   ],
   "source": [
    "[[[1,2],[4,5]],[[1,2],[4,5]]]"
   ]
  },
  {
   "cell_type": "code",
   "execution_count": 2,
   "id": "f63d6dc6",
   "metadata": {},
   "outputs": [
    {
     "data": {
      "text/plain": [
       "[[[1, 2], [4, 5]], [[1, 2], [4, 5]], [[1, 2], [4, 5]]]"
      ]
     },
     "execution_count": 2,
     "metadata": {},
     "output_type": "execute_result"
    }
   ],
   "source": [
    "[[[1,2],[4,5]] for i in range(3)]"
   ]
  },
  {
   "cell_type": "markdown",
   "id": "eaaa2c99",
   "metadata": {},
   "source": [
    "# List Comprehension"
   ]
  },
  {
   "cell_type": "code",
   "execution_count": 4,
   "id": "9151e66f",
   "metadata": {},
   "outputs": [],
   "source": [
    "# - It is a method to create a list using loop with one line of code.\n",
    "# - When we use for loop within [] then it is list comprehension."
   ]
  },
  {
   "cell_type": "code",
   "execution_count": 5,
   "id": "bcaf875a",
   "metadata": {},
   "outputs": [],
   "source": [
    "# [for loop]"
   ]
  },
  {
   "cell_type": "code",
   "execution_count": 6,
   "id": "af344576",
   "metadata": {},
   "outputs": [],
   "source": [
    "# [value_to_be_appended for positioner in Iterable]"
   ]
  },
  {
   "cell_type": "code",
   "execution_count": 8,
   "id": "2b8ac773",
   "metadata": {},
   "outputs": [
    {
     "data": {
      "text/plain": [
       "[5, 5, 5, 5]"
      ]
     },
     "execution_count": 8,
     "metadata": {},
     "output_type": "execute_result"
    }
   ],
   "source": [
    "[5 for i in range(4)]"
   ]
  },
  {
   "cell_type": "code",
   "execution_count": 9,
   "id": "b499717e",
   "metadata": {},
   "outputs": [
    {
     "data": {
      "text/plain": [
       "[[1, 2], [1, 2], [1, 2]]"
      ]
     },
     "execution_count": 9,
     "metadata": {},
     "output_type": "execute_result"
    }
   ],
   "source": [
    "[[1,2] for i in range(3)]"
   ]
  },
  {
   "cell_type": "code",
   "execution_count": 11,
   "id": "577510db",
   "metadata": {},
   "outputs": [
    {
     "data": {
      "text/plain": [
       "['P', 'y', 't', 'h', 'o', 'n']"
      ]
     },
     "execution_count": 11,
     "metadata": {},
     "output_type": "execute_result"
    }
   ],
   "source": [
    "[i for i in 'Python']"
   ]
  },
  {
   "cell_type": "code",
   "execution_count": 12,
   "id": "3ef2bacb",
   "metadata": {},
   "outputs": [
    {
     "data": {
      "text/plain": [
       "[[[1, 2], [3, 4]], [[1, 2], [3, 4]], [[1, 2], [3, 4]]]"
      ]
     },
     "execution_count": 12,
     "metadata": {},
     "output_type": "execute_result"
    }
   ],
   "source": [
    "[[[1,2],[3,4]] for i in range(3)]"
   ]
  },
  {
   "cell_type": "markdown",
   "id": "cb84718c",
   "metadata": {},
   "source": [
    "# Dictionary Comprehension"
   ]
  },
  {
   "cell_type": "code",
   "execution_count": 13,
   "id": "764a439c",
   "metadata": {},
   "outputs": [],
   "source": [
    "# - It is a method to create a dictionary using loop.\n",
    "# - Using dictionary comprehension we can create a dictionary using loop with one line of code."
   ]
  },
  {
   "cell_type": "code",
   "execution_count": 14,
   "id": "b0310253",
   "metadata": {},
   "outputs": [],
   "source": [
    "# {for loop}"
   ]
  },
  {
   "cell_type": "code",
   "execution_count": null,
   "id": "1cebae36",
   "metadata": {},
   "outputs": [],
   "source": [
    "{key:value for positioner in Iterable}"
   ]
  },
  {
   "cell_type": "code",
   "execution_count": 15,
   "id": "7d6f200f",
   "metadata": {},
   "outputs": [],
   "source": [
    "# Create a dictionary where keys are the numbers from 1 to 5 and their squares are the values\n",
    "# Output- {1:1,2:4,3:9,4:16,5:25}"
   ]
  },
  {
   "cell_type": "markdown",
   "id": "f32139ee",
   "metadata": {},
   "source": [
    "# Using loop"
   ]
  },
  {
   "cell_type": "code",
   "execution_count": 19,
   "id": "4a51667c",
   "metadata": {},
   "outputs": [
    {
     "name": "stdout",
     "output_type": "stream",
     "text": [
      "{1: 1, 2: 4, 3: 9, 4: 16, 5: 25}\n"
     ]
    }
   ],
   "source": [
    "d={}\n",
    "\n",
    "for i in range(1,6):\n",
    "    d.update({i:i**2})\n",
    "print(d)"
   ]
  },
  {
   "cell_type": "code",
   "execution_count": 20,
   "id": "db5f488d",
   "metadata": {},
   "outputs": [
    {
     "data": {
      "text/plain": [
       "{1: 1, 2: 4, 3: 9, 4: 16, 5: 25}"
      ]
     },
     "execution_count": 20,
     "metadata": {},
     "output_type": "execute_result"
    }
   ],
   "source": [
    "{i:i**2 for i in range(1,6)}"
   ]
  },
  {
   "cell_type": "code",
   "execution_count": 24,
   "id": "5a1120c8",
   "metadata": {},
   "outputs": [
    {
     "data": {
      "text/plain": [
       "[('Name', 'Hiya'), ('Age', 25), ('City', 'Pune'), ('Salary', 55000)]"
      ]
     },
     "execution_count": 24,
     "metadata": {},
     "output_type": "execute_result"
    }
   ],
   "source": [
    "lst=[('Name','Hiya'),('Age',25),('City','Pune'),('Salary',55000)]\n",
    "lst"
   ]
  },
  {
   "cell_type": "code",
   "execution_count": 30,
   "id": "bc239075",
   "metadata": {},
   "outputs": [
    {
     "name": "stdout",
     "output_type": "stream",
     "text": [
      "{'Name': 'Hiya', 'Age': 25, 'City': 'Pune', 'Salary': 55000}\n"
     ]
    }
   ],
   "source": [
    "d={}\n",
    "\n",
    "for i,j in lst:\n",
    "    d.update({i:j})\n",
    "    \n",
    "print(d)"
   ]
  },
  {
   "cell_type": "code",
   "execution_count": 31,
   "id": "37a73a0f",
   "metadata": {},
   "outputs": [
    {
     "data": {
      "text/plain": [
       "{'Name': 'Hiya', 'Age': 25, 'City': 'Pune', 'Salary': 55000}"
      ]
     },
     "execution_count": 31,
     "metadata": {},
     "output_type": "execute_result"
    }
   ],
   "source": [
    "{i:j for i,j in lst}"
   ]
  },
  {
   "cell_type": "markdown",
   "id": "530c4205",
   "metadata": {},
   "source": [
    "# Conditions in dictionary comprehension"
   ]
  },
  {
   "cell_type": "code",
   "execution_count": 32,
   "id": "40c55f79",
   "metadata": {},
   "outputs": [],
   "source": [
    "# {key:value for loop if condition (optional)}"
   ]
  },
  {
   "cell_type": "code",
   "execution_count": 41,
   "id": "bdd4f200",
   "metadata": {},
   "outputs": [
    {
     "data": {
      "text/plain": [
       "{2: 4, 4: 16, 6: 36, 8: 64, 10: 100}"
      ]
     },
     "execution_count": 41,
     "metadata": {},
     "output_type": "execute_result"
    }
   ],
   "source": [
    "{i:i**2 for i in [1,2,3,4,5,6,7,8,9,10] if i%2==0}"
   ]
  },
  {
   "cell_type": "code",
   "execution_count": 38,
   "id": "597b9341",
   "metadata": {},
   "outputs": [
    {
     "data": {
      "text/plain": [
       "False"
      ]
     },
     "execution_count": 38,
     "metadata": {},
     "output_type": "execute_result"
    }
   ],
   "source": [
    "i=1\n",
    "i%2==0"
   ]
  },
  {
   "cell_type": "code",
   "execution_count": 47,
   "id": "25e41b17",
   "metadata": {},
   "outputs": [
    {
     "name": "stdout",
     "output_type": "stream",
     "text": [
      "{1: 1, 2: 4, 3: 27, 4: 16, 5: 125, 6: 36, 7: 343, 8: 64, 9: 729, 10: 100}\n"
     ]
    }
   ],
   "source": [
    "# Create a dictionary where the numbers from 1 to 10 are the keys and\n",
    "# the values are the squares of the even keys and the cubes of the odd keys\n",
    "\n",
    "# Output- {1:1,2:4,3:27,4:16,5:125,6:36,7:343,8:64,9:729,10:100}\n",
    "\n",
    "d={}\n",
    "\n",
    "for i in range(1,11):\n",
    "    if i%2==0:\n",
    "        d.update({i:i**2})\n",
    "    else:\n",
    "        d.update({i:i**3})\n",
    "print(d)"
   ]
  },
  {
   "cell_type": "code",
   "execution_count": 50,
   "id": "64242094",
   "metadata": {},
   "outputs": [],
   "source": [
    "# - To use if...else both inside the dictionary comprehension we have to use ternary operator\n",
    "\n",
    "# exp_1 if condition else exp_2\n",
    "\n",
    "# {ternary operator for loop}"
   ]
  },
  {
   "cell_type": "code",
   "execution_count": 49,
   "id": "27ff7265",
   "metadata": {},
   "outputs": [
    {
     "data": {
      "text/plain": [
       "{2: 4, 4: 16, 6: 36, 8: 64, 10: 100}"
      ]
     },
     "execution_count": 49,
     "metadata": {},
     "output_type": "execute_result"
    }
   ],
   "source": [
    "{i:i**2 for i in [1,2,3,4,5,6,7,8,9,10] if i%2==0}"
   ]
  },
  {
   "cell_type": "code",
   "execution_count": 54,
   "id": "61b1f2eb",
   "metadata": {},
   "outputs": [
    {
     "data": {
      "text/plain": [
       "{1: 1, 2: 4, 3: 27, 4: 16, 5: 125, 6: 36, 7: 343, 8: 64, 9: 729, 10: 100}"
      ]
     },
     "execution_count": 54,
     "metadata": {},
     "output_type": "execute_result"
    }
   ],
   "source": [
    "{i:i**2 if i%2==0 else i**3 for i in range(1,11)}"
   ]
  },
  {
   "cell_type": "code",
   "execution_count": 53,
   "id": "d8f8ad92",
   "metadata": {},
   "outputs": [
    {
     "data": {
      "text/plain": [
       "27"
      ]
     },
     "execution_count": 53,
     "metadata": {},
     "output_type": "execute_result"
    }
   ],
   "source": [
    "i=3\n",
    "i**2 if i%2==0 else i**3"
   ]
  },
  {
   "cell_type": "code",
   "execution_count": 59,
   "id": "8f930487",
   "metadata": {},
   "outputs": [
    {
     "name": "stdout",
     "output_type": "stream",
     "text": [
      "{1: 1, 4: 2, 27: 3, 16: 4, 125: 5, 36: 6, 343: 7, 64: 8, 729: 9, 100: 10}\n"
     ]
    }
   ],
   "source": [
    "# The number 1 to 10 should be the values and \n",
    "# The keys should be the squares of the even values and the cubes of the odd values\n",
    "\n",
    "d={}\n",
    "\n",
    "for i in range(1,11):\n",
    "    if i%2==0:\n",
    "        d.update({i**2:i})\n",
    "    else:\n",
    "        d.update({i**3:i})\n",
    "print(d)"
   ]
  },
  {
   "cell_type": "code",
   "execution_count": 60,
   "id": "2cc69156",
   "metadata": {},
   "outputs": [
    {
     "data": {
      "text/plain": [
       "{1: 1, 4: 2, 27: 3, 16: 4, 125: 5, 36: 6, 343: 7, 64: 8, 729: 9, 100: 10}"
      ]
     },
     "execution_count": 60,
     "metadata": {},
     "output_type": "execute_result"
    }
   ],
   "source": [
    "{i**2 if i%2==0 else i**3 :i for i in range(1,11)}"
   ]
  },
  {
   "cell_type": "code",
   "execution_count": 64,
   "id": "8b8e5f33",
   "metadata": {},
   "outputs": [
    {
     "data": {
      "text/plain": [
       "{1: 1,\n",
       " 4: 4,\n",
       " 27: 27,\n",
       " 16: 16,\n",
       " 125: 125,\n",
       " 36: 36,\n",
       " 343: 343,\n",
       " 64: 64,\n",
       " 729: 729,\n",
       " 100: 100}"
      ]
     },
     "execution_count": 64,
     "metadata": {},
     "output_type": "execute_result"
    }
   ],
   "source": [
    "{i**2 if i%2==0 else i**3:i**2 if i%2==0 else i**3 for i in range(1,11)}"
   ]
  },
  {
   "cell_type": "markdown",
   "id": "653ddbd6",
   "metadata": {},
   "source": [
    "# Ternary Operator"
   ]
  },
  {
   "cell_type": "code",
   "execution_count": 61,
   "id": "36617382",
   "metadata": {},
   "outputs": [],
   "source": [
    "# It has minimum two expressions and one condition\n",
    "\n",
    "# exp_1 if condition else exp_2\n",
    "\n",
    "# When if condition is True then exp_1 is the result\n",
    "# When if condition is False then exp_2 is the result"
   ]
  },
  {
   "cell_type": "code",
   "execution_count": 63,
   "id": "a8457efc",
   "metadata": {},
   "outputs": [
    {
     "name": "stdout",
     "output_type": "stream",
     "text": [
      "Night\n"
     ]
    }
   ],
   "source": [
    "a='Moon'\n",
    "print('Day') if a=='Sun' else print('Night')"
   ]
  },
  {
   "cell_type": "markdown",
   "id": "810b28f5",
   "metadata": {},
   "source": [
    "# while loop"
   ]
  },
  {
   "cell_type": "code",
   "execution_count": 69,
   "id": "cb5e2dfd",
   "metadata": {},
   "outputs": [],
   "source": [
    "# - for loop can work with iterables only\n",
    "# - while loop can with non-iterables also\n",
    "\n",
    "# - for loop always has specific number of iterations.\n",
    "# - while loop can be used when we don't know the number of iterations.\n",
    "# - while loop can be used to iterate infinite times as well."
   ]
  },
  {
   "cell_type": "code",
   "execution_count": 66,
   "id": "780c1178",
   "metadata": {},
   "outputs": [
    {
     "name": "stdout",
     "output_type": "stream",
     "text": [
      "5 <class 'int'>\n"
     ]
    }
   ],
   "source": [
    "a=5\n",
    "print(a,type(a))"
   ]
  },
  {
   "cell_type": "code",
   "execution_count": 68,
   "id": "9b6f4f60",
   "metadata": {},
   "outputs": [
    {
     "name": "stdout",
     "output_type": "stream",
     "text": [
      "0\n",
      "1\n",
      "2\n",
      "3\n",
      "4\n"
     ]
    }
   ],
   "source": [
    "for i in range(a):\n",
    "    print(i)"
   ]
  },
  {
   "cell_type": "markdown",
   "id": "cb4b9c3c",
   "metadata": {},
   "source": [
    "# Syntax"
   ]
  },
  {
   "cell_type": "code",
   "execution_count": 71,
   "id": "766ff210",
   "metadata": {},
   "outputs": [],
   "source": [
    "# - Intialisation of a counter\n",
    "# - Condition\n",
    "# - Increment/Decrement\n",
    "\n",
    "# - Until the condition gets False it keeps on executing the code"
   ]
  },
  {
   "cell_type": "code",
   "execution_count": 72,
   "id": "92282fbf",
   "metadata": {},
   "outputs": [
    {
     "name": "stdout",
     "output_type": "stream",
     "text": [
      "Hello\n",
      "Hello\n",
      "Hello\n",
      "Hello\n",
      "Hello\n"
     ]
    }
   ],
   "source": [
    "# print Hello 5 times using while loop\n",
    "\n",
    "for i in range(5):\n",
    "    print('Hello')"
   ]
  },
  {
   "cell_type": "code",
   "execution_count": 1,
   "id": "763c608c",
   "metadata": {},
   "outputs": [
    {
     "name": "stdout",
     "output_type": "stream",
     "text": [
      "Hello\n",
      "Hello\n",
      "Hello\n",
      "Hello\n",
      "Hello\n"
     ]
    }
   ],
   "source": [
    "i=1 # counter intialisation\n",
    "\n",
    "while i<=5: # condition\n",
    "    print('Hello')\n",
    "    i+=1 # increment"
   ]
  },
  {
   "cell_type": "markdown",
   "id": "98277a73",
   "metadata": {},
   "source": [
    "# while True"
   ]
  },
  {
   "cell_type": "code",
   "execution_count": 3,
   "id": "3c3caa62",
   "metadata": {},
   "outputs": [],
   "source": [
    "# - This condition is always True\n",
    "# - It excecutes the code infinite times\n",
    "# - We use break statement to terminate a while True loop\n",
    "# - Generally we use while True when we don't know the number of iterations"
   ]
  },
  {
   "cell_type": "code",
   "execution_count": 4,
   "id": "f5020a6c",
   "metadata": {},
   "outputs": [
    {
     "name": "stdout",
     "output_type": "stream",
     "text": [
      "Enter your password- 789\n",
      "Incorrect Passord\n",
      "Enter your password again- 123\n",
      "Incorrect Passord\n",
      "Enter your password again- abc\n",
      "Attempts exhausted\n",
      "Try after sometime\n"
     ]
    }
   ],
   "source": [
    "password='ABC@12345'\n",
    "\n",
    "pas=input('Enter your password- ')\n",
    "c=1\n",
    "\n",
    "while True:\n",
    "    if pas==password:\n",
    "        print('Password Matched')\n",
    "        print('You are welcome!')\n",
    "        break\n",
    "    elif c>=3:\n",
    "        print('Attempts exhausted')\n",
    "        print('Try after sometime')\n",
    "        break\n",
    "    else:\n",
    "        print('Incorrect Passord')\n",
    "        pas=input('Enter your password again- ')\n",
    "        c+=1"
   ]
  },
  {
   "cell_type": "markdown",
   "id": "98275ad2",
   "metadata": {},
   "source": [
    "# Functions"
   ]
  },
  {
   "cell_type": "code",
   "execution_count": 5,
   "id": "ddd2efa3",
   "metadata": {},
   "outputs": [],
   "source": [
    "# - A function is a block of code that we can executed as and when we want in a program"
   ]
  },
  {
   "cell_type": "code",
   "execution_count": 7,
   "id": "2a3c7146",
   "metadata": {},
   "outputs": [],
   "source": [
    "# Function definition- It is the block where we write the logic (code)\n",
    "# Function call- It is a trigger that intiates the excecution of the function definition"
   ]
  },
  {
   "cell_type": "markdown",
   "id": "05abaca9",
   "metadata": {},
   "source": [
    "# User defined function"
   ]
  },
  {
   "cell_type": "markdown",
   "id": "c876deb9",
   "metadata": {},
   "source": [
    "# Function definition"
   ]
  },
  {
   "cell_type": "code",
   "execution_count": null,
   "id": "78a1705a",
   "metadata": {},
   "outputs": [],
   "source": [
    "def function_name():\n",
    "    code\n",
    "    code"
   ]
  },
  {
   "cell_type": "code",
   "execution_count": 9,
   "id": "bb843bdf",
   "metadata": {},
   "outputs": [
    {
     "name": "stdout",
     "output_type": "stream",
     "text": [
      "Good morning all!\n",
      "I welcome you all in the class!\n"
     ]
    }
   ],
   "source": [
    "def greet():\n",
    "    print('Good morning all!')\n",
    "    print('I welcome you all in the class!')\n",
    "    \n",
    "greet()"
   ]
  },
  {
   "cell_type": "markdown",
   "id": "13c5c90b",
   "metadata": {},
   "source": [
    "# A function may be parameterised or non-parameterised"
   ]
  },
  {
   "cell_type": "code",
   "execution_count": null,
   "id": "056ecfc4",
   "metadata": {},
   "outputs": [],
   "source": [
    "def function_name(a,b,c...n): #Parameterised functions, a,b,c...n are known as parameters\n",
    "    code\n",
    "    code"
   ]
  },
  {
   "cell_type": "code",
   "execution_count": 12,
   "id": "27ef67f6",
   "metadata": {},
   "outputs": [],
   "source": [
    "def add():\n",
    "    a=int(input('Enter a number- '))\n",
    "    b=int(input('Enter a number- '))\n",
    "    c=a+b\n",
    "    print(c)"
   ]
  },
  {
   "cell_type": "code",
   "execution_count": 14,
   "id": "856313d0",
   "metadata": {},
   "outputs": [
    {
     "name": "stdout",
     "output_type": "stream",
     "text": [
      "Enter a number- 7\n",
      "Enter a number- 5\n",
      "12\n"
     ]
    }
   ],
   "source": [
    "add()"
   ]
  },
  {
   "cell_type": "code",
   "execution_count": null,
   "id": "879bc8bf",
   "metadata": {},
   "outputs": [],
   "source": []
  },
  {
   "cell_type": "code",
   "execution_count": null,
   "id": "dea070f1",
   "metadata": {},
   "outputs": [],
   "source": []
  },
  {
   "cell_type": "code",
   "execution_count": null,
   "id": "aa81bd6c",
   "metadata": {},
   "outputs": [],
   "source": []
  },
  {
   "cell_type": "code",
   "execution_count": 15,
   "id": "c731ae81",
   "metadata": {},
   "outputs": [
    {
     "name": "stdout",
     "output_type": "stream",
     "text": [
      "Enter a number- 78\n",
      "Enter a number- 24\n",
      "102\n"
     ]
    }
   ],
   "source": [
    "add()"
   ]
  },
  {
   "cell_type": "code",
   "execution_count": 16,
   "id": "23a7dc7a",
   "metadata": {},
   "outputs": [
    {
     "name": "stdout",
     "output_type": "stream",
     "text": [
      "Enter a number- 10\n",
      "Enter a number- 20\n",
      "30\n"
     ]
    }
   ],
   "source": [
    "lst=[10,20]\n",
    "\n",
    "add()"
   ]
  },
  {
   "cell_type": "code",
   "execution_count": 17,
   "id": "93c81da2",
   "metadata": {},
   "outputs": [],
   "source": [
    "def add(x,y):\n",
    "    c=x+y\n",
    "    print(c)"
   ]
  },
  {
   "cell_type": "code",
   "execution_count": 18,
   "id": "5349ea55",
   "metadata": {},
   "outputs": [
    {
     "name": "stdout",
     "output_type": "stream",
     "text": [
      "11\n"
     ]
    }
   ],
   "source": [
    "add(5,6)"
   ]
  },
  {
   "cell_type": "code",
   "execution_count": 19,
   "id": "ad7b78f2",
   "metadata": {},
   "outputs": [
    {
     "name": "stdout",
     "output_type": "stream",
     "text": [
      "30\n"
     ]
    }
   ],
   "source": [
    "lst=[10,20]\n",
    "\n",
    "add(lst[0],lst[1])"
   ]
  },
  {
   "cell_type": "code",
   "execution_count": 20,
   "id": "4f8c496c",
   "metadata": {},
   "outputs": [],
   "source": [
    "# Create a function intro that gives the introduction of the class\n",
    "\n",
    "def intro():\n",
    "    print('We are from Learnbay')\n",
    "    print('We are learning Python')"
   ]
  },
  {
   "cell_type": "code",
   "execution_count": 21,
   "id": "09249cce",
   "metadata": {},
   "outputs": [
    {
     "name": "stdout",
     "output_type": "stream",
     "text": [
      "We are from Learnbay\n",
      "We are learning Python\n"
     ]
    }
   ],
   "source": [
    "intro()"
   ]
  },
  {
   "cell_type": "code",
   "execution_count": 23,
   "id": "696e411b",
   "metadata": {},
   "outputs": [],
   "source": [
    "# Create a function intro that takes a name as input and print I am {name}"
   ]
  },
  {
   "cell_type": "code",
   "execution_count": 24,
   "id": "795c4d00",
   "metadata": {},
   "outputs": [],
   "source": [
    "def intro(name):\n",
    "    print(f'I am {name}')"
   ]
  },
  {
   "cell_type": "code",
   "execution_count": 26,
   "id": "ac013680",
   "metadata": {},
   "outputs": [
    {
     "name": "stdout",
     "output_type": "stream",
     "text": [
      "I am Nachiket\n"
     ]
    }
   ],
   "source": [
    "intro('Nachiket')"
   ]
  },
  {
   "cell_type": "code",
   "execution_count": 27,
   "id": "0ca25304",
   "metadata": {},
   "outputs": [],
   "source": [
    "names=['Ambika','Suresh','Manan','Naschiket','Rohan','Ankit']"
   ]
  },
  {
   "cell_type": "code",
   "execution_count": 29,
   "id": "7a3362a5",
   "metadata": {},
   "outputs": [
    {
     "name": "stdout",
     "output_type": "stream",
     "text": [
      "I am Ambika\n",
      "I am Suresh\n",
      "I am Manan\n",
      "I am Naschiket\n",
      "I am Rohan\n",
      "I am Ankit\n"
     ]
    }
   ],
   "source": [
    "for i in names:\n",
    "    intro(i)"
   ]
  },
  {
   "cell_type": "markdown",
   "id": "99fe01af",
   "metadata": {},
   "source": [
    "# A function may return or may not return a value"
   ]
  },
  {
   "cell_type": "code",
   "execution_count": 30,
   "id": "a2266883",
   "metadata": {},
   "outputs": [],
   "source": [
    "# - print() only prints the value in the output area but does not return anything.\n",
    "# - Any function that does not return anything, it always returns None"
   ]
  },
  {
   "cell_type": "code",
   "execution_count": 31,
   "id": "e87b7d40",
   "metadata": {},
   "outputs": [
    {
     "name": "stdout",
     "output_type": "stream",
     "text": [
      "4\n"
     ]
    }
   ],
   "source": [
    "a=int(4.5)\n",
    "print(a)"
   ]
  },
  {
   "cell_type": "code",
   "execution_count": 32,
   "id": "fb5c8bd6",
   "metadata": {},
   "outputs": [
    {
     "name": "stdout",
     "output_type": "stream",
     "text": [
      "4\n",
      "None\n"
     ]
    }
   ],
   "source": [
    "a=print(4)\n",
    "print(a)"
   ]
  },
  {
   "cell_type": "code",
   "execution_count": 34,
   "id": "5610849a",
   "metadata": {},
   "outputs": [
    {
     "name": "stdout",
     "output_type": "stream",
     "text": [
      "[4, 5, 6, 10]\n"
     ]
    }
   ],
   "source": [
    "lst=[4,5,6]\n",
    "lst.append(10)\n",
    "print(lst)"
   ]
  },
  {
   "cell_type": "code",
   "execution_count": 35,
   "id": "71dd3ec0",
   "metadata": {},
   "outputs": [
    {
     "name": "stdout",
     "output_type": "stream",
     "text": [
      "None\n"
     ]
    }
   ],
   "source": [
    "a=lst.append(45)\n",
    "print(a)"
   ]
  },
  {
   "cell_type": "code",
   "execution_count": 36,
   "id": "aa906a27",
   "metadata": {},
   "outputs": [],
   "source": [
    "def add(x,y):\n",
    "    c=x+y\n",
    "    print(c)"
   ]
  },
  {
   "cell_type": "code",
   "execution_count": 38,
   "id": "f9bdee33",
   "metadata": {},
   "outputs": [
    {
     "name": "stdout",
     "output_type": "stream",
     "text": [
      "100\n"
     ]
    }
   ],
   "source": [
    "a=add(40,60)"
   ]
  },
  {
   "cell_type": "code",
   "execution_count": 39,
   "id": "bf3717cc",
   "metadata": {},
   "outputs": [
    {
     "name": "stdout",
     "output_type": "stream",
     "text": [
      "None\n"
     ]
    }
   ],
   "source": [
    "print(a)"
   ]
  },
  {
   "cell_type": "code",
   "execution_count": 41,
   "id": "e145e293",
   "metadata": {},
   "outputs": [
    {
     "name": "stdout",
     "output_type": "stream",
     "text": [
      "30\n"
     ]
    }
   ],
   "source": [
    "lst=[]\n",
    "lst.append(add(10,20))"
   ]
  },
  {
   "cell_type": "code",
   "execution_count": 42,
   "id": "120578f7",
   "metadata": {},
   "outputs": [
    {
     "name": "stdout",
     "output_type": "stream",
     "text": [
      "[None]\n"
     ]
    }
   ],
   "source": [
    "print(lst)"
   ]
  },
  {
   "cell_type": "markdown",
   "id": "71eb3e21",
   "metadata": {},
   "source": [
    "# return"
   ]
  },
  {
   "cell_type": "code",
   "execution_count": 43,
   "id": "ff86d9ea",
   "metadata": {},
   "outputs": [],
   "source": [
    "# - return statement returns the value back to the function call.\n",
    "# - We assign the function call to some variable so that we can handle the returned value."
   ]
  },
  {
   "cell_type": "code",
   "execution_count": 44,
   "id": "4ea98269",
   "metadata": {},
   "outputs": [],
   "source": [
    "def add(x,y):\n",
    "    c=x+y\n",
    "    return c"
   ]
  },
  {
   "cell_type": "code",
   "execution_count": 45,
   "id": "f408ff56",
   "metadata": {},
   "outputs": [
    {
     "name": "stdout",
     "output_type": "stream",
     "text": [
      "9\n"
     ]
    }
   ],
   "source": [
    "a=add(5,4)\n",
    "print(a)"
   ]
  },
  {
   "cell_type": "code",
   "execution_count": 46,
   "id": "b956bc40",
   "metadata": {},
   "outputs": [
    {
     "name": "stdout",
     "output_type": "stream",
     "text": [
      "[9]\n"
     ]
    }
   ],
   "source": [
    "lst=[]\n",
    "lst.append(a)\n",
    "print(lst)"
   ]
  },
  {
   "cell_type": "code",
   "execution_count": 47,
   "id": "97a6c1b1",
   "metadata": {},
   "outputs": [],
   "source": [
    "def dummy():\n",
    "    result=16551515\n",
    "    print(result)"
   ]
  },
  {
   "cell_type": "code",
   "execution_count": 49,
   "id": "658f3e33",
   "metadata": {},
   "outputs": [
    {
     "name": "stdout",
     "output_type": "stream",
     "text": [
      "16551515\n"
     ]
    }
   ],
   "source": [
    "a=dummy()"
   ]
  },
  {
   "cell_type": "code",
   "execution_count": 50,
   "id": "c75b90ab",
   "metadata": {},
   "outputs": [
    {
     "name": "stdout",
     "output_type": "stream",
     "text": [
      "None\n"
     ]
    }
   ],
   "source": [
    "print(a)"
   ]
  },
  {
   "cell_type": "code",
   "execution_count": 51,
   "id": "754874c5",
   "metadata": {},
   "outputs": [],
   "source": [
    "lst=[(10,20),(30,40),(50,60),(70,70)]\n",
    "\n",
    "# Add the numbers inside the tuple and put them in a list- result"
   ]
  },
  {
   "cell_type": "code",
   "execution_count": 63,
   "id": "dc38e3e5",
   "metadata": {},
   "outputs": [],
   "source": [
    "lst=[(10,20),(30,40),(50,60),(70,70)]\n",
    "result=[]"
   ]
  },
  {
   "cell_type": "code",
   "execution_count": 64,
   "id": "5488a246",
   "metadata": {},
   "outputs": [],
   "source": [
    "def add(x,y):\n",
    "    c=x+y\n",
    "    return c"
   ]
  },
  {
   "cell_type": "code",
   "execution_count": 65,
   "id": "b14f2c46",
   "metadata": {},
   "outputs": [],
   "source": [
    "for i,j in lst:\n",
    "    result.append(add(i,j))"
   ]
  },
  {
   "cell_type": "code",
   "execution_count": 66,
   "id": "5061c9f1",
   "metadata": {},
   "outputs": [
    {
     "name": "stdout",
     "output_type": "stream",
     "text": [
      "[30, 70, 110, 140]\n"
     ]
    }
   ],
   "source": [
    "print(result)"
   ]
  },
  {
   "cell_type": "code",
   "execution_count": 67,
   "id": "47d06614",
   "metadata": {},
   "outputs": [],
   "source": [
    "# List Comprehension\n",
    "# Dictionary Comprehension\n",
    "# Why we need comprehension"
   ]
  },
  {
   "cell_type": "code",
   "execution_count": 80,
   "id": "9e75f5f2",
   "metadata": {},
   "outputs": [],
   "source": [
    "def add(a):\n",
    "    s=0\n",
    "    \n",
    "    for i in a:\n",
    "        s+=i\n",
    "    return s"
   ]
  },
  {
   "cell_type": "code",
   "execution_count": 77,
   "id": "66d2aece",
   "metadata": {},
   "outputs": [
    {
     "data": {
      "text/plain": [
       "27"
      ]
     },
     "execution_count": 77,
     "metadata": {},
     "output_type": "execute_result"
    }
   ],
   "source": [
    "add(5,7,8,7)"
   ]
  },
  {
   "cell_type": "code",
   "execution_count": 81,
   "id": "aae5b753",
   "metadata": {},
   "outputs": [],
   "source": [
    "lst=[(10,20),(30,40,70),(50,60,2,5),(70,5,6,8,1,2,7)]\n"
   ]
  },
  {
   "cell_type": "code",
   "execution_count": 84,
   "id": "4f0185b5",
   "metadata": {},
   "outputs": [
    {
     "name": "stdout",
     "output_type": "stream",
     "text": [
      "[30, 140, 117, 99]\n"
     ]
    }
   ],
   "source": [
    "result=[]\n",
    "for i in lst:\n",
    "    result.append(add(i))\n",
    "print(result)"
   ]
  },
  {
   "cell_type": "code",
   "execution_count": null,
   "id": "0c6c69fb",
   "metadata": {},
   "outputs": [],
   "source": [
    "# break and continue, pass\n",
    "# Types of arguments\n",
    "# Function Properties"
   ]
  }
 ],
 "metadata": {
  "kernelspec": {
   "display_name": "Python 3 (ipykernel)",
   "language": "python",
   "name": "python3"
  },
  "language_info": {
   "codemirror_mode": {
    "name": "ipython",
    "version": 3
   },
   "file_extension": ".py",
   "mimetype": "text/x-python",
   "name": "python",
   "nbconvert_exporter": "python",
   "pygments_lexer": "ipython3",
   "version": "3.11.4"
  }
 },
 "nbformat": 4,
 "nbformat_minor": 5
}
