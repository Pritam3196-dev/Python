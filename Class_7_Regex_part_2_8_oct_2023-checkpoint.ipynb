{
 "cells": [
  {
   "cell_type": "markdown",
   "id": "0b10e15a",
   "metadata": {
    "id": "0b10e15a"
   },
   "source": [
    "# Metacharacters"
   ]
  },
  {
   "cell_type": "code",
   "execution_count": null,
   "id": "d38267b3",
   "metadata": {
    "id": "d38267b3"
   },
   "outputs": [],
   "source": [
    "# Set []\n",
    "# Caret ^\n",
    "# Dollar $\n",
    "# Dot .\n",
    "# Or |\n",
    "# Group ()"
   ]
  },
  {
   "cell_type": "markdown",
   "id": "16511d1f",
   "metadata": {
    "id": "16511d1f"
   },
   "source": [
    "# Or |"
   ]
  },
  {
   "cell_type": "code",
   "execution_count": null,
   "id": "951cc7f4",
   "metadata": {
    "id": "951cc7f4"
   },
   "outputs": [],
   "source": [
    "# abc|xyz- It will match either abc or xyz whichever is avialable"
   ]
  },
  {
   "cell_type": "code",
   "execution_count": null,
   "id": "63a38d0c",
   "metadata": {
    "id": "63a38d0c"
   },
   "outputs": [],
   "source": [
    "import re"
   ]
  },
  {
   "cell_type": "code",
   "execution_count": null,
   "id": "482b4254",
   "metadata": {
    "id": "482b4254",
    "outputId": "7accfeee-3c70-4ba7-f16f-a3287713e442"
   },
   "outputs": [
    {
     "name": "stdout",
     "output_type": "stream",
     "text": [
      "<re.Match object; span=(0, 3), match='abc'>\n",
      "<re.Match object; span=(4, 9), match='gmail'>\n",
      "<re.Match object; span=(14, 17), match='xyz'>\n",
      "<re.Match object; span=(30, 33), match='jkl'>\n",
      "<re.Match object; span=(34, 39), match='gmail'>\n",
      "<re.Match object; span=(44, 47), match='mno'>\n",
      "<re.Match object; span=(48, 53), match='gmail'>\n",
      "<re.Match object; span=(58, 64), match='akshay'>\n",
      "<re.Match object; span=(79, 82), match='abc'>\n",
      "<re.Match object; span=(84, 89), match='gmail'>\n"
     ]
    }
   ],
   "source": [
    "text='abc@gmail.com xyz@hotmail.com jkl@gmail.com mno@gmail.com akshay@hotmail.com cdabce@gmail.com'\n",
    "\n",
    "pat=r'abc|xyz|jkl|mno|akshay|gmail'\n",
    "\n",
    "for i in re.finditer(pat,text):\n",
    "    print(i)"
   ]
  },
  {
   "cell_type": "markdown",
   "id": "395bea21",
   "metadata": {
    "id": "395bea21"
   },
   "source": [
    "# group ( )"
   ]
  },
  {
   "cell_type": "code",
   "execution_count": null,
   "id": "1c4caa0a",
   "metadata": {
    "id": "1c4caa0a"
   },
   "outputs": [],
   "source": [
    "# - It groups a pattern with another pattern"
   ]
  },
  {
   "cell_type": "code",
   "execution_count": null,
   "id": "3b0a768b",
   "metadata": {
    "id": "3b0a768b",
    "outputId": "4b5a364d-b0d5-41a9-9162-97d324b7287d"
   },
   "outputs": [
    {
     "name": "stdout",
     "output_type": "stream",
     "text": [
      "<re.Match object; span=(0, 13), match='abc@gmail.com'>\n",
      "<re.Match object; span=(30, 43), match='jkl@gmail.com'>\n",
      "<re.Match object; span=(77, 93), match='cdabce@gmail.com'>\n"
     ]
    }
   ],
   "source": [
    "# Match abc@gmail.com, jkl@gmail.com cdabce@gmail.com\n",
    "\n",
    "text='abc@gmail.com xyz@hotmail.com jkl@gmail.com mno@gmail.com akshay@hotmail.com cdabce@gmail.com'\n",
    "\n",
    "pat=r'(abc|jkl|cdabce)@gmail.com'\n",
    "\n",
    "for i in re.finditer(pat,text):\n",
    "    print(i)"
   ]
  },
  {
   "cell_type": "code",
   "execution_count": null,
   "id": "105c55d4",
   "metadata": {
    "id": "105c55d4",
    "outputId": "f7cdcca5-40d5-433e-8937-9cdd71c07028"
   },
   "outputs": [
    {
     "name": "stdout",
     "output_type": "stream",
     "text": [
      "<re.Match object; span=(0, 3), match='rat'>\n",
      "<re.Match object; span=(13, 16), match='bat'>\n",
      "<re.Match object; span=(21, 24), match='fat'>\n",
      "<re.Match object; span=(29, 32), match='cat'>\n",
      "<re.Match object; span=(37, 40), match='mat'>\n"
     ]
    }
   ],
   "source": [
    "# All the names that have at\n",
    "\n",
    "text='rat jet  met bat xet fat get cat hat mat bet'\n",
    "\n",
    "pat=r'(r|b|f|c|m)at'\n",
    "\n",
    "for i in re.finditer(pat,text):\n",
    "    print(i)"
   ]
  },
  {
   "cell_type": "code",
   "execution_count": null,
   "id": "9e621e8f",
   "metadata": {
    "id": "9e621e8f",
    "outputId": "de6303f5-2cd6-4ad5-ed7c-00340049f465"
   },
   "outputs": [
    {
     "name": "stdout",
     "output_type": "stream",
     "text": [
      "<re.Match object; span=(0, 3), match='rat'>\n",
      "<re.Match object; span=(13, 16), match='bat'>\n",
      "<re.Match object; span=(21, 24), match='fat'>\n",
      "<re.Match object; span=(29, 32), match='cat'>\n",
      "<re.Match object; span=(33, 36), match='hat'>\n",
      "<re.Match object; span=(37, 40), match='mat'>\n"
     ]
    }
   ],
   "source": [
    "# All the names that have at\n",
    "\n",
    "text='rat jet  met bat xet fat get cat hat mat bet'\n",
    "\n",
    "pat=r'[a-z]at'\n",
    "\n",
    "for i in re.finditer(pat,text):\n",
    "    print(i)"
   ]
  },
  {
   "cell_type": "code",
   "execution_count": null,
   "id": "c35161c9",
   "metadata": {
    "id": "c35161c9",
    "outputId": "3db1e1eb-78d3-4fbb-cbad-55c860dbc056"
   },
   "outputs": [
    {
     "name": "stdout",
     "output_type": "stream",
     "text": [
      "<re.Match object; span=(0, 3), match='rat'>\n",
      "<re.Match object; span=(13, 16), match='bat'>\n",
      "<re.Match object; span=(29, 32), match='cat'>\n"
     ]
    }
   ],
   "source": [
    "# Match cat bat rat only\n",
    "\n",
    "text='rat jet  met bat xet fat get cat hat mat bet'\n",
    "\n",
    "pat=r'(c|b|r)at'\n",
    "\n",
    "for i in re.finditer(pat,text):\n",
    "    print(i)"
   ]
  },
  {
   "cell_type": "markdown",
   "id": "d895a4d5",
   "metadata": {
    "id": "d895a4d5"
   },
   "source": [
    "# Special Sequences"
   ]
  },
  {
   "cell_type": "code",
   "execution_count": null,
   "id": "b7b071b7",
   "metadata": {
    "id": "b7b071b7"
   },
   "outputs": [],
   "source": [
    "# \\w- It matches all the alphanumeric characters (A-Z, a-z, 0-9, _)\n",
    "# \\W- It matches everything except the alphanumeric characters\n",
    "\n",
    "# \\d- It matches all the digits\n",
    "# \\D- It will match everything except the digits\n",
    "\n",
    "# \\s- It matches all the space chracters (space, \\n, \\t, \\r)\n",
    "# \\S- It will match everything except the space characters\n",
    "\n",
    "# \\b- It matches the boundary chracter\n",
    "# \\B- It matches the non-boundary characters"
   ]
  },
  {
   "cell_type": "code",
   "execution_count": null,
   "id": "55caf2cc",
   "metadata": {
    "id": "55caf2cc",
    "outputId": "225bdf12-b283-4e2d-be7d-8f96ee176ec5"
   },
   "outputs": [
    {
     "name": "stdout",
     "output_type": "stream",
     "text": [
      "<re.Match object; span=(0, 1), match='a'>\n",
      "<re.Match object; span=(1, 2), match='b'>\n",
      "<re.Match object; span=(3, 4), match='c'>\n",
      "<re.Match object; span=(4, 5), match='d'>\n",
      "<re.Match object; span=(5, 6), match='1'>\n",
      "<re.Match object; span=(7, 8), match='_'>\n",
      "<re.Match object; span=(9, 10), match='2'>\n",
      "<re.Match object; span=(10, 11), match='3'>\n",
      "<re.Match object; span=(12, 13), match='4'>\n",
      "<re.Match object; span=(16, 17), match='_'>\n",
      "<re.Match object; span=(24, 25), match='A'>\n",
      "<re.Match object; span=(25, 26), match='B'>\n",
      "<re.Match object; span=(28, 29), match='C'>\n",
      "<re.Match object; span=(29, 30), match='D'>\n"
     ]
    }
   ],
   "source": [
    "text='ab cd1 _ 23 4!@ _  #$% ^AB -CD'\n",
    "\n",
    "pat=r'\\w'\n",
    "\n",
    "for i in re.finditer(pat,text):\n",
    "    print(i)"
   ]
  },
  {
   "cell_type": "code",
   "execution_count": null,
   "id": "6cb9e839",
   "metadata": {
    "id": "6cb9e839",
    "outputId": "a8dbb111-a8d4-4279-c298-d939f2d06991"
   },
   "outputs": [
    {
     "name": "stdout",
     "output_type": "stream",
     "text": [
      "<re.Match object; span=(2, 3), match=' '>\n",
      "<re.Match object; span=(6, 7), match=' '>\n",
      "<re.Match object; span=(8, 9), match=' '>\n",
      "<re.Match object; span=(9, 10), match='\\n'>\n",
      "<re.Match object; span=(10, 11), match=' '>\n",
      "<re.Match object; span=(13, 14), match=' '>\n",
      "<re.Match object; span=(15, 16), match='\\t'>\n",
      "<re.Match object; span=(16, 17), match='!'>\n",
      "<re.Match object; span=(17, 18), match='@'>\n",
      "<re.Match object; span=(18, 19), match=' '>\n",
      "<re.Match object; span=(20, 21), match=' '>\n",
      "<re.Match object; span=(21, 22), match=' '>\n",
      "<re.Match object; span=(22, 23), match='#'>\n",
      "<re.Match object; span=(23, 24), match='$'>\n",
      "<re.Match object; span=(24, 25), match='\\n'>\n",
      "<re.Match object; span=(25, 26), match='%'>\n",
      "<re.Match object; span=(26, 27), match=' '>\n",
      "<re.Match object; span=(27, 28), match='^'>\n",
      "<re.Match object; span=(30, 31), match=' '>\n",
      "<re.Match object; span=(31, 32), match='-'>\n",
      "<re.Match object; span=(33, 34), match='\\t'>\n"
     ]
    }
   ],
   "source": [
    "text='ab cd1 _ \\n 23 4\\t!@ _  # $\\n% ^AB -C\\tD'\n",
    "\n",
    "pat=r'\\W'\n",
    "\n",
    "for i in re.finditer(pat,text):\n",
    "    print(i)"
   ]
  },
  {
   "cell_type": "code",
   "execution_count": null,
   "id": "35726fa1",
   "metadata": {
    "id": "35726fa1",
    "outputId": "a0d35377-e0b2-4d3e-e965-e04cf4c7cbf9"
   },
   "outputs": [
    {
     "name": "stdout",
     "output_type": "stream",
     "text": [
      "<re.Match object; span=(5, 6), match='1'>\n",
      "<re.Match object; span=(11, 12), match='2'>\n",
      "<re.Match object; span=(12, 13), match='3'>\n",
      "<re.Match object; span=(14, 15), match='4'>\n"
     ]
    }
   ],
   "source": [
    "text='ab cd1 _ \\n 23 4\\t!@ _  # $\\n% ^AB -C\\tD'\n",
    "\n",
    "pat=r'\\d'\n",
    "\n",
    "for i in re.finditer(pat,text):\n",
    "    print(i)"
   ]
  },
  {
   "cell_type": "code",
   "execution_count": null,
   "id": "521d9353",
   "metadata": {
    "id": "521d9353",
    "outputId": "47a1e19e-d55d-417e-e5f3-b1df59d31c61"
   },
   "outputs": [
    {
     "name": "stdout",
     "output_type": "stream",
     "text": [
      "<re.Match object; span=(5, 6), match='1'>\n",
      "<re.Match object; span=(11, 12), match='2'>\n",
      "<re.Match object; span=(12, 13), match='3'>\n",
      "<re.Match object; span=(14, 15), match='4'>\n"
     ]
    }
   ],
   "source": [
    "text='ab cd1 _ \\n 23 4\\t!@ _  # $\\n% ^AB -C\\tD'\n",
    "\n",
    "pat=r'[0-9]'\n",
    "\n",
    "for i in re.finditer(pat,text):\n",
    "    print(i)"
   ]
  },
  {
   "cell_type": "code",
   "execution_count": null,
   "id": "479c5c99",
   "metadata": {
    "id": "479c5c99",
    "outputId": "5d8f3549-614e-414a-f412-56e1a3e1c857"
   },
   "outputs": [
    {
     "name": "stdout",
     "output_type": "stream",
     "text": [
      "<re.Match object; span=(0, 1), match='a'>\n",
      "<re.Match object; span=(1, 2), match='b'>\n",
      "<re.Match object; span=(2, 3), match=' '>\n",
      "<re.Match object; span=(3, 4), match='c'>\n",
      "<re.Match object; span=(4, 5), match='d'>\n",
      "<re.Match object; span=(6, 7), match=' '>\n",
      "<re.Match object; span=(7, 8), match='_'>\n",
      "<re.Match object; span=(8, 9), match=' '>\n",
      "<re.Match object; span=(9, 10), match='\\n'>\n",
      "<re.Match object; span=(10, 11), match=' '>\n",
      "<re.Match object; span=(13, 14), match=' '>\n",
      "<re.Match object; span=(15, 16), match='\\t'>\n",
      "<re.Match object; span=(16, 17), match='!'>\n",
      "<re.Match object; span=(17, 18), match='@'>\n",
      "<re.Match object; span=(18, 19), match=' '>\n",
      "<re.Match object; span=(19, 20), match='_'>\n",
      "<re.Match object; span=(20, 21), match=' '>\n",
      "<re.Match object; span=(21, 22), match=' '>\n",
      "<re.Match object; span=(22, 23), match='#'>\n",
      "<re.Match object; span=(23, 24), match=' '>\n",
      "<re.Match object; span=(24, 25), match='$'>\n",
      "<re.Match object; span=(25, 26), match='\\n'>\n",
      "<re.Match object; span=(26, 27), match='%'>\n",
      "<re.Match object; span=(27, 28), match=' '>\n",
      "<re.Match object; span=(28, 29), match='^'>\n",
      "<re.Match object; span=(29, 30), match='A'>\n",
      "<re.Match object; span=(30, 31), match='B'>\n",
      "<re.Match object; span=(31, 32), match=' '>\n",
      "<re.Match object; span=(32, 33), match='-'>\n",
      "<re.Match object; span=(33, 34), match='C'>\n",
      "<re.Match object; span=(34, 35), match='\\t'>\n",
      "<re.Match object; span=(35, 36), match='D'>\n"
     ]
    }
   ],
   "source": [
    "text='ab cd1 _ \\n 23 4\\t!@ _  # $\\n% ^AB -C\\tD'\n",
    "\n",
    "pat=r'\\D'\n",
    "\n",
    "for i in re.finditer(pat,text):\n",
    "    print(i)"
   ]
  },
  {
   "cell_type": "code",
   "execution_count": null,
   "id": "62f3e7a1",
   "metadata": {
    "id": "62f3e7a1",
    "outputId": "96a5a696-1751-445b-c9ac-d89832c3cadc"
   },
   "outputs": [
    {
     "name": "stdout",
     "output_type": "stream",
     "text": [
      "<re.Match object; span=(2, 3), match=' '>\n",
      "<re.Match object; span=(4, 5), match='\\r'>\n",
      "<re.Match object; span=(7, 8), match=' '>\n",
      "<re.Match object; span=(9, 10), match=' '>\n",
      "<re.Match object; span=(10, 11), match='\\n'>\n",
      "<re.Match object; span=(11, 12), match=' '>\n",
      "<re.Match object; span=(14, 15), match=' '>\n",
      "<re.Match object; span=(16, 17), match='\\t'>\n",
      "<re.Match object; span=(19, 20), match=' '>\n",
      "<re.Match object; span=(21, 22), match='\\n'>\n",
      "<re.Match object; span=(22, 23), match=' '>\n",
      "<re.Match object; span=(24, 25), match=' '>\n",
      "<re.Match object; span=(26, 27), match='\\n'>\n",
      "<re.Match object; span=(28, 29), match=' '>\n",
      "<re.Match object; span=(32, 33), match='\\r'>\n",
      "<re.Match object; span=(33, 34), match=' '>\n",
      "<re.Match object; span=(36, 37), match='\\t'>\n"
     ]
    }
   ],
   "source": [
    "text='ab c\\rd1 _ \\n 23 4\\t!@ _\\n # $\\n% ^AB\\r -C\\tD'\n",
    "\n",
    "pat=r'\\s'\n",
    "\n",
    "for i in re.finditer(pat,text):\n",
    "    print(i)"
   ]
  },
  {
   "cell_type": "code",
   "execution_count": null,
   "id": "c4e2562d",
   "metadata": {
    "id": "c4e2562d",
    "outputId": "56a7e82a-c2b1-4ef8-c4fe-c43971939ff1"
   },
   "outputs": [
    {
     "name": "stdout",
     "output_type": "stream",
     "text": [
      "Hello\r",
      "HE\n"
     ]
    }
   ],
   "source": [
    "print('Hello\\rHE')"
   ]
  },
  {
   "cell_type": "code",
   "execution_count": null,
   "id": "0c7c86df",
   "metadata": {
    "id": "0c7c86df",
    "outputId": "33e23817-71fb-4636-ab99-fe0072684081"
   },
   "outputs": [
    {
     "name": "stdout",
     "output_type": "stream",
     "text": [
      "<re.Match object; span=(0, 1), match='a'>\n",
      "<re.Match object; span=(1, 2), match='b'>\n",
      "<re.Match object; span=(3, 4), match='c'>\n",
      "<re.Match object; span=(5, 6), match='d'>\n",
      "<re.Match object; span=(6, 7), match='1'>\n",
      "<re.Match object; span=(8, 9), match='_'>\n",
      "<re.Match object; span=(12, 13), match='2'>\n",
      "<re.Match object; span=(13, 14), match='3'>\n",
      "<re.Match object; span=(15, 16), match='4'>\n",
      "<re.Match object; span=(17, 18), match='!'>\n",
      "<re.Match object; span=(18, 19), match='@'>\n",
      "<re.Match object; span=(20, 21), match='_'>\n",
      "<re.Match object; span=(23, 24), match='#'>\n",
      "<re.Match object; span=(25, 26), match='$'>\n",
      "<re.Match object; span=(27, 28), match='%'>\n",
      "<re.Match object; span=(29, 30), match='^'>\n",
      "<re.Match object; span=(30, 31), match='A'>\n",
      "<re.Match object; span=(31, 32), match='B'>\n",
      "<re.Match object; span=(34, 35), match='-'>\n",
      "<re.Match object; span=(35, 36), match='C'>\n",
      "<re.Match object; span=(37, 38), match='D'>\n"
     ]
    }
   ],
   "source": [
    "text='ab c\\rd1 _ \\n 23 4\\t!@ _\\n # $\\n% ^AB\\r -C\\tD'\n",
    "\n",
    "pat=r'\\S'\n",
    "\n",
    "for i in re.finditer(pat,text):\n",
    "    print(i)"
   ]
  },
  {
   "cell_type": "code",
   "execution_count": null,
   "id": "56a775dc",
   "metadata": {
    "id": "56a775dc",
    "outputId": "fd0c9abc-4ac4-4e97-f846-5d8235892715"
   },
   "outputs": [
    {
     "name": "stdout",
     "output_type": "stream",
     "text": [
      "<re.Match object; span=(0, 3), match='cat'>\n",
      "<re.Match object; span=(18, 21), match='cat'>\n",
      "<re.Match object; span=(22, 25), match='cat'>\n",
      "<re.Match object; span=(42, 45), match='cat'>\n"
     ]
    }
   ],
   "source": [
    "text='catherine bough a cat catherine loves the cat a lot and named her Tomcat'\n",
    "\n",
    "pat=r'\\bcat'\n",
    "\n",
    "for i in re.finditer(pat,text):\n",
    "    print(i)"
   ]
  },
  {
   "cell_type": "code",
   "execution_count": null,
   "id": "680ac7b1",
   "metadata": {
    "id": "680ac7b1",
    "outputId": "e7055542-9638-4e9f-aea8-73bbbc2e5cb4"
   },
   "outputs": [
    {
     "name": "stdout",
     "output_type": "stream",
     "text": [
      "<re.Match object; span=(18, 21), match='cat'>\n",
      "<re.Match object; span=(42, 45), match='cat'>\n",
      "<re.Match object; span=(69, 72), match='cat'>\n"
     ]
    }
   ],
   "source": [
    "text='catherine bough a cat catherine loves the cat a lot and named her Tomcat'\n",
    "\n",
    "pat=r'cat\\b'\n",
    "\n",
    "for i in re.finditer(pat,text):\n",
    "    print(i)"
   ]
  },
  {
   "cell_type": "code",
   "execution_count": null,
   "id": "fbe99b4b",
   "metadata": {
    "id": "fbe99b4b",
    "outputId": "2192b001-916d-4ea8-f594-54ca0847f575"
   },
   "outputs": [
    {
     "name": "stdout",
     "output_type": "stream",
     "text": [
      "<re.Match object; span=(18, 21), match='cat'>\n",
      "<re.Match object; span=(42, 45), match='cat'>\n"
     ]
    }
   ],
   "source": [
    "text='catherine bough a cat catherine loves the cat a lot and named her Tomcat'\n",
    "\n",
    "pat=r'\\bcat\\b'\n",
    "\n",
    "for i in re.finditer(pat,text):\n",
    "    print(i)"
   ]
  },
  {
   "cell_type": "code",
   "execution_count": null,
   "id": "0fb7c5bf",
   "metadata": {
    "id": "0fb7c5bf",
    "outputId": "19690150-f727-4343-91e3-764cf34e50ee"
   },
   "outputs": [
    {
     "name": "stdout",
     "output_type": "stream",
     "text": [
      "<re.Match object; span=(69, 72), match='cat'>\n"
     ]
    }
   ],
   "source": [
    "text='catherine bough a cat catherine loves the cat a lot and named her Tomcat'\n",
    "\n",
    "pat=r'\\Bcat'\n",
    "\n",
    "for i in re.finditer(pat,text):\n",
    "    print(i)"
   ]
  },
  {
   "cell_type": "code",
   "execution_count": null,
   "id": "21843e30",
   "metadata": {
    "id": "21843e30",
    "outputId": "4e1203d7-15a3-48c0-f3fd-82c0a8a8ef44"
   },
   "outputs": [
    {
     "name": "stdout",
     "output_type": "stream",
     "text": [
      "<re.Match object; span=(0, 3), match='cat'>\n",
      "<re.Match object; span=(22, 25), match='cat'>\n"
     ]
    }
   ],
   "source": [
    "text='catherine bough a cat catherine loves the cat a lot and named her Tomcat'\n",
    "\n",
    "pat=r'cat\\B'\n",
    "\n",
    "for i in re.finditer(pat,text):\n",
    "    print(i)"
   ]
  },
  {
   "cell_type": "code",
   "execution_count": null,
   "id": "5125ac99",
   "metadata": {
    "id": "5125ac99",
    "outputId": "f258031f-2535-4686-e780-ad9da25e3866"
   },
   "outputs": [
    {
     "name": "stdout",
     "output_type": "stream",
     "text": [
      "<re.Match object; span=(69, 72), match='cat'>\n"
     ]
    }
   ],
   "source": [
    "text='catherine bough a cat catherine loves the cat a lot and named her Tomcatjerry'\n",
    "\n",
    "pat=r'\\Bcat\\B'\n",
    "\n",
    "for i in re.finditer(pat,text):\n",
    "    print(i)"
   ]
  },
  {
   "cell_type": "markdown",
   "id": "969e8401",
   "metadata": {
    "id": "969e8401"
   },
   "source": [
    "# Quantifiers"
   ]
  },
  {
   "cell_type": "code",
   "execution_count": null,
   "id": "4d152ff6",
   "metadata": {
    "id": "4d152ff6"
   },
   "outputs": [],
   "source": [
    "# {}\n",
    "# ?\n",
    "# *\n",
    "# +"
   ]
  },
  {
   "cell_type": "code",
   "execution_count": null,
   "id": "0f01af0c",
   "metadata": {
    "id": "0f01af0c"
   },
   "outputs": [],
   "source": [
    "# {2}- It will match 2 repetitions\n",
    "# {3,5}- It will match the repetitions between 3 and 5"
   ]
  },
  {
   "cell_type": "code",
   "execution_count": null,
   "id": "8138adfc",
   "metadata": {
    "id": "8138adfc",
    "outputId": "ebc8bb07-ca7b-472b-9dc7-6a0f4f443b79"
   },
   "outputs": [
    {
     "name": "stdout",
     "output_type": "stream",
     "text": [
      "<re.Match object; span=(0, 2), match='20'>\n",
      "<re.Match object; span=(7, 10), match='258'>\n",
      "<re.Match object; span=(14, 18), match='4568'>\n",
      "<re.Match object; span=(26, 32), match='552244'>\n",
      "<re.Match object; span=(33, 38), match='78965'>\n",
      "<re.Match object; span=(39, 45), match='234568'>\n",
      "<re.Match object; span=(45, 51), match='888888'>\n"
     ]
    }
   ],
   "source": [
    "text='20 h5g 258 @# 4568 @3 2 7 552244 78965 2345688888888 ab2c'\n",
    "\n",
    "pat=r'\\d{2,6}'\n",
    "\n",
    "for i in re.finditer(pat,text):\n",
    "    print(i)"
   ]
  },
  {
   "cell_type": "code",
   "execution_count": null,
   "id": "45a25964",
   "metadata": {
    "id": "45a25964"
   },
   "outputs": [],
   "source": [
    "# ?- It matches 0 or 1 repetition\n",
    "# - If the pattern is there it will match it but only one repetition at a time.\n",
    "# - If the pattern is not there it will return return empty string ''"
   ]
  },
  {
   "cell_type": "code",
   "execution_count": null,
   "id": "d26f8361",
   "metadata": {
    "id": "d26f8361",
    "outputId": "f9e5e76d-2c87-455d-872a-ecf0f8a0ffc7"
   },
   "outputs": [
    {
     "name": "stdout",
     "output_type": "stream",
     "text": [
      "<re.Match object; span=(0, 0), match=''>\n",
      "<re.Match object; span=(1, 2), match='1'>\n",
      "<re.Match object; span=(2, 3), match='5'>\n",
      "<re.Match object; span=(3, 3), match=''>\n",
      "<re.Match object; span=(4, 4), match=''>\n",
      "<re.Match object; span=(5, 6), match='2'>\n",
      "<re.Match object; span=(6, 7), match='5'>\n",
      "<re.Match object; span=(7, 8), match='8'>\n",
      "<re.Match object; span=(8, 8), match=''>\n",
      "<re.Match object; span=(9, 9), match=''>\n",
      "<re.Match object; span=(10, 11), match='3'>\n",
      "<re.Match object; span=(11, 11), match=''>\n",
      "<re.Match object; span=(12, 13), match='4'>\n",
      "<re.Match object; span=(13, 14), match='3'>\n",
      "<re.Match object; span=(14, 14), match=''>\n"
     ]
    }
   ],
   "source": [
    "text='a15b#258c%3d43'\n",
    "pat=r'\\d?'\n",
    "\n",
    "for i in re.finditer(pat,text):\n",
    "    print(i)"
   ]
  },
  {
   "cell_type": "code",
   "execution_count": null,
   "id": "d5e5456a",
   "metadata": {
    "id": "d5e5456a"
   },
   "outputs": [],
   "source": [
    "# * - It matches 0 or more repetitions.\n",
    "# - If the pattern is there it will match all the repetitions of that.\n",
    "# - If the pattern is not there it will return the empty string ''"
   ]
  },
  {
   "cell_type": "code",
   "execution_count": null,
   "id": "1882bbd9",
   "metadata": {
    "id": "1882bbd9",
    "outputId": "d331bdc5-f208-4222-8d9b-566dd0a4d367"
   },
   "outputs": [
    {
     "name": "stdout",
     "output_type": "stream",
     "text": [
      "<re.Match object; span=(0, 0), match=''>\n",
      "<re.Match object; span=(1, 3), match='15'>\n",
      "<re.Match object; span=(3, 3), match=''>\n",
      "<re.Match object; span=(4, 4), match=''>\n",
      "<re.Match object; span=(5, 13), match='25855555'>\n",
      "<re.Match object; span=(13, 13), match=''>\n",
      "<re.Match object; span=(14, 18), match='5555'>\n",
      "<re.Match object; span=(18, 18), match=''>\n",
      "<re.Match object; span=(19, 26), match='5555555'>\n",
      "<re.Match object; span=(26, 26), match=''>\n",
      "<re.Match object; span=(27, 27), match=''>\n",
      "<re.Match object; span=(28, 29), match='3'>\n",
      "<re.Match object; span=(29, 29), match=''>\n",
      "<re.Match object; span=(30, 32), match='43'>\n",
      "<re.Match object; span=(32, 32), match=''>\n"
     ]
    }
   ],
   "source": [
    "text='a15b#25855555?5555+5555555c%3d43'\n",
    "pat=r'\\d*'\n",
    "\n",
    "for i in re.finditer(pat,text):\n",
    "    print(i)"
   ]
  },
  {
   "cell_type": "code",
   "execution_count": null,
   "id": "03f45b2e",
   "metadata": {
    "id": "03f45b2e"
   },
   "outputs": [],
   "source": [
    "# + - It matches 1 or more repetitions.\n",
    "# - If the pattern is there it will match all the repetitions.\n",
    "# - If the pattern is not there it will not match"
   ]
  },
  {
   "cell_type": "code",
   "execution_count": null,
   "id": "067cc87a",
   "metadata": {
    "id": "067cc87a",
    "outputId": "a871df9c-24e0-4e3b-b8b7-331e7250ad80"
   },
   "outputs": [
    {
     "name": "stdout",
     "output_type": "stream",
     "text": [
      "<re.Match object; span=(1, 3), match='15'>\n",
      "<re.Match object; span=(5, 13), match='25855555'>\n",
      "<re.Match object; span=(14, 18), match='5555'>\n",
      "<re.Match object; span=(19, 26), match='5555555'>\n",
      "<re.Match object; span=(28, 29), match='3'>\n",
      "<re.Match object; span=(30, 32), match='43'>\n"
     ]
    }
   ],
   "source": [
    "text='a15b#25855555?5555+5555555c%3d43'\n",
    "pat=r'\\d+'\n",
    "\n",
    "for i in re.finditer(pat,text):\n",
    "    print(i)"
   ]
  },
  {
   "cell_type": "markdown",
   "id": "7fef0df0",
   "metadata": {
    "id": "7fef0df0"
   },
   "source": [
    "# How to match the metacharcaters"
   ]
  },
  {
   "cell_type": "code",
   "execution_count": null,
   "id": "e6973839",
   "metadata": {
    "id": "e6973839",
    "outputId": "57e302a2-65ea-405f-ba20-e19d363a5809"
   },
   "outputs": [
    {
     "name": "stdout",
     "output_type": "stream",
     "text": [
      "<re.Match object; span=(6, 7), match='$'>\n",
      "<re.Match object; span=(11, 12), match='$'>\n"
     ]
    }
   ],
   "source": [
    "text='AS!@ D$F%f $f'\n",
    "\n",
    "pat=r'\\$'\n",
    "\n",
    "for i in re.finditer(pat,text):\n",
    "    print(i)"
   ]
  },
  {
   "cell_type": "code",
   "execution_count": null,
   "id": "ba7508ee",
   "metadata": {
    "id": "ba7508ee",
    "outputId": "ef58e59a-b6ff-44c9-b226-d97097c65d92"
   },
   "outputs": [
    {
     "name": "stdout",
     "output_type": "stream",
     "text": [
      "<re.Match object; span=(6, 7), match='$'>\n",
      "<re.Match object; span=(11, 12), match='$'>\n"
     ]
    }
   ],
   "source": [
    "text='AS!@ D$F%f $f'\n",
    "\n",
    "pat=r'[$]'\n",
    "\n",
    "for i in re.finditer(pat,text):\n",
    "    print(i)"
   ]
  },
  {
   "cell_type": "code",
   "execution_count": null,
   "id": "f34e5b59",
   "metadata": {
    "id": "f34e5b59",
    "outputId": "54cd8dcf-2150-443a-90a3-84f2655c4160"
   },
   "outputs": [
    {
     "name": "stdout",
     "output_type": "stream",
     "text": [
      "<re.Match object; span=(3, 4), match='^'>\n",
      "<re.Match object; span=(7, 8), match='^'>\n",
      "<re.Match object; span=(11, 12), match='^'>\n",
      "<re.Match object; span=(16, 17), match='^'>\n"
     ]
    }
   ],
   "source": [
    "text='AS!^@ D^$F%^f $f^'\n",
    "\n",
    "pat=r'\\^'\n",
    "\n",
    "for i in re.finditer(pat,text):\n",
    "    print(i)"
   ]
  },
  {
   "cell_type": "code",
   "execution_count": null,
   "id": "52be5f23",
   "metadata": {
    "id": "52be5f23",
    "outputId": "ce984d61-463e-4f04-ebe4-0d180fa47897"
   },
   "outputs": [
    {
     "name": "stdout",
     "output_type": "stream",
     "text": [
      "<re.Match object; span=(1, 2), match='.'>\n",
      "<re.Match object; span=(8, 9), match='.'>\n",
      "<re.Match object; span=(12, 13), match='.'>\n"
     ]
    }
   ],
   "source": [
    "text='A.S!^@ D.^$F.%^f $f^'\n",
    "\n",
    "pat=r'\\.'\n",
    "\n",
    "for i in re.finditer(pat,text):\n",
    "    print(i)"
   ]
  },
  {
   "cell_type": "code",
   "execution_count": null,
   "id": "a11fb9c7",
   "metadata": {
    "id": "a11fb9c7",
    "outputId": "a9af37dd-d1df-4d71-a535-726ddc7e9b1a"
   },
   "outputs": [
    {
     "name": "stdout",
     "output_type": "stream",
     "text": [
      "<re.Match object; span=(1, 2), match='.'>\n",
      "<re.Match object; span=(8, 9), match='.'>\n",
      "<re.Match object; span=(12, 13), match='.'>\n"
     ]
    }
   ],
   "source": [
    "text='A.S!^@ D.^$F.%^f $f^'\n",
    "\n",
    "pat=r'[.]'\n",
    "\n",
    "for i in re.finditer(pat,text):\n",
    "    print(i)"
   ]
  },
  {
   "cell_type": "code",
   "execution_count": null,
   "id": "a789e22e",
   "metadata": {
    "id": "a789e22e"
   },
   "outputs": [],
   "source": [
    "text='''\n",
    "Mr. Nachiket\n",
    "1324355\n",
    "Mrs Sarah\n",
    "!#@$#%^%&\n",
    "Mr_Dervan\n",
    "fhsdbfhdsbfhdsb\n",
    "Ms_ Erica\n",
    "Mr.\n",
    "Mrs.Alssendra\n",
    "Yatin\n",
    "Ambika\n",
    "Mr Abhishek'''"
   ]
  },
  {
   "cell_type": "code",
   "execution_count": null,
   "id": "ce097077",
   "metadata": {
    "id": "ce097077",
    "outputId": "f0a08240-d86c-4c8e-b699-686f6651353d"
   },
   "outputs": [
    {
     "name": "stdout",
     "output_type": "stream",
     "text": [
      "<re.Match object; span=(1, 13), match='Mr. Nachiket'>\n",
      "<re.Match object; span=(22, 31), match='Mrs Sarah'>\n",
      "<re.Match object; span=(42, 51), match='Mr_Dervan'>\n",
      "<re.Match object; span=(68, 77), match='Ms_ Erica'>\n",
      "<re.Match object; span=(82, 95), match='Mrs.Alssendra'>\n",
      "<re.Match object; span=(109, 120), match='Mr Abhishek'>\n"
     ]
    }
   ],
   "source": [
    "# Match the names with salutation\n",
    "\n",
    "pat=r'M(rs|r|s)\\.? ?_? ?[A-Z][a-z]+'\n",
    "\n",
    "for i in re.finditer(pat,text):\n",
    "    print(i)"
   ]
  },
  {
   "cell_type": "code",
   "execution_count": null,
   "id": "e92a889d",
   "metadata": {
    "id": "e92a889d",
    "outputId": "203621f2-ffbf-406e-9d27-8a86c00b3de7"
   },
   "outputs": [
    {
     "name": "stdout",
     "output_type": "stream",
     "text": [
      "<re.Match object; span=(1, 22), match='ashishsom@learmbay.co'>\n",
      "<re.Match object; span=(55, 76), match='shubhra.123@gmail.com'>\n",
      "<re.Match object; span=(83, 100), match='singh@hotmail.com'>\n",
      "<re.Match object; span=(101, 123), match='virat_1995@hotmail.com'>\n",
      "<re.Match object; span=(139, 163), match='yatin_singh.89@yahoo.com'>\n",
      "<re.Match object; span=(164, 175), match='info@gov.in'>\n",
      "<re.Match object; span=(176, 200), match='university@cambridge.edu'>\n"
     ]
    }
   ],
   "source": [
    "text='''\n",
    "ashishsom@learmbay.co\n",
    "abc.com\n",
    "amit@123\n",
    "1456@gmail.com\n",
    "shubhra.123@gmail.com\n",
    "nitin#singh@hotmail.com\n",
    "virat_1995@hotmail.com\n",
    "AMIT@gmail.com\n",
    "yatin_singh.89@yahoo.com\n",
    "info@gov.in\n",
    "university@cambridge.edu'''\n",
    "\n",
    "pat=r'[a-z]+_?\\.?[0-9]*[a-z]*\\.?[0-9]*@[a-z]+(.com|.in|.edu|.co)'\n",
    "\n",
    "for i in re.finditer(pat,text):\n",
    "    print(i)"
   ]
  },
  {
   "cell_type": "markdown",
   "id": "d3c55f66",
   "metadata": {
    "id": "d3c55f66"
   },
   "source": [
    "# sub()"
   ]
  },
  {
   "cell_type": "code",
   "execution_count": null,
   "id": "6d81ec78",
   "metadata": {
    "id": "6d81ec78"
   },
   "outputs": [],
   "source": [
    "# - It is used to replace a pattern in a string"
   ]
  },
  {
   "cell_type": "code",
   "execution_count": null,
   "id": "2b960016",
   "metadata": {
    "id": "2b960016"
   },
   "outputs": [],
   "source": [
    "# Syntax=re.sub(pat,new_string,text)"
   ]
  },
  {
   "cell_type": "code",
   "execution_count": null,
   "id": "9160da9d",
   "metadata": {
    "id": "9160da9d",
    "outputId": "3fd7ae5f-f571-417c-bd15-276b22178b4c"
   },
   "outputs": [
    {
     "name": "stdout",
     "output_type": "stream",
     "text": [
      "<re.Match object; span=(4, 8), match='1234'>\n",
      "<re.Match object; span=(12, 16), match='8763'>\n",
      "<re.Match object; span=(21, 26), match='78463'>\n"
     ]
    }
   ],
   "source": [
    "text='abcd1234egfh8763ldjys78463'\n",
    "# Remove the digits\n",
    "\n",
    "pat=r'\\d+'\n",
    "\n",
    "for i in re.finditer(pat,text):\n",
    "    print(i)"
   ]
  },
  {
   "cell_type": "code",
   "execution_count": null,
   "id": "e6ea5977",
   "metadata": {
    "id": "e6ea5977",
    "outputId": "eb883362-20e9-4627-cf65-070809f1a46b"
   },
   "outputs": [
    {
     "data": {
      "text/plain": [
       "'abcd egfh ldjys '"
      ]
     },
     "execution_count": 157,
     "metadata": {},
     "output_type": "execute_result"
    }
   ],
   "source": [
    "re.sub(pat,' ',text)"
   ]
  },
  {
   "cell_type": "code",
   "execution_count": null,
   "id": "ceb36baa",
   "metadata": {
    "id": "ceb36baa",
    "outputId": "cf34c50f-c4d6-41e5-9d7c-4867191dcd6d"
   },
   "outputs": [
    {
     "data": {
      "text/plain": [
       "'Ebi Ambika Yatin Suresh Priti Rupesh Nachiket Nimisha'"
      ]
     },
     "execution_count": 159,
     "metadata": {},
     "output_type": "execute_result"
    }
   ],
   "source": [
    "text='E@bi A#m$b%ika Ya#t5in Su5re7sh Pr!#%it60i Ru^p&e*sh Na*ch9i*ket N$i%m^i&sha'\n",
    "pat=r'[0-9!@#$%^&*()_+]'\n",
    "\n",
    "re.sub(pat,'',text)"
   ]
  },
  {
   "cell_type": "code",
   "execution_count": null,
   "id": "e8724ee6",
   "metadata": {
    "id": "e8724ee6",
    "outputId": "bccb0513-1541-4d83-e261-33d982c9daac"
   },
   "outputs": [
    {
     "data": {
      "text/plain": [
       "'Amit Tanmay Suresh Asha Shubha Ambika'"
      ]
     },
     "execution_count": 177,
     "metadata": {},
     "output_type": "execute_result"
    }
   ],
   "source": [
    "names='Amit######Tanmay@Suresh#Asha********Shubha_Ambika'\n",
    "\n",
    "# Output- Each name should be separated by a space\n",
    "\n",
    "re.sub(r'[!@#$%^&*()_]+',' ',names)"
   ]
  },
  {
   "cell_type": "code",
   "execution_count": null,
   "id": "3659597e",
   "metadata": {
    "id": "3659597e"
   },
   "outputs": [],
   "source": [
    "# Find and Replace in office tools"
   ]
  },
  {
   "cell_type": "markdown",
   "id": "dbd958ac",
   "metadata": {
    "id": "dbd958ac"
   },
   "source": [
    "# re.compile()"
   ]
  },
  {
   "cell_type": "code",
   "execution_count": null,
   "id": "c16b597e",
   "metadata": {
    "id": "c16b597e"
   },
   "outputs": [],
   "source": [
    "# - It is used to define a regex pattern"
   ]
  },
  {
   "cell_type": "code",
   "execution_count": null,
   "id": "8713c612",
   "metadata": {
    "id": "8713c612",
    "outputId": "7865905b-bbee-48c5-c523-7f03f43e7c92"
   },
   "outputs": [
    {
     "data": {
      "text/plain": [
       "'Amit Tanmay Suresh Asha Shubha Ambika'"
      ]
     },
     "execution_count": 169,
     "metadata": {},
     "output_type": "execute_result"
    }
   ],
   "source": [
    "names='Amit######Tanmay@Suresh#Asha********Shubha!Ambika'\n",
    "\n",
    "# Output- Each name should be separated by a space\n",
    "\n",
    "pat=r'[!@#$%^&*()_]+'\n",
    "\n",
    "re.sub(pat,' ',names)"
   ]
  },
  {
   "cell_type": "code",
   "execution_count": null,
   "id": "9cdf1d66",
   "metadata": {
    "id": "9cdf1d66",
    "outputId": "ab76650a-898c-493e-c56e-2faf00923e50"
   },
   "outputs": [
    {
     "data": {
      "text/plain": [
       "'Amit Tanmay Suresh Asha Shubha Ambika'"
      ]
     },
     "execution_count": 172,
     "metadata": {},
     "output_type": "execute_result"
    }
   ],
   "source": [
    "re.compile('[!@#$%^&*()_]+').sub(' ',names)"
   ]
  },
  {
   "cell_type": "code",
   "execution_count": null,
   "id": "34e149f3",
   "metadata": {
    "id": "34e149f3",
    "outputId": "89c4a420-c326-491e-d9f5-c1ab0067360f"
   },
   "outputs": [
    {
     "data": {
      "text/plain": [
       "<re.Match object; span=(0, 3), match='Pyt'>"
      ]
     },
     "execution_count": 173,
     "metadata": {},
     "output_type": "execute_result"
    }
   ],
   "source": [
    "text='Python is a high level language'\n",
    "\n",
    "re.match(r'Pyt',text)"
   ]
  },
  {
   "cell_type": "code",
   "execution_count": null,
   "id": "0476f55d",
   "metadata": {
    "id": "0476f55d",
    "outputId": "297b7d0e-c7ec-4784-da90-b93daf2de6db"
   },
   "outputs": [
    {
     "data": {
      "text/plain": [
       "<re.Match object; span=(0, 3), match='Pyt'>"
      ]
     },
     "execution_count": 174,
     "metadata": {},
     "output_type": "execute_result"
    }
   ],
   "source": [
    "re.compile('Pyt').match(text)"
   ]
  },
  {
   "cell_type": "code",
   "execution_count": null,
   "id": "9843cea9",
   "metadata": {
    "id": "9843cea9",
    "outputId": "6f18d06a-677b-498a-c5eb-3982d56bb236"
   },
   "outputs": [
    {
     "data": {
      "text/plain": [
       "['Amit', 'Tanmay', 'Suresh', 'Asha', 'Shubhra', 'Ambika']"
      ]
     },
     "execution_count": 179,
     "metadata": {},
     "output_type": "execute_result"
    }
   ],
   "source": [
    "names='Amit######Tanmay@Suresh#Asha********Shubhra!Ambika'\n",
    "\n",
    "# Output- Each name should be separated by a space\n",
    "\n",
    "pat=r'[A-Z][a-z]+'\n",
    "\n",
    "re.findall(pat,names)"
   ]
  },
  {
   "cell_type": "code",
   "execution_count": null,
   "id": "0c03a7cc",
   "metadata": {
    "id": "0c03a7cc"
   },
   "outputs": [],
   "source": []
  }
 ],
 "metadata": {
  "colab": {
   "provenance": []
  },
  "kernelspec": {
   "display_name": "Python 3 (ipykernel)",
   "language": "python",
   "name": "python3"
  },
  "language_info": {
   "codemirror_mode": {
    "name": "ipython",
    "version": 3
   },
   "file_extension": ".py",
   "mimetype": "text/x-python",
   "name": "python",
   "nbconvert_exporter": "python",
   "pygments_lexer": "ipython3",
   "version": "3.11.3"
  }
 },
 "nbformat": 4,
 "nbformat_minor": 5
}
