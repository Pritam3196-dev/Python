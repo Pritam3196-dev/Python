{
 "cells": [
  {
   "cell_type": "markdown",
   "id": "0a23b5e2",
   "metadata": {},
   "source": [
    "# Regex"
   ]
  },
  {
   "cell_type": "code",
   "execution_count": 2,
   "id": "175f5f97",
   "metadata": {},
   "outputs": [],
   "source": [
    "# - Regex stands for Regular Expression.\n",
    "# - It is a concept that is used to create, match and update a pattern in a string.\n",
    "# - To use Regex we have to import the re module first."
   ]
  },
  {
   "cell_type": "code",
   "execution_count": 3,
   "id": "76316c8d",
   "metadata": {},
   "outputs": [],
   "source": [
    "import re"
   ]
  },
  {
   "cell_type": "markdown",
   "id": "ed00cd5d",
   "metadata": {},
   "source": [
    "### In Regex we will be studying the following\n",
    "- Pattern\n",
    "- Functions\n",
    "- Metacharcters\n",
    "- Special Sequences\n",
    "- Quantifiers"
   ]
  },
  {
   "cell_type": "markdown",
   "id": "ef557583",
   "metadata": {},
   "source": [
    "# Pattern"
   ]
  },
  {
   "cell_type": "code",
   "execution_count": 5,
   "id": "62a75c1c",
   "metadata": {},
   "outputs": [],
   "source": [
    "# - A regex pattern is a string itself"
   ]
  },
  {
   "cell_type": "code",
   "execution_count": 6,
   "id": "3b4e4d6d",
   "metadata": {},
   "outputs": [
    {
     "data": {
      "text/plain": [
       "'abcd'"
      ]
     },
     "execution_count": 6,
     "metadata": {},
     "output_type": "execute_result"
    }
   ],
   "source": [
    "r'abcd'"
   ]
  },
  {
   "cell_type": "markdown",
   "id": "015058cc",
   "metadata": {},
   "source": [
    "# Functions"
   ]
  },
  {
   "cell_type": "code",
   "execution_count": 4,
   "id": "15bc7c55",
   "metadata": {},
   "outputs": [],
   "source": [
    "# match()\n",
    "# search()\n",
    "# findall()\n",
    "# finditer()\n",
    "# sub()\n",
    "# split()\n",
    "# compile()"
   ]
  },
  {
   "cell_type": "markdown",
   "id": "87e2e67f",
   "metadata": {},
   "source": [
    "### match()"
   ]
  },
  {
   "cell_type": "code",
   "execution_count": 7,
   "id": "84b4bae8",
   "metadata": {},
   "outputs": [],
   "source": [
    "# - It takes two arguments. The first argument is the Regex pattern and the second argument is the string.\n",
    "# - It matches the pattern at the beginning of the string.\n",
    "# - If the pattern is found at the beginning of the string then it returns a match obect.\n",
    "# - If the pattern is not found at the beginning of the string then it returns None."
   ]
  },
  {
   "cell_type": "code",
   "execution_count": 8,
   "id": "2eda6589",
   "metadata": {},
   "outputs": [],
   "source": [
    "# Syntax- re.match(pattern,string)"
   ]
  },
  {
   "cell_type": "code",
   "execution_count": 9,
   "id": "adb17176",
   "metadata": {},
   "outputs": [
    {
     "name": "stdout",
     "output_type": "stream",
     "text": [
      "<re.Match object; span=(0, 3), match='Ind'>\n"
     ]
    }
   ],
   "source": [
    "text='India is my country'\n",
    "pat=r'Ind'\n",
    "\n",
    "print(re.match(pat,text))"
   ]
  },
  {
   "cell_type": "code",
   "execution_count": 10,
   "id": "7a040db1",
   "metadata": {},
   "outputs": [
    {
     "name": "stdout",
     "output_type": "stream",
     "text": [
      "None\n"
     ]
    }
   ],
   "source": [
    "text='India is my country'\n",
    "pat=r'is'\n",
    "\n",
    "print(re.match(pat,text))"
   ]
  },
  {
   "cell_type": "code",
   "execution_count": 19,
   "id": "6c9eaf00",
   "metadata": {},
   "outputs": [
    {
     "name": "stdout",
     "output_type": "stream",
     "text": [
      "<re.Match object; span=(0, 3), match='Ind'> <class 're.Match'>\n",
      "(0, 3)\n",
      "0\n",
      "3\n",
      "Ind\n"
     ]
    }
   ],
   "source": [
    "text='India is my country'\n",
    "pat=r'Ind'\n",
    "\n",
    "x=re.match(pat,text)\n",
    "print(x,type(x))\n",
    "\n",
    "print(x.span())\n",
    "print(x.start())\n",
    "print(x.end())\n",
    "print(x.group())"
   ]
  },
  {
   "cell_type": "markdown",
   "id": "dace90ee",
   "metadata": {},
   "source": [
    "### search()"
   ]
  },
  {
   "cell_type": "code",
   "execution_count": 21,
   "id": "aba4d947",
   "metadata": {},
   "outputs": [],
   "source": [
    "# - It takes two arguments, the pattern and the string.\n",
    "# - It matches the first ocurence of the pattern in the string.\n",
    "# - As soon as the pattern is found in the string, it returns the match object.\n",
    "# - If the pattern is not found in the string then it returns None"
   ]
  },
  {
   "cell_type": "code",
   "execution_count": 22,
   "id": "70af24f7",
   "metadata": {},
   "outputs": [],
   "source": [
    "# Syntax- re.serach(pattern,string)"
   ]
  },
  {
   "cell_type": "code",
   "execution_count": 20,
   "id": "bdff0643",
   "metadata": {},
   "outputs": [
    {
     "name": "stdout",
     "output_type": "stream",
     "text": [
      "None\n"
     ]
    }
   ],
   "source": [
    "text='I love India very much'\n",
    "pat=r'India'\n",
    "\n",
    "print(re.match(pat,text))"
   ]
  },
  {
   "cell_type": "code",
   "execution_count": 24,
   "id": "7f64f8d7",
   "metadata": {},
   "outputs": [
    {
     "name": "stdout",
     "output_type": "stream",
     "text": [
      "<re.Match object; span=(7, 12), match='India'>\n"
     ]
    }
   ],
   "source": [
    "text='I love India very much'\n",
    "pat=r'India'\n",
    "\n",
    "print(re.search(pat,text))"
   ]
  },
  {
   "cell_type": "code",
   "execution_count": 27,
   "id": "03abd208",
   "metadata": {},
   "outputs": [
    {
     "name": "stdout",
     "output_type": "stream",
     "text": [
      "None\n"
     ]
    }
   ],
   "source": [
    "text='I love India very much'\n",
    "pat=r'China'\n",
    "\n",
    "print(re.search(pat,text))"
   ]
  },
  {
   "cell_type": "code",
   "execution_count": 29,
   "id": "cdc3bda1",
   "metadata": {},
   "outputs": [
    {
     "name": "stdout",
     "output_type": "stream",
     "text": [
      "<re.Match object; span=(7, 12), match='India'>\n"
     ]
    }
   ],
   "source": [
    "text='I love India very much. India is the part of Asia. Do you love living in India?'\n",
    "pat=r'India'\n",
    "\n",
    "print(re.search(pat,text))"
   ]
  },
  {
   "cell_type": "markdown",
   "id": "b38c085c",
   "metadata": {},
   "source": [
    "### findall()"
   ]
  },
  {
   "cell_type": "code",
   "execution_count": 30,
   "id": "17865b98",
   "metadata": {},
   "outputs": [],
   "source": [
    "# - It takes two arguments, the pattern and the string.\n",
    "# - It matches all the occurences of the pattern and returns a list.\n",
    "# - If the pattern is not found thn it returns an empty list []"
   ]
  },
  {
   "cell_type": "code",
   "execution_count": 31,
   "id": "c0af5800",
   "metadata": {},
   "outputs": [],
   "source": [
    "# Syntax- re.findall(pattern,string)"
   ]
  },
  {
   "cell_type": "code",
   "execution_count": 42,
   "id": "2ef0b262",
   "metadata": {},
   "outputs": [
    {
     "name": "stdout",
     "output_type": "stream",
     "text": [
      "['India', 'India', 'India']\n"
     ]
    }
   ],
   "source": [
    "text='I love India very much. India is the part of Asia. Do you love living in India?'\n",
    "pat=r'India'\n",
    "\n",
    "print(re.findall(pat,text))"
   ]
  },
  {
   "cell_type": "code",
   "execution_count": 43,
   "id": "5b23ce34",
   "metadata": {},
   "outputs": [
    {
     "name": "stdout",
     "output_type": "stream",
     "text": [
      "['Asia']\n"
     ]
    }
   ],
   "source": [
    "text='I love India very much. India is the part of Asia. Do you love living in India?'\n",
    "pat=r'Asia'\n",
    "\n",
    "print(re.findall(pat,text))"
   ]
  },
  {
   "cell_type": "code",
   "execution_count": 45,
   "id": "83b0c66c",
   "metadata": {},
   "outputs": [
    {
     "name": "stdout",
     "output_type": "stream",
     "text": [
      "[]\n"
     ]
    }
   ],
   "source": [
    "text='I love India very much. India is the part of Asia. Do you love living in India?'\n",
    "pat=r'Russia'\n",
    "\n",
    "print(re.findall(pat,text))"
   ]
  },
  {
   "cell_type": "markdown",
   "id": "1dfed97b",
   "metadata": {},
   "source": [
    "## finditer()"
   ]
  },
  {
   "cell_type": "code",
   "execution_count": 51,
   "id": "7277cde0",
   "metadata": {},
   "outputs": [],
   "source": [
    "# - It takes two arguments, the pattern and the string.\n",
    "# - It matches all the occurences of the pattern and returns an iterator object.\n",
    "# - Each element of the iterator object is a match object.\n",
    "# - If the patern is not found then it returns an ampty iterator object.\n",
    "\n",
    "# - Note- We use for loop to fetch the elements from an iterator object"
   ]
  },
  {
   "cell_type": "code",
   "execution_count": 56,
   "id": "85cacd3b",
   "metadata": {},
   "outputs": [
    {
     "name": "stdout",
     "output_type": "stream",
     "text": [
      "<re.Match object; span=(7, 12), match='India'>\n",
      "<re.Match object; span=(24, 29), match='India'>\n",
      "<re.Match object; span=(73, 78), match='India'>\n"
     ]
    }
   ],
   "source": [
    "text='I love India very much. India is the part of Asia. Do you love living in India?'\n",
    "pat=r'India'\n",
    "\n",
    "for i in re.finditer(pat,text):\n",
    "    print(i)"
   ]
  },
  {
   "cell_type": "markdown",
   "id": "0bca78e1",
   "metadata": {},
   "source": [
    "# Metacharacters"
   ]
  },
  {
   "cell_type": "code",
   "execution_count": 57,
   "id": "1a88986d",
   "metadata": {},
   "outputs": [],
   "source": [
    "# []- Set\n",
    "# ^- Caret\n",
    "# $- Dollar\n",
    "# .- Dot\n",
    "# |- Or\n",
    "# ()- Group"
   ]
  },
  {
   "cell_type": "markdown",
   "id": "c996ea2e",
   "metadata": {},
   "source": [
    "# Set [ ]"
   ]
  },
  {
   "cell_type": "code",
   "execution_count": 87,
   "id": "d82e8280",
   "metadata": {},
   "outputs": [],
   "source": [
    "# [A]- It will match all A's one by one\n",
    "# [AB]- It will match A and B separately one by one\n",
    "# [A-Z]- It will match all the capital case letters one by one\n",
    "# [a-z]- It will match all the small case letters one by one\n",
    "# [0-9]- It will match all the digits one by one\n",
    "# [A-Za-z]- It will match all the capital case and small case letters\n",
    "# [A-Za-z0-9]- It will match all the alphabets and the digits one by one\n",
    "# [^A]- It will match everything except A\n",
    "# [^A-Z]- It will match everything except the capital case letters"
   ]
  },
  {
   "cell_type": "code",
   "execution_count": 60,
   "id": "e694f72c",
   "metadata": {},
   "outputs": [
    {
     "name": "stdout",
     "output_type": "stream",
     "text": [
      "<re.Match object; span=(1, 2), match='A'>\n",
      "<re.Match object; span=(2, 3), match='A'>\n",
      "<re.Match object; span=(5, 6), match='A'>\n",
      "<re.Match object; span=(12, 13), match='A'>\n",
      "<re.Match object; span=(20, 21), match='A'>\n"
     ]
    }
   ],
   "source": [
    "text='4AA6 A2#$#% Andjshb A 7t7t'\n",
    "pat=r'[A]'\n",
    "\n",
    "for i in re.finditer(pat,text):\n",
    "    print(i)"
   ]
  },
  {
   "cell_type": "code",
   "execution_count": 62,
   "id": "9419a91f",
   "metadata": {},
   "outputs": [
    {
     "name": "stdout",
     "output_type": "stream",
     "text": [
      "<re.Match object; span=(1, 3), match='AA'>\n"
     ]
    }
   ],
   "source": [
    "text='4AA6 A2#$#% Andjshb A 7t7t'\n",
    "pat=r'AA'\n",
    "\n",
    "for i in re.finditer(pat,text):\n",
    "    print(i)"
   ]
  },
  {
   "cell_type": "code",
   "execution_count": 65,
   "id": "3b56181e",
   "metadata": {},
   "outputs": [
    {
     "name": "stdout",
     "output_type": "stream",
     "text": [
      "<re.Match object; span=(1, 2), match='A'>\n",
      "<re.Match object; span=(2, 3), match='A'>\n",
      "<re.Match object; span=(5, 6), match='A'>\n",
      "<re.Match object; span=(12, 13), match='A'>\n",
      "<re.Match object; span=(15, 16), match='B'>\n",
      "<re.Match object; span=(19, 20), match='B'>\n",
      "<re.Match object; span=(22, 23), match='A'>\n",
      "<re.Match object; span=(27, 28), match='A'>\n",
      "<re.Match object; span=(28, 29), match='B'>\n"
     ]
    }
   ],
   "source": [
    "text='4AA6 A2#$#% AndBjshBb A 7t7ABt'\n",
    "pat=r'[AB]'\n",
    "\n",
    "for i in re.finditer(pat,text):\n",
    "    print(i)"
   ]
  },
  {
   "cell_type": "code",
   "execution_count": 66,
   "id": "cddf1c95",
   "metadata": {},
   "outputs": [
    {
     "name": "stdout",
     "output_type": "stream",
     "text": [
      "<re.Match object; span=(27, 29), match='AB'>\n"
     ]
    }
   ],
   "source": [
    "text='4AA6 A2#$#% AndBjshBb A 7t7ABt'\n",
    "pat=r'AB'\n",
    "\n",
    "for i in re.finditer(pat,text):\n",
    "    print(i)"
   ]
  },
  {
   "cell_type": "code",
   "execution_count": 67,
   "id": "f4c7f950",
   "metadata": {},
   "outputs": [
    {
     "name": "stdout",
     "output_type": "stream",
     "text": [
      "<re.Match object; span=(1, 2), match='A'>\n",
      "<re.Match object; span=(2, 3), match='A'>\n",
      "<re.Match object; span=(3, 4), match='C'>\n",
      "<re.Match object; span=(6, 7), match='A'>\n",
      "<re.Match object; span=(13, 14), match='A'>\n",
      "<re.Match object; span=(19, 20), match='C'>\n",
      "<re.Match object; span=(24, 25), match='A'>\n",
      "<re.Match object; span=(28, 29), match='C'>\n",
      "<re.Match object; span=(30, 31), match='A'>\n",
      "<re.Match object; span=(32, 33), match='C'>\n"
     ]
    }
   ],
   "source": [
    "text='4AAC6 A2#$#% AndBjsChBb A 7tC7ABCt'\n",
    "pat=r'[AC]'\n",
    "\n",
    "for i in re.finditer(pat,text):\n",
    "    print(i)"
   ]
  },
  {
   "cell_type": "code",
   "execution_count": 68,
   "id": "5cf7f49f",
   "metadata": {},
   "outputs": [
    {
     "name": "stdout",
     "output_type": "stream",
     "text": [
      "<re.Match object; span=(1, 2), match='A'>\n",
      "<re.Match object; span=(2, 3), match='A'>\n",
      "<re.Match object; span=(6, 7), match='A'>\n",
      "<re.Match object; span=(13, 14), match='A'>\n",
      "<re.Match object; span=(24, 25), match='A'>\n",
      "<re.Match object; span=(26, 27), match='7'>\n",
      "<re.Match object; span=(29, 30), match='7'>\n",
      "<re.Match object; span=(30, 31), match='A'>\n"
     ]
    }
   ],
   "source": [
    "text='4AAC6 A2#$#% AndBjsChBb A 7tC7ABCt'\n",
    "pat=r'[A7]'\n",
    "\n",
    "for i in re.finditer(pat,text):\n",
    "    print(i)"
   ]
  },
  {
   "cell_type": "code",
   "execution_count": 70,
   "id": "83783f43",
   "metadata": {},
   "outputs": [
    {
     "name": "stdout",
     "output_type": "stream",
     "text": [
      "<re.Match object; span=(0, 1), match='J'>\n",
      "<re.Match object; span=(1, 2), match='S'>\n",
      "<re.Match object; span=(3, 4), match='N'>\n",
      "<re.Match object; span=(4, 5), match='F'>\n",
      "<re.Match object; span=(6, 7), match='D'>\n",
      "<re.Match object; span=(16, 17), match='K'>\n",
      "<re.Match object; span=(17, 18), match='J'>\n",
      "<re.Match object; span=(18, 19), match='F'>\n",
      "<re.Match object; span=(19, 20), match='B'>\n",
      "<re.Match object; span=(23, 24), match='I'>\n",
      "<re.Match object; span=(24, 25), match='H'>\n",
      "<re.Match object; span=(33, 34), match='B'>\n",
      "<re.Match object; span=(34, 35), match='F'>\n",
      "<re.Match object; span=(35, 36), match='H'>\n",
      "<re.Match object; span=(47, 48), match='T'>\n",
      "<re.Match object; span=(68, 69), match='Y'>\n"
     ]
    }
   ],
   "source": [
    "text='JS NF D@# #% 000KJFB &6IH &(*)@#%BFH12#$^%&^*84T3 2@$#%$^& 97237957 Y29bfh dvfhfv'\n",
    "\n",
    "pat=r'[A-Z]'\n",
    "\n",
    "for i in re.finditer(pat,text):\n",
    "    print(i)"
   ]
  },
  {
   "cell_type": "code",
   "execution_count": 71,
   "id": "c5785941",
   "metadata": {},
   "outputs": [
    {
     "name": "stdout",
     "output_type": "stream",
     "text": [
      "<re.Match object; span=(71, 72), match='b'>\n",
      "<re.Match object; span=(72, 73), match='f'>\n",
      "<re.Match object; span=(73, 74), match='h'>\n",
      "<re.Match object; span=(75, 76), match='d'>\n",
      "<re.Match object; span=(76, 77), match='v'>\n",
      "<re.Match object; span=(77, 78), match='f'>\n",
      "<re.Match object; span=(78, 79), match='h'>\n",
      "<re.Match object; span=(79, 80), match='f'>\n",
      "<re.Match object; span=(80, 81), match='v'>\n"
     ]
    }
   ],
   "source": [
    "text='JS NF D@# #% 000KJFB &6IH &(*)@#%BFH12#$^%&^*84T3 2@$#%$^& 97237957 Y29bfh dvfhfv'\n",
    "\n",
    "pat=r'[a-z]'\n",
    "\n",
    "for i in re.finditer(pat,text):\n",
    "    print(i)"
   ]
  },
  {
   "cell_type": "code",
   "execution_count": 73,
   "id": "ff24a8cf",
   "metadata": {},
   "outputs": [
    {
     "name": "stdout",
     "output_type": "stream",
     "text": [
      "<re.Match object; span=(48, 49), match='a'>\n",
      "<re.Match object; span=(72, 73), match='b'>\n",
      "<re.Match object; span=(76, 77), match='d'>\n"
     ]
    }
   ],
   "source": [
    "text='JS NF D@# #% 000KJFB &6IH &(*)@#%BFH12#$^%&^*84Ta3 2@$#%$^& 97237957 Y29bfh dvfhfv'\n",
    "\n",
    "pat=r'[a-d]'\n",
    "\n",
    "for i in re.finditer(pat,text):\n",
    "    print(i)"
   ]
  },
  {
   "cell_type": "code",
   "execution_count": 75,
   "id": "cbfb8543",
   "metadata": {},
   "outputs": [
    {
     "name": "stdout",
     "output_type": "stream",
     "text": [
      "<re.Match object; span=(13, 14), match='0'>\n",
      "<re.Match object; span=(14, 15), match='0'>\n",
      "<re.Match object; span=(15, 16), match='0'>\n",
      "<re.Match object; span=(22, 23), match='6'>\n",
      "<re.Match object; span=(36, 37), match='1'>\n",
      "<re.Match object; span=(37, 38), match='2'>\n",
      "<re.Match object; span=(45, 46), match='8'>\n",
      "<re.Match object; span=(46, 47), match='4'>\n",
      "<re.Match object; span=(49, 50), match='3'>\n",
      "<re.Match object; span=(51, 52), match='2'>\n",
      "<re.Match object; span=(60, 61), match='9'>\n",
      "<re.Match object; span=(61, 62), match='7'>\n",
      "<re.Match object; span=(62, 63), match='2'>\n",
      "<re.Match object; span=(63, 64), match='3'>\n",
      "<re.Match object; span=(64, 65), match='7'>\n",
      "<re.Match object; span=(65, 66), match='9'>\n",
      "<re.Match object; span=(66, 67), match='5'>\n",
      "<re.Match object; span=(67, 68), match='7'>\n",
      "<re.Match object; span=(70, 71), match='2'>\n",
      "<re.Match object; span=(71, 72), match='9'>\n"
     ]
    }
   ],
   "source": [
    "text='JS NF D@# #% 000KJFB &6IH &(*)@#%BFH12#$^%&^*84Ta3 2@$#%$^& 97237957 Y29bfh dvfhfv'\n",
    "\n",
    "pat=r'[0-9]'\n",
    "\n",
    "for i in re.finditer(pat,text):\n",
    "    print(i)"
   ]
  },
  {
   "cell_type": "code",
   "execution_count": 77,
   "id": "9f2bb77f",
   "metadata": {},
   "outputs": [
    {
     "name": "stdout",
     "output_type": "stream",
     "text": [
      "<re.Match object; span=(2, 3), match=' '>\n",
      "<re.Match object; span=(5, 6), match=' '>\n",
      "<re.Match object; span=(9, 10), match=' '>\n",
      "<re.Match object; span=(12, 13), match=' '>\n",
      "<re.Match object; span=(20, 21), match=' '>\n",
      "<re.Match object; span=(25, 26), match=' '>\n",
      "<re.Match object; span=(50, 51), match=' '>\n",
      "<re.Match object; span=(59, 60), match=' '>\n",
      "<re.Match object; span=(68, 69), match=' '>\n",
      "<re.Match object; span=(75, 76), match=' '>\n"
     ]
    }
   ],
   "source": [
    "text='JS NF D@# #% 000KJFB &6IH &(*)@#%BFH12#$^%&^*84Ta3 2@$#%$^& 97237957 Y29bfh dvfhfv'\n",
    "\n",
    "pat=r' '\n",
    "\n",
    "for i in re.finditer(pat,text):\n",
    "    print(i)"
   ]
  },
  {
   "cell_type": "code",
   "execution_count": 80,
   "id": "c7b94ee9",
   "metadata": {},
   "outputs": [
    {
     "name": "stdout",
     "output_type": "stream",
     "text": [
      "<re.Match object; span=(0, 1), match='J'>\n",
      "<re.Match object; span=(1, 2), match='S'>\n",
      "<re.Match object; span=(3, 4), match='N'>\n",
      "<re.Match object; span=(4, 5), match='F'>\n",
      "<re.Match object; span=(6, 7), match='D'>\n",
      "<re.Match object; span=(13, 14), match='n'>\n",
      "<re.Match object; span=(14, 15), match='j'>\n",
      "<re.Match object; span=(15, 16), match='b'>\n",
      "<re.Match object; span=(16, 17), match='h'>\n",
      "<re.Match object; span=(17, 18), match='b'>\n",
      "<re.Match object; span=(18, 19), match='f'>\n",
      "<re.Match object; span=(19, 20), match='h'>\n",
      "<re.Match object; span=(20, 21), match='w'>\n",
      "<re.Match object; span=(21, 22), match='e'>\n",
      "<re.Match object; span=(22, 23), match='h'>\n",
      "<re.Match object; span=(26, 27), match='K'>\n",
      "<re.Match object; span=(27, 28), match='J'>\n",
      "<re.Match object; span=(28, 29), match='F'>\n",
      "<re.Match object; span=(29, 30), match='B'>\n",
      "<re.Match object; span=(33, 34), match='I'>\n",
      "<re.Match object; span=(34, 35), match='H'>\n",
      "<re.Match object; span=(43, 44), match='B'>\n",
      "<re.Match object; span=(44, 45), match='F'>\n",
      "<re.Match object; span=(45, 46), match='H'>\n",
      "<re.Match object; span=(57, 58), match='T'>\n",
      "<re.Match object; span=(58, 59), match='a'>\n",
      "<re.Match object; span=(79, 80), match='Y'>\n",
      "<re.Match object; span=(82, 83), match='b'>\n",
      "<re.Match object; span=(83, 84), match='f'>\n",
      "<re.Match object; span=(84, 85), match='h'>\n",
      "<re.Match object; span=(86, 87), match='d'>\n",
      "<re.Match object; span=(87, 88), match='v'>\n",
      "<re.Match object; span=(88, 89), match='f'>\n",
      "<re.Match object; span=(89, 90), match='h'>\n",
      "<re.Match object; span=(90, 91), match='f'>\n",
      "<re.Match object; span=(91, 92), match='v'>\n"
     ]
    }
   ],
   "source": [
    "text='JS NF D@# #% njbhbfhweh000KJFB &6IH &(*)@#%BFH12#$^%&^*84Ta3 2@$#%$^& 97237957 Y29bfh dvfhfv'\n",
    "\n",
    "pat=r'[A-Za-z]'\n",
    "\n",
    "for i in re.finditer(pat,text):\n",
    "    print(i)"
   ]
  },
  {
   "cell_type": "code",
   "execution_count": 81,
   "id": "8ad556a7",
   "metadata": {},
   "outputs": [
    {
     "name": "stdout",
     "output_type": "stream",
     "text": [
      "<re.Match object; span=(0, 1), match='J'>\n",
      "<re.Match object; span=(1, 2), match='S'>\n",
      "<re.Match object; span=(3, 4), match='N'>\n",
      "<re.Match object; span=(4, 5), match='F'>\n",
      "<re.Match object; span=(6, 7), match='D'>\n",
      "<re.Match object; span=(13, 14), match='n'>\n",
      "<re.Match object; span=(14, 15), match='j'>\n",
      "<re.Match object; span=(15, 16), match='b'>\n",
      "<re.Match object; span=(16, 17), match='h'>\n",
      "<re.Match object; span=(17, 18), match='b'>\n",
      "<re.Match object; span=(18, 19), match='f'>\n",
      "<re.Match object; span=(19, 20), match='h'>\n",
      "<re.Match object; span=(20, 21), match='w'>\n",
      "<re.Match object; span=(21, 22), match='e'>\n",
      "<re.Match object; span=(22, 23), match='h'>\n",
      "<re.Match object; span=(26, 27), match='K'>\n",
      "<re.Match object; span=(27, 28), match='J'>\n",
      "<re.Match object; span=(28, 29), match='F'>\n",
      "<re.Match object; span=(29, 30), match='B'>\n",
      "<re.Match object; span=(33, 34), match='I'>\n",
      "<re.Match object; span=(34, 35), match='H'>\n",
      "<re.Match object; span=(43, 44), match='B'>\n",
      "<re.Match object; span=(44, 45), match='F'>\n",
      "<re.Match object; span=(45, 46), match='H'>\n",
      "<re.Match object; span=(57, 58), match='T'>\n",
      "<re.Match object; span=(58, 59), match='a'>\n",
      "<re.Match object; span=(79, 80), match='Y'>\n",
      "<re.Match object; span=(82, 83), match='b'>\n",
      "<re.Match object; span=(83, 84), match='f'>\n",
      "<re.Match object; span=(84, 85), match='h'>\n",
      "<re.Match object; span=(86, 87), match='d'>\n",
      "<re.Match object; span=(87, 88), match='v'>\n",
      "<re.Match object; span=(88, 89), match='f'>\n",
      "<re.Match object; span=(89, 90), match='h'>\n",
      "<re.Match object; span=(90, 91), match='f'>\n",
      "<re.Match object; span=(91, 92), match='v'>\n"
     ]
    }
   ],
   "source": [
    "text='JS NF D@# #% njbhbfhweh000KJFB &6IH &(*)@#%BFH12#$^%&^*84Ta3 2@$#%$^& 97237957 Y29bfh dvfhfv'\n",
    "\n",
    "pat=r'[a-zA-Z]'\n",
    "\n",
    "for i in re.finditer(pat,text):\n",
    "    print(i)"
   ]
  },
  {
   "cell_type": "code",
   "execution_count": 82,
   "id": "e48ccf4b",
   "metadata": {},
   "outputs": [
    {
     "name": "stdout",
     "output_type": "stream",
     "text": [
      "<re.Match object; span=(0, 1), match='J'>\n",
      "<re.Match object; span=(1, 2), match='S'>\n",
      "<re.Match object; span=(3, 4), match='N'>\n",
      "<re.Match object; span=(4, 5), match='F'>\n",
      "<re.Match object; span=(6, 7), match='D'>\n",
      "<re.Match object; span=(13, 14), match='n'>\n",
      "<re.Match object; span=(14, 15), match='j'>\n",
      "<re.Match object; span=(15, 16), match='b'>\n",
      "<re.Match object; span=(16, 17), match='h'>\n",
      "<re.Match object; span=(17, 18), match='b'>\n",
      "<re.Match object; span=(18, 19), match='f'>\n",
      "<re.Match object; span=(19, 20), match='h'>\n",
      "<re.Match object; span=(20, 21), match='w'>\n",
      "<re.Match object; span=(21, 22), match='e'>\n",
      "<re.Match object; span=(22, 23), match='h'>\n",
      "<re.Match object; span=(26, 27), match='K'>\n",
      "<re.Match object; span=(27, 28), match='J'>\n",
      "<re.Match object; span=(28, 29), match='F'>\n",
      "<re.Match object; span=(29, 30), match='B'>\n",
      "<re.Match object; span=(33, 34), match='I'>\n",
      "<re.Match object; span=(34, 35), match='H'>\n",
      "<re.Match object; span=(43, 44), match='B'>\n",
      "<re.Match object; span=(44, 45), match='F'>\n",
      "<re.Match object; span=(45, 46), match='H'>\n",
      "<re.Match object; span=(50, 51), match='^'>\n",
      "<re.Match object; span=(53, 54), match='^'>\n",
      "<re.Match object; span=(57, 58), match='T'>\n",
      "<re.Match object; span=(58, 59), match='a'>\n",
      "<re.Match object; span=(67, 68), match='^'>\n",
      "<re.Match object; span=(79, 80), match='Y'>\n",
      "<re.Match object; span=(82, 83), match='b'>\n",
      "<re.Match object; span=(83, 84), match='f'>\n",
      "<re.Match object; span=(84, 85), match='h'>\n",
      "<re.Match object; span=(86, 87), match='d'>\n",
      "<re.Match object; span=(87, 88), match='v'>\n",
      "<re.Match object; span=(88, 89), match='f'>\n",
      "<re.Match object; span=(89, 90), match='h'>\n",
      "<re.Match object; span=(90, 91), match='f'>\n",
      "<re.Match object; span=(91, 92), match='v'>\n"
     ]
    }
   ],
   "source": [
    "text='JS NF D@# #% njbhbfhweh000KJFB &6IH &(*)@#%BFH12#$^%&^*84Ta3 2@$#%$^& 97237957 Y29bfh dvfhfv'\n",
    "\n",
    "pat=r'[A-z]'\n",
    "\n",
    "for i in re.finditer(pat,text):\n",
    "    print(i)"
   ]
  },
  {
   "cell_type": "code",
   "execution_count": 84,
   "id": "f27da8bf",
   "metadata": {},
   "outputs": [
    {
     "name": "stdout",
     "output_type": "stream",
     "text": [
      "<re.Match object; span=(0, 1), match='J'>\n",
      "<re.Match object; span=(1, 2), match='S'>\n",
      "<re.Match object; span=(3, 4), match='N'>\n",
      "<re.Match object; span=(4, 5), match='F'>\n",
      "<re.Match object; span=(6, 7), match='D'>\n",
      "<re.Match object; span=(13, 14), match='n'>\n",
      "<re.Match object; span=(14, 15), match='j'>\n",
      "<re.Match object; span=(15, 16), match='b'>\n",
      "<re.Match object; span=(16, 17), match='h'>\n",
      "<re.Match object; span=(17, 18), match='b'>\n",
      "<re.Match object; span=(18, 19), match='f'>\n",
      "<re.Match object; span=(19, 20), match='h'>\n",
      "<re.Match object; span=(20, 21), match='w'>\n",
      "<re.Match object; span=(21, 22), match='e'>\n",
      "<re.Match object; span=(22, 23), match='h'>\n",
      "<re.Match object; span=(23, 24), match='0'>\n",
      "<re.Match object; span=(24, 25), match='0'>\n",
      "<re.Match object; span=(25, 26), match='0'>\n",
      "<re.Match object; span=(26, 27), match='K'>\n",
      "<re.Match object; span=(27, 28), match='J'>\n",
      "<re.Match object; span=(28, 29), match='F'>\n",
      "<re.Match object; span=(29, 30), match='B'>\n",
      "<re.Match object; span=(32, 33), match='6'>\n",
      "<re.Match object; span=(33, 34), match='I'>\n",
      "<re.Match object; span=(34, 35), match='H'>\n",
      "<re.Match object; span=(43, 44), match='B'>\n",
      "<re.Match object; span=(44, 45), match='F'>\n",
      "<re.Match object; span=(45, 46), match='H'>\n",
      "<re.Match object; span=(46, 47), match='1'>\n",
      "<re.Match object; span=(47, 48), match='2'>\n",
      "<re.Match object; span=(55, 56), match='8'>\n",
      "<re.Match object; span=(56, 57), match='4'>\n",
      "<re.Match object; span=(57, 58), match='T'>\n",
      "<re.Match object; span=(58, 59), match='a'>\n",
      "<re.Match object; span=(59, 60), match='3'>\n",
      "<re.Match object; span=(61, 62), match='2'>\n",
      "<re.Match object; span=(70, 71), match='9'>\n",
      "<re.Match object; span=(71, 72), match='7'>\n",
      "<re.Match object; span=(72, 73), match='2'>\n",
      "<re.Match object; span=(73, 74), match='3'>\n",
      "<re.Match object; span=(74, 75), match='7'>\n",
      "<re.Match object; span=(75, 76), match='9'>\n",
      "<re.Match object; span=(76, 77), match='5'>\n",
      "<re.Match object; span=(77, 78), match='7'>\n",
      "<re.Match object; span=(79, 80), match='Y'>\n",
      "<re.Match object; span=(80, 81), match='2'>\n",
      "<re.Match object; span=(81, 82), match='9'>\n",
      "<re.Match object; span=(82, 83), match='b'>\n",
      "<re.Match object; span=(83, 84), match='f'>\n",
      "<re.Match object; span=(84, 85), match='h'>\n",
      "<re.Match object; span=(86, 87), match='d'>\n",
      "<re.Match object; span=(87, 88), match='v'>\n",
      "<re.Match object; span=(88, 89), match='f'>\n",
      "<re.Match object; span=(89, 90), match='h'>\n",
      "<re.Match object; span=(90, 91), match='f'>\n",
      "<re.Match object; span=(91, 92), match='v'>\n"
     ]
    }
   ],
   "source": [
    "text='JS NF D@# #% njbhbfhweh000KJFB &6IH &(*)@#%BFH12#$^%&^*84Ta3 2@$#%$^& 97237957 Y29bfh dvfhfv'\n",
    "\n",
    "pat=r'[A-Za-z0-9]'\n",
    "\n",
    "for i in re.finditer(pat,text):\n",
    "    print(i)"
   ]
  },
  {
   "cell_type": "code",
   "execution_count": 94,
   "id": "6be2c6a1",
   "metadata": {},
   "outputs": [
    {
     "name": "stdout",
     "output_type": "stream",
     "text": [
      "<re.Match object; span=(0, 1), match='J'>\n",
      "<re.Match object; span=(1, 2), match='S'>\n",
      "<re.Match object; span=(3, 4), match='N'>\n",
      "<re.Match object; span=(4, 5), match='F'>\n",
      "<re.Match object; span=(6, 7), match='D'>\n",
      "<re.Match object; span=(13, 14), match='n'>\n",
      "<re.Match object; span=(14, 15), match='j'>\n",
      "<re.Match object; span=(15, 16), match='b'>\n",
      "<re.Match object; span=(16, 17), match='h'>\n",
      "<re.Match object; span=(17, 18), match='b'>\n",
      "<re.Match object; span=(18, 19), match='f'>\n",
      "<re.Match object; span=(19, 20), match='h'>\n",
      "<re.Match object; span=(20, 21), match='w'>\n",
      "<re.Match object; span=(21, 22), match='e'>\n",
      "<re.Match object; span=(22, 23), match='h'>\n",
      "<re.Match object; span=(23, 24), match='0'>\n",
      "<re.Match object; span=(24, 25), match='0'>\n",
      "<re.Match object; span=(25, 26), match='0'>\n",
      "<re.Match object; span=(26, 27), match='K'>\n",
      "<re.Match object; span=(27, 28), match='J'>\n",
      "<re.Match object; span=(28, 29), match='F'>\n",
      "<re.Match object; span=(29, 30), match='B'>\n",
      "<re.Match object; span=(32, 33), match='6'>\n",
      "<re.Match object; span=(33, 34), match='I'>\n",
      "<re.Match object; span=(34, 35), match='H'>\n",
      "<re.Match object; span=(43, 44), match='B'>\n",
      "<re.Match object; span=(44, 45), match='F'>\n",
      "<re.Match object; span=(45, 46), match='H'>\n",
      "<re.Match object; span=(46, 47), match='1'>\n",
      "<re.Match object; span=(47, 48), match='2'>\n",
      "<re.Match object; span=(55, 56), match='8'>\n",
      "<re.Match object; span=(56, 57), match='4'>\n",
      "<re.Match object; span=(57, 58), match='T'>\n",
      "<re.Match object; span=(58, 59), match='a'>\n",
      "<re.Match object; span=(59, 60), match='3'>\n",
      "<re.Match object; span=(61, 62), match='2'>\n",
      "<re.Match object; span=(70, 71), match='9'>\n",
      "<re.Match object; span=(71, 72), match='7'>\n",
      "<re.Match object; span=(72, 73), match='2'>\n",
      "<re.Match object; span=(73, 74), match='3'>\n",
      "<re.Match object; span=(74, 75), match='7'>\n",
      "<re.Match object; span=(75, 76), match='9'>\n",
      "<re.Match object; span=(76, 77), match='5'>\n",
      "<re.Match object; span=(77, 78), match='7'>\n",
      "<re.Match object; span=(79, 80), match='Y'>\n",
      "<re.Match object; span=(80, 81), match='2'>\n",
      "<re.Match object; span=(81, 82), match='9'>\n",
      "<re.Match object; span=(82, 83), match='b'>\n",
      "<re.Match object; span=(83, 84), match='f'>\n",
      "<re.Match object; span=(84, 85), match='h'>\n",
      "<re.Match object; span=(86, 87), match='d'>\n",
      "<re.Match object; span=(87, 88), match='v'>\n",
      "<re.Match object; span=(88, 89), match='f'>\n",
      "<re.Match object; span=(89, 90), match='h'>\n",
      "<re.Match object; span=(90, 91), match='f'>\n",
      "<re.Match object; span=(91, 92), match='v'>\n"
     ]
    }
   ],
   "source": [
    "text='JS NF D@# #% njbhbfhweh000KJFB &6IH &(*)@#%BFH12#$^%&^*84Ta3 2@$#%$^& 97237957 Y29bfh dvfhfv'\n",
    "\n",
    "pat=r'[A-Za-z0-9]'\n",
    "\n",
    "for i in re.finditer(pat,text):\n",
    "    print(i)"
   ]
  },
  {
   "cell_type": "code",
   "execution_count": 88,
   "id": "1e865ee6",
   "metadata": {},
   "outputs": [
    {
     "data": {
      "text/plain": [
       "'^'"
      ]
     },
     "execution_count": 88,
     "metadata": {},
     "output_type": "execute_result"
    }
   ],
   "source": [
    "text[67]"
   ]
  },
  {
   "cell_type": "code",
   "execution_count": 89,
   "id": "b64ca567",
   "metadata": {},
   "outputs": [],
   "source": [
    "# ASCII"
   ]
  },
  {
   "cell_type": "code",
   "execution_count": 90,
   "id": "0e0f32a9",
   "metadata": {},
   "outputs": [],
   "source": [
    "# 65-91- A-Z\n",
    "# 97-122- a-z"
   ]
  },
  {
   "cell_type": "code",
   "execution_count": 93,
   "id": "77751056",
   "metadata": {},
   "outputs": [
    {
     "data": {
      "text/plain": [
       "'^'"
      ]
     },
     "execution_count": 93,
     "metadata": {},
     "output_type": "execute_result"
    }
   ],
   "source": [
    "chr(94)"
   ]
  },
  {
   "cell_type": "code",
   "execution_count": 103,
   "id": "f03288f7",
   "metadata": {},
   "outputs": [
    {
     "name": "stdout",
     "output_type": "stream",
     "text": [
      "<re.Match object; span=(4, 5), match='@'>\n",
      "<re.Match object; span=(8, 9), match='#'>\n",
      "<re.Match object; span=(12, 13), match='$'>\n",
      "<re.Match object; span=(15, 16), match='%'>\n",
      "<re.Match object; span=(20, 21), match='&'>\n",
      "<re.Match object; span=(24, 25), match='('>\n",
      "<re.Match object; span=(25, 26), match='*'>\n",
      "<re.Match object; span=(26, 27), match='<'>\n"
     ]
    }
   ],
   "source": [
    "text='1a1A@ 22# b3$B3% c4C& dD(*<HdAAAAAAAAA'\n",
    "\n",
    "pat=r'[^A-Z a-z0-9]'\n",
    "\n",
    "for i in re.finditer(pat,text):\n",
    "    print(i)"
   ]
  },
  {
   "cell_type": "code",
   "execution_count": 105,
   "id": "856de30b",
   "metadata": {},
   "outputs": [
    {
     "name": "stdout",
     "output_type": "stream",
     "text": [
      "<re.Match object; span=(4, 5), match='@'>\n",
      "<re.Match object; span=(8, 9), match='#'>\n",
      "<re.Match object; span=(12, 13), match='$'>\n",
      "<re.Match object; span=(15, 16), match='%'>\n",
      "<re.Match object; span=(20, 21), match='&'>\n",
      "<re.Match object; span=(24, 25), match='('>\n",
      "<re.Match object; span=(25, 26), match='*'>\n",
      "<re.Match object; span=(26, 27), match='<'>\n"
     ]
    }
   ],
   "source": [
    "# Match all the special characters\n",
    "\n",
    "text='1a1A@ 22# b3$B3% c4C& dD(*<HdAAAAAAAAA'\n",
    "\n",
    "pat=r'[~!@#$%^&*()_+?><:\"{}\"]'\n",
    "\n",
    "for i in re.finditer(pat,text):\n",
    "    print(i)"
   ]
  },
  {
   "cell_type": "markdown",
   "id": "72c76fc3",
   "metadata": {},
   "source": [
    "# ^ Caret"
   ]
  },
  {
   "cell_type": "code",
   "execution_count": 107,
   "id": "a0924634",
   "metadata": {},
   "outputs": [],
   "source": [
    "# - It matches the pattern at the beginning of the string.\n",
    "# - It is similar to using the match()"
   ]
  },
  {
   "cell_type": "code",
   "execution_count": 113,
   "id": "2a4cdfcc",
   "metadata": {},
   "outputs": [
    {
     "name": "stdout",
     "output_type": "stream",
     "text": [
      "<re.Match object; span=(0, 4), match='supr'>\n"
     ]
    }
   ],
   "source": [
    "text='supreem1a1A@ 22ssss# b3$B3% c4C& dD(*<HdAAAAAAAAA'\n",
    "\n",
    "pat=r'^supr'\n",
    "\n",
    "for i in re.finditer(pat,text):\n",
    "    print(i)"
   ]
  },
  {
   "cell_type": "code",
   "execution_count": 115,
   "id": "fbd78897",
   "metadata": {},
   "outputs": [],
   "source": [
    "text='supreem1a1A@ 22ssss# b3$B3% c4C& dD(*<HdAAAAAAAAA'\n",
    "\n",
    "pat=r'^A'\n",
    "\n",
    "for i in re.finditer(pat,text):\n",
    "    print(i)"
   ]
  },
  {
   "cell_type": "markdown",
   "id": "dd93add0",
   "metadata": {},
   "source": [
    "# $ Dollar"
   ]
  },
  {
   "cell_type": "code",
   "execution_count": 116,
   "id": "892d8db1",
   "metadata": {},
   "outputs": [],
   "source": [
    "# - It matches the pattern at the end of the string"
   ]
  },
  {
   "cell_type": "code",
   "execution_count": 119,
   "id": "c757bae0",
   "metadata": {},
   "outputs": [
    {
     "name": "stdout",
     "output_type": "stream",
     "text": [
      "<re.Match object; span=(15, 19), match='ssia'>\n"
     ]
    }
   ],
   "source": [
    "text='supreem1a1A@ Russia'\n",
    "\n",
    "pat=r'ssia$'\n",
    "\n",
    "for i in re.finditer(pat,text):\n",
    "    print(i)"
   ]
  },
  {
   "cell_type": "code",
   "execution_count": 159,
   "id": "71a41434",
   "metadata": {},
   "outputs": [],
   "source": [
    "names=['Ambika','Priti','EbPi','Yushma','Kushboo','ImrPan','Priya','Saransh','RUPESH']"
   ]
  },
  {
   "cell_type": "code",
   "execution_count": 166,
   "id": "e65d7c4d",
   "metadata": {},
   "outputs": [
    {
     "name": "stdout",
     "output_type": "stream",
     "text": [
      "Yushma\n"
     ]
    }
   ],
   "source": [
    "for i in names:\n",
    "    if re.search(r'^Y',i)!=None:\n",
    "        print(i)"
   ]
  },
  {
   "cell_type": "code",
   "execution_count": 125,
   "id": "9e6e1021",
   "metadata": {},
   "outputs": [
    {
     "name": "stdout",
     "output_type": "stream",
     "text": [
      "<re.Match object; span=(0, 1), match='P'>\n"
     ]
    }
   ],
   "source": [
    "print( re.match(r'P','Preeti'))"
   ]
  },
  {
   "cell_type": "code",
   "execution_count": 134,
   "id": "7c120372",
   "metadata": {},
   "outputs": [
    {
     "name": "stdout",
     "output_type": "stream",
     "text": [
      "Saransh\n"
     ]
    }
   ],
   "source": [
    "for i in names:\n",
    "    if re.search(r'h$',i)!=None:\n",
    "        print(i)"
   ]
  },
  {
   "cell_type": "code",
   "execution_count": 155,
   "id": "119ea20b",
   "metadata": {},
   "outputs": [
    {
     "name": "stdout",
     "output_type": "stream",
     "text": [
      "Preeti\n"
     ]
    }
   ],
   "source": [
    "text='Preeti'\n",
    "pat=r'^P'\n",
    "if re.search(pat,text)!=None:\n",
    "    print(text)"
   ]
  },
  {
   "cell_type": "code",
   "execution_count": 154,
   "id": "8f8921f4",
   "metadata": {},
   "outputs": [
    {
     "name": "stdout",
     "output_type": "stream",
     "text": [
      "<re.Match object; span=(0, 1), match='P'>\n"
     ]
    }
   ],
   "source": [
    "text='Preeti'\n",
    "pat=r'^P'\n",
    "\n",
    "print(re.search(pat,text))"
   ]
  },
  {
   "cell_type": "code",
   "execution_count": 163,
   "id": "17e70bb6",
   "metadata": {},
   "outputs": [
    {
     "name": "stdout",
     "output_type": "stream",
     "text": [
      "['Ambika', 'Priti', 'EbPi', 'Yushma', 'Kushboo', 'ImrPan', 'Priya', 'Saransh', 'RUPESH']\n"
     ]
    }
   ],
   "source": [
    "print(names)"
   ]
  },
  {
   "cell_type": "code",
   "execution_count": 165,
   "id": "f26f0115",
   "metadata": {},
   "outputs": [
    {
     "name": "stdout",
     "output_type": "stream",
     "text": [
      "Ambika <class 'str'>\n"
     ]
    }
   ],
   "source": [
    "for i in names:\n",
    "    print(i,type(i))\n",
    "    break"
   ]
  },
  {
   "cell_type": "code",
   "execution_count": 171,
   "id": "6598b4d0",
   "metadata": {},
   "outputs": [
    {
     "name": "stdout",
     "output_type": "stream",
     "text": [
      "Ambika\n",
      "EbPi\n",
      "Yushma\n",
      "Kushboo\n",
      "ImrPan\n",
      "Saransh\n",
      "RUPESH\n"
     ]
    }
   ],
   "source": [
    "# Match the names that do not begin with P\n",
    "\n",
    "names=['Ambika','Priti','EbPi','Yushma','Kushboo','ImrPan','Priya','Saransh','RUPESH']\n",
    "\n",
    "for i in names:\n",
    "    if re.search(r'^P',i)==None:\n",
    "        print(i)"
   ]
  },
  {
   "cell_type": "code",
   "execution_count": 177,
   "id": "add5dfce",
   "metadata": {},
   "outputs": [
    {
     "name": "stdout",
     "output_type": "stream",
     "text": [
      "Saransh\n"
     ]
    }
   ],
   "source": [
    "names=['Ambika','Priti','EbPi','Yushma','Kushboo','ImrPan','Priya','Saransh','RUPESH']\n",
    "\n",
    "for i in names:\n",
    "    if re.search(r'[iIuU]',i)==None:\n",
    "        print(i)"
   ]
  },
  {
   "cell_type": "code",
   "execution_count": 186,
   "id": "4ce57e0f",
   "metadata": {},
   "outputs": [
    {
     "data": {
      "text/plain": [
       "True"
      ]
     },
     "execution_count": 186,
     "metadata": {},
     "output_type": "execute_result"
    }
   ],
   "source": [
    "i='Saransh'\n",
    "re.search(r'[iIuU]',i)==None"
   ]
  },
  {
   "cell_type": "code",
   "execution_count": 187,
   "id": "4ca1399c",
   "metadata": {},
   "outputs": [
    {
     "data": {
      "text/plain": [
       "True"
      ]
     },
     "execution_count": 187,
     "metadata": {},
     "output_type": "execute_result"
    }
   ],
   "source": [
    "None==None"
   ]
  },
  {
   "cell_type": "markdown",
   "id": "335a193c",
   "metadata": {},
   "source": [
    "# . Dot"
   ]
  },
  {
   "cell_type": "code",
   "execution_count": 188,
   "id": "c5c97f78",
   "metadata": {},
   "outputs": [],
   "source": [
    "# - It matches everything except the \\n"
   ]
  },
  {
   "cell_type": "code",
   "execution_count": 194,
   "id": "08867584",
   "metadata": {},
   "outputs": [
    {
     "name": "stdout",
     "output_type": "stream",
     "text": [
      "<re.Match object; span=(0, 1), match='s'>\n",
      "<re.Match object; span=(2, 3), match='a'>\n",
      "<re.Match object; span=(4, 5), match='c'>\n",
      "<re.Match object; span=(5, 6), match='\\\\'>\n",
      "<re.Match object; span=(6, 7), match='k'>\n",
      "<re.Match object; span=(7, 8), match='s'>\n",
      "<re.Match object; span=(8, 9), match='f'>\n",
      "<re.Match object; span=(9, 10), match='c'>\n",
      "<re.Match object; span=(10, 11), match=' '>\n",
      "<re.Match object; span=(11, 12), match='!'>\n",
      "<re.Match object; span=(12, 13), match='#'>\n",
      "<re.Match object; span=(13, 14), match='@'>\n",
      "<re.Match object; span=(14, 15), match='$'>\n",
      "<re.Match object; span=(15, 16), match=' '>\n",
      "<re.Match object; span=(16, 17), match='#'>\n",
      "<re.Match object; span=(17, 18), match='\\t'>\n",
      "<re.Match object; span=(18, 19), match='#'>\n",
      "<re.Match object; span=(19, 20), match='%'>\n",
      "<re.Match object; span=(20, 21), match='\\t'>\n",
      "<re.Match object; span=(21, 22), match='$'>\n",
      "<re.Match object; span=(22, 23), match=' '>\n",
      "<re.Match object; span=(23, 24), match='%'>\n",
      "<re.Match object; span=(24, 25), match='3'>\n",
      "<re.Match object; span=(25, 26), match='\\t'>\n",
      "<re.Match object; span=(26, 27), match='0'>\n",
      "<re.Match object; span=(27, 28), match='5'>\n",
      "<re.Match object; span=(28, 29), match=' '>\n",
      "<re.Match object; span=(29, 30), match='5'>\n",
      "<re.Match object; span=(30, 31), match='\\t'>\n",
      "<re.Match object; span=(31, 32), match='6'>\n",
      "<re.Match object; span=(32, 33), match='0'>\n",
      "<re.Match object; span=(33, 34), match='6'>\n",
      "<re.Match object; span=(34, 35), match=' '>\n",
      "<re.Match object; span=(35, 36), match='0'>\n",
      "<re.Match object; span=(36, 37), match='6'>\n",
      "<re.Match object; span=(38, 39), match='A'>\n",
      "<re.Match object; span=(39, 40), match='S'>\n",
      "<re.Match object; span=(40, 41), match='R'>\n",
      "<re.Match object; span=(42, 43), match='E'>\n",
      "<re.Match object; span=(43, 44), match=' '>\n",
      "<re.Match object; span=(44, 45), match='T'>\n",
      "<re.Match object; span=(45, 46), match='E'>\n",
      "<re.Match object; span=(47, 48), match='T'>\n",
      "<re.Match object; span=(49, 50), match='Y'>\n"
     ]
    }
   ],
   "source": [
    "text='s\\na\\nc\\ksfc !#@$ #\\t#%\\t$ %3\\t05 5\\t606 06\\nASR\\nE TE\\nT\\nY'\n",
    "pat=r'.'\n",
    "\n",
    "for i in re.finditer(pat,text):\n",
    "    print(i)"
   ]
  },
  {
   "cell_type": "code",
   "execution_count": 193,
   "id": "6bd56283",
   "metadata": {},
   "outputs": [
    {
     "name": "stdout",
     "output_type": "stream",
     "text": [
      "a\tb\n"
     ]
    }
   ],
   "source": [
    "print('a\\tb')"
   ]
  },
  {
   "cell_type": "code",
   "execution_count": null,
   "id": "3cb10c85",
   "metadata": {},
   "outputs": [],
   "source": []
  }
 ],
 "metadata": {
  "kernelspec": {
   "display_name": "Python 3 (ipykernel)",
   "language": "python",
   "name": "python3"
  },
  "language_info": {
   "codemirror_mode": {
    "name": "ipython",
    "version": 3
   },
   "file_extension": ".py",
   "mimetype": "text/x-python",
   "name": "python",
   "nbconvert_exporter": "python",
   "pygments_lexer": "ipython3",
   "version": "3.11.4"
  }
 },
 "nbformat": 4,
 "nbformat_minor": 5
}
