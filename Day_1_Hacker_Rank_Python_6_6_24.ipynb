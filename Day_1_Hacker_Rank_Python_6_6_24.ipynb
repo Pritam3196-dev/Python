{
 "cells": [
  {
   "cell_type": "markdown",
   "id": "706e003c",
   "metadata": {},
   "source": [
    "### 1. Task \n",
    "\n",
    "### Given an integer, n, perform the following conditional actions:\n",
    "\n",
    "###    If n is odd, print Weird\n",
    "###    If n is even and in the inclusive range of 2 to 5, print Not Weird\n",
    "###    If n is even and in the inclusive range of 6 to 20, print Weird\n",
    "###    If n is even and greater than 20, print Not Weird\n"
   ]
  },
  {
   "cell_type": "code",
   "execution_count": 4,
   "id": "3d02a621",
   "metadata": {},
   "outputs": [
    {
     "name": "stdout",
     "output_type": "stream",
     "text": [
      "20\n",
      "Weird\n"
     ]
    }
   ],
   "source": [
    "def weird_not_weird(n):\n",
    "    \n",
    "    if n % 2 != 0 :\n",
    "        \n",
    "        print('Weird')\n",
    "        \n",
    "    elif n % 2 == 0 and n in range(2 , 6):\n",
    "        \n",
    "        print('Not weird')\n",
    "        \n",
    "    elif n % 2 == 0 and n in range(6 , 21):\n",
    "        \n",
    "        print('Weird')\n",
    "        \n",
    "    elif n % 2 == 0 and n > 20 :\n",
    "        \n",
    "        print('Not Weird')\n",
    "    \n",
    "    \n",
    "n = int(input())\n",
    "    \n",
    "if n < 101 :\n",
    "    \n",
    "    pass\n",
    "        \n",
    "else :\n",
    "    n = int(input())\n",
    "        \n",
    "\n",
    "weird_not_weird(n)"
   ]
  },
  {
   "cell_type": "markdown",
   "id": "d3836673",
   "metadata": {},
   "source": [
    "### 2.Task\n",
    "\n",
    "### Task The provided code stub reads an integer, n, from STDIN. For all non-negative integers i\n",
    "\n",
    "### The provided code stub reads an integer, n, from STDIN. For all non-negative integers i<n , print i*i.\n",
    "\n",
    "### Example\n",
    "\n",
    "### The list of non-negative integers that are less than n=3  is [0, 1, 2]. Print the square of each number on a separate line."
   ]
  },
  {
   "cell_type": "code",
   "execution_count": 13,
   "id": "e90b8bcc",
   "metadata": {},
   "outputs": [
    {
     "name": "stdout",
     "output_type": "stream",
     "text": [
      "5\n",
      "0\n",
      "1\n",
      "4\n",
      "9\n",
      "16\n"
     ]
    }
   ],
   "source": [
    "def square_digits(n):\n",
    "    \n",
    "    for number in range(n):\n",
    "        \n",
    "        print(number ** 2)\n",
    "        # print(number * number)\n",
    "        \n",
    "n = int(input())\n",
    "\n",
    "while n <= 0 or n > 20:\n",
    "    \n",
    "    \n",
    "    n = int(input())\n",
    "    \n",
    "    if n >= 1 and n<= 20 :\n",
    "        \n",
    "        pass\n",
    "    \n",
    "    \n",
    "square_digits(n)"
   ]
  },
  {
   "cell_type": "markdown",
   "id": "33408074",
   "metadata": {},
   "source": [
    "### 3.Task \n",
    "### Leap Year"
   ]
  },
  {
   "cell_type": "code",
   "execution_count": 17,
   "id": "ed9dd57c",
   "metadata": {},
   "outputs": [
    {
     "name": "stdout",
     "output_type": "stream",
     "text": [
      "1996\n"
     ]
    },
    {
     "data": {
      "text/plain": [
       "True"
      ]
     },
     "execution_count": 17,
     "metadata": {},
     "output_type": "execute_result"
    }
   ],
   "source": [
    "def is_leap_year(year):\n",
    "    \n",
    "    if year % 4 == 0 :\n",
    "        \n",
    "        leap = True\n",
    "        \n",
    "        \n",
    "        if year % 100 == 0 :\n",
    "            \n",
    "            leap = False\n",
    "            \n",
    "            \n",
    "            if year % 400 == 0 :\n",
    "                \n",
    "                leap = True\n",
    "                \n",
    "                \n",
    "            else:\n",
    "                \n",
    "                leap = False\n",
    "                \n",
    "        \n",
    "    else:\n",
    "        \n",
    "        leap = False\n",
    "        \n",
    "        \n",
    "        \n",
    "    return leap\n",
    "\n",
    "\n",
    "year = int(input())\n",
    "\n",
    "is_leap_year(year)"
   ]
  },
  {
   "cell_type": "markdown",
   "id": "1b365e40",
   "metadata": {},
   "source": [
    "### 4.Task\n",
    "\n",
    "### Take number as input and print consecutive number from 1 to n.\n"
   ]
  },
  {
   "cell_type": "code",
   "execution_count": 28,
   "id": "951c413b",
   "metadata": {},
   "outputs": [
    {
     "name": "stdout",
     "output_type": "stream",
     "text": [
      "5\n",
      "12345"
     ]
    }
   ],
   "source": [
    "def consecutive_numbers(n):\n",
    "    \n",
    "    for number in range(1 , n+1):\n",
    "        \n",
    "        print(number , end = '')\n",
    "        \n",
    "n = int(input())\n",
    "\n",
    "while n<=0 or n >= 150:\n",
    "    \n",
    "    n = int(input())\n",
    "    \n",
    "    if n >=1 or n <= 150:\n",
    "        \n",
    "        pass\n",
    "\n",
    "consecutive_numbers(n)"
   ]
  }
 ],
 "metadata": {
  "kernelspec": {
   "display_name": "Python 3 (ipykernel)",
   "language": "python",
   "name": "python3"
  },
  "language_info": {
   "codemirror_mode": {
    "name": "ipython",
    "version": 3
   },
   "file_extension": ".py",
   "mimetype": "text/x-python",
   "name": "python",
   "nbconvert_exporter": "python",
   "pygments_lexer": "ipython3",
   "version": "3.11.4"
  }
 },
 "nbformat": 4,
 "nbformat_minor": 5
}
