{
 "cells": [
  {
   "cell_type": "markdown",
   "id": "406257af",
   "metadata": {},
   "source": [
    "# break and continue"
   ]
  },
  {
   "cell_type": "code",
   "execution_count": 1,
   "id": "23180147",
   "metadata": {},
   "outputs": [],
   "source": [
    "# break- It is used to terminate a loop.\n",
    "# continue- It is used to skip the current iteration"
   ]
  },
  {
   "cell_type": "code",
   "execution_count": 3,
   "id": "9d2ad95d",
   "metadata": {},
   "outputs": [
    {
     "name": "stdout",
     "output_type": "stream",
     "text": [
      "1\n",
      "2\n",
      "3\n",
      "4\n",
      "5\n",
      "We are out of the loop\n"
     ]
    }
   ],
   "source": [
    "for i in range(1,11):\n",
    "    if i>5:\n",
    "        break\n",
    "    else:\n",
    "        print(i)\n",
    "print('We are out of the loop')"
   ]
  },
  {
   "cell_type": "code",
   "execution_count": 10,
   "id": "3e2a3d35",
   "metadata": {},
   "outputs": [
    {
     "name": "stdout",
     "output_type": "stream",
     "text": [
      "1\n",
      "2\n",
      "3\n",
      "4\n",
      "Hello\n",
      "Hello\n",
      "7\n",
      "8\n",
      "9\n",
      "10\n"
     ]
    }
   ],
   "source": [
    "for i in range(1,11):\n",
    "    if i==5 or i==6:\n",
    "        print('Hello')\n",
    "        continue\n",
    "        print('Hello')\n",
    "        print(10)\n",
    "    else:\n",
    "        print(i)"
   ]
  },
  {
   "cell_type": "code",
   "execution_count": null,
   "id": "ac073039",
   "metadata": {},
   "outputs": [],
   "source": [
    "for loop:\n",
    "    for loop:\n",
    "        break # It will break inner loop\n",
    "    break # It will break outer loop"
   ]
  },
  {
   "cell_type": "code",
   "execution_count": 11,
   "id": "00c7140a",
   "metadata": {},
   "outputs": [
    {
     "name": "stdout",
     "output_type": "stream",
     "text": [
      "Python\n",
      "Python\n",
      "Python\n",
      "Python\n",
      "Python\n",
      "Python\n",
      "Python\n",
      "Python\n",
      "Python\n",
      "Python\n",
      "Python\n",
      "Python\n"
     ]
    }
   ],
   "source": [
    "for i in range(3):\n",
    "    for i in range(4):\n",
    "        print('Python')"
   ]
  },
  {
   "cell_type": "code",
   "execution_count": 12,
   "id": "85479def",
   "metadata": {},
   "outputs": [
    {
     "name": "stdout",
     "output_type": "stream",
     "text": [
      "Python\n",
      "Python\n",
      "Python\n"
     ]
    }
   ],
   "source": [
    "for i in range(3):\n",
    "    for j in range(4):\n",
    "        print('Python')\n",
    "        break"
   ]
  },
  {
   "cell_type": "code",
   "execution_count": 13,
   "id": "fe3aff65",
   "metadata": {},
   "outputs": [],
   "source": [
    "# i=0\n",
    "# j=0 -> Python break\n",
    "\n",
    "# i=1\n",
    "# j=0 -> Python break\n",
    "\n",
    "# i=2\n",
    "# j=0 -> Python break"
   ]
  },
  {
   "cell_type": "code",
   "execution_count": 14,
   "id": "63a88f2e",
   "metadata": {},
   "outputs": [
    {
     "name": "stdout",
     "output_type": "stream",
     "text": [
      "Python\n",
      "Python\n",
      "Python\n",
      "Python\n"
     ]
    }
   ],
   "source": [
    "for i in range(3):\n",
    "    for j in range(4):\n",
    "        print('Python')\n",
    "    break"
   ]
  },
  {
   "cell_type": "code",
   "execution_count": 15,
   "id": "950ee4d9",
   "metadata": {},
   "outputs": [],
   "source": [
    "# i=0\n",
    "# j=0 -> Python, j=1 -> Python, j=2 -> Python, j=3 -> Python\n",
    "# break"
   ]
  },
  {
   "cell_type": "code",
   "execution_count": 19,
   "id": "a4cceb5a",
   "metadata": {},
   "outputs": [
    {
     "name": "stdout",
     "output_type": "stream",
     "text": [
      "i-0\n",
      "j-0, j-1, j-2, j-3, "
     ]
    }
   ],
   "source": [
    "for i in range(3):\n",
    "    print(f'i-{i}')\n",
    "    for j in range(4):\n",
    "        print(f'j-{j}',end=', ')\n",
    "    break"
   ]
  },
  {
   "cell_type": "code",
   "execution_count": 21,
   "id": "33153162",
   "metadata": {},
   "outputs": [
    {
     "name": "stdout",
     "output_type": "stream",
     "text": [
      "Python\n"
     ]
    }
   ],
   "source": [
    "for i in range(3):\n",
    "    for j in range(4):\n",
    "        print('Python')\n",
    "        break\n",
    "    break"
   ]
  },
  {
   "cell_type": "code",
   "execution_count": 20,
   "id": "5854839b",
   "metadata": {},
   "outputs": [],
   "source": [
    "# i=0\n",
    "# j=0 -> Python break\n",
    "# break"
   ]
  },
  {
   "cell_type": "code",
   "execution_count": 22,
   "id": "597b561c",
   "metadata": {},
   "outputs": [],
   "source": [
    "# pass- It is an empty statement\n",
    "\n",
    "# When we don't have anything to write inside an indented block then we write pass just to avoid indentation error"
   ]
  },
  {
   "cell_type": "code",
   "execution_count": 39,
   "id": "3ccc0c9e",
   "metadata": {},
   "outputs": [
    {
     "name": "stdout",
     "output_type": "stream",
     "text": [
      "1\n",
      "2\n",
      "3\n",
      "4\n",
      "5\n",
      "6\n",
      "7\n",
      "8\n",
      "9\n",
      "10\n",
      "15\n"
     ]
    }
   ],
   "source": [
    "lst=[1,2,3,4,5,6,7,8,9,10,15]\n",
    "try:\n",
    "    for i in range(15):\n",
    "        print(lst[i])\n",
    "except:\n",
    "    pass"
   ]
  },
  {
   "cell_type": "code",
   "execution_count": 36,
   "id": "e4d9d190",
   "metadata": {},
   "outputs": [
    {
     "name": "stdout",
     "output_type": "stream",
     "text": [
      "1\n",
      "3\n",
      "5\n",
      "7\n",
      "9\n"
     ]
    }
   ],
   "source": [
    "# Print only the odd numbers\n",
    "\n",
    "lst=[1,2,3,4,5,6,7,8,9,10]\n",
    "\n",
    "for i in lst:\n",
    "    if i%2==0:\n",
    "        continue\n",
    "#         print(i)\n",
    "    else:\n",
    "        print(i)"
   ]
  },
  {
   "cell_type": "code",
   "execution_count": 40,
   "id": "eeef0fde",
   "metadata": {},
   "outputs": [],
   "source": [
    "import pandas as pd"
   ]
  },
  {
   "cell_type": "code",
   "execution_count": 42,
   "id": "94cb525b",
   "metadata": {},
   "outputs": [
    {
     "data": {
      "text/html": [
       "<div>\n",
       "<style scoped>\n",
       "    .dataframe tbody tr th:only-of-type {\n",
       "        vertical-align: middle;\n",
       "    }\n",
       "\n",
       "    .dataframe tbody tr th {\n",
       "        vertical-align: top;\n",
       "    }\n",
       "\n",
       "    .dataframe thead th {\n",
       "        text-align: right;\n",
       "    }\n",
       "</style>\n",
       "<table border=\"1\" class=\"dataframe\">\n",
       "  <thead>\n",
       "    <tr style=\"text-align: right;\">\n",
       "      <th></th>\n",
       "      <th>Age</th>\n",
       "      <th>Income</th>\n",
       "      <th>Assets</th>\n",
       "    </tr>\n",
       "  </thead>\n",
       "  <tbody>\n",
       "    <tr>\n",
       "      <th>0</th>\n",
       "      <td>25</td>\n",
       "      <td>5</td>\n",
       "      <td>1</td>\n",
       "    </tr>\n",
       "    <tr>\n",
       "      <th>1</th>\n",
       "      <td>35</td>\n",
       "      <td>7</td>\n",
       "      <td>2</td>\n",
       "    </tr>\n",
       "    <tr>\n",
       "      <th>2</th>\n",
       "      <td>45</td>\n",
       "      <td>9</td>\n",
       "      <td>3</td>\n",
       "    </tr>\n",
       "  </tbody>\n",
       "</table>\n",
       "</div>"
      ],
      "text/plain": [
       "   Age  Income  Assets\n",
       "0   25       5       1\n",
       "1   35       7       2\n",
       "2   45       9       3"
      ]
     },
     "execution_count": 42,
     "metadata": {},
     "output_type": "execute_result"
    }
   ],
   "source": [
    "data=pd.DataFrame({'Age':[25,35,45],\n",
    "             'Income':[5,7,9],\n",
    "             'Assets':[1,2,3]})\n",
    "data"
   ]
  },
  {
   "cell_type": "code",
   "execution_count": 43,
   "id": "d2e57fb5",
   "metadata": {},
   "outputs": [],
   "source": [
    "import seaborn as sns\n",
    "import matplotlib.pyplot as plt"
   ]
  },
  {
   "cell_type": "code",
   "execution_count": 54,
   "id": "c5281cb8",
   "metadata": {},
   "outputs": [
    {
     "data": {
      "image/png": "[encoded data removed]",
      "text/plain": [
       "<Figure size 1000x1000 with 4 Axes>"
      ]
     },
     "metadata": {},
     "output_type": "display_data"
    }
   ],
   "source": [
    "f,ax=plt.subplots(2,2,figsize=(10,10),dpi=100)\n",
    "cols=list(data.columns)\n",
    "ind=0\n",
    "try:\n",
    "    for i in range(2):\n",
    "        for j in range(2):\n",
    "            sns.boxplot(data[cols[ind]],ax=ax[i,j])\n",
    "            ind+=1\n",
    "except:\n",
    "    pass\n",
    "    plt.show()"
   ]
  },
  {
   "cell_type": "code",
   "execution_count": 49,
   "id": "9dde18eb",
   "metadata": {},
   "outputs": [
    {
     "data": {
      "text/plain": [
       "['Age', 'Income', 'Assets']"
      ]
     },
     "execution_count": 49,
     "metadata": {},
     "output_type": "execute_result"
    }
   ],
   "source": [
    "cols"
   ]
  },
  {
   "cell_type": "code",
   "execution_count": 50,
   "id": "2c6a06a5",
   "metadata": {},
   "outputs": [
    {
     "data": {
      "text/plain": [
       "3"
      ]
     },
     "execution_count": 50,
     "metadata": {},
     "output_type": "execute_result"
    }
   ],
   "source": [
    "ind"
   ]
  },
  {
   "cell_type": "code",
   "execution_count": 51,
   "id": "902dd0a9",
   "metadata": {},
   "outputs": [
    {
     "ename": "IndexError",
     "evalue": "list index out of range",
     "output_type": "error",
     "traceback": [
      "\u001b[1;31m---------------------------------------------------------------------------\u001b[0m",
      "\u001b[1;31mIndexError\u001b[0m                                Traceback (most recent call last)",
      "Cell \u001b[1;32mIn[51], line 1\u001b[0m\n\u001b[1;32m----> 1\u001b[0m cols[\u001b[38;5;241m3\u001b[39m]\n",
      "\u001b[1;31mIndexError\u001b[0m: list index out of range"
     ]
    }
   ],
   "source": [
    "cols[3]"
   ]
  },
  {
   "cell_type": "markdown",
   "id": "f1d0ab05",
   "metadata": {},
   "source": [
    "# Function Arguments"
   ]
  },
  {
   "cell_type": "code",
   "execution_count": 55,
   "id": "2fb46c81",
   "metadata": {},
   "outputs": [],
   "source": [
    "# Positional\n",
    "# Default\n",
    "# Keyworded\n",
    "# Variable length\n",
    "# Keyworded variable length "
   ]
  },
  {
   "cell_type": "code",
   "execution_count": 56,
   "id": "7feaa07b",
   "metadata": {},
   "outputs": [],
   "source": [
    "def dummy(a,b,c):\n",
    "    print(a)\n",
    "    print(b)\n",
    "    print(c)"
   ]
  },
  {
   "cell_type": "code",
   "execution_count": 57,
   "id": "7671ec08",
   "metadata": {},
   "outputs": [
    {
     "name": "stdout",
     "output_type": "stream",
     "text": [
      "DA\n",
      "DS\n",
      "BA\n"
     ]
    }
   ],
   "source": [
    "dummy('DA','DS','BA')"
   ]
  },
  {
   "cell_type": "markdown",
   "id": "445dbe88",
   "metadata": {},
   "source": [
    "# Default Arguments"
   ]
  },
  {
   "cell_type": "code",
   "execution_count": 59,
   "id": "f37242ee",
   "metadata": {},
   "outputs": [],
   "source": [
    "def dummy(a,b,c='MBA'):\n",
    "    print(a)\n",
    "    print(b)\n",
    "    print(c)"
   ]
  },
  {
   "cell_type": "code",
   "execution_count": 60,
   "id": "fede8e2a",
   "metadata": {},
   "outputs": [
    {
     "name": "stdout",
     "output_type": "stream",
     "text": [
      "BBA\n",
      "BCA\n",
      "MBA\n"
     ]
    }
   ],
   "source": [
    "dummy('BBA','BCA')"
   ]
  },
  {
   "cell_type": "code",
   "execution_count": 61,
   "id": "33eea301",
   "metadata": {},
   "outputs": [
    {
     "name": "stdout",
     "output_type": "stream",
     "text": [
      "BBA\n",
      "BCA\n",
      "M.Tech\n"
     ]
    }
   ],
   "source": [
    "dummy('BBA','BCA','M.Tech')"
   ]
  },
  {
   "cell_type": "markdown",
   "id": "3a2807dc",
   "metadata": {},
   "source": [
    "# Keyworded Arguments"
   ]
  },
  {
   "cell_type": "code",
   "execution_count": 62,
   "id": "c1d7b62d",
   "metadata": {},
   "outputs": [],
   "source": [
    "def dummy(a,b,c):\n",
    "    print(a)\n",
    "    print(b)\n",
    "    print(c)"
   ]
  },
  {
   "cell_type": "code",
   "execution_count": 63,
   "id": "48fdd65f",
   "metadata": {},
   "outputs": [
    {
     "name": "stdout",
     "output_type": "stream",
     "text": [
      "DA\n",
      "DS\n",
      "BA\n"
     ]
    }
   ],
   "source": [
    "dummy('DA','DS',c='BA')"
   ]
  },
  {
   "cell_type": "code",
   "execution_count": 72,
   "id": "69a2940d",
   "metadata": {},
   "outputs": [],
   "source": [
    "def dummy(a,b,c,d):\n",
    "    print(a)\n",
    "    print(b)\n",
    "    print(c)\n",
    "    print(d)"
   ]
  },
  {
   "cell_type": "code",
   "execution_count": 73,
   "id": "8f69a34b",
   "metadata": {},
   "outputs": [
    {
     "name": "stdout",
     "output_type": "stream",
     "text": [
      "DA\n",
      "DS\n",
      "MBA\n",
      "BA\n"
     ]
    }
   ],
   "source": [
    "dummy('DA','DS',d='BA',c='MBA',)"
   ]
  },
  {
   "cell_type": "markdown",
   "id": "7a9f9699",
   "metadata": {},
   "source": [
    "# Variable Length Arguments"
   ]
  },
  {
   "cell_type": "code",
   "execution_count": 76,
   "id": "61e49db3",
   "metadata": {},
   "outputs": [],
   "source": [
    "def add(a,b,c):\n",
    "    return a+b+c"
   ]
  },
  {
   "cell_type": "code",
   "execution_count": 77,
   "id": "6513b4c3",
   "metadata": {},
   "outputs": [
    {
     "data": {
      "text/plain": [
       "15"
      ]
     },
     "execution_count": 77,
     "metadata": {},
     "output_type": "execute_result"
    }
   ],
   "source": [
    "add(4,6,5)"
   ]
  },
  {
   "cell_type": "code",
   "execution_count": 78,
   "id": "4a27627b",
   "metadata": {},
   "outputs": [],
   "source": [
    "# def function_name(*parameter):\n",
    "#     code\n",
    "#     code"
   ]
  },
  {
   "cell_type": "code",
   "execution_count": 79,
   "id": "e6bbf8af",
   "metadata": {},
   "outputs": [],
   "source": [
    "# In this case it alwyas stores the values in the form of a tuple"
   ]
  },
  {
   "cell_type": "code",
   "execution_count": 89,
   "id": "e4934b37",
   "metadata": {},
   "outputs": [],
   "source": [
    "def add(*a):\n",
    "    s=0\n",
    "    \n",
    "    for i in a:\n",
    "        s=s+i\n",
    "    return s"
   ]
  },
  {
   "cell_type": "code",
   "execution_count": 96,
   "id": "a13490e2",
   "metadata": {},
   "outputs": [
    {
     "data": {
      "text/plain": [
       "50"
      ]
     },
     "execution_count": 96,
     "metadata": {},
     "output_type": "execute_result"
    }
   ],
   "source": [
    "add(5,6,12,15,12)"
   ]
  },
  {
   "cell_type": "code",
   "execution_count": 88,
   "id": "da767ba8",
   "metadata": {},
   "outputs": [
    {
     "name": "stdout",
     "output_type": "stream",
     "text": [
      "42\n"
     ]
    }
   ],
   "source": [
    "t=(5, 6, 5, 7, 5, 9,5)\n",
    "\n",
    "s=0\n",
    "\n",
    "for i in t:\n",
    "    s=s+i\n",
    "print(s)"
   ]
  },
  {
   "cell_type": "markdown",
   "id": "ea546923",
   "metadata": {},
   "source": [
    "# Keyworded Variable Length Arguments"
   ]
  },
  {
   "cell_type": "code",
   "execution_count": 97,
   "id": "52ef3845",
   "metadata": {},
   "outputs": [],
   "source": [
    "# When we don't know how many keyworded arguments might be there then we use keyworded variable length arguments\n",
    "# It stores the values in a dictionary"
   ]
  },
  {
   "cell_type": "code",
   "execution_count": null,
   "id": "a014b463",
   "metadata": {},
   "outputs": [],
   "source": [
    "def function_name(**parameter):\n",
    "    code\n",
    "    code"
   ]
  },
  {
   "cell_type": "code",
   "execution_count": 98,
   "id": "e5e3af2d",
   "metadata": {},
   "outputs": [],
   "source": [
    "function_name(key=value,key=value.....key=value)"
   ]
  },
  {
   "cell_type": "code",
   "execution_count": 99,
   "id": "dc5f1984",
   "metadata": {},
   "outputs": [],
   "source": [
    "def records(**a):\n",
    "    print(a,type(a))"
   ]
  },
  {
   "cell_type": "code",
   "execution_count": 103,
   "id": "5ee22f01",
   "metadata": {},
   "outputs": [
    {
     "name": "stdout",
     "output_type": "stream",
     "text": [
      "{'name': 'Nachiket', 'age': 25, 'city': 'Bangalore', 'salary': 55000} <class 'dict'>\n"
     ]
    }
   ],
   "source": [
    "records(name='Nachiket',age=25,city='Bangalore',salary=55000)"
   ]
  },
  {
   "cell_type": "code",
   "execution_count": 106,
   "id": "7f8d1ed0",
   "metadata": {},
   "outputs": [
    {
     "name": "stdout",
     "output_type": "stream",
     "text": [
      "{'a': 'BA', 'b': 'MCA', 'c': 'DS'} <class 'dict'>\n"
     ]
    }
   ],
   "source": [
    "records(a='BA',b='MCA',c='DS')"
   ]
  },
  {
   "cell_type": "code",
   "execution_count": 107,
   "id": "6113b67f",
   "metadata": {},
   "outputs": [],
   "source": [
    "def records(name,age,salary,company='TCS'):\n",
    "    print(name)\n",
    "    print(age)\n",
    "    print(salary)\n",
    "    print(company)"
   ]
  },
  {
   "cell_type": "code",
   "execution_count": 110,
   "id": "a5af5f8a",
   "metadata": {},
   "outputs": [
    {
     "name": "stdout",
     "output_type": "stream",
     "text": [
      "Priti\n",
      "25\n",
      "50000\n",
      "Infosys\n"
     ]
    }
   ],
   "source": [
    "records('Priti',25,50000,'Infosys')"
   ]
  },
  {
   "cell_type": "code",
   "execution_count": 111,
   "id": "e22ba5a6",
   "metadata": {},
   "outputs": [],
   "source": [
    "def records(**record):\n",
    "    return record"
   ]
  },
  {
   "cell_type": "code",
   "execution_count": 112,
   "id": "87111b1b",
   "metadata": {},
   "outputs": [
    {
     "data": {
      "text/plain": [
       "{'name': 'Priti', 'age': 25, 'salary': 25000}"
      ]
     },
     "execution_count": 112,
     "metadata": {},
     "output_type": "execute_result"
    }
   ],
   "source": [
    "records(name='Priti',age=25,salary=25000)"
   ]
  },
  {
   "cell_type": "code",
   "execution_count": 124,
   "id": "028c861a",
   "metadata": {},
   "outputs": [],
   "source": [
    "def dummy(a,b,c=None,*d,**e):\n",
    "    print(a)\n",
    "    print(b)\n",
    "    print(c)\n",
    "    print(d)\n",
    "    print(e)"
   ]
  },
  {
   "cell_type": "code",
   "execution_count": 118,
   "id": "fa607cad",
   "metadata": {},
   "outputs": [
    {
     "name": "stdout",
     "output_type": "stream",
     "text": [
      "DA\n",
      "BA\n",
      "DS\n",
      "('DE', 'MBA', 'BBA', 'BCA', 'MCA')\n",
      "{'name': 'Tanmay', 'age': 26}\n"
     ]
    }
   ],
   "source": [
    "dummy('DA','BA','DS','DE','MBA','BBA','BCA','MCA',name='Tanmay',age=26)"
   ]
  },
  {
   "cell_type": "code",
   "execution_count": 127,
   "id": "08e40e9e",
   "metadata": {},
   "outputs": [],
   "source": [
    "def dummy(a,b,c=None,**e):\n",
    "    print(a)\n",
    "    print(b)\n",
    "    print(c)\n",
    "#     print(d)\n",
    "    print(e)"
   ]
  },
  {
   "cell_type": "code",
   "execution_count": 128,
   "id": "be991225",
   "metadata": {},
   "outputs": [
    {
     "name": "stdout",
     "output_type": "stream",
     "text": [
      "BA\n",
      "DA\n",
      "Pritam\n",
      "{}\n"
     ]
    }
   ],
   "source": [
    "dummy('BA','DA','Pritam')"
   ]
  },
  {
   "cell_type": "markdown",
   "id": "92eb9566",
   "metadata": {},
   "source": [
    "# Function Properties"
   ]
  },
  {
   "cell_type": "code",
   "execution_count": 179,
   "id": "7598d250",
   "metadata": {},
   "outputs": [],
   "source": [
    "# - 1- Function aliasing (Assigning some function to a variable)\n",
    "# - 2- A function may be defined inside another function (Nested Function)\n",
    "# - 3- A function may be called inside another function\n",
    "# - 4- A function may be passed as an argument\n",
    "# - 5- A function may return another function\n",
    "\n",
    "# Decorators"
   ]
  },
  {
   "cell_type": "markdown",
   "id": "e6b4ca93",
   "metadata": {},
   "source": [
    "# 1- Function Aliasing"
   ]
  },
  {
   "cell_type": "code",
   "execution_count": 137,
   "id": "458ca49f",
   "metadata": {},
   "outputs": [],
   "source": [
    "# variable=function_name\n",
    "# We are assigning the function to some variable.\n",
    "# It is also known as renaming a function"
   ]
  },
  {
   "cell_type": "code",
   "execution_count": 138,
   "id": "0795b2a2",
   "metadata": {},
   "outputs": [],
   "source": [
    "def add(x,y):\n",
    "    return x+y"
   ]
  },
  {
   "cell_type": "code",
   "execution_count": 139,
   "id": "2839f7f1",
   "metadata": {},
   "outputs": [
    {
     "data": {
      "text/plain": [
       "15"
      ]
     },
     "execution_count": 139,
     "metadata": {},
     "output_type": "execute_result"
    }
   ],
   "source": [
    "add(8,7)"
   ]
  },
  {
   "cell_type": "code",
   "execution_count": 141,
   "id": "2aef7cbb",
   "metadata": {},
   "outputs": [],
   "source": [
    "x=add # Function aliasing"
   ]
  },
  {
   "cell_type": "code",
   "execution_count": 142,
   "id": "a94041f4",
   "metadata": {},
   "outputs": [
    {
     "name": "stdout",
     "output_type": "stream",
     "text": [
      "<function add at 0x000001F949ED2020> <class 'function'>\n"
     ]
    }
   ],
   "source": [
    "print(add,type(add))"
   ]
  },
  {
   "cell_type": "code",
   "execution_count": 144,
   "id": "9fbc6619",
   "metadata": {},
   "outputs": [
    {
     "name": "stdout",
     "output_type": "stream",
     "text": [
      "<function add at 0x000001F949ED2020> <class 'function'>\n"
     ]
    }
   ],
   "source": [
    "print(x,type(x))"
   ]
  },
  {
   "cell_type": "code",
   "execution_count": 145,
   "id": "4b32147f",
   "metadata": {},
   "outputs": [
    {
     "name": "stdout",
     "output_type": "stream",
     "text": [
      "2170198761504\n",
      "2170198761504\n"
     ]
    }
   ],
   "source": [
    "print(id(add))\n",
    "print(id(x))"
   ]
  },
  {
   "cell_type": "code",
   "execution_count": 146,
   "id": "a7019b5d",
   "metadata": {},
   "outputs": [],
   "source": [
    "a=5\n",
    "b=a"
   ]
  },
  {
   "cell_type": "code",
   "execution_count": 147,
   "id": "678ab711",
   "metadata": {},
   "outputs": [
    {
     "name": "stdout",
     "output_type": "stream",
     "text": [
      "5\n",
      "5\n"
     ]
    }
   ],
   "source": [
    "print(a)\n",
    "print(b)"
   ]
  },
  {
   "cell_type": "code",
   "execution_count": 148,
   "id": "042e324e",
   "metadata": {},
   "outputs": [
    {
     "data": {
      "text/plain": [
       "9"
      ]
     },
     "execution_count": 148,
     "metadata": {},
     "output_type": "execute_result"
    }
   ],
   "source": [
    "add(5,4)"
   ]
  },
  {
   "cell_type": "code",
   "execution_count": 149,
   "id": "c8863b62",
   "metadata": {},
   "outputs": [
    {
     "data": {
      "text/plain": [
       "9"
      ]
     },
     "execution_count": 149,
     "metadata": {},
     "output_type": "execute_result"
    }
   ],
   "source": [
    "x(5,4)"
   ]
  },
  {
   "cell_type": "markdown",
   "id": "30589398",
   "metadata": {},
   "source": [
    "# 2- A function within another function (Nested Function)"
   ]
  },
  {
   "cell_type": "code",
   "execution_count": 163,
   "id": "06596c03",
   "metadata": {},
   "outputs": [],
   "source": [
    "def outer():\n",
    "    print('I am the outer function')\n",
    "    \n",
    "    def inner():\n",
    "        print('I am the inner function')\n",
    "    inner()"
   ]
  },
  {
   "cell_type": "code",
   "execution_count": 162,
   "id": "627bda64",
   "metadata": {},
   "outputs": [
    {
     "name": "stdout",
     "output_type": "stream",
     "text": [
      "I am the outer function\n"
     ]
    }
   ],
   "source": [
    "outer()"
   ]
  },
  {
   "cell_type": "markdown",
   "id": "7b6e830b",
   "metadata": {},
   "source": [
    "# 3- A function may be called inside another function"
   ]
  },
  {
   "cell_type": "code",
   "execution_count": 164,
   "id": "8863059f",
   "metadata": {},
   "outputs": [],
   "source": [
    "def square(x):\n",
    "    return x**2"
   ]
  },
  {
   "cell_type": "code",
   "execution_count": 177,
   "id": "6ce79840",
   "metadata": {},
   "outputs": [],
   "source": [
    "def add(x,y):\n",
    "    s=x+y\n",
    "    print(f's-{s}')\n",
    "    a=square(s)\n",
    "    print(f'a-{s}')"
   ]
  },
  {
   "cell_type": "code",
   "execution_count": 178,
   "id": "faf32449",
   "metadata": {},
   "outputs": [
    {
     "name": "stdout",
     "output_type": "stream",
     "text": [
      "s-9\n",
      "a-9\n"
     ]
    }
   ],
   "source": [
    "add(5,4)"
   ]
  },
  {
   "cell_type": "code",
   "execution_count": 170,
   "id": "08b7432b",
   "metadata": {},
   "outputs": [],
   "source": [
    "# square(5)"
   ]
  },
  {
   "cell_type": "code",
   "execution_count": 181,
   "id": "77102fe3",
   "metadata": {},
   "outputs": [],
   "source": [
    "def add(x,y):\n",
    "    return x+y"
   ]
  },
  {
   "cell_type": "code",
   "execution_count": 182,
   "id": "d426db92",
   "metadata": {},
   "outputs": [
    {
     "data": {
      "text/plain": [
       "9"
      ]
     },
     "execution_count": 182,
     "metadata": {},
     "output_type": "execute_result"
    }
   ],
   "source": [
    "x=add(4,5) # Function call\n",
    "x"
   ]
  },
  {
   "cell_type": "code",
   "execution_count": 183,
   "id": "e5fa940b",
   "metadata": {},
   "outputs": [],
   "source": [
    "x=add # Function alisasing"
   ]
  },
  {
   "cell_type": "code",
   "execution_count": 184,
   "id": "454d587c",
   "metadata": {},
   "outputs": [
    {
     "data": {
      "text/plain": [
       "<function __main__.add(x, y)>"
      ]
     },
     "execution_count": 184,
     "metadata": {},
     "output_type": "execute_result"
    }
   ],
   "source": [
    "x"
   ]
  },
  {
   "cell_type": "code",
   "execution_count": 185,
   "id": "bd777e00",
   "metadata": {},
   "outputs": [],
   "source": [
    "# Recursive\n",
    "# Regex\n",
    "# Libraries\n",
    "# Extra tpoics"
   ]
  },
  {
   "cell_type": "code",
   "execution_count": null,
   "id": "19f76f75",
   "metadata": {},
   "outputs": [],
   "source": []
  }
 ],
 "metadata": {
  "kernelspec": {
   "display_name": "Python 3 (ipykernel)",
   "language": "python",
   "name": "python3"
  },
  "language_info": {
   "codemirror_mode": {
    "name": "ipython",
    "version": 3
   },
   "file_extension": ".py",
   "mimetype": "text/x-python",
   "name": "python",
   "nbconvert_exporter": "python",
   "pygments_lexer": "ipython3",
   "version": "3.11.4"
  }
 },
 "nbformat": 4,
 "nbformat_minor": 5
}
