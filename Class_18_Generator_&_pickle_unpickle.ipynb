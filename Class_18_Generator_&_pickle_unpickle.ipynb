{
 "cells": [
  {
   "cell_type": "markdown",
   "id": "d3814270",
   "metadata": {},
   "source": [
    "# Generator"
   ]
  },
  {
   "cell_type": "code",
   "execution_count": 1,
   "id": "ded5e41a",
   "metadata": {},
   "outputs": [],
   "source": [
    "# - It is a user defined iterator object."
   ]
  },
  {
   "cell_type": "code",
   "execution_count": 3,
   "id": "e25d213d",
   "metadata": {},
   "outputs": [],
   "source": [
    "# iter(Iterable) -> iterator"
   ]
  },
  {
   "cell_type": "markdown",
   "id": "58299202",
   "metadata": {},
   "source": [
    "# How to create a generator?"
   ]
  },
  {
   "cell_type": "code",
   "execution_count": 4,
   "id": "afc89c4c",
   "metadata": {},
   "outputs": [],
   "source": [
    "# - 1- Tuple comprehension\n",
    "# - 2- Generator function"
   ]
  },
  {
   "cell_type": "markdown",
   "id": "683ab280",
   "metadata": {},
   "source": [
    "# Tuple Comprehension"
   ]
  },
  {
   "cell_type": "code",
   "execution_count": 5,
   "id": "cf9f85e8",
   "metadata": {},
   "outputs": [],
   "source": [
    "# - It returns a generator object.\n",
    "# - A generator is an iterator object."
   ]
  },
  {
   "cell_type": "code",
   "execution_count": 7,
   "id": "a5c2c2d1",
   "metadata": {},
   "outputs": [],
   "source": [
    "# (for loop)\n",
    "# (value for variable in iterable)"
   ]
  },
  {
   "cell_type": "code",
   "execution_count": 9,
   "id": "6715cdc0",
   "metadata": {},
   "outputs": [
    {
     "name": "stdout",
     "output_type": "stream",
     "text": [
      "[1, 2, 3, 4, 5, 6, 7, 8, 9, 10] <class 'list'>\n"
     ]
    }
   ],
   "source": [
    "x=[i for i in range(1,11)]\n",
    "print(x,type(x))"
   ]
  },
  {
   "cell_type": "code",
   "execution_count": 10,
   "id": "acf14d59",
   "metadata": {},
   "outputs": [
    {
     "name": "stdout",
     "output_type": "stream",
     "text": [
      "<generator object <genexpr> at 0x0000029FA7BA4E10> <class 'generator'>\n"
     ]
    }
   ],
   "source": [
    "x=(i for i in range(1,11))\n",
    "print(x,type(x))"
   ]
  },
  {
   "cell_type": "code",
   "execution_count": 11,
   "id": "773e8f6b",
   "metadata": {},
   "outputs": [
    {
     "name": "stdout",
     "output_type": "stream",
     "text": [
      "['__class__', '__del__', '__delattr__', '__dir__', '__doc__', '__eq__', '__format__', '__ge__', '__getattribute__', '__getstate__', '__gt__', '__hash__', '__init__', '__init_subclass__', '__iter__', '__le__', '__lt__', '__name__', '__ne__', '__new__', '__next__', '__qualname__', '__reduce__', '__reduce_ex__', '__repr__', '__setattr__', '__sizeof__', '__str__', '__subclasshook__', 'close', 'gi_code', 'gi_frame', 'gi_running', 'gi_suspended', 'gi_yieldfrom', 'send', 'throw']\n"
     ]
    }
   ],
   "source": [
    "print(dir(x))"
   ]
  },
  {
   "cell_type": "code",
   "execution_count": 22,
   "id": "0593e4ab",
   "metadata": {},
   "outputs": [
    {
     "ename": "StopIteration",
     "evalue": "",
     "output_type": "error",
     "traceback": [
      "\u001b[1;31m---------------------------------------------------------------------------\u001b[0m",
      "\u001b[1;31mStopIteration\u001b[0m                             Traceback (most recent call last)",
      "Cell \u001b[1;32mIn[22], line 1\u001b[0m\n\u001b[1;32m----> 1\u001b[0m \u001b[38;5;28mprint\u001b[39m(\u001b[38;5;28mnext\u001b[39m(x))\n",
      "\u001b[1;31mStopIteration\u001b[0m: "
     ]
    }
   ],
   "source": [
    "print(next(x))"
   ]
  },
  {
   "cell_type": "code",
   "execution_count": 23,
   "id": "44f87084",
   "metadata": {},
   "outputs": [
    {
     "name": "stdout",
     "output_type": "stream",
     "text": [
      "<generator object <genexpr> at 0x0000029FA7F50D40> <class 'generator'>\n"
     ]
    }
   ],
   "source": [
    "x=(i for i in range(1,11))\n",
    "print(x,type(x))"
   ]
  },
  {
   "cell_type": "code",
   "execution_count": 24,
   "id": "76a9332b",
   "metadata": {},
   "outputs": [
    {
     "name": "stdout",
     "output_type": "stream",
     "text": [
      "1\n",
      "2\n",
      "3\n",
      "4\n",
      "5\n",
      "6\n",
      "7\n",
      "8\n",
      "9\n",
      "10\n"
     ]
    }
   ],
   "source": [
    "for i in x:\n",
    "    print(i)"
   ]
  },
  {
   "cell_type": "code",
   "execution_count": 2,
   "id": "13f3c29e",
   "metadata": {},
   "outputs": [],
   "source": [
    "import sys"
   ]
  },
  {
   "cell_type": "code",
   "execution_count": 3,
   "id": "775ac7a9",
   "metadata": {},
   "outputs": [
    {
     "name": "stdout",
     "output_type": "stream",
     "text": [
      "8448728\n"
     ]
    }
   ],
   "source": [
    "lst=[i for i in range(1000000)]\n",
    "\n",
    "print(sys.getsizeof(lst))"
   ]
  },
  {
   "cell_type": "code",
   "execution_count": 4,
   "id": "a524652f",
   "metadata": {},
   "outputs": [
    {
     "name": "stdout",
     "output_type": "stream",
     "text": [
      "200\n"
     ]
    }
   ],
   "source": [
    "lst=(i for i in range(1000000))\n",
    "\n",
    "print(sys.getsizeof(lst))"
   ]
  },
  {
   "cell_type": "code",
   "execution_count": 30,
   "id": "dcc1c3f5",
   "metadata": {},
   "outputs": [
    {
     "name": "stdout",
     "output_type": "stream",
     "text": [
      "0\n"
     ]
    }
   ],
   "source": [
    "print(next(lst))"
   ]
  },
  {
   "cell_type": "code",
   "execution_count": 31,
   "id": "cc5bb637",
   "metadata": {},
   "outputs": [
    {
     "name": "stdout",
     "output_type": "stream",
     "text": [
      "1\n"
     ]
    }
   ],
   "source": [
    "print(next(lst))"
   ]
  },
  {
   "cell_type": "code",
   "execution_count": 32,
   "id": "53dda943",
   "metadata": {},
   "outputs": [
    {
     "name": "stdout",
     "output_type": "stream",
     "text": [
      "2\n"
     ]
    }
   ],
   "source": [
    "print(next(lst))"
   ]
  },
  {
   "cell_type": "code",
   "execution_count": 33,
   "id": "fc2d8725",
   "metadata": {},
   "outputs": [
    {
     "name": "stdout",
     "output_type": "stream",
     "text": [
      "3\n",
      "4\n",
      "5\n",
      "6\n",
      "7\n",
      "8\n",
      "9\n",
      "10\n",
      "11\n",
      "12\n"
     ]
    }
   ],
   "source": [
    "for i in range(10):\n",
    "    print(next(lst))"
   ]
  },
  {
   "cell_type": "markdown",
   "id": "ad04f7ba",
   "metadata": {},
   "source": [
    "# Generator Function"
   ]
  },
  {
   "cell_type": "code",
   "execution_count": 5,
   "id": "f3b964e6",
   "metadata": {},
   "outputs": [],
   "source": [
    "# - It is similar to a simple user defined function.\n",
    "# - In generator function we useyield statement instead of return.\n",
    "# - A generator function always returns a generator object."
   ]
  },
  {
   "cell_type": "code",
   "execution_count": 6,
   "id": "85c66a21",
   "metadata": {},
   "outputs": [],
   "source": [
    "def test():\n",
    "    return 'Hello'"
   ]
  },
  {
   "cell_type": "code",
   "execution_count": 7,
   "id": "1feff14a",
   "metadata": {},
   "outputs": [
    {
     "name": "stdout",
     "output_type": "stream",
     "text": [
      "Hello\n"
     ]
    }
   ],
   "source": [
    "x=test()\n",
    "print(x)"
   ]
  },
  {
   "cell_type": "code",
   "execution_count": 9,
   "id": "da8a559f",
   "metadata": {},
   "outputs": [],
   "source": [
    "def test():\n",
    "    yield 'Hello'"
   ]
  },
  {
   "cell_type": "code",
   "execution_count": 10,
   "id": "6ba54164",
   "metadata": {},
   "outputs": [
    {
     "name": "stdout",
     "output_type": "stream",
     "text": [
      "<generator object test at 0x00000244121B0460>\n"
     ]
    }
   ],
   "source": [
    "x=test()\n",
    "print(x)"
   ]
  },
  {
   "cell_type": "code",
   "execution_count": 12,
   "id": "e2545313",
   "metadata": {},
   "outputs": [
    {
     "name": "stdout",
     "output_type": "stream",
     "text": [
      "Hello\n"
     ]
    }
   ],
   "source": [
    "for i in x:\n",
    "    print(i)"
   ]
  },
  {
   "cell_type": "code",
   "execution_count": 13,
   "id": "5bc8117a",
   "metadata": {},
   "outputs": [],
   "source": [
    "def test():\n",
    "    yield 10\n",
    "    yield True\n",
    "    yield 'Python'\n",
    "    yield 'Thanks'"
   ]
  },
  {
   "cell_type": "code",
   "execution_count": 14,
   "id": "8a761a83",
   "metadata": {},
   "outputs": [
    {
     "name": "stdout",
     "output_type": "stream",
     "text": [
      "<generator object test at 0x00000244121B0250>\n"
     ]
    }
   ],
   "source": [
    "x=test()\n",
    "print(x)"
   ]
  },
  {
   "cell_type": "code",
   "execution_count": 15,
   "id": "db554c59",
   "metadata": {},
   "outputs": [
    {
     "name": "stdout",
     "output_type": "stream",
     "text": [
      "10\n"
     ]
    }
   ],
   "source": [
    "print(next(x))"
   ]
  },
  {
   "cell_type": "code",
   "execution_count": 16,
   "id": "5f5a7d5c",
   "metadata": {},
   "outputs": [
    {
     "name": "stdout",
     "output_type": "stream",
     "text": [
      "True\n"
     ]
    }
   ],
   "source": [
    "print(next(x))"
   ]
  },
  {
   "cell_type": "code",
   "execution_count": 17,
   "id": "185f6352",
   "metadata": {},
   "outputs": [
    {
     "name": "stdout",
     "output_type": "stream",
     "text": [
      "Python\n"
     ]
    }
   ],
   "source": [
    "print(next(x))"
   ]
  },
  {
   "cell_type": "code",
   "execution_count": 18,
   "id": "7bc96bbd",
   "metadata": {},
   "outputs": [
    {
     "name": "stdout",
     "output_type": "stream",
     "text": [
      "Thanks\n"
     ]
    }
   ],
   "source": [
    "print(next(x))"
   ]
  },
  {
   "cell_type": "code",
   "execution_count": 19,
   "id": "cf86f902",
   "metadata": {},
   "outputs": [
    {
     "ename": "StopIteration",
     "evalue": "",
     "output_type": "error",
     "traceback": [
      "\u001b[1;31m---------------------------------------------------------------------------\u001b[0m",
      "\u001b[1;31mStopIteration\u001b[0m                             Traceback (most recent call last)",
      "Cell \u001b[1;32mIn[19], line 1\u001b[0m\n\u001b[1;32m----> 1\u001b[0m \u001b[38;5;28mprint\u001b[39m(\u001b[38;5;28mnext\u001b[39m(x))\n",
      "\u001b[1;31mStopIteration\u001b[0m: "
     ]
    }
   ],
   "source": [
    "print(next(x))"
   ]
  },
  {
   "cell_type": "code",
   "execution_count": 20,
   "id": "099ac25c",
   "metadata": {},
   "outputs": [],
   "source": [
    "def test():\n",
    "    print('Hello')\n",
    "    print(None)\n",
    "    yield 'Python'\n",
    "    yield 'Thanks'"
   ]
  },
  {
   "cell_type": "code",
   "execution_count": 21,
   "id": "58f45ad0",
   "metadata": {},
   "outputs": [
    {
     "name": "stdout",
     "output_type": "stream",
     "text": [
      "<generator object test at 0x000002441211FE80>\n"
     ]
    }
   ],
   "source": [
    "x=test()\n",
    "print(x)"
   ]
  },
  {
   "cell_type": "code",
   "execution_count": 22,
   "id": "b1be8266",
   "metadata": {},
   "outputs": [
    {
     "name": "stdout",
     "output_type": "stream",
     "text": [
      "Hello\n",
      "None\n",
      "Python\n"
     ]
    }
   ],
   "source": [
    "print(next(x))"
   ]
  },
  {
   "cell_type": "code",
   "execution_count": 23,
   "id": "06ecb230",
   "metadata": {},
   "outputs": [
    {
     "name": "stdout",
     "output_type": "stream",
     "text": [
      "Thanks\n"
     ]
    }
   ],
   "source": [
    "print(next(x))"
   ]
  },
  {
   "cell_type": "code",
   "execution_count": 24,
   "id": "038929fd",
   "metadata": {},
   "outputs": [
    {
     "ename": "StopIteration",
     "evalue": "",
     "output_type": "error",
     "traceback": [
      "\u001b[1;31m---------------------------------------------------------------------------\u001b[0m",
      "\u001b[1;31mStopIteration\u001b[0m                             Traceback (most recent call last)",
      "Cell \u001b[1;32mIn[24], line 1\u001b[0m\n\u001b[1;32m----> 1\u001b[0m \u001b[38;5;28mprint\u001b[39m(\u001b[38;5;28mnext\u001b[39m(x))\n",
      "\u001b[1;31mStopIteration\u001b[0m: "
     ]
    }
   ],
   "source": [
    "print(next(x))"
   ]
  },
  {
   "cell_type": "code",
   "execution_count": 25,
   "id": "6a3e72c6",
   "metadata": {},
   "outputs": [],
   "source": [
    "def test():\n",
    "    print('Hello')\n",
    "    yield 'Python'\n",
    "    print('Java')\n",
    "    yield 'Thanks'\n",
    "    print('Good day!')\n",
    "    print('Take care')"
   ]
  },
  {
   "cell_type": "code",
   "execution_count": 26,
   "id": "1b96fcd4",
   "metadata": {},
   "outputs": [
    {
     "name": "stdout",
     "output_type": "stream",
     "text": [
      "<generator object test at 0x000002441211F7C0>\n"
     ]
    }
   ],
   "source": [
    "x=test()\n",
    "print(x)"
   ]
  },
  {
   "cell_type": "code",
   "execution_count": 27,
   "id": "e5b84481",
   "metadata": {},
   "outputs": [
    {
     "name": "stdout",
     "output_type": "stream",
     "text": [
      "Hello\n",
      "Python\n"
     ]
    }
   ],
   "source": [
    "print(next(x))"
   ]
  },
  {
   "cell_type": "code",
   "execution_count": 28,
   "id": "23788e33",
   "metadata": {},
   "outputs": [
    {
     "name": "stdout",
     "output_type": "stream",
     "text": [
      "Java\n",
      "Thanks\n"
     ]
    }
   ],
   "source": [
    "print(next(x))"
   ]
  },
  {
   "cell_type": "code",
   "execution_count": 29,
   "id": "700226a8",
   "metadata": {},
   "outputs": [
    {
     "name": "stdout",
     "output_type": "stream",
     "text": [
      "Good day!\n",
      "Take care\n"
     ]
    },
    {
     "ename": "StopIteration",
     "evalue": "",
     "output_type": "error",
     "traceback": [
      "\u001b[1;31m---------------------------------------------------------------------------\u001b[0m",
      "\u001b[1;31mStopIteration\u001b[0m                             Traceback (most recent call last)",
      "Cell \u001b[1;32mIn[29], line 1\u001b[0m\n\u001b[1;32m----> 1\u001b[0m \u001b[38;5;28mprint\u001b[39m(\u001b[38;5;28mnext\u001b[39m(x))\n",
      "\u001b[1;31mStopIteration\u001b[0m: "
     ]
    }
   ],
   "source": [
    "print(next(x))"
   ]
  },
  {
   "cell_type": "code",
   "execution_count": 30,
   "id": "5d63e63b",
   "metadata": {},
   "outputs": [],
   "source": [
    "def test():\n",
    "    yield 'Python'\n",
    "    return 'Thanks'"
   ]
  },
  {
   "cell_type": "code",
   "execution_count": 31,
   "id": "08e177a7",
   "metadata": {},
   "outputs": [
    {
     "name": "stdout",
     "output_type": "stream",
     "text": [
      "<generator object test at 0x00000244121B1850>\n"
     ]
    }
   ],
   "source": [
    "x=test()\n",
    "print(x)"
   ]
  },
  {
   "cell_type": "code",
   "execution_count": 32,
   "id": "d6b571f6",
   "metadata": {},
   "outputs": [
    {
     "name": "stdout",
     "output_type": "stream",
     "text": [
      "Python\n"
     ]
    }
   ],
   "source": [
    "print(next(x))"
   ]
  },
  {
   "cell_type": "code",
   "execution_count": 33,
   "id": "7d7ed11a",
   "metadata": {},
   "outputs": [
    {
     "ename": "StopIteration",
     "evalue": "Thanks",
     "output_type": "error",
     "traceback": [
      "\u001b[1;31m---------------------------------------------------------------------------\u001b[0m",
      "\u001b[1;31mStopIteration\u001b[0m                             Traceback (most recent call last)",
      "Cell \u001b[1;32mIn[33], line 1\u001b[0m\n\u001b[1;32m----> 1\u001b[0m \u001b[38;5;28mprint\u001b[39m(\u001b[38;5;28mnext\u001b[39m(x))\n",
      "\u001b[1;31mStopIteration\u001b[0m: Thanks"
     ]
    }
   ],
   "source": [
    "print(next(x))"
   ]
  },
  {
   "cell_type": "code",
   "execution_count": 34,
   "id": "27875012",
   "metadata": {},
   "outputs": [],
   "source": [
    "def test():\n",
    "    yield 'Python'\n",
    "    return 'Thanks'\n",
    "    yield 'Good day!'"
   ]
  },
  {
   "cell_type": "code",
   "execution_count": 35,
   "id": "ab4b85b3",
   "metadata": {},
   "outputs": [
    {
     "name": "stdout",
     "output_type": "stream",
     "text": [
      "<generator object test at 0x00000244121B2090>\n"
     ]
    }
   ],
   "source": [
    "x=test()\n",
    "print(x)"
   ]
  },
  {
   "cell_type": "code",
   "execution_count": 36,
   "id": "dafda7ba",
   "metadata": {},
   "outputs": [
    {
     "name": "stdout",
     "output_type": "stream",
     "text": [
      "Python\n"
     ]
    }
   ],
   "source": [
    "print(next(x))"
   ]
  },
  {
   "cell_type": "code",
   "execution_count": 37,
   "id": "f3c3d1a4",
   "metadata": {},
   "outputs": [
    {
     "ename": "StopIteration",
     "evalue": "Thanks",
     "output_type": "error",
     "traceback": [
      "\u001b[1;31m---------------------------------------------------------------------------\u001b[0m",
      "\u001b[1;31mStopIteration\u001b[0m                             Traceback (most recent call last)",
      "Cell \u001b[1;32mIn[37], line 1\u001b[0m\n\u001b[1;32m----> 1\u001b[0m \u001b[38;5;28mprint\u001b[39m(\u001b[38;5;28mnext\u001b[39m(x))\n",
      "\u001b[1;31mStopIteration\u001b[0m: Thanks"
     ]
    }
   ],
   "source": [
    "print(next(x))"
   ]
  },
  {
   "cell_type": "code",
   "execution_count": 38,
   "id": "9656788f",
   "metadata": {},
   "outputs": [],
   "source": [
    "# Craete a generator function that takes 5 values from the user and returns them"
   ]
  },
  {
   "cell_type": "code",
   "execution_count": 39,
   "id": "01aeca41",
   "metadata": {},
   "outputs": [],
   "source": [
    "def test():\n",
    "    yield eval(input('Enter a value'))\n",
    "    yield eval(input('Enter a value'))\n",
    "    yield eval(input('Enter a value'))\n",
    "    yield eval(input('Enter a value'))\n",
    "    yield eval(input('Enter a value'))"
   ]
  },
  {
   "cell_type": "code",
   "execution_count": 42,
   "id": "39e3483d",
   "metadata": {},
   "outputs": [
    {
     "name": "stdout",
     "output_type": "stream",
     "text": [
      "<generator object test at 0x0000024410F842B0>\n"
     ]
    }
   ],
   "source": [
    "x=test()\n",
    "print(x)"
   ]
  },
  {
   "cell_type": "code",
   "execution_count": 43,
   "id": "516acdd7",
   "metadata": {},
   "outputs": [
    {
     "name": "stdout",
     "output_type": "stream",
     "text": [
      "Enter a value10\n",
      "10\n"
     ]
    }
   ],
   "source": [
    "print(next(x))"
   ]
  },
  {
   "cell_type": "code",
   "execution_count": 44,
   "id": "5ac5cf39",
   "metadata": {},
   "outputs": [
    {
     "name": "stdout",
     "output_type": "stream",
     "text": [
      "Enter a value2.5\n",
      "2.5\n",
      "Enter a valueTrue\n",
      "True\n",
      "Enter a value[1,2,3,4,5]\n",
      "[1, 2, 3, 4, 5]\n",
      "Enter a value(1,2,3,4,5)\n",
      "(1, 2, 3, 4, 5)\n"
     ]
    }
   ],
   "source": [
    "for i in x:\n",
    "    print(i)"
   ]
  },
  {
   "cell_type": "code",
   "execution_count": 45,
   "id": "f5bd534e",
   "metadata": {},
   "outputs": [],
   "source": [
    "def test(num):\n",
    "    \n",
    "    for i in range(num):\n",
    "        yield eval(input('Enter a value- '))"
   ]
  },
  {
   "cell_type": "code",
   "execution_count": 46,
   "id": "dd14af0d",
   "metadata": {},
   "outputs": [
    {
     "name": "stdout",
     "output_type": "stream",
     "text": [
      "<generator object test at 0x000002440EC523E0>\n"
     ]
    }
   ],
   "source": [
    "num=5\n",
    "\n",
    "x=test(num)\n",
    "print(x)"
   ]
  },
  {
   "cell_type": "code",
   "execution_count": 47,
   "id": "d346c432",
   "metadata": {},
   "outputs": [
    {
     "name": "stdout",
     "output_type": "stream",
     "text": [
      "Enter a value- 1\n",
      "1\n",
      "Enter a value- 2\n",
      "2\n",
      "Enter a value- 5.5\n",
      "5.5\n",
      "Enter a value- 5+5j\n",
      "(5+5j)\n",
      "Enter a value- \"Python\"\n",
      "Python\n"
     ]
    }
   ],
   "source": [
    "for i in x:\n",
    "    print(i)"
   ]
  },
  {
   "cell_type": "code",
   "execution_count": 48,
   "id": "fd73ee1d",
   "metadata": {},
   "outputs": [],
   "source": [
    "lst=[i for i in range(1000000)]"
   ]
  },
  {
   "cell_type": "code",
   "execution_count": 49,
   "id": "805197e8",
   "metadata": {},
   "outputs": [],
   "source": [
    "x=iter(lst)"
   ]
  },
  {
   "cell_type": "code",
   "execution_count": 50,
   "id": "6e651635",
   "metadata": {},
   "outputs": [
    {
     "data": {
      "text/plain": [
       "48"
      ]
     },
     "execution_count": 50,
     "metadata": {},
     "output_type": "execute_result"
    }
   ],
   "source": [
    "sys.getsizeof(x)"
   ]
  },
  {
   "cell_type": "code",
   "execution_count": 52,
   "id": "ebaf8f72",
   "metadata": {},
   "outputs": [
    {
     "name": "stdout",
     "output_type": "stream",
     "text": [
      "1\n"
     ]
    }
   ],
   "source": [
    "print(next(x))"
   ]
  },
  {
   "cell_type": "markdown",
   "id": "31aa721e",
   "metadata": {},
   "source": [
    "# File Handling"
   ]
  },
  {
   "cell_type": "code",
   "execution_count": 53,
   "id": "cff8ae55",
   "metadata": {},
   "outputs": [],
   "source": [
    "# To perform related operation"
   ]
  },
  {
   "cell_type": "code",
   "execution_count": 54,
   "id": "a34c59b6",
   "metadata": {},
   "outputs": [],
   "source": [
    "# CRUD-\n",
    "# Create\n",
    "# Read\n",
    "# Update\n",
    "# Delete"
   ]
  },
  {
   "cell_type": "code",
   "execution_count": 55,
   "id": "a6e3eb3d",
   "metadata": {},
   "outputs": [],
   "source": [
    "# Text files- .txt, .pdf, .csv etc.\n",
    "# Binary files- .bin, .dat, image, audio, video etc."
   ]
  },
  {
   "cell_type": "code",
   "execution_count": 58,
   "id": "74c1c0ca",
   "metadata": {},
   "outputs": [],
   "source": [
    "# In Python we have to open a file first then only we can perform operations\n",
    "# We have to close a file once the operation is done"
   ]
  },
  {
   "cell_type": "code",
   "execution_count": 57,
   "id": "549d4272",
   "metadata": {},
   "outputs": [],
   "source": [
    "# open('file_nme.extension',mode)"
   ]
  },
  {
   "cell_type": "code",
   "execution_count": 59,
   "id": "8abe8efd",
   "metadata": {},
   "outputs": [],
   "source": [
    "# with open('file_nme.extension',mode) as file_object:\n",
    "#     code\n",
    "#     code"
   ]
  },
  {
   "cell_type": "markdown",
   "id": "84caf132",
   "metadata": {},
   "source": [
    "# Functions to perform operations"
   ]
  },
  {
   "cell_type": "code",
   "execution_count": 60,
   "id": "16fadfdc",
   "metadata": {},
   "outputs": [],
   "source": [
    "# read()\n",
    "# readline()\n",
    "# readlines()\n",
    "# write()\n",
    "# writelines()"
   ]
  },
  {
   "cell_type": "markdown",
   "id": "9c2de8eb",
   "metadata": {},
   "source": [
    "# Modes"
   ]
  },
  {
   "cell_type": "code",
   "execution_count": 61,
   "id": "c8766ee5",
   "metadata": {},
   "outputs": [],
   "source": [
    "# read mode - 'r'\n",
    "# write mode- 'w'\n",
    "# append mode- 'a'\n",
    "# read and write mode- 'r+'\n",
    "# write and read mode- 'w+'\n",
    "# append and read mode- 'a+'"
   ]
  },
  {
   "cell_type": "code",
   "execution_count": 63,
   "id": "0c14d844",
   "metadata": {},
   "outputs": [
    {
     "name": "stdout",
     "output_type": "stream",
     "text": [
      "Hello everyone!\n",
      "You are welcome here!\n"
     ]
    }
   ],
   "source": [
    "with open('intro.txt','r') as f:\n",
    "    print(f.read())"
   ]
  },
  {
   "cell_type": "code",
   "execution_count": 64,
   "id": "8c1eeb50",
   "metadata": {},
   "outputs": [
    {
     "name": "stdout",
     "output_type": "stream",
     "text": [
      " Volume in drive C is OS\n",
      " Volume Serial Number is DC45-AD44\n",
      "\n",
      " Directory of C:\\Users\\ashis\\OneDrive\\Desktop\\Data Science\\Other Classes\\Revision Class\\Revision Class 31st October\n",
      "\n",
      "11/24/2023  09:26 AM    <DIR>          .\n",
      "11/23/2023  08:02 PM    <DIR>          ..\n",
      "11/24/2023  08:34 AM    <DIR>          .ipynb_checkpoints\n",
      "11/06/2023  03:01 PM            24,550 Class_1.ipynb\n",
      "11/14/2023  10:14 AM            35,368 Class_10.ipynb\n",
      "11/16/2023  08:36 AM           100,282 Class_11.ipynb\n",
      "11/17/2023  08:39 AM           329,956 Class_12.ipynb\n",
      "11/17/2023  10:13 AM           196,875 Class_13.ipynb\n",
      "11/20/2023  12:07 PM           224,149 Class_14.ipynb\n",
      "11/21/2023  10:07 AM           519,253 Class_15.ipynb\n",
      "11/22/2023  10:25 AM           804,756 Class_16.ipynb\n",
      "11/23/2023  10:20 AM         1,311,234 Class_17.ipynb\n",
      "11/24/2023  09:26 AM            23,734 Class_18.ipynb\n",
      "11/02/2023  04:25 PM            30,427 Class_2.ipynb\n",
      "11/02/2023  10:10 AM            66,208 Class_3.ipynb\n",
      "11/03/2023  10:14 AM            17,706 Class_4.ipynb\n",
      "11/06/2023  10:08 AM            21,550 Class_5.ipynb\n",
      "11/07/2023  10:01 AM            47,224 Class_6.ipynb\n",
      "11/08/2023  10:18 AM            34,648 Class_7.ipynb\n",
      "11/09/2023  10:17 AM            53,045 Class_8.ipynb\n",
      "11/10/2023  10:09 AM            62,219 Class_9.ipynb\n",
      "11/24/2023  09:26 AM                37 Intro.txt\n",
      "11/21/2023  09:58 AM            42,272 Plot_A.jpeg\n",
      "11/21/2023  09:57 AM            41,126 Plot_A.png\n",
      "              21 File(s)      3,986,619 bytes\n",
      "               3 Dir(s)  172,713,496,576 bytes free\n"
     ]
    }
   ],
   "source": [
    "ls"
   ]
  },
  {
   "cell_type": "code",
   "execution_count": 65,
   "id": "89ad1e2d",
   "metadata": {},
   "outputs": [
    {
     "ename": "FileNotFoundError",
     "evalue": "[Errno 2] No such file or directory: 'abc.txt'",
     "output_type": "error",
     "traceback": [
      "\u001b[1;31m---------------------------------------------------------------------------\u001b[0m",
      "\u001b[1;31mFileNotFoundError\u001b[0m                         Traceback (most recent call last)",
      "Cell \u001b[1;32mIn[65], line 1\u001b[0m\n\u001b[1;32m----> 1\u001b[0m \u001b[38;5;28;01mwith\u001b[39;00m \u001b[38;5;28mopen\u001b[39m(\u001b[38;5;124m'\u001b[39m\u001b[38;5;124mabc.txt\u001b[39m\u001b[38;5;124m'\u001b[39m,\u001b[38;5;124m'\u001b[39m\u001b[38;5;124mr\u001b[39m\u001b[38;5;124m'\u001b[39m) \u001b[38;5;28;01mas\u001b[39;00m f:\n\u001b[0;32m      2\u001b[0m     \u001b[38;5;28mprint\u001b[39m(f\u001b[38;5;241m.\u001b[39mread())\n",
      "File \u001b[1;32m~\\anaconda3\\Lib\\site-packages\\IPython\\core\\interactiveshell.py:284\u001b[0m, in \u001b[0;36m_modified_open\u001b[1;34m(file, *args, **kwargs)\u001b[0m\n\u001b[0;32m    277\u001b[0m \u001b[38;5;28;01mif\u001b[39;00m file \u001b[38;5;129;01min\u001b[39;00m {\u001b[38;5;241m0\u001b[39m, \u001b[38;5;241m1\u001b[39m, \u001b[38;5;241m2\u001b[39m}:\n\u001b[0;32m    278\u001b[0m     \u001b[38;5;28;01mraise\u001b[39;00m \u001b[38;5;167;01mValueError\u001b[39;00m(\n\u001b[0;32m    279\u001b[0m         \u001b[38;5;124mf\u001b[39m\u001b[38;5;124m\"\u001b[39m\u001b[38;5;124mIPython won\u001b[39m\u001b[38;5;124m'\u001b[39m\u001b[38;5;124mt let you open fd=\u001b[39m\u001b[38;5;132;01m{\u001b[39;00mfile\u001b[38;5;132;01m}\u001b[39;00m\u001b[38;5;124m by default \u001b[39m\u001b[38;5;124m\"\u001b[39m\n\u001b[0;32m    280\u001b[0m         \u001b[38;5;124m\"\u001b[39m\u001b[38;5;124mas it is likely to crash IPython. If you know what you are doing, \u001b[39m\u001b[38;5;124m\"\u001b[39m\n\u001b[0;32m    281\u001b[0m         \u001b[38;5;124m\"\u001b[39m\u001b[38;5;124myou can use builtins\u001b[39m\u001b[38;5;124m'\u001b[39m\u001b[38;5;124m open.\u001b[39m\u001b[38;5;124m\"\u001b[39m\n\u001b[0;32m    282\u001b[0m     )\n\u001b[1;32m--> 284\u001b[0m \u001b[38;5;28;01mreturn\u001b[39;00m io_open(file, \u001b[38;5;241m*\u001b[39margs, \u001b[38;5;241m*\u001b[39m\u001b[38;5;241m*\u001b[39mkwargs)\n",
      "\u001b[1;31mFileNotFoundError\u001b[0m: [Errno 2] No such file or directory: 'abc.txt'"
     ]
    }
   ],
   "source": [
    "with open('abc.txt','r') as f:\n",
    "    print(f.read())"
   ]
  },
  {
   "cell_type": "code",
   "execution_count": 66,
   "id": "8f588805",
   "metadata": {},
   "outputs": [],
   "source": [
    "with open('abc.txt','w') as f:\n",
    "    f.write('It is a text file')"
   ]
  },
  {
   "cell_type": "code",
   "execution_count": 67,
   "id": "4b7a0ad7",
   "metadata": {},
   "outputs": [
    {
     "name": "stdout",
     "output_type": "stream",
     "text": [
      " Volume in drive C is OS\n",
      " Volume Serial Number is DC45-AD44\n",
      "\n",
      " Directory of C:\\Users\\ashis\\OneDrive\\Desktop\\Data Science\\Other Classes\\Revision Class\\Revision Class 31st October\n",
      "\n",
      "11/24/2023  09:28 AM    <DIR>          .\n",
      "11/23/2023  08:02 PM    <DIR>          ..\n",
      "11/24/2023  08:34 AM    <DIR>          .ipynb_checkpoints\n",
      "11/24/2023  09:28 AM                17 abc.txt\n",
      "11/06/2023  03:01 PM            24,550 Class_1.ipynb\n",
      "11/14/2023  10:14 AM            35,368 Class_10.ipynb\n",
      "11/16/2023  08:36 AM           100,282 Class_11.ipynb\n",
      "11/17/2023  08:39 AM           329,956 Class_12.ipynb\n",
      "11/17/2023  10:13 AM           196,875 Class_13.ipynb\n",
      "11/20/2023  12:07 PM           224,149 Class_14.ipynb\n",
      "11/21/2023  10:07 AM           519,253 Class_15.ipynb\n",
      "11/22/2023  10:25 AM           804,756 Class_16.ipynb\n",
      "11/23/2023  10:20 AM         1,311,234 Class_17.ipynb\n",
      "11/24/2023  09:28 AM            28,857 Class_18.ipynb\n",
      "11/02/2023  04:25 PM            30,427 Class_2.ipynb\n",
      "11/02/2023  10:10 AM            66,208 Class_3.ipynb\n",
      "11/03/2023  10:14 AM            17,706 Class_4.ipynb\n",
      "11/06/2023  10:08 AM            21,550 Class_5.ipynb\n",
      "11/07/2023  10:01 AM            47,224 Class_6.ipynb\n",
      "11/08/2023  10:18 AM            34,648 Class_7.ipynb\n",
      "11/09/2023  10:17 AM            53,045 Class_8.ipynb\n",
      "11/10/2023  10:09 AM            62,219 Class_9.ipynb\n",
      "11/24/2023  09:26 AM                37 Intro.txt\n",
      "11/21/2023  09:58 AM            42,272 Plot_A.jpeg\n",
      "11/21/2023  09:57 AM            41,126 Plot_A.png\n",
      "              22 File(s)      3,991,759 bytes\n",
      "               3 Dir(s)  172,711,886,848 bytes free\n"
     ]
    }
   ],
   "source": [
    "ls"
   ]
  },
  {
   "cell_type": "code",
   "execution_count": 68,
   "id": "3136d01d",
   "metadata": {},
   "outputs": [],
   "source": [
    "with open('intro.txt','w') as f:\n",
    "    pass"
   ]
  },
  {
   "cell_type": "code",
   "execution_count": 69,
   "id": "04e8c653",
   "metadata": {},
   "outputs": [],
   "source": [
    "with open('intro.txt','w') as f:\n",
    "    f.write(\"Let's write again in the file\" )"
   ]
  },
  {
   "cell_type": "code",
   "execution_count": 71,
   "id": "7663a76b",
   "metadata": {},
   "outputs": [],
   "source": [
    "with open('intro.txt','a') as f:\n",
    "    f.write(\"Now we are in append mode\" )"
   ]
  },
  {
   "cell_type": "code",
   "execution_count": 72,
   "id": "d2bb3215",
   "metadata": {},
   "outputs": [
    {
     "ename": "UnsupportedOperation",
     "evalue": "not readable",
     "output_type": "error",
     "traceback": [
      "\u001b[1;31m---------------------------------------------------------------------------\u001b[0m",
      "\u001b[1;31mUnsupportedOperation\u001b[0m                      Traceback (most recent call last)",
      "Cell \u001b[1;32mIn[72], line 2\u001b[0m\n\u001b[0;32m      1\u001b[0m \u001b[38;5;28;01mwith\u001b[39;00m \u001b[38;5;28mopen\u001b[39m(\u001b[38;5;124m'\u001b[39m\u001b[38;5;124mintro.txt\u001b[39m\u001b[38;5;124m'\u001b[39m,\u001b[38;5;124m'\u001b[39m\u001b[38;5;124ma\u001b[39m\u001b[38;5;124m'\u001b[39m) \u001b[38;5;28;01mas\u001b[39;00m f:\n\u001b[1;32m----> 2\u001b[0m     \u001b[38;5;28mprint\u001b[39m(f\u001b[38;5;241m.\u001b[39mread())\n",
      "\u001b[1;31mUnsupportedOperation\u001b[0m: not readable"
     ]
    }
   ],
   "source": [
    "with open('intro.txt','a') as f:\n",
    "    print(f.read())"
   ]
  },
  {
   "cell_type": "code",
   "execution_count": 73,
   "id": "2dbd205a",
   "metadata": {},
   "outputs": [
    {
     "ename": "UnsupportedOperation",
     "evalue": "not readable",
     "output_type": "error",
     "traceback": [
      "\u001b[1;31m---------------------------------------------------------------------------\u001b[0m",
      "\u001b[1;31mUnsupportedOperation\u001b[0m                      Traceback (most recent call last)",
      "Cell \u001b[1;32mIn[73], line 2\u001b[0m\n\u001b[0;32m      1\u001b[0m \u001b[38;5;28;01mwith\u001b[39;00m \u001b[38;5;28mopen\u001b[39m(\u001b[38;5;124m'\u001b[39m\u001b[38;5;124mintro.txt\u001b[39m\u001b[38;5;124m'\u001b[39m,\u001b[38;5;124m'\u001b[39m\u001b[38;5;124mw\u001b[39m\u001b[38;5;124m'\u001b[39m) \u001b[38;5;28;01mas\u001b[39;00m f:\n\u001b[1;32m----> 2\u001b[0m     \u001b[38;5;28mprint\u001b[39m(f\u001b[38;5;241m.\u001b[39mread())\n",
      "\u001b[1;31mUnsupportedOperation\u001b[0m: not readable"
     ]
    }
   ],
   "source": [
    "with open('intro.txt','w') as f:\n",
    "    print(f.read())"
   ]
  },
  {
   "cell_type": "code",
   "execution_count": 76,
   "id": "a9db8508",
   "metadata": {},
   "outputs": [],
   "source": [
    "# Create a .py file that adds two numbers using file handling"
   ]
  },
  {
   "cell_type": "code",
   "execution_count": 80,
   "id": "3e27a14f",
   "metadata": {},
   "outputs": [],
   "source": [
    "code='''a=int(input('Enter a number- '))\n",
    "b=int(input('Enter a number- '))\n",
    "\n",
    "c=a+b\n",
    "\n",
    "print(c)'''"
   ]
  },
  {
   "cell_type": "code",
   "execution_count": 81,
   "id": "2dde548b",
   "metadata": {},
   "outputs": [
    {
     "name": "stdout",
     "output_type": "stream",
     "text": [
      "a=int(input('Enter a number- '))\n",
      "b=int(input('Enter a number- '))\n",
      "\n",
      "c=a+b\n",
      "\n",
      "print(c)\n"
     ]
    }
   ],
   "source": [
    "with open('add.py','w+') as f:\n",
    "    f.write(code)\n",
    "    f.seek(0)\n",
    "    print(f.read())"
   ]
  },
  {
   "cell_type": "code",
   "execution_count": 82,
   "id": "4bd4125e",
   "metadata": {},
   "outputs": [
    {
     "name": "stdout",
     "output_type": "stream",
     "text": [
      "Enter a number- 4\n",
      "Enter a number- 2\n",
      "6\n"
     ]
    }
   ],
   "source": [
    "%run add.py"
   ]
  },
  {
   "cell_type": "code",
   "execution_count": 83,
   "id": "a1496724",
   "metadata": {},
   "outputs": [],
   "source": [
    "# loop.py that prints Python 10 times"
   ]
  },
  {
   "cell_type": "code",
   "execution_count": 85,
   "id": "78faefb6",
   "metadata": {},
   "outputs": [],
   "source": [
    "code='''for i in range(10):\n",
    "    print('Python')'''"
   ]
  },
  {
   "cell_type": "code",
   "execution_count": 87,
   "id": "7bd5dc28",
   "metadata": {},
   "outputs": [
    {
     "name": "stdout",
     "output_type": "stream",
     "text": [
      "for i in range(10):\n",
      "    print('Python')\n"
     ]
    }
   ],
   "source": [
    "with open('loop.py','w+') as f:\n",
    "    f.write(code)\n",
    "    f.seek(0)\n",
    "    print(f.read())"
   ]
  },
  {
   "cell_type": "code",
   "execution_count": 88,
   "id": "a5b7dad7",
   "metadata": {},
   "outputs": [
    {
     "name": "stdout",
     "output_type": "stream",
     "text": [
      "Python\n",
      "Python\n",
      "Python\n",
      "Python\n",
      "Python\n",
      "Python\n",
      "Python\n",
      "Python\n",
      "Python\n",
      "Python\n"
     ]
    }
   ],
   "source": [
    "%run loop.py"
   ]
  },
  {
   "cell_type": "code",
   "execution_count": 89,
   "id": "d0cb3f83",
   "metadata": {},
   "outputs": [],
   "source": [
    "# convert the loop.py into loop.txt"
   ]
  },
  {
   "cell_type": "code",
   "execution_count": 92,
   "id": "9901f3a9",
   "metadata": {},
   "outputs": [
    {
     "name": "stdout",
     "output_type": "stream",
     "text": [
      "for i in range(10):\n",
      "    print('Python')\n"
     ]
    }
   ],
   "source": [
    "with open('loop.py','r') as f:\n",
    "    x=f.read()\n",
    "    \n",
    "with open('loop.txt','w+') as f:\n",
    "    f.write(x)\n",
    "    f.seek(0)\n",
    "    print(f.read())"
   ]
  },
  {
   "cell_type": "code",
   "execution_count": 93,
   "id": "aab39a04",
   "metadata": {},
   "outputs": [],
   "source": [
    "import os"
   ]
  },
  {
   "cell_type": "code",
   "execution_count": 94,
   "id": "466d4a52",
   "metadata": {},
   "outputs": [],
   "source": [
    "os.remove('loop.py')"
   ]
  },
  {
   "cell_type": "code",
   "execution_count": 95,
   "id": "1d1d885a",
   "metadata": {},
   "outputs": [
    {
     "name": "stdout",
     "output_type": "stream",
     "text": [
      " Volume in drive C is OS\n",
      " Volume Serial Number is DC45-AD44\n",
      "\n",
      " Directory of C:\\Users\\ashis\\OneDrive\\Desktop\\Data Science\\Other Classes\\Revision Class\\Revision Class 31st October\n",
      "\n",
      "11/24/2023  09:40 AM    <DIR>          .\n",
      "11/23/2023  08:02 PM    <DIR>          ..\n",
      "11/24/2023  08:34 AM    <DIR>          .ipynb_checkpoints\n",
      "11/24/2023  09:28 AM                17 abc.txt\n",
      "11/24/2023  09:35 AM                87 add.py\n",
      "11/06/2023  03:01 PM            24,550 Class_1.ipynb\n",
      "11/14/2023  10:14 AM            35,368 Class_10.ipynb\n",
      "11/16/2023  08:36 AM           100,282 Class_11.ipynb\n",
      "11/17/2023  08:39 AM           329,956 Class_12.ipynb\n",
      "11/17/2023  10:13 AM           196,875 Class_13.ipynb\n",
      "11/20/2023  12:07 PM           224,149 Class_14.ipynb\n",
      "11/21/2023  10:07 AM           519,253 Class_15.ipynb\n",
      "11/22/2023  10:25 AM           804,756 Class_16.ipynb\n",
      "11/23/2023  10:20 AM         1,311,234 Class_17.ipynb\n",
      "11/24/2023  09:40 AM            37,153 Class_18.ipynb\n",
      "11/02/2023  04:25 PM            30,427 Class_2.ipynb\n",
      "11/02/2023  10:10 AM            66,208 Class_3.ipynb\n",
      "11/03/2023  10:14 AM            17,706 Class_4.ipynb\n",
      "11/06/2023  10:08 AM            21,550 Class_5.ipynb\n",
      "11/07/2023  10:01 AM            47,224 Class_6.ipynb\n",
      "11/08/2023  10:18 AM            34,648 Class_7.ipynb\n",
      "11/09/2023  10:17 AM            53,045 Class_8.ipynb\n",
      "11/10/2023  10:09 AM            62,219 Class_9.ipynb\n",
      "11/24/2023  09:31 AM                 0 Intro.txt\n",
      "11/24/2023  09:39 AM                40 loop.txt\n",
      "11/21/2023  09:58 AM            42,272 Plot_A.jpeg\n",
      "11/21/2023  09:57 AM            41,126 Plot_A.png\n",
      "              24 File(s)      4,000,145 bytes\n",
      "               3 Dir(s)  172,697,550,848 bytes free\n"
     ]
    }
   ],
   "source": [
    "ls"
   ]
  },
  {
   "cell_type": "code",
   "execution_count": 96,
   "id": "1b433736",
   "metadata": {},
   "outputs": [
    {
     "data": {
      "text/plain": [
       "['C:\\\\Users\\\\ashis\\\\OneDrive\\\\Desktop\\\\Data Science\\\\Other Classes\\\\Revision Class\\\\Revision Class 31st October',\n",
       " 'C:\\\\Users\\\\ashis\\\\anaconda3\\\\python311.zip',\n",
       " 'C:\\\\Users\\\\ashis\\\\anaconda3\\\\DLLs',\n",
       " 'C:\\\\Users\\\\ashis\\\\anaconda3\\\\Lib',\n",
       " 'C:\\\\Users\\\\ashis\\\\anaconda3',\n",
       " '',\n",
       " 'C:\\\\Users\\\\ashis\\\\anaconda3\\\\Lib\\\\site-packages',\n",
       " 'C:\\\\Users\\\\ashis\\\\anaconda3\\\\Lib\\\\site-packages\\\\win32',\n",
       " 'C:\\\\Users\\\\ashis\\\\anaconda3\\\\Lib\\\\site-packages\\\\win32\\\\lib',\n",
       " 'C:\\\\Users\\\\ashis\\\\anaconda3\\\\Lib\\\\site-packages\\\\Pythonwin']"
      ]
     },
     "execution_count": 96,
     "metadata": {},
     "output_type": "execute_result"
    }
   ],
   "source": [
    "sys.path"
   ]
  },
  {
   "cell_type": "code",
   "execution_count": 97,
   "id": "2b280542",
   "metadata": {},
   "outputs": [],
   "source": [
    "# sys.path.append(path)"
   ]
  },
  {
   "cell_type": "markdown",
   "id": "274dc8d9",
   "metadata": {},
   "source": [
    "# Binary Files"
   ]
  },
  {
   "cell_type": "code",
   "execution_count": 98,
   "id": "a5d6fc9e",
   "metadata": {},
   "outputs": [],
   "source": [
    "lst=[1,2,3,4,5]"
   ]
  },
  {
   "cell_type": "code",
   "execution_count": 100,
   "id": "4dd9ab2f",
   "metadata": {},
   "outputs": [],
   "source": [
    "# Any data has to be a bytes or bytes like structure.\n",
    "# Then only we can store it in a binary file."
   ]
  },
  {
   "cell_type": "code",
   "execution_count": 101,
   "id": "78c11621",
   "metadata": {},
   "outputs": [],
   "source": [
    "# bytes()\n",
    "# bytearray()"
   ]
  },
  {
   "cell_type": "markdown",
   "id": "559fc380",
   "metadata": {},
   "source": [
    "# bytes()\n",
    "- It converts the integers from 0 to 256 into bytes.\n",
    "- It returns a bytes object."
   ]
  },
  {
   "cell_type": "code",
   "execution_count": 104,
   "id": "03133bf0",
   "metadata": {},
   "outputs": [
    {
     "name": "stdout",
     "output_type": "stream",
     "text": [
      "b'\\x01\\x02\\x03\\x04\\x05' <class 'bytes'>\n"
     ]
    }
   ],
   "source": [
    "b=bytes(lst)\n",
    "print(b,type(b))"
   ]
  },
  {
   "cell_type": "code",
   "execution_count": 105,
   "id": "006f09a3",
   "metadata": {},
   "outputs": [],
   "source": [
    "with open('lst.dat','wb') as f:\n",
    "    f.write(b)"
   ]
  },
  {
   "cell_type": "code",
   "execution_count": 107,
   "id": "87beb99c",
   "metadata": {},
   "outputs": [],
   "source": [
    "# ls"
   ]
  },
  {
   "cell_type": "code",
   "execution_count": 109,
   "id": "ee9158d4",
   "metadata": {},
   "outputs": [],
   "source": [
    "with open('lst.dat','rb') as f:\n",
    "    x=f.read()"
   ]
  },
  {
   "cell_type": "code",
   "execution_count": 110,
   "id": "45221bf1",
   "metadata": {},
   "outputs": [
    {
     "data": {
      "text/plain": [
       "b'\\x01\\x02\\x03\\x04\\x05'"
      ]
     },
     "execution_count": 110,
     "metadata": {},
     "output_type": "execute_result"
    }
   ],
   "source": [
    "x"
   ]
  },
  {
   "cell_type": "code",
   "execution_count": 111,
   "id": "8ac44ffd",
   "metadata": {},
   "outputs": [
    {
     "data": {
      "text/plain": [
       "[1, 2, 3, 4, 5]"
      ]
     },
     "execution_count": 111,
     "metadata": {},
     "output_type": "execute_result"
    }
   ],
   "source": [
    "list(x)"
   ]
  },
  {
   "cell_type": "code",
   "execution_count": 114,
   "id": "17a2f6e8",
   "metadata": {},
   "outputs": [],
   "source": [
    "# bytes('Python')"
   ]
  },
  {
   "cell_type": "code",
   "execution_count": 115,
   "id": "faf8ded7",
   "metadata": {},
   "outputs": [],
   "source": [
    "d={'Name':'Shreya','Age':24}"
   ]
  },
  {
   "cell_type": "markdown",
   "id": "0c555da1",
   "metadata": {},
   "source": [
    "# Pickling and Unpickling"
   ]
  },
  {
   "cell_type": "code",
   "execution_count": 116,
   "id": "f9a68e30",
   "metadata": {},
   "outputs": [],
   "source": [
    "# Pickling- Serialization"
   ]
  },
  {
   "cell_type": "code",
   "execution_count": 117,
   "id": "7023dfcc",
   "metadata": {},
   "outputs": [],
   "source": [
    "# - We convert any kind of data into bytes format and store it in a binary file"
   ]
  },
  {
   "cell_type": "code",
   "execution_count": 118,
   "id": "36e7cf30",
   "metadata": {},
   "outputs": [],
   "source": [
    "# Unpickling- Deserialization"
   ]
  },
  {
   "cell_type": "code",
   "execution_count": 119,
   "id": "7c27ebca",
   "metadata": {},
   "outputs": [],
   "source": [
    "# - We convert the bytes data into its actual format"
   ]
  },
  {
   "cell_type": "markdown",
   "id": "3c9779ea",
   "metadata": {},
   "source": [
    "# How to perform pickling and unpickling"
   ]
  },
  {
   "cell_type": "code",
   "execution_count": 120,
   "id": "4fa3de8d",
   "metadata": {},
   "outputs": [],
   "source": [
    "# - We use pickle module for pickling and unpickling"
   ]
  },
  {
   "cell_type": "code",
   "execution_count": 121,
   "id": "cc6ff74e",
   "metadata": {},
   "outputs": [],
   "source": [
    "import pickle"
   ]
  },
  {
   "cell_type": "code",
   "execution_count": 122,
   "id": "2ad580ba",
   "metadata": {},
   "outputs": [],
   "source": [
    "# pickle.dump() - Pickling"
   ]
  },
  {
   "cell_type": "code",
   "execution_count": 123,
   "id": "2e7611a5",
   "metadata": {},
   "outputs": [],
   "source": [
    "# pickle.load() - Unpickling"
   ]
  },
  {
   "cell_type": "code",
   "execution_count": 124,
   "id": "7fce40b1",
   "metadata": {},
   "outputs": [],
   "source": [
    "d={'Name':'Shreya','Age':24}"
   ]
  },
  {
   "cell_type": "code",
   "execution_count": 127,
   "id": "8ee3da78",
   "metadata": {},
   "outputs": [],
   "source": [
    "# bytes(d)"
   ]
  },
  {
   "cell_type": "code",
   "execution_count": 128,
   "id": "b6bf70e0",
   "metadata": {},
   "outputs": [],
   "source": [
    "# pickle.dump(data,file_object)"
   ]
  },
  {
   "cell_type": "code",
   "execution_count": 129,
   "id": "90092697",
   "metadata": {},
   "outputs": [],
   "source": [
    "with open('record.dat','wb') as f:\n",
    "    pickle.dump(d,f)"
   ]
  },
  {
   "cell_type": "code",
   "execution_count": 130,
   "id": "4f3407ad",
   "metadata": {},
   "outputs": [
    {
     "name": "stdout",
     "output_type": "stream",
     "text": [
      " Volume in drive C is OS\n",
      " Volume Serial Number is DC45-AD44\n",
      "\n",
      " Directory of C:\\Users\\ashis\\OneDrive\\Desktop\\Data Science\\Other Classes\\Revision Class\\Revision Class 31st October\n",
      "\n",
      "11/24/2023  09:54 AM    <DIR>          .\n",
      "11/23/2023  08:02 PM    <DIR>          ..\n",
      "11/24/2023  08:34 AM    <DIR>          .ipynb_checkpoints\n",
      "11/24/2023  09:28 AM                17 abc.txt\n",
      "11/24/2023  09:35 AM                87 add.py\n",
      "11/06/2023  03:01 PM            24,550 Class_1.ipynb\n",
      "11/14/2023  10:14 AM            35,368 Class_10.ipynb\n",
      "11/16/2023  08:36 AM           100,282 Class_11.ipynb\n",
      "11/17/2023  08:39 AM           329,956 Class_12.ipynb\n",
      "11/17/2023  10:13 AM           196,875 Class_13.ipynb\n",
      "11/20/2023  12:07 PM           224,149 Class_14.ipynb\n",
      "11/21/2023  10:07 AM           519,253 Class_15.ipynb\n",
      "11/22/2023  10:25 AM           804,756 Class_16.ipynb\n",
      "11/23/2023  10:20 AM         1,311,234 Class_17.ipynb\n",
      "11/24/2023  09:54 AM            45,498 Class_18.ipynb\n",
      "11/02/2023  04:25 PM            30,427 Class_2.ipynb\n",
      "11/02/2023  10:10 AM            66,208 Class_3.ipynb\n",
      "11/03/2023  10:14 AM            17,706 Class_4.ipynb\n",
      "11/06/2023  10:08 AM            21,550 Class_5.ipynb\n",
      "11/07/2023  10:01 AM            47,224 Class_6.ipynb\n",
      "11/08/2023  10:18 AM            34,648 Class_7.ipynb\n",
      "11/09/2023  10:17 AM            53,045 Class_8.ipynb\n",
      "11/10/2023  10:09 AM            62,219 Class_9.ipynb\n",
      "11/24/2023  09:31 AM                 0 Intro.txt\n",
      "11/24/2023  09:39 AM                40 loop.txt\n",
      "11/24/2023  09:47 AM                 5 lst.dat\n",
      "11/21/2023  09:58 AM            42,272 Plot_A.jpeg\n",
      "11/21/2023  09:57 AM            41,126 Plot_A.png\n",
      "11/24/2023  09:55 AM                40 record.dat\n",
      "              26 File(s)      4,008,535 bytes\n",
      "               3 Dir(s)  172,695,789,568 bytes free\n"
     ]
    }
   ],
   "source": [
    "ls"
   ]
  },
  {
   "cell_type": "code",
   "execution_count": 132,
   "id": "896ae2d0",
   "metadata": {},
   "outputs": [],
   "source": [
    "with open('record.dat','rb') as f:\n",
    "    x=f.read()"
   ]
  },
  {
   "cell_type": "code",
   "execution_count": 133,
   "id": "ca20e64e",
   "metadata": {},
   "outputs": [
    {
     "name": "stdout",
     "output_type": "stream",
     "text": [
      "b'\\x80\\x04\\x95\\x1d\\x00\\x00\\x00\\x00\\x00\\x00\\x00}\\x94(\\x8c\\x04Name\\x94\\x8c\\x06Shreya\\x94\\x8c\\x03Age\\x94K\\x18u.' <class 'bytes'>\n"
     ]
    }
   ],
   "source": [
    "print(x,type(x))"
   ]
  },
  {
   "cell_type": "code",
   "execution_count": 135,
   "id": "977785ca",
   "metadata": {},
   "outputs": [],
   "source": [
    "# dict(x)"
   ]
  },
  {
   "cell_type": "code",
   "execution_count": 136,
   "id": "d01b4801",
   "metadata": {},
   "outputs": [],
   "source": [
    "# pickle.load(file_object)"
   ]
  },
  {
   "cell_type": "code",
   "execution_count": 137,
   "id": "33def5bc",
   "metadata": {},
   "outputs": [
    {
     "name": "stdout",
     "output_type": "stream",
     "text": [
      "{'Name': 'Shreya', 'Age': 24}\n"
     ]
    }
   ],
   "source": [
    "with open('record.dat','rb') as f:\n",
    "    print(pickle.load(f))"
   ]
  },
  {
   "cell_type": "code",
   "execution_count": 138,
   "id": "8ce26b8e",
   "metadata": {},
   "outputs": [],
   "source": [
    "m='model()'"
   ]
  },
  {
   "cell_type": "code",
   "execution_count": 140,
   "id": "5cf6e2f5",
   "metadata": {},
   "outputs": [],
   "source": [
    "with open('model.pkl','wb+') as f:\n",
    "    pickle.dump(m,f)"
   ]
  },
  {
   "cell_type": "code",
   "execution_count": 141,
   "id": "491e65ad",
   "metadata": {},
   "outputs": [],
   "source": [
    "with open('model.pkl','rb') as f:\n",
    "    model=pickle.load(f)"
   ]
  },
  {
   "cell_type": "code",
   "execution_count": 142,
   "id": "b7779029",
   "metadata": {},
   "outputs": [
    {
     "name": "stdout",
     "output_type": "stream",
     "text": [
      "model()\n"
     ]
    }
   ],
   "source": [
    "print(model)"
   ]
  },
  {
   "cell_type": "code",
   "execution_count": null,
   "id": "cb90ead2",
   "metadata": {},
   "outputs": [],
   "source": []
  }
 ],
 "metadata": {
  "kernelspec": {
   "display_name": "Python 3 (ipykernel)",
   "language": "python",
   "name": "python3"
  },
  "language_info": {
   "codemirror_mode": {
    "name": "ipython",
    "version": 3
   },
   "file_extension": ".py",
   "mimetype": "text/x-python",
   "name": "python",
   "nbconvert_exporter": "python",
   "pygments_lexer": "ipython3",
   "version": "3.11.4"
  }
 },
 "nbformat": 4,
 "nbformat_minor": 5
}
