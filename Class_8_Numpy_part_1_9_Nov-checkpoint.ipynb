{
 "cells": [
  {
   "cell_type": "code",
   "execution_count": 1,
   "id": "c5644611",
   "metadata": {},
   "outputs": [],
   "source": [
    "# Numpy\n",
    "# Pandas\n",
    "# Matplotlib\n",
    "# Seaborn"
   ]
  },
  {
   "cell_type": "markdown",
   "id": "88a380e9",
   "metadata": {},
   "source": [
    "# Numpy"
   ]
  },
  {
   "cell_type": "code",
   "execution_count": 2,
   "id": "fa4722c8",
   "metadata": {},
   "outputs": [],
   "source": [
    "# Array\n",
    "# 1-D, 2-D and 3-D arrays\n",
    "# Indexing and Slicing of 1-d, 2-D and 3-D arrays\n",
    "# Array of Random values\n",
    "# Functions on arrays\n",
    "# Missing values in arrays\n",
    "# Loop on arrays\n",
    "# Condition on arrays\n",
    "# Array broadcasting"
   ]
  },
  {
   "cell_type": "code",
   "execution_count": 4,
   "id": "a1fc4a0f",
   "metadata": {},
   "outputs": [],
   "source": [
    "# - NumPy stands for Numerical Python.\n",
    "# - Numpy is used to perform advanced numerical computations on large datasets.\n",
    "# - Numpy provides a very important datastructure known as array\n",
    "# - We have to import numpy before using it"
   ]
  },
  {
   "cell_type": "code",
   "execution_count": 5,
   "id": "2b4b1fc2",
   "metadata": {},
   "outputs": [],
   "source": [
    "import numpy as np"
   ]
  },
  {
   "cell_type": "markdown",
   "id": "2bef6176",
   "metadata": {},
   "source": [
    "# How to create an array"
   ]
  },
  {
   "cell_type": "code",
   "execution_count": 6,
   "id": "4d3b758f",
   "metadata": {},
   "outputs": [],
   "source": [
    "# np.array(value/list/tuple....etc.)"
   ]
  },
  {
   "cell_type": "code",
   "execution_count": 8,
   "id": "a60bf2a2",
   "metadata": {},
   "outputs": [
    {
     "name": "stdout",
     "output_type": "stream",
     "text": [
      "5 <class 'numpy.ndarray'>\n"
     ]
    }
   ],
   "source": [
    "arr=np.array(5)\n",
    "print(arr,type(arr))"
   ]
  },
  {
   "cell_type": "code",
   "execution_count": 10,
   "id": "dbd0d18a",
   "metadata": {},
   "outputs": [
    {
     "name": "stdout",
     "output_type": "stream",
     "text": [
      "[10 20 30 40 50] <class 'numpy.ndarray'>\n"
     ]
    }
   ],
   "source": [
    "arr=np.array([10,20,30,40,50])\n",
    "print(arr,type(arr))"
   ]
  },
  {
   "cell_type": "code",
   "execution_count": 11,
   "id": "38709c4f",
   "metadata": {},
   "outputs": [
    {
     "name": "stdout",
     "output_type": "stream",
     "text": [
      "[10 20 30 40 50] <class 'numpy.ndarray'>\n"
     ]
    }
   ],
   "source": [
    "arr=np.array((10,20,30,40,50))\n",
    "print(arr,type(arr))"
   ]
  },
  {
   "cell_type": "code",
   "execution_count": 12,
   "id": "15c31b77",
   "metadata": {},
   "outputs": [
    {
     "data": {
      "text/plain": [
       "array([10, 20, 30, 40, 50])"
      ]
     },
     "execution_count": 12,
     "metadata": {},
     "output_type": "execute_result"
    }
   ],
   "source": [
    "arr"
   ]
  },
  {
   "cell_type": "code",
   "execution_count": 13,
   "id": "b493928d",
   "metadata": {},
   "outputs": [
    {
     "name": "stdout",
     "output_type": "stream",
     "text": [
      "[10 20 30 40 50]\n"
     ]
    }
   ],
   "source": [
    "print(arr)"
   ]
  },
  {
   "cell_type": "markdown",
   "id": "c3c0279c",
   "metadata": {},
   "source": [
    "# Reshaping of an array"
   ]
  },
  {
   "cell_type": "code",
   "execution_count": 15,
   "id": "e0669819",
   "metadata": {},
   "outputs": [],
   "source": [
    "# reshape()\n",
    "# shape"
   ]
  },
  {
   "cell_type": "markdown",
   "id": "67a3313b",
   "metadata": {},
   "source": [
    "# reshape()"
   ]
  },
  {
   "cell_type": "code",
   "execution_count": 16,
   "id": "979a7a32",
   "metadata": {},
   "outputs": [],
   "source": [
    "# - It takes the dimension as arguments and returns a new array of the given shape.\n",
    "# - It does not make the changes in  the existing array"
   ]
  },
  {
   "cell_type": "code",
   "execution_count": 18,
   "id": "f426f69e",
   "metadata": {},
   "outputs": [
    {
     "data": {
      "text/plain": [
       "array([1, 2, 3, 4, 5, 6, 7, 8, 9])"
      ]
     },
     "execution_count": 18,
     "metadata": {},
     "output_type": "execute_result"
    }
   ],
   "source": [
    "arr=np.array([1,2,3,4,5,6,7,8,9])\n",
    "arr"
   ]
  },
  {
   "cell_type": "code",
   "execution_count": 19,
   "id": "73b44ee2",
   "metadata": {},
   "outputs": [
    {
     "data": {
      "text/plain": [
       "array([[1, 2, 3],\n",
       "       [4, 5, 6],\n",
       "       [7, 8, 9]])"
      ]
     },
     "execution_count": 19,
     "metadata": {},
     "output_type": "execute_result"
    }
   ],
   "source": [
    "arr.reshape(3,3)"
   ]
  },
  {
   "cell_type": "code",
   "execution_count": 20,
   "id": "5decd3e7",
   "metadata": {},
   "outputs": [
    {
     "data": {
      "text/plain": [
       "array([1, 2, 3, 4, 5, 6, 7, 8, 9])"
      ]
     },
     "execution_count": 20,
     "metadata": {},
     "output_type": "execute_result"
    }
   ],
   "source": [
    "arr"
   ]
  },
  {
   "cell_type": "markdown",
   "id": "96152b78",
   "metadata": {},
   "source": [
    "# shape"
   ]
  },
  {
   "cell_type": "code",
   "execution_count": 21,
   "id": "d1a7a204",
   "metadata": {},
   "outputs": [],
   "source": [
    "# - It takes a tuple of the dimension.\n",
    "# - It makes the changes in the existing array."
   ]
  },
  {
   "cell_type": "code",
   "execution_count": 22,
   "id": "cce63056",
   "metadata": {},
   "outputs": [],
   "source": [
    "# arr.shape=(row,column)"
   ]
  },
  {
   "cell_type": "code",
   "execution_count": 23,
   "id": "838c173c",
   "metadata": {},
   "outputs": [
    {
     "data": {
      "text/plain": [
       "array([1, 2, 3, 4, 5, 6, 7, 8, 9])"
      ]
     },
     "execution_count": 23,
     "metadata": {},
     "output_type": "execute_result"
    }
   ],
   "source": [
    "arr"
   ]
  },
  {
   "cell_type": "code",
   "execution_count": 24,
   "id": "c04226a5",
   "metadata": {},
   "outputs": [],
   "source": [
    "arr.shape=(3,3)"
   ]
  },
  {
   "cell_type": "code",
   "execution_count": 25,
   "id": "84e32b55",
   "metadata": {},
   "outputs": [
    {
     "data": {
      "text/plain": [
       "array([[1, 2, 3],\n",
       "       [4, 5, 6],\n",
       "       [7, 8, 9]])"
      ]
     },
     "execution_count": 25,
     "metadata": {},
     "output_type": "execute_result"
    }
   ],
   "source": [
    "arr"
   ]
  },
  {
   "cell_type": "code",
   "execution_count": 26,
   "id": "9e504da5",
   "metadata": {},
   "outputs": [
    {
     "data": {
      "text/plain": [
       "array([[1, 2, 3],\n",
       "       [4, 5, 6],\n",
       "       [7, 8, 9]])"
      ]
     },
     "execution_count": 26,
     "metadata": {},
     "output_type": "execute_result"
    }
   ],
   "source": [
    "arr"
   ]
  },
  {
   "cell_type": "code",
   "execution_count": 31,
   "id": "5509f44d",
   "metadata": {},
   "outputs": [
    {
     "data": {
      "text/plain": [
       "array([[ 0,  1,  2,  3],\n",
       "       [ 4,  5,  6,  7],\n",
       "       [ 8,  9, 10, 11]])"
      ]
     },
     "execution_count": 31,
     "metadata": {},
     "output_type": "execute_result"
    }
   ],
   "source": [
    "# Create a 3*4 array of numbers\n",
    "\n",
    "arr=np.array([i for i in range(12)]).reshape(3,4)\n",
    "arr"
   ]
  },
  {
   "cell_type": "markdown",
   "id": "ef9a0d2a",
   "metadata": {},
   "source": [
    "# Attributes on the arrays"
   ]
  },
  {
   "cell_type": "code",
   "execution_count": 34,
   "id": "d1d96557",
   "metadata": {},
   "outputs": [],
   "source": [
    "# shape\n",
    "# size\n",
    "# dtype\n",
    "# ndim"
   ]
  },
  {
   "cell_type": "markdown",
   "id": "6c9aea79",
   "metadata": {},
   "source": [
    "### shape\n",
    "- It returns a tuple of elements.\n",
    "- A tuple of single element represents the number of elements.\n",
    "- A tuple of two elements represents the number of rows and columns."
   ]
  },
  {
   "cell_type": "code",
   "execution_count": 36,
   "id": "b577da36",
   "metadata": {},
   "outputs": [
    {
     "data": {
      "text/plain": [
       "array([1, 2, 3, 4, 5, 6])"
      ]
     },
     "execution_count": 36,
     "metadata": {},
     "output_type": "execute_result"
    }
   ],
   "source": [
    "arr=np.array([1,2,3,4,5,6])\n",
    "arr"
   ]
  },
  {
   "cell_type": "code",
   "execution_count": 37,
   "id": "a4f46dff",
   "metadata": {},
   "outputs": [
    {
     "data": {
      "text/plain": [
       "(6,)"
      ]
     },
     "execution_count": 37,
     "metadata": {},
     "output_type": "execute_result"
    }
   ],
   "source": [
    "arr.shape"
   ]
  },
  {
   "cell_type": "code",
   "execution_count": 38,
   "id": "00fbe9a2",
   "metadata": {},
   "outputs": [
    {
     "data": {
      "text/plain": [
       "array([5, 6])"
      ]
     },
     "execution_count": 38,
     "metadata": {},
     "output_type": "execute_result"
    }
   ],
   "source": [
    "arr = np.array((5,6))\n",
    "arr"
   ]
  },
  {
   "cell_type": "code",
   "execution_count": 39,
   "id": "23ec2c89",
   "metadata": {},
   "outputs": [
    {
     "data": {
      "text/plain": [
       "(2,)"
      ]
     },
     "execution_count": 39,
     "metadata": {},
     "output_type": "execute_result"
    }
   ],
   "source": [
    "arr.shape"
   ]
  },
  {
   "cell_type": "code",
   "execution_count": 41,
   "id": "7cb59f3b",
   "metadata": {},
   "outputs": [
    {
     "data": {
      "text/plain": [
       "array([[1, 2, 3],\n",
       "       [4, 5, 6],\n",
       "       [7, 8, 9]])"
      ]
     },
     "execution_count": 41,
     "metadata": {},
     "output_type": "execute_result"
    }
   ],
   "source": [
    "arr=np.arange(1,10).reshape(3,3)\n",
    "arr"
   ]
  },
  {
   "cell_type": "code",
   "execution_count": 42,
   "id": "77c9c5a0",
   "metadata": {},
   "outputs": [
    {
     "data": {
      "text/plain": [
       "(3, 3)"
      ]
     },
     "execution_count": 42,
     "metadata": {},
     "output_type": "execute_result"
    }
   ],
   "source": [
    "arr.shape"
   ]
  },
  {
   "cell_type": "markdown",
   "id": "309b5d29",
   "metadata": {},
   "source": [
    "### dtype\n",
    "- It returns the datatype of the elements the array contains"
   ]
  },
  {
   "cell_type": "code",
   "execution_count": 43,
   "id": "45b83c90",
   "metadata": {},
   "outputs": [
    {
     "data": {
      "text/plain": [
       "dtype('int32')"
      ]
     },
     "execution_count": 43,
     "metadata": {},
     "output_type": "execute_result"
    }
   ],
   "source": [
    "arr.dtype"
   ]
  },
  {
   "cell_type": "markdown",
   "id": "3e7e7a69",
   "metadata": {},
   "source": [
    "### ndim\n",
    "- It returns the dimension of the array"
   ]
  },
  {
   "cell_type": "code",
   "execution_count": 44,
   "id": "8fc4761b",
   "metadata": {},
   "outputs": [
    {
     "data": {
      "text/plain": [
       "array(5)"
      ]
     },
     "execution_count": 44,
     "metadata": {},
     "output_type": "execute_result"
    }
   ],
   "source": [
    "arr=np.array(5)\n",
    "arr"
   ]
  },
  {
   "cell_type": "code",
   "execution_count": 45,
   "id": "64d135b9",
   "metadata": {},
   "outputs": [
    {
     "data": {
      "text/plain": [
       "0"
      ]
     },
     "execution_count": 45,
     "metadata": {},
     "output_type": "execute_result"
    }
   ],
   "source": [
    "arr.ndim"
   ]
  },
  {
   "cell_type": "code",
   "execution_count": 46,
   "id": "c000439e",
   "metadata": {},
   "outputs": [
    {
     "data": {
      "text/plain": [
       "array([1, 2, 3, 4])"
      ]
     },
     "execution_count": 46,
     "metadata": {},
     "output_type": "execute_result"
    }
   ],
   "source": [
    "arr=np.array([1,2,3,4])\n",
    "arr"
   ]
  },
  {
   "cell_type": "code",
   "execution_count": 47,
   "id": "112dc0a5",
   "metadata": {},
   "outputs": [
    {
     "data": {
      "text/plain": [
       "1"
      ]
     },
     "execution_count": 47,
     "metadata": {},
     "output_type": "execute_result"
    }
   ],
   "source": [
    "arr.ndim"
   ]
  },
  {
   "cell_type": "code",
   "execution_count": 48,
   "id": "bd9429e1",
   "metadata": {},
   "outputs": [
    {
     "data": {
      "text/plain": [
       "array([[1, 2, 3],\n",
       "       [4, 5, 6],\n",
       "       [7, 8, 9]])"
      ]
     },
     "execution_count": 48,
     "metadata": {},
     "output_type": "execute_result"
    }
   ],
   "source": [
    "arr=np.array([1,2,3,4,5,6,7,8,9]).reshape(3,3)\n",
    "arr"
   ]
  },
  {
   "cell_type": "code",
   "execution_count": 49,
   "id": "a7b3df69",
   "metadata": {},
   "outputs": [
    {
     "data": {
      "text/plain": [
       "2"
      ]
     },
     "execution_count": 49,
     "metadata": {},
     "output_type": "execute_result"
    }
   ],
   "source": [
    "arr.ndim"
   ]
  },
  {
   "cell_type": "code",
   "execution_count": 50,
   "id": "fbf9acfe",
   "metadata": {},
   "outputs": [],
   "source": [
    "# An array is the collection of the homogenous elements."
   ]
  },
  {
   "cell_type": "code",
   "execution_count": 52,
   "id": "d0ab7128",
   "metadata": {},
   "outputs": [
    {
     "data": {
      "text/plain": [
       "array([1, 2, 3, 4, 5])"
      ]
     },
     "execution_count": 52,
     "metadata": {},
     "output_type": "execute_result"
    }
   ],
   "source": [
    "arr=np.array([1,2,3,4,5])\n",
    "arr"
   ]
  },
  {
   "cell_type": "code",
   "execution_count": 53,
   "id": "e7f8243a",
   "metadata": {},
   "outputs": [
    {
     "data": {
      "text/plain": [
       "dtype('int32')"
      ]
     },
     "execution_count": 53,
     "metadata": {},
     "output_type": "execute_result"
    }
   ],
   "source": [
    "arr.dtype"
   ]
  },
  {
   "cell_type": "markdown",
   "id": "de59d156",
   "metadata": {},
   "source": [
    "# Array upcasting"
   ]
  },
  {
   "cell_type": "code",
   "execution_count": 64,
   "id": "33df70e6",
   "metadata": {},
   "outputs": [],
   "source": [
    "# int -> float -> complex -> str -> object"
   ]
  },
  {
   "cell_type": "code",
   "execution_count": 54,
   "id": "a3788a0d",
   "metadata": {},
   "outputs": [
    {
     "data": {
      "text/plain": [
       "array([1. , 2.4, 3. , 4. , 5. ])"
      ]
     },
     "execution_count": 54,
     "metadata": {},
     "output_type": "execute_result"
    }
   ],
   "source": [
    "arr=np.array([1,2.4,3,4,5])\n",
    "arr"
   ]
  },
  {
   "cell_type": "code",
   "execution_count": 55,
   "id": "99ef9de4",
   "metadata": {},
   "outputs": [
    {
     "data": {
      "text/plain": [
       "dtype('float64')"
      ]
     },
     "execution_count": 55,
     "metadata": {},
     "output_type": "execute_result"
    }
   ],
   "source": [
    "arr.dtype"
   ]
  },
  {
   "cell_type": "code",
   "execution_count": 56,
   "id": "3a0591f3",
   "metadata": {},
   "outputs": [
    {
     "data": {
      "text/plain": [
       "array([1.+0.j, 2.+0.j, 3.+2.j, 4.+0.j, 5.+0.j])"
      ]
     },
     "execution_count": 56,
     "metadata": {},
     "output_type": "execute_result"
    }
   ],
   "source": [
    "arr=np.array([1,2,3+2j,4,5])\n",
    "arr"
   ]
  },
  {
   "cell_type": "code",
   "execution_count": 57,
   "id": "a86348f0",
   "metadata": {},
   "outputs": [
    {
     "data": {
      "text/plain": [
       "dtype('complex128')"
      ]
     },
     "execution_count": 57,
     "metadata": {},
     "output_type": "execute_result"
    }
   ],
   "source": [
    "arr.dtype"
   ]
  },
  {
   "cell_type": "code",
   "execution_count": 58,
   "id": "9b1a377c",
   "metadata": {},
   "outputs": [
    {
     "data": {
      "text/plain": [
       "array([1. +0.j, 2. +0.j, 3. +2.j, 4.2+0.j, 5. +0.j])"
      ]
     },
     "execution_count": 58,
     "metadata": {},
     "output_type": "execute_result"
    }
   ],
   "source": [
    "arr=np.array([1,2,3+2j,4.2,5])\n",
    "arr"
   ]
  },
  {
   "cell_type": "code",
   "execution_count": 59,
   "id": "ff040a91",
   "metadata": {},
   "outputs": [
    {
     "data": {
      "text/plain": [
       "dtype('complex128')"
      ]
     },
     "execution_count": 59,
     "metadata": {},
     "output_type": "execute_result"
    }
   ],
   "source": [
    "arr.dtype"
   ]
  },
  {
   "cell_type": "code",
   "execution_count": 60,
   "id": "885112b2",
   "metadata": {},
   "outputs": [
    {
     "data": {
      "text/plain": [
       "array(['1', '2', '3', '4', '5'], dtype='<U11')"
      ]
     },
     "execution_count": 60,
     "metadata": {},
     "output_type": "execute_result"
    }
   ],
   "source": [
    "arr=np.array([1,2,'3',4,5])\n",
    "arr"
   ]
  },
  {
   "cell_type": "code",
   "execution_count": 61,
   "id": "e167f5ec",
   "metadata": {},
   "outputs": [
    {
     "name": "stdout",
     "output_type": "stream",
     "text": [
      "<class 'str'>\n"
     ]
    }
   ],
   "source": [
    "a='Python'\n",
    "print(type(a))"
   ]
  },
  {
   "cell_type": "code",
   "execution_count": 62,
   "id": "0d7cd7e8",
   "metadata": {},
   "outputs": [
    {
     "data": {
      "text/plain": [
       "array(['1', '2', '3.2', '4', '5'], dtype='<U32')"
      ]
     },
     "execution_count": 62,
     "metadata": {},
     "output_type": "execute_result"
    }
   ],
   "source": [
    "arr=np.array([1,2,3.2,'4',5])\n",
    "arr"
   ]
  },
  {
   "cell_type": "code",
   "execution_count": 63,
   "id": "f63f5281",
   "metadata": {},
   "outputs": [
    {
     "data": {
      "text/plain": [
       "array(['1', '2.2', '(3+2j)', '4', '5'], dtype='<U64')"
      ]
     },
     "execution_count": 63,
     "metadata": {},
     "output_type": "execute_result"
    }
   ],
   "source": [
    "arr=np.array([1,2.2,3+2j,'4',5])\n",
    "arr"
   ]
  },
  {
   "cell_type": "code",
   "execution_count": 66,
   "id": "4518e74a",
   "metadata": {},
   "outputs": [
    {
     "data": {
      "text/plain": [
       "array([1, list([2, 3]), 4, 5], dtype=object)"
      ]
     },
     "execution_count": 66,
     "metadata": {},
     "output_type": "execute_result"
    }
   ],
   "source": [
    "arr=np.array([1,[2,3],4,5],dtype=object)\n",
    "arr"
   ]
  },
  {
   "cell_type": "markdown",
   "id": "e1af89f3",
   "metadata": {},
   "source": [
    "# Creating different kind of arrays"
   ]
  },
  {
   "cell_type": "code",
   "execution_count": 67,
   "id": "572917cf",
   "metadata": {},
   "outputs": [],
   "source": [
    "# # np.arange()\n",
    "# np.eye()\n",
    "# np.full()\n",
    "# np.zeros()\n",
    "# np.ones()\n",
    "# np.ones_like()\n",
    "# np.zeros_like()\n",
    "# np.full_like()\n",
    "# np.diag()\n",
    "# np.diagonal()"
   ]
  },
  {
   "cell_type": "markdown",
   "id": "83b72443",
   "metadata": {},
   "source": [
    "# np.arange()"
   ]
  },
  {
   "cell_type": "code",
   "execution_count": 68,
   "id": "c9988e0c",
   "metadata": {},
   "outputs": [],
   "source": [
    "# np.arange(start,stop,step)"
   ]
  },
  {
   "cell_type": "code",
   "execution_count": 70,
   "id": "64239a4d",
   "metadata": {},
   "outputs": [
    {
     "data": {
      "text/plain": [
       "array([ 1,  2,  3,  4,  5,  6,  7,  8,  9, 10])"
      ]
     },
     "execution_count": 70,
     "metadata": {},
     "output_type": "execute_result"
    }
   ],
   "source": [
    "# Create an array of the numbers from 1 to 10\n",
    "\n",
    "np.arange(1,11)"
   ]
  },
  {
   "cell_type": "code",
   "execution_count": 72,
   "id": "f87c3c17",
   "metadata": {},
   "outputs": [
    {
     "data": {
      "text/plain": [
       "array([ 2,  4,  6,  8, 10, 12, 14, 16, 18, 20])"
      ]
     },
     "execution_count": 72,
     "metadata": {},
     "output_type": "execute_result"
    }
   ],
   "source": [
    "# Create an array of the even numbers from 2 to 20\n",
    "\n",
    "np.arange(2,21,2)"
   ]
  },
  {
   "cell_type": "markdown",
   "id": "11a7b5cd",
   "metadata": {},
   "source": [
    "# np.eye()"
   ]
  },
  {
   "cell_type": "code",
   "execution_count": 73,
   "id": "73265b6e",
   "metadata": {},
   "outputs": [],
   "source": [
    "# - It returns an identity matrix"
   ]
  },
  {
   "cell_type": "code",
   "execution_count": 74,
   "id": "afac686e",
   "metadata": {},
   "outputs": [],
   "source": [
    "# np.eye(rows,cols)"
   ]
  },
  {
   "cell_type": "code",
   "execution_count": 75,
   "id": "c78d89e7",
   "metadata": {},
   "outputs": [
    {
     "data": {
      "text/plain": [
       "array([[1., 0., 0.],\n",
       "       [0., 1., 0.],\n",
       "       [0., 0., 1.]])"
      ]
     },
     "execution_count": 75,
     "metadata": {},
     "output_type": "execute_result"
    }
   ],
   "source": [
    "# Create an identity matrix of the shape 3*3\n",
    "\n",
    "np.eye(3,3)"
   ]
  },
  {
   "cell_type": "code",
   "execution_count": 76,
   "id": "b74433c5",
   "metadata": {},
   "outputs": [
    {
     "data": {
      "text/plain": [
       "array([[1, 0, 0],\n",
       "       [0, 1, 0],\n",
       "       [0, 0, 1]])"
      ]
     },
     "execution_count": 76,
     "metadata": {},
     "output_type": "execute_result"
    }
   ],
   "source": [
    "np.eye(3,3,dtype=int)"
   ]
  },
  {
   "cell_type": "markdown",
   "id": "d5a35d8c",
   "metadata": {},
   "source": [
    "# np.zeros()"
   ]
  },
  {
   "cell_type": "code",
   "execution_count": 77,
   "id": "26f838f0",
   "metadata": {},
   "outputs": [],
   "source": [
    "# - It returns an array of 0's of the given shape"
   ]
  },
  {
   "cell_type": "code",
   "execution_count": 78,
   "id": "59bbe3f7",
   "metadata": {},
   "outputs": [],
   "source": [
    "# np.zeros((rows,cols))"
   ]
  },
  {
   "cell_type": "code",
   "execution_count": 80,
   "id": "319740d2",
   "metadata": {},
   "outputs": [
    {
     "data": {
      "text/plain": [
       "array([[0., 0., 0., 0.],\n",
       "       [0., 0., 0., 0.],\n",
       "       [0., 0., 0., 0.]])"
      ]
     },
     "execution_count": 80,
     "metadata": {},
     "output_type": "execute_result"
    }
   ],
   "source": [
    "np.zeros((3,4))"
   ]
  },
  {
   "cell_type": "code",
   "execution_count": 81,
   "id": "c3f79d0a",
   "metadata": {},
   "outputs": [
    {
     "data": {
      "text/plain": [
       "array([[0, 0, 0, 0],\n",
       "       [0, 0, 0, 0],\n",
       "       [0, 0, 0, 0]])"
      ]
     },
     "execution_count": 81,
     "metadata": {},
     "output_type": "execute_result"
    }
   ],
   "source": [
    "np.zeros((3,4),dtype=int)"
   ]
  },
  {
   "cell_type": "code",
   "execution_count": 82,
   "id": "38003e02",
   "metadata": {},
   "outputs": [
    {
     "data": {
      "text/plain": [
       "array([[5, 5, 5, 5],\n",
       "       [5, 5, 5, 5],\n",
       "       [5, 5, 5, 5]])"
      ]
     },
     "execution_count": 82,
     "metadata": {},
     "output_type": "execute_result"
    }
   ],
   "source": [
    "np.zeros((3,4),dtype=int)+5"
   ]
  },
  {
   "cell_type": "markdown",
   "id": "cac9261d",
   "metadata": {},
   "source": [
    "# Why array and why not list"
   ]
  },
  {
   "cell_type": "code",
   "execution_count": 91,
   "id": "8b11d4f7",
   "metadata": {},
   "outputs": [],
   "source": [
    "# - With arrays we can perform operations with less lines of code\n",
    "# - Aarrys are faster then list"
   ]
  },
  {
   "cell_type": "code",
   "execution_count": 86,
   "id": "abde5847",
   "metadata": {},
   "outputs": [
    {
     "name": "stdout",
     "output_type": "stream",
     "text": [
      "5\n",
      "10\n",
      "15\n",
      "20\n",
      "25\n"
     ]
    }
   ],
   "source": [
    "lst=[1,2,3,4,5]\n",
    "\n",
    "# Multiply all the elemnts by 5 in the above list\n",
    "\n",
    "for i in lst:\n",
    "    print(i*5)"
   ]
  },
  {
   "cell_type": "code",
   "execution_count": 88,
   "id": "7fa903cc",
   "metadata": {},
   "outputs": [
    {
     "data": {
      "text/plain": [
       "[5, 10, 15, 20, 25]"
      ]
     },
     "execution_count": 88,
     "metadata": {},
     "output_type": "execute_result"
    }
   ],
   "source": [
    "list(map(lambda x:x*5,lst))"
   ]
  },
  {
   "cell_type": "code",
   "execution_count": 89,
   "id": "197c43f8",
   "metadata": {},
   "outputs": [
    {
     "data": {
      "text/plain": [
       "array([1, 2, 3, 4, 5])"
      ]
     },
     "execution_count": 89,
     "metadata": {},
     "output_type": "execute_result"
    }
   ],
   "source": [
    "arr=np.array([1,2,3,4,5])\n",
    "arr"
   ]
  },
  {
   "cell_type": "code",
   "execution_count": 90,
   "id": "c06d59f0",
   "metadata": {},
   "outputs": [
    {
     "data": {
      "text/plain": [
       "array([ 5, 10, 15, 20, 25])"
      ]
     },
     "execution_count": 90,
     "metadata": {},
     "output_type": "execute_result"
    }
   ],
   "source": [
    "arr*5"
   ]
  },
  {
   "cell_type": "code",
   "execution_count": 92,
   "id": "f68f2512",
   "metadata": {},
   "outputs": [],
   "source": [
    "# Arrays are fatser than list"
   ]
  },
  {
   "cell_type": "code",
   "execution_count": 99,
   "id": "0c1398d5",
   "metadata": {},
   "outputs": [],
   "source": [
    "import time"
   ]
  },
  {
   "cell_type": "code",
   "execution_count": 100,
   "id": "01461c05",
   "metadata": {},
   "outputs": [
    {
     "name": "stdout",
     "output_type": "stream",
     "text": [
      "0.18783879280090332\n"
     ]
    }
   ],
   "source": [
    "st=time.time()\n",
    "lst=[i for i in range(1000000)]\n",
    "\n",
    "for i in range(len(lst)):\n",
    "    lst[i]=lst[i]*5\n",
    "    \n",
    "tt=time.time()-st\n",
    "print(tt)"
   ]
  },
  {
   "cell_type": "code",
   "execution_count": 101,
   "id": "9343ce87",
   "metadata": {},
   "outputs": [
    {
     "name": "stdout",
     "output_type": "stream",
     "text": [
      "0.0030031204223632812\n"
     ]
    }
   ],
   "source": [
    "st=time.time()np.diag([2,4,6,8],k=1)\n",
    "\n",
    "arr=np.arange(1000000)\n",
    "arr*5\n",
    "\n",
    "tt=time.time()-st\n",
    "print(tt)"
   ]
  },
  {
   "cell_type": "code",
   "execution_count": 104,
   "id": "2384e092",
   "metadata": {},
   "outputs": [
    {
     "name": "stdout",
     "output_type": "stream",
     "text": [
      "1699502150.6414063\n",
      "1699502150.8410947\n"
     ]
    }
   ],
   "source": [
    "print(time.time())\n",
    "\n",
    "lst=[i for i in range(1000000)]\n",
    "\n",
    "for i in range(len(lst)):\n",
    "    lst[i]=lst[i]*5\n",
    "    \n",
    "print(time.time())"
   ]
  },
  {
   "cell_type": "markdown",
   "id": "62d1a943",
   "metadata": {},
   "source": [
    "# np.full()"
   ]
  },
  {
   "cell_type": "markdown",
   "id": "e205f56c",
   "metadata": {},
   "source": [
    "- It returns an array of the given shape and the given value"
   ]
  },
  {
   "cell_type": "code",
   "execution_count": 106,
   "id": "7cb06bee",
   "metadata": {},
   "outputs": [],
   "source": [
    "# np.full((rows,cols),value)"
   ]
  },
  {
   "cell_type": "code",
   "execution_count": 107,
   "id": "cfbe4ebb",
   "metadata": {},
   "outputs": [],
   "source": [
    "# Create a 4*6 matrix where all the values are 25"
   ]
  },
  {
   "cell_type": "code",
   "execution_count": 109,
   "id": "744c8aa1",
   "metadata": {},
   "outputs": [
    {
     "data": {
      "text/plain": [
       "array([[25, 25, 25, 25, 25, 25],\n",
       "       [25, 25, 25, 25, 25, 25],\n",
       "       [25, 25, 25, 25, 25, 25],\n",
       "       [25, 25, 25, 25, 25, 25]])"
      ]
     },
     "execution_count": 109,
     "metadata": {},
     "output_type": "execute_result"
    }
   ],
   "source": [
    "np.ones((4,6),dtype=int)*25"
   ]
  },
  {
   "cell_type": "code",
   "execution_count": 110,
   "id": "f5a16bf4",
   "metadata": {},
   "outputs": [
    {
     "data": {
      "text/plain": [
       "array([[25, 25, 25, 25, 25, 25],\n",
       "       [25, 25, 25, 25, 25, 25],\n",
       "       [25, 25, 25, 25, 25, 25],\n",
       "       [25, 25, 25, 25, 25, 25]])"
      ]
     },
     "execution_count": 110,
     "metadata": {},
     "output_type": "execute_result"
    }
   ],
   "source": [
    "np.full((4,6),25)"
   ]
  },
  {
   "cell_type": "markdown",
   "id": "c5025e95",
   "metadata": {},
   "source": [
    "# np.ones_like()"
   ]
  },
  {
   "cell_type": "code",
   "execution_count": 111,
   "id": "46a888e3",
   "metadata": {},
   "outputs": [],
   "source": [
    "# - It returns the array of 1's of the shape of the given array"
   ]
  },
  {
   "cell_type": "code",
   "execution_count": 114,
   "id": "8531943f",
   "metadata": {},
   "outputs": [],
   "source": [
    "# np.ones_like(arr)"
   ]
  },
  {
   "cell_type": "code",
   "execution_count": 113,
   "id": "82294d0e",
   "metadata": {},
   "outputs": [
    {
     "data": {
      "text/plain": [
       "array([[1, 2],\n",
       "       [1, 2],\n",
       "       [4, 5]])"
      ]
     },
     "execution_count": 113,
     "metadata": {},
     "output_type": "execute_result"
    }
   ],
   "source": [
    "arr=np.array([[1,2],[1,2],[4,5]])\n",
    "arr"
   ]
  },
  {
   "cell_type": "code",
   "execution_count": 115,
   "id": "8e89c55f",
   "metadata": {},
   "outputs": [
    {
     "data": {
      "text/plain": [
       "array([[1, 1],\n",
       "       [1, 1],\n",
       "       [1, 1]])"
      ]
     },
     "execution_count": 115,
     "metadata": {},
     "output_type": "execute_result"
    }
   ],
   "source": [
    "np.ones_like(arr)"
   ]
  },
  {
   "cell_type": "code",
   "execution_count": 116,
   "id": "1be66f20",
   "metadata": {},
   "outputs": [
    {
     "data": {
      "text/plain": [
       "array([[1, 2],\n",
       "       [1, 2],\n",
       "       [4, 5]])"
      ]
     },
     "execution_count": 116,
     "metadata": {},
     "output_type": "execute_result"
    }
   ],
   "source": [
    "arr"
   ]
  },
  {
   "cell_type": "markdown",
   "id": "ce825c87",
   "metadata": {},
   "source": [
    "# np.zeros_like()"
   ]
  },
  {
   "cell_type": "code",
   "execution_count": 117,
   "id": "9b7d7864",
   "metadata": {},
   "outputs": [],
   "source": [
    "# - It returns an array of 0's of the shape of the given array"
   ]
  },
  {
   "cell_type": "code",
   "execution_count": 118,
   "id": "c0e23835",
   "metadata": {},
   "outputs": [],
   "source": [
    "# np.zeros_like(arr)"
   ]
  },
  {
   "cell_type": "code",
   "execution_count": 119,
   "id": "e1ab69fc",
   "metadata": {},
   "outputs": [
    {
     "data": {
      "text/plain": [
       "array([[1, 2],\n",
       "       [1, 2],\n",
       "       [4, 5]])"
      ]
     },
     "execution_count": 119,
     "metadata": {},
     "output_type": "execute_result"
    }
   ],
   "source": [
    "arr"
   ]
  },
  {
   "cell_type": "code",
   "execution_count": 120,
   "id": "d9eb63a7",
   "metadata": {},
   "outputs": [
    {
     "data": {
      "text/plain": [
       "array([[0, 0],\n",
       "       [0, 0],\n",
       "       [0, 0]])"
      ]
     },
     "execution_count": 120,
     "metadata": {},
     "output_type": "execute_result"
    }
   ],
   "source": [
    "np.zeros_like(arr)"
   ]
  },
  {
   "cell_type": "markdown",
   "id": "68cb3c40",
   "metadata": {},
   "source": [
    "# np.full_like()"
   ]
  },
  {
   "cell_type": "code",
   "execution_count": 121,
   "id": "5e7de58a",
   "metadata": {},
   "outputs": [],
   "source": [
    "# - It returns an array of the shape of the array and the given value"
   ]
  },
  {
   "cell_type": "code",
   "execution_count": 122,
   "id": "8ce2b0ce",
   "metadata": {},
   "outputs": [],
   "source": [
    "# np.full_like(arr,value)"
   ]
  },
  {
   "cell_type": "code",
   "execution_count": 123,
   "id": "e39655c0",
   "metadata": {},
   "outputs": [
    {
     "data": {
      "text/plain": [
       "array([[1, 2],\n",
       "       [1, 2],\n",
       "       [4, 5]])"
      ]
     },
     "execution_count": 123,
     "metadata": {},
     "output_type": "execute_result"
    }
   ],
   "source": [
    "arr"
   ]
  },
  {
   "cell_type": "code",
   "execution_count": 124,
   "id": "ea80984c",
   "metadata": {},
   "outputs": [
    {
     "data": {
      "text/plain": [
       "array([[50, 50],\n",
       "       [50, 50],\n",
       "       [50, 50]])"
      ]
     },
     "execution_count": 124,
     "metadata": {},
     "output_type": "execute_result"
    }
   ],
   "source": [
    "np.full_like(arr,50)"
   ]
  },
  {
   "cell_type": "code",
   "execution_count": 126,
   "id": "6fb0239f",
   "metadata": {},
   "outputs": [
    {
     "data": {
      "text/plain": [
       "array([[5.5, 5.5],\n",
       "       [5.5, 5.5],\n",
       "       [5.5, 5.5]])"
      ]
     },
     "execution_count": 126,
     "metadata": {},
     "output_type": "execute_result"
    }
   ],
   "source": [
    "np.full_like(arr,5.5,dtype=float)"
   ]
  },
  {
   "cell_type": "code",
   "execution_count": 128,
   "id": "3dd9e7b2",
   "metadata": {},
   "outputs": [
    {
     "data": {
      "text/plain": [
       "array([['a', 'a'],\n",
       "       ['a', 'a'],\n",
       "       ['a', 'a']], dtype='<U1')"
      ]
     },
     "execution_count": 128,
     "metadata": {},
     "output_type": "execute_result"
    }
   ],
   "source": [
    "np.full_like(arr,'a',dtype=str)"
   ]
  },
  {
   "cell_type": "markdown",
   "id": "99b74059",
   "metadata": {},
   "source": [
    "# np.diag()"
   ]
  },
  {
   "cell_type": "code",
   "execution_count": 130,
   "id": "ad90b5ee",
   "metadata": {},
   "outputs": [],
   "source": [
    "# - It takes a 1-D list or array as argument and returns a diagonal array"
   ]
  },
  {
   "cell_type": "code",
   "execution_count": 131,
   "id": "c93a49da",
   "metadata": {},
   "outputs": [
    {
     "data": {
      "text/plain": [
       "array([[2, 0, 0, 0],\n",
       "       [0, 4, 0, 0],\n",
       "       [0, 0, 6, 0],\n",
       "       [0, 0, 0, 8]])"
      ]
     },
     "execution_count": 131,
     "metadata": {},
     "output_type": "execute_result"
    }
   ],
   "source": [
    "np.diag([2,4,6,8])"
   ]
  },
  {
   "cell_type": "code",
   "execution_count": 148,
   "id": "ac09205f",
   "metadata": {},
   "outputs": [
    {
     "data": {
      "text/plain": [
       "array([[0, 2, 0, 0, 0],\n",
       "       [0, 0, 4, 0, 0],\n",
       "       [0, 0, 0, 6, 0],\n",
       "       [0, 0, 0, 0, 8],\n",
       "       [0, 0, 0, 0, 0]])"
      ]
     },
     "execution_count": 148,
     "metadata": {},
     "output_type": "execute_result"
    }
   ],
   "source": [
    "np.diag([2,4,6,8],k=1)"
   ]
  },
  {
   "cell_type": "code",
   "execution_count": 149,
   "id": "db5a2231",
   "metadata": {},
   "outputs": [
    {
     "data": {
      "text/plain": [
       "array([[0, 0, 2, 0, 0, 0],\n",
       "       [0, 0, 0, 4, 0, 0],\n",
       "       [0, 0, 0, 0, 6, 0],\n",
       "       [0, 0, 0, 0, 0, 8],\n",
       "       [0, 0, 0, 0, 0, 0],\n",
       "       [0, 0, 0, 0, 0, 0]])"
      ]
     },
     "execution_count": 149,
     "metadata": {},
     "output_type": "execute_result"
    }
   ],
   "source": [
    "np.diag([2,4,6,8],k=2)"
   ]
  },
  {
   "cell_type": "code",
   "execution_count": 150,
   "id": "1635ac7b",
   "metadata": {},
   "outputs": [
    {
     "data": {
      "text/plain": [
       "array([[0, 0, 0, 0, 0],\n",
       "       [2, 0, 0, 0, 0],\n",
       "       [0, 4, 0, 0, 0],\n",
       "       [0, 0, 6, 0, 0],\n",
       "       [0, 0, 0, 8, 0]])"
      ]
     },
     "execution_count": 150,
     "metadata": {},
     "output_type": "execute_result"
    }
   ],
   "source": [
    "np.diag([2,4,6,8],k=-1)"
   ]
  },
  {
   "cell_type": "code",
   "execution_count": 151,
   "id": "2dc267d1",
   "metadata": {},
   "outputs": [
    {
     "data": {
      "text/plain": [
       "array([[0, 0, 0, 0, 0, 0],\n",
       "       [0, 0, 0, 0, 0, 0],\n",
       "       [2, 0, 0, 0, 0, 0],\n",
       "       [0, 4, 0, 0, 0, 0],\n",
       "       [0, 0, 6, 0, 0, 0],\n",
       "       [0, 0, 0, 8, 0, 0]])"
      ]
     },
     "execution_count": 151,
     "metadata": {},
     "output_type": "execute_result"
    }
   ],
   "source": [
    "np.diag([2,4,6,8],k=-2)"
   ]
  },
  {
   "cell_type": "code",
   "execution_count": 133,
   "id": "ec0b0133",
   "metadata": {},
   "outputs": [
    {
     "data": {
      "text/plain": [
       "array([[2, 0],\n",
       "       [0, 4]])"
      ]
     },
     "execution_count": 133,
     "metadata": {},
     "output_type": "execute_result"
    }
   ],
   "source": [
    "np.diag(np.array([2,4]))"
   ]
  },
  {
   "cell_type": "markdown",
   "id": "74455d14",
   "metadata": {},
   "source": [
    "# np.diagonal()"
   ]
  },
  {
   "cell_type": "code",
   "execution_count": 134,
   "id": "063ada1a",
   "metadata": {},
   "outputs": [],
   "source": [
    "# - It extracts the principal diagonal from an array"
   ]
  },
  {
   "cell_type": "code",
   "execution_count": 136,
   "id": "90f4f122",
   "metadata": {},
   "outputs": [
    {
     "data": {
      "text/plain": [
       "array([[ 1,  2,  3,  4,  5],\n",
       "       [ 6,  7,  8,  9, 10],\n",
       "       [11, 12, 13, 14, 15],\n",
       "       [16, 17, 18, 19, 20],\n",
       "       [21, 22, 23, 24, 25]])"
      ]
     },
     "execution_count": 136,
     "metadata": {},
     "output_type": "execute_result"
    }
   ],
   "source": [
    "arr=np.arange(1,26).reshape(5,5)\n",
    "arr"
   ]
  },
  {
   "cell_type": "code",
   "execution_count": 137,
   "id": "08f62a84",
   "metadata": {},
   "outputs": [
    {
     "data": {
      "text/plain": [
       "array([ 1,  7, 13, 19, 25])"
      ]
     },
     "execution_count": 137,
     "metadata": {},
     "output_type": "execute_result"
    }
   ],
   "source": [
    "np.diagonal(arr)"
   ]
  },
  {
   "cell_type": "code",
   "execution_count": 138,
   "id": "a8313225",
   "metadata": {},
   "outputs": [
    {
     "data": {
      "text/plain": [
       "array([ 2,  8, 14, 20])"
      ]
     },
     "execution_count": 138,
     "metadata": {},
     "output_type": "execute_result"
    }
   ],
   "source": [
    "np.diagonal(arr,offset=1)"
   ]
  },
  {
   "cell_type": "code",
   "execution_count": 139,
   "id": "78ce6fec",
   "metadata": {},
   "outputs": [
    {
     "data": {
      "text/plain": [
       "array([ 3,  9, 15])"
      ]
     },
     "execution_count": 139,
     "metadata": {},
     "output_type": "execute_result"
    }
   ],
   "source": [
    "np.diagonal(arr,offset=2)"
   ]
  },
  {
   "cell_type": "code",
   "execution_count": 140,
   "id": "7065e3a5",
   "metadata": {},
   "outputs": [
    {
     "data": {
      "text/plain": [
       "array([ 4, 10])"
      ]
     },
     "execution_count": 140,
     "metadata": {},
     "output_type": "execute_result"
    }
   ],
   "source": [
    "np.diagonal(arr,offset=3)"
   ]
  },
  {
   "cell_type": "code",
   "execution_count": 141,
   "id": "75523f3e",
   "metadata": {},
   "outputs": [
    {
     "data": {
      "text/plain": [
       "array([5])"
      ]
     },
     "execution_count": 141,
     "metadata": {},
     "output_type": "execute_result"
    }
   ],
   "source": [
    "np.diagonal(arr,offset=4)"
   ]
  },
  {
   "cell_type": "code",
   "execution_count": 142,
   "id": "b18d1976",
   "metadata": {},
   "outputs": [
    {
     "data": {
      "text/plain": [
       "array([], dtype=int32)"
      ]
     },
     "execution_count": 142,
     "metadata": {},
     "output_type": "execute_result"
    }
   ],
   "source": [
    "np.diagonal(arr,offset=6)"
   ]
  },
  {
   "cell_type": "code",
   "execution_count": 143,
   "id": "63aaee52",
   "metadata": {},
   "outputs": [
    {
     "data": {
      "text/plain": [
       "array([ 6, 12, 18, 24])"
      ]
     },
     "execution_count": 143,
     "metadata": {},
     "output_type": "execute_result"
    }
   ],
   "source": [
    "np.diagonal(arr,offset=-1)"
   ]
  },
  {
   "cell_type": "code",
   "execution_count": 144,
   "id": "ea73e09f",
   "metadata": {},
   "outputs": [
    {
     "data": {
      "text/plain": [
       "array([11, 17, 23])"
      ]
     },
     "execution_count": 144,
     "metadata": {},
     "output_type": "execute_result"
    }
   ],
   "source": [
    "np.diagonal(arr,offset=-2)"
   ]
  },
  {
   "cell_type": "code",
   "execution_count": 145,
   "id": "e0e58b2e",
   "metadata": {},
   "outputs": [
    {
     "data": {
      "text/plain": [
       "array([16, 22])"
      ]
     },
     "execution_count": 145,
     "metadata": {},
     "output_type": "execute_result"
    }
   ],
   "source": [
    "np.diagonal(arr,offset=-3)"
   ]
  },
  {
   "cell_type": "code",
   "execution_count": 146,
   "id": "a5e758ff",
   "metadata": {},
   "outputs": [
    {
     "data": {
      "text/plain": [
       "array([21])"
      ]
     },
     "execution_count": 146,
     "metadata": {},
     "output_type": "execute_result"
    }
   ],
   "source": [
    "np.diagonal(arr,offset=-4)"
   ]
  },
  {
   "cell_type": "code",
   "execution_count": 147,
   "id": "fba1d868",
   "metadata": {},
   "outputs": [
    {
     "data": {
      "text/plain": [
       "array([], dtype=int32)"
      ]
     },
     "execution_count": 147,
     "metadata": {},
     "output_type": "execute_result"
    }
   ],
   "source": [
    "np.diagonal(arr,offset=-5)"
   ]
  },
  {
   "cell_type": "markdown",
   "id": "3ac17bef",
   "metadata": {},
   "source": [
    "# Indexing and Slicing"
   ]
  },
  {
   "cell_type": "code",
   "execution_count": 156,
   "id": "49fb008e",
   "metadata": {},
   "outputs": [],
   "source": [
    "# - Array supports +ive and -ive indexing both"
   ]
  },
  {
   "cell_type": "markdown",
   "id": "750fe9cc",
   "metadata": {},
   "source": [
    "# 1-D array"
   ]
  },
  {
   "cell_type": "markdown",
   "id": "074a9f90",
   "metadata": {},
   "source": [
    "# Indexing"
   ]
  },
  {
   "cell_type": "code",
   "execution_count": 154,
   "id": "c245b867",
   "metadata": {},
   "outputs": [],
   "source": [
    "# arr[index]"
   ]
  },
  {
   "cell_type": "code",
   "execution_count": 155,
   "id": "59aa9496",
   "metadata": {},
   "outputs": [
    {
     "data": {
      "text/plain": [
       "array([10, 20, 30, 40, 50, 60, 70, 80])"
      ]
     },
     "execution_count": 155,
     "metadata": {},
     "output_type": "execute_result"
    }
   ],
   "source": [
    "arr=np.array([10,20,30,40,50,60,70,80])\n",
    "arr"
   ]
  },
  {
   "cell_type": "code",
   "execution_count": 162,
   "id": "c1917e24",
   "metadata": {},
   "outputs": [
    {
     "name": "stdout",
     "output_type": "stream",
     "text": [
      "10\n",
      "10\n",
      "10\n"
     ]
    }
   ],
   "source": [
    "# Fetch the first element\n",
    "\n",
    "print(arr[0])\n",
    "print(arr[-8])\n",
    "print(arr[-len(arr)])"
   ]
  },
  {
   "cell_type": "code",
   "execution_count": 164,
   "id": "cc9d8e6f",
   "metadata": {},
   "outputs": [
    {
     "data": {
      "text/plain": [
       "-8"
      ]
     },
     "execution_count": 164,
     "metadata": {},
     "output_type": "execute_result"
    }
   ],
   "source": [
    "-len(arr)"
   ]
  },
  {
   "cell_type": "code",
   "execution_count": 165,
   "id": "36be83dd",
   "metadata": {},
   "outputs": [
    {
     "data": {
      "text/plain": [
       "array([10, 20, 30, 40, 50, 60, 70, 80])"
      ]
     },
     "execution_count": 165,
     "metadata": {},
     "output_type": "execute_result"
    }
   ],
   "source": [
    "arr"
   ]
  },
  {
   "cell_type": "code",
   "execution_count": 171,
   "id": "72aa477b",
   "metadata": {},
   "outputs": [
    {
     "name": "stdout",
     "output_type": "stream",
     "text": [
      "80\n",
      "80\n",
      "80\n"
     ]
    }
   ],
   "source": [
    "# Fetch the last element\n",
    "\n",
    "print(arr[-1])\n",
    "print(arr[7])\n",
    "print(arr[len(arr)-1])"
   ]
  },
  {
   "cell_type": "code",
   "execution_count": 170,
   "id": "1025f74a",
   "metadata": {},
   "outputs": [
    {
     "data": {
      "text/plain": [
       "7"
      ]
     },
     "execution_count": 170,
     "metadata": {},
     "output_type": "execute_result"
    }
   ],
   "source": [
    "len(arr)-1"
   ]
  },
  {
   "cell_type": "markdown",
   "id": "4092f722",
   "metadata": {},
   "source": [
    "# Slicing of 1-D array"
   ]
  },
  {
   "cell_type": "code",
   "execution_count": 173,
   "id": "6d02194c",
   "metadata": {},
   "outputs": [],
   "source": [
    "# arr[start:stop:step]\n",
    "# Stop index is excluded\n",
    "# Step is 1 by default"
   ]
  },
  {
   "cell_type": "code",
   "execution_count": 174,
   "id": "3cf78eed",
   "metadata": {},
   "outputs": [
    {
     "data": {
      "text/plain": [
       "array([10, 20, 30, 40, 50, 60, 70, 80])"
      ]
     },
     "execution_count": 174,
     "metadata": {},
     "output_type": "execute_result"
    }
   ],
   "source": [
    "arr"
   ]
  },
  {
   "cell_type": "code",
   "execution_count": 178,
   "id": "dadcd3fd",
   "metadata": {},
   "outputs": [
    {
     "name": "stdout",
     "output_type": "stream",
     "text": [
      "[10 20 30]\n",
      "[10 20 30]\n"
     ]
    }
   ],
   "source": [
    "# Fetch the first three elements\n",
    "\n",
    "print(arr[0:3:1])\n",
    "print(arr[:3])"
   ]
  },
  {
   "cell_type": "code",
   "execution_count": 179,
   "id": "c7527b8f",
   "metadata": {},
   "outputs": [
    {
     "data": {
      "text/plain": [
       "array([80, 70, 60, 50, 40, 30, 20, 10])"
      ]
     },
     "execution_count": 179,
     "metadata": {},
     "output_type": "execute_result"
    }
   ],
   "source": [
    "# Reverse the array\n",
    "\n",
    "arr[::-1]"
   ]
  },
  {
   "cell_type": "markdown",
   "id": "b816ce36",
   "metadata": {},
   "source": [
    "# 2-D array"
   ]
  },
  {
   "cell_type": "markdown",
   "id": "6aea3a80",
   "metadata": {},
   "source": [
    "# Indexing"
   ]
  },
  {
   "cell_type": "code",
   "execution_count": 180,
   "id": "25ae7075",
   "metadata": {},
   "outputs": [],
   "source": [
    "# arr[row_index]\n",
    "\n",
    "# arr[row_index,col_index]"
   ]
  },
  {
   "cell_type": "code",
   "execution_count": 183,
   "id": "f0c83cbf",
   "metadata": {},
   "outputs": [
    {
     "data": {
      "text/plain": [
       "array([[10, 20, 30],\n",
       "       [40, 50, 60],\n",
       "       [70, 80, 90]])"
      ]
     },
     "execution_count": 183,
     "metadata": {},
     "output_type": "execute_result"
    }
   ],
   "source": [
    "arr=np.array([i for i in range(10,91,10)]).reshape(3,3)\n",
    "arr"
   ]
  },
  {
   "cell_type": "code",
   "execution_count": 189,
   "id": "2da56374",
   "metadata": {},
   "outputs": [
    {
     "name": "stdout",
     "output_type": "stream",
     "text": [
      "[10 20 30]\n",
      "[10 20 30]\n",
      "[10 20 30]\n"
     ]
    }
   ],
   "source": [
    "# Fetch the first row\n",
    "\n",
    "print(arr[0])\n",
    "print(arr[-3])\n",
    "print(arr[-len(arr)])"
   ]
  },
  {
   "cell_type": "code",
   "execution_count": 188,
   "id": "34d1e8ec",
   "metadata": {},
   "outputs": [
    {
     "data": {
      "text/plain": [
       "-3"
      ]
     },
     "execution_count": 188,
     "metadata": {},
     "output_type": "execute_result"
    }
   ],
   "source": [
    "-len(arr)"
   ]
  },
  {
   "cell_type": "code",
   "execution_count": 190,
   "id": "bcc41255",
   "metadata": {},
   "outputs": [
    {
     "data": {
      "text/plain": [
       "array([[10, 20, 30],\n",
       "       [40, 50, 60],\n",
       "       [70, 80, 90]])"
      ]
     },
     "execution_count": 190,
     "metadata": {},
     "output_type": "execute_result"
    }
   ],
   "source": [
    "arr"
   ]
  },
  {
   "cell_type": "code",
   "execution_count": 193,
   "id": "bb146fe8",
   "metadata": {},
   "outputs": [
    {
     "name": "stdout",
     "output_type": "stream",
     "text": [
      "[40 50 60]\n",
      "[40 50 60]\n"
     ]
    }
   ],
   "source": [
    "# Fetch the second row\n",
    "\n",
    "print(arr[1])\n",
    "print(arr[-2])"
   ]
  },
  {
   "cell_type": "code",
   "execution_count": 194,
   "id": "37681e0c",
   "metadata": {},
   "outputs": [
    {
     "data": {
      "text/plain": [
       "array([[10, 20, 30],\n",
       "       [40, 50, 60],\n",
       "       [70, 80, 90]])"
      ]
     },
     "execution_count": 194,
     "metadata": {},
     "output_type": "execute_result"
    }
   ],
   "source": [
    "arr"
   ]
  },
  {
   "cell_type": "code",
   "execution_count": 200,
   "id": "31529f80",
   "metadata": {},
   "outputs": [
    {
     "name": "stdout",
     "output_type": "stream",
     "text": [
      "[70 80 90]\n",
      "[70 80 90]\n",
      "[70 80 90]\n"
     ]
    }
   ],
   "source": [
    "# Fetch the last row\n",
    "\n",
    "print(arr[-1])\n",
    "print(arr[2])\n",
    "print(arr[len(arr)-1])"
   ]
  },
  {
   "cell_type": "code",
   "execution_count": 198,
   "id": "36990bf5",
   "metadata": {},
   "outputs": [
    {
     "data": {
      "text/plain": [
       "2"
      ]
     },
     "execution_count": 198,
     "metadata": {},
     "output_type": "execute_result"
    }
   ],
   "source": [
    "len(arr)-1"
   ]
  },
  {
   "cell_type": "code",
   "execution_count": 201,
   "id": "3c0acf98",
   "metadata": {},
   "outputs": [
    {
     "data": {
      "text/plain": [
       "array([[10, 20, 30],\n",
       "       [40, 50, 60],\n",
       "       [70, 80, 90]])"
      ]
     },
     "execution_count": 201,
     "metadata": {},
     "output_type": "execute_result"
    }
   ],
   "source": [
    "arr"
   ]
  },
  {
   "cell_type": "code",
   "execution_count": 211,
   "id": "962de202",
   "metadata": {},
   "outputs": [
    {
     "name": "stdout",
     "output_type": "stream",
     "text": [
      "80\n",
      "80\n",
      "80\n",
      "80\n"
     ]
    }
   ],
   "source": [
    "# Fetch 80\n",
    "\n",
    "print(arr[2,1])\n",
    "print(arr[-1][1])\n",
    "print(arr[-1,-2])\n",
    "print(arr[2,-2])"
   ]
  },
  {
   "cell_type": "code",
   "execution_count": 213,
   "id": "ee87e914",
   "metadata": {},
   "outputs": [],
   "source": [
    "import re"
   ]
  },
  {
   "cell_type": "code",
   "execution_count": 214,
   "id": "683a65e7",
   "metadata": {},
   "outputs": [
    {
     "data": {
      "text/plain": [
       "[<re.Match object; span=(0, 3), match='cat'>,\n",
       " <re.Match object; span=(4, 7), match='fat'>,\n",
       " <re.Match object; span=(8, 11), match='mat'>,\n",
       " <re.Match object; span=(16, 19), match='rat'>,\n",
       " <re.Match object; span=(20, 24), match='ball'>]"
      ]
     },
     "execution_count": 214,
     "metadata": {},
     "output_type": "execute_result"
    }
   ],
   "source": [
    "data= \"cat fat mat bat rat ball \"\n",
    "\n",
    "pattern=re.compile(r'\\b(?!bat\\b)\\w+')\n",
    "matches=pattern.finditer(data)\n",
    "list(matches)\n"
   ]
  },
  {
   "cell_type": "code",
   "execution_count": 239,
   "id": "d2f98854",
   "metadata": {},
   "outputs": [
    {
     "data": {
      "text/plain": [
       "[<re.Match object; span=(0, 3), match='cat'>,\n",
       " <re.Match object; span=(4, 7), match='fat'>,\n",
       " <re.Match object; span=(8, 11), match='mat'>,\n",
       " <re.Match object; span=(16, 19), match='rat'>,\n",
       " <re.Match object; span=(20, 24), match='ball'>]"
      ]
     },
     "execution_count": 239,
     "metadata": {},
     "output_type": "execute_result"
    }
   ],
   "source": [
    "data= \"cat fat mat bat rat ball\"\n",
    "\n",
    "pattern=re.compile(r'\\b(?!bat\\b)\\w+')\n",
    "matches=pattern.finditer(data)\n",
    "list(matches)\n"
   ]
  },
  {
   "cell_type": "code",
   "execution_count": 226,
   "id": "18e61a51",
   "metadata": {},
   "outputs": [
    {
     "data": {
      "text/plain": [
       "[<re.Match object; span=(0, 3), match='cat'>,\n",
       " <re.Match object; span=(4, 7), match='fat'>,\n",
       " <re.Match object; span=(8, 11), match='mat'>,\n",
       " <re.Match object; span=(12, 15), match='bat'>,\n",
       " <re.Match object; span=(16, 19), match='rat'>,\n",
       " <re.Match object; span=(20, 24), match='ball'>]"
      ]
     },
     "execution_count": 226,
     "metadata": {},
     "output_type": "execute_result"
    }
   ],
   "source": [
    "list(re.compile('[cfmbr](all|at)').finditer(data))"
   ]
  },
  {
   "cell_type": "code",
   "execution_count": null,
   "id": "5b780c95",
   "metadata": {},
   "outputs": [],
   "source": []
  }
 ],
 "metadata": {
  "kernelspec": {
   "display_name": "Python 3 (ipykernel)",
   "language": "python",
   "name": "python3"
  },
  "language_info": {
   "codemirror_mode": {
    "name": "ipython",
    "version": 3
   },
   "file_extension": ".py",
   "mimetype": "text/x-python",
   "name": "python",
   "nbconvert_exporter": "python",
   "pygments_lexer": "ipython3",
   "version": "3.11.3"
  }
 },
 "nbformat": 4,
 "nbformat_minor": 5
}
